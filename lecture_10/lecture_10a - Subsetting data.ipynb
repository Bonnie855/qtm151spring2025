{
 "cells": [
  {
   "attachments": {},
   "cell_type": "markdown",
   "metadata": {},
   "source": [
    "# <span style=\"color:darkblue\"> Lecture 10: Subsetting Data </span>\n"
   ]
  },
  {
   "cell_type": "markdown",
   "metadata": {},
   "source": [
    "<font size = \"5\">\n",
    "\n",
    "Topics you should know up to this point:\n",
    "\n",
    "- *Data Types:* int, float, str, lists, arrays,<br>\n",
    "booleans, pandas dataframes\n",
    "\n",
    "- *Numpy:* mathematical functions <br>\n",
    " and random numbers\n",
    "\n",
    "- If/else statements and *loops*\n",
    "\n",
    "If there are any of these topics you need help <br>\n",
    " understanding, please come to my office hours, <br>\n",
    "  and I can explain the concepts again."
   ]
  },
  {
   "cell_type": "markdown",
   "metadata": {},
   "source": [
    "<font size = \"5\">\n",
    "\n",
    "This lecture:\n",
    "\n",
    "- pandas dataframes\n",
    "- subsetting data\n"
   ]
  },
  {
   "attachments": {},
   "cell_type": "markdown",
   "metadata": {},
   "source": [
    "## <span style=\"color:darkblue\"> I. Import Libraries and Read Files</span>"
   ]
  },
  {
   "cell_type": "code",
   "execution_count": 2,
   "metadata": {},
   "outputs": [],
   "source": [
    "# the \"pandas\" library is for manipualting datasets\n",
    "# the \"matplotlib.pyplot\" library is for creating graphs\n",
    "import pandas as pd\n",
    "import matplotlib.pyplot as plt"
   ]
  },
  {
   "cell_type": "code",
   "execution_count": 3,
   "metadata": {},
   "outputs": [],
   "source": [
    "# Read the car features dataset\n",
    "carfeatures = pd.read_csv(\"data_raw/features.csv\")"
   ]
  },
  {
   "attachments": {},
   "cell_type": "markdown",
   "metadata": {},
   "source": [
    "## <span style=\"color:darkblue\"> II. Basic data display </span>\n",
    "\n",
    "<font size = \"5\">"
   ]
  },
  {
   "attachments": {},
   "cell_type": "markdown",
   "metadata": {},
   "source": [
    "<font size = \"5\">\n",
    "\n",
    "Display a dataset\n",
    "\n",
    "- Remember that in VS-Code there is also a data viewer.\n",
    "- Go to the variables tab at the top of the notebook"
   ]
  },
  {
   "cell_type": "code",
   "execution_count": 4,
   "metadata": {},
   "outputs": [
    {
     "data": {
      "application/vnd.microsoft.datawrangler.viewer.v0+json": {
       "columns": [
        {
         "name": "index",
         "rawType": "int64",
         "type": "integer"
        },
        {
         "name": "mpg",
         "rawType": "float64",
         "type": "float"
        },
        {
         "name": "cylinders",
         "rawType": "int64",
         "type": "integer"
        },
        {
         "name": "displacement",
         "rawType": "int64",
         "type": "integer"
        },
        {
         "name": "horsepower",
         "rawType": "object",
         "type": "unknown"
        },
        {
         "name": "weight",
         "rawType": "int64",
         "type": "integer"
        },
        {
         "name": "acceleration",
         "rawType": "float64",
         "type": "float"
        },
        {
         "name": "vehicle_id",
         "rawType": "object",
         "type": "string"
        }
       ],
       "conversionMethod": "pd.DataFrame",
       "ref": "347f4cfb-df02-40c0-8ac5-ce9f4d5b2fce",
       "rows": [
        [
         "0",
         "18.0",
         "8",
         "307",
         "130",
         "3504",
         "12.0",
         "C-1689780"
        ],
        [
         "1",
         "15.0",
         "8",
         "350",
         "165",
         "3693",
         "11.5",
         "B-1689791"
        ],
        [
         "2",
         "18.0",
         "8",
         "318",
         "150",
         "3436",
         "11.0",
         "P-1689802"
        ],
        [
         "3",
         "16.0",
         "8",
         "304",
         "150",
         "3433",
         "12.0",
         "A-1689813"
        ],
        [
         "4",
         "17.0",
         "8",
         "302",
         "140",
         "3449",
         "10.5",
         "F-1689824"
        ],
        [
         "5",
         "15.0",
         "8",
         "429",
         "198",
         "4341",
         "10.0",
         "F-1689835"
        ],
        [
         "6",
         "14.0",
         "8",
         "454",
         "220",
         "4354",
         "9.0",
         "C-1689846"
        ],
        [
         "7",
         "14.0",
         "8",
         "440",
         "215",
         "4312",
         "8.5",
         "P-1689857"
        ],
        [
         "8",
         "14.0",
         "8",
         "455",
         "225",
         "4425",
         "10.0",
         "P-1689868"
        ],
        [
         "9",
         "15.0",
         "8",
         "390",
         "190",
         "3850",
         "8.5",
         "A-1689879"
        ],
        [
         "10",
         "15.0",
         "8",
         "383",
         "170",
         "3563",
         "10.0",
         "D-1689890"
        ],
        [
         "11",
         "14.0",
         "8",
         "340",
         "160",
         "3609",
         "8.0",
         "P-1689901"
        ],
        [
         "12",
         "15.0",
         "8",
         "400",
         "150",
         "3761",
         "9.5",
         "C-1689912"
        ],
        [
         "13",
         "14.0",
         "8",
         "455",
         "225",
         "3086",
         "10.0",
         "B-1689923"
        ],
        [
         "14",
         "24.0",
         "4",
         "113",
         "95",
         "2372",
         "15.0",
         "T-1689934"
        ],
        [
         "15",
         "22.0",
         "6",
         "198",
         "95",
         "2833",
         "15.5",
         "P-1689945"
        ],
        [
         "16",
         "18.0",
         "6",
         "199",
         "97",
         "2774",
         "15.5",
         "A-1689956"
        ],
        [
         "17",
         "21.0",
         "6",
         "200",
         "85",
         "2587",
         "16.0",
         "F-1689967"
        ],
        [
         "18",
         "27.0",
         "4",
         "97",
         "88",
         "2130",
         "14.5",
         "D-1689978"
        ],
        [
         "19",
         "26.0",
         "4",
         "97",
         "46",
         "1835",
         "20.5",
         "V-1689989"
        ],
        [
         "20",
         "25.0",
         "4",
         "110",
         "87",
         "2672",
         "17.5",
         "P-1690000"
        ],
        [
         "21",
         "24.0",
         "4",
         "107",
         "90",
         "2430",
         "14.5",
         "A-1690011"
        ],
        [
         "22",
         "25.0",
         "4",
         "104",
         "95",
         "2375",
         "17.5",
         "S-1690022"
        ],
        [
         "23",
         "26.0",
         "4",
         "121",
         "113",
         "2234",
         "12.5",
         "B-1690033"
        ],
        [
         "24",
         "21.0",
         "6",
         "199",
         "90",
         "2648",
         "15.0",
         "A-1690044"
        ],
        [
         "25",
         "10.0",
         "8",
         "360",
         "215",
         "4615",
         "14.0",
         "F-1690055"
        ],
        [
         "26",
         "10.0",
         "8",
         "307",
         "200",
         "4376",
         "15.0",
         "C-1690066"
        ],
        [
         "27",
         "11.0",
         "8",
         "318",
         "210",
         "4382",
         "13.5",
         "D-1690077"
        ],
        [
         "28",
         "9.0",
         "8",
         "304",
         "193",
         "4732",
         "18.5",
         "H-1690088"
        ],
        [
         "29",
         "27.0",
         "4",
         "97",
         "88",
         "2130",
         "14.5",
         "D-1690099"
        ],
        [
         "30",
         "28.0",
         "4",
         "140",
         "90",
         "2264",
         "15.5",
         "C-1690110"
        ],
        [
         "31",
         "25.0",
         "4",
         "113",
         "95",
         "2228",
         "14.0",
         "T-1690121"
        ],
        [
         "32",
         "25.0",
         "4",
         "98",
         null,
         "2046",
         "19.0",
         "F-1690132"
        ],
        [
         "33",
         "19.0",
         "6",
         "232",
         "100",
         "2634",
         "13.0",
         "A-1690143"
        ],
        [
         "34",
         "16.0",
         "6",
         "225",
         "105",
         "3439",
         "15.5",
         "P-1690154"
        ],
        [
         "35",
         "17.0",
         "6",
         "250",
         "100",
         "3329",
         "15.5",
         "C-1690165"
        ],
        [
         "36",
         "19.0",
         "6",
         "250",
         "88",
         "3302",
         "15.5",
         "F-1690176"
        ],
        [
         "37",
         "18.0",
         "6",
         "232",
         "100",
         "3288",
         "15.5",
         "A-1690187"
        ],
        [
         "38",
         "14.0",
         "8",
         "350",
         "165",
         "4209",
         "12.0",
         "C-1690198"
        ],
        [
         "39",
         "14.0",
         "8",
         "400",
         "175",
         "4464",
         "11.5",
         "P-1690209"
        ],
        [
         "40",
         "14.0",
         "8",
         "351",
         "153",
         "4154",
         "13.5",
         "F-1690220"
        ],
        [
         "41",
         "14.0",
         "8",
         "318",
         "150",
         "4096",
         "13.0",
         "P-1690231"
        ],
        [
         "42",
         "12.0",
         "8",
         "383",
         "180",
         "4955",
         "11.5",
         "D-1690242"
        ],
        [
         "43",
         "13.0",
         "8",
         "400",
         "170",
         "4746",
         "12.0",
         "F-1690253"
        ],
        [
         "44",
         "13.0",
         "8",
         "400",
         "175",
         "5140",
         "12.0",
         "P-1690264"
        ],
        [
         "45",
         "18.0",
         "6",
         "258",
         "110",
         "2962",
         "13.5",
         "A-1690275"
        ],
        [
         "46",
         "22.0",
         "4",
         "140",
         "72",
         "2408",
         "19.0",
         "C-1690286"
        ],
        [
         "47",
         "19.0",
         "6",
         "250",
         "100",
         "3282",
         "15.0",
         "P-1690297"
        ],
        [
         "48",
         "18.0",
         "6",
         "250",
         "88",
         "3139",
         "14.5",
         "F-1690308"
        ],
        [
         "49",
         "23.0",
         "4",
         "122",
         "86",
         "2220",
         "14.0",
         "M-1690319"
        ]
       ],
       "shape": {
        "columns": 7,
        "rows": 398
       }
      },
      "text/html": [
       "<div>\n",
       "<style scoped>\n",
       "    .dataframe tbody tr th:only-of-type {\n",
       "        vertical-align: middle;\n",
       "    }\n",
       "\n",
       "    .dataframe tbody tr th {\n",
       "        vertical-align: top;\n",
       "    }\n",
       "\n",
       "    .dataframe thead th {\n",
       "        text-align: right;\n",
       "    }\n",
       "</style>\n",
       "<table border=\"1\" class=\"dataframe\">\n",
       "  <thead>\n",
       "    <tr style=\"text-align: right;\">\n",
       "      <th></th>\n",
       "      <th>mpg</th>\n",
       "      <th>cylinders</th>\n",
       "      <th>displacement</th>\n",
       "      <th>horsepower</th>\n",
       "      <th>weight</th>\n",
       "      <th>acceleration</th>\n",
       "      <th>vehicle_id</th>\n",
       "    </tr>\n",
       "  </thead>\n",
       "  <tbody>\n",
       "    <tr>\n",
       "      <th>0</th>\n",
       "      <td>18.0</td>\n",
       "      <td>8</td>\n",
       "      <td>307</td>\n",
       "      <td>130</td>\n",
       "      <td>3504</td>\n",
       "      <td>12.0</td>\n",
       "      <td>C-1689780</td>\n",
       "    </tr>\n",
       "    <tr>\n",
       "      <th>1</th>\n",
       "      <td>15.0</td>\n",
       "      <td>8</td>\n",
       "      <td>350</td>\n",
       "      <td>165</td>\n",
       "      <td>3693</td>\n",
       "      <td>11.5</td>\n",
       "      <td>B-1689791</td>\n",
       "    </tr>\n",
       "    <tr>\n",
       "      <th>2</th>\n",
       "      <td>18.0</td>\n",
       "      <td>8</td>\n",
       "      <td>318</td>\n",
       "      <td>150</td>\n",
       "      <td>3436</td>\n",
       "      <td>11.0</td>\n",
       "      <td>P-1689802</td>\n",
       "    </tr>\n",
       "    <tr>\n",
       "      <th>3</th>\n",
       "      <td>16.0</td>\n",
       "      <td>8</td>\n",
       "      <td>304</td>\n",
       "      <td>150</td>\n",
       "      <td>3433</td>\n",
       "      <td>12.0</td>\n",
       "      <td>A-1689813</td>\n",
       "    </tr>\n",
       "    <tr>\n",
       "      <th>4</th>\n",
       "      <td>17.0</td>\n",
       "      <td>8</td>\n",
       "      <td>302</td>\n",
       "      <td>140</td>\n",
       "      <td>3449</td>\n",
       "      <td>10.5</td>\n",
       "      <td>F-1689824</td>\n",
       "    </tr>\n",
       "    <tr>\n",
       "      <th>...</th>\n",
       "      <td>...</td>\n",
       "      <td>...</td>\n",
       "      <td>...</td>\n",
       "      <td>...</td>\n",
       "      <td>...</td>\n",
       "      <td>...</td>\n",
       "      <td>...</td>\n",
       "    </tr>\n",
       "    <tr>\n",
       "      <th>393</th>\n",
       "      <td>27.0</td>\n",
       "      <td>4</td>\n",
       "      <td>140</td>\n",
       "      <td>86</td>\n",
       "      <td>2790</td>\n",
       "      <td>15.6</td>\n",
       "      <td>F-1694103</td>\n",
       "    </tr>\n",
       "    <tr>\n",
       "      <th>394</th>\n",
       "      <td>44.0</td>\n",
       "      <td>4</td>\n",
       "      <td>97</td>\n",
       "      <td>52</td>\n",
       "      <td>2130</td>\n",
       "      <td>24.6</td>\n",
       "      <td>V-1694114</td>\n",
       "    </tr>\n",
       "    <tr>\n",
       "      <th>395</th>\n",
       "      <td>32.0</td>\n",
       "      <td>4</td>\n",
       "      <td>135</td>\n",
       "      <td>84</td>\n",
       "      <td>2295</td>\n",
       "      <td>11.6</td>\n",
       "      <td>D-1694125</td>\n",
       "    </tr>\n",
       "    <tr>\n",
       "      <th>396</th>\n",
       "      <td>28.0</td>\n",
       "      <td>4</td>\n",
       "      <td>120</td>\n",
       "      <td>79</td>\n",
       "      <td>2625</td>\n",
       "      <td>18.6</td>\n",
       "      <td>F-1694136</td>\n",
       "    </tr>\n",
       "    <tr>\n",
       "      <th>397</th>\n",
       "      <td>31.0</td>\n",
       "      <td>4</td>\n",
       "      <td>119</td>\n",
       "      <td>82</td>\n",
       "      <td>2720</td>\n",
       "      <td>19.4</td>\n",
       "      <td>C-1694147</td>\n",
       "    </tr>\n",
       "  </tbody>\n",
       "</table>\n",
       "<p>398 rows × 7 columns</p>\n",
       "</div>"
      ],
      "text/plain": [
       "      mpg  cylinders  displacement horsepower  weight  acceleration vehicle_id\n",
       "0    18.0          8           307        130    3504          12.0  C-1689780\n",
       "1    15.0          8           350        165    3693          11.5  B-1689791\n",
       "2    18.0          8           318        150    3436          11.0  P-1689802\n",
       "3    16.0          8           304        150    3433          12.0  A-1689813\n",
       "4    17.0          8           302        140    3449          10.5  F-1689824\n",
       "..    ...        ...           ...        ...     ...           ...        ...\n",
       "393  27.0          4           140         86    2790          15.6  F-1694103\n",
       "394  44.0          4            97         52    2130          24.6  V-1694114\n",
       "395  32.0          4           135         84    2295          11.6  D-1694125\n",
       "396  28.0          4           120         79    2625          18.6  F-1694136\n",
       "397  31.0          4           119         82    2720          19.4  C-1694147\n",
       "\n",
       "[398 rows x 7 columns]"
      ]
     },
     "metadata": {},
     "output_type": "display_data"
    }
   ],
   "source": [
    "# The display() command will show the first 5 rows and the last five rows\n",
    "\n",
    "display(carfeatures)"
   ]
  },
  {
   "cell_type": "code",
   "execution_count": 5,
   "metadata": {},
   "outputs": [
    {
     "data": {
      "application/vnd.microsoft.datawrangler.viewer.v0+json": {
       "columns": [
        {
         "name": "index",
         "rawType": "int64",
         "type": "integer"
        },
        {
         "name": "mpg",
         "rawType": "float64",
         "type": "float"
        },
        {
         "name": "cylinders",
         "rawType": "int64",
         "type": "integer"
        },
        {
         "name": "displacement",
         "rawType": "int64",
         "type": "integer"
        },
        {
         "name": "horsepower",
         "rawType": "object",
         "type": "unknown"
        },
        {
         "name": "weight",
         "rawType": "int64",
         "type": "integer"
        },
        {
         "name": "acceleration",
         "rawType": "float64",
         "type": "float"
        },
        {
         "name": "vehicle_id",
         "rawType": "object",
         "type": "string"
        }
       ],
       "conversionMethod": "pd.DataFrame",
       "ref": "ef872f64-6ad5-4540-a642-d52ce1b7bb9a",
       "rows": [
        [
         "0",
         "18.0",
         "8",
         "307",
         "130",
         "3504",
         "12.0",
         "C-1689780"
        ],
        [
         "1",
         "15.0",
         "8",
         "350",
         "165",
         "3693",
         "11.5",
         "B-1689791"
        ],
        [
         "2",
         "18.0",
         "8",
         "318",
         "150",
         "3436",
         "11.0",
         "P-1689802"
        ],
        [
         "3",
         "16.0",
         "8",
         "304",
         "150",
         "3433",
         "12.0",
         "A-1689813"
        ],
        [
         "4",
         "17.0",
         "8",
         "302",
         "140",
         "3449",
         "10.5",
         "F-1689824"
        ],
        [
         "5",
         "15.0",
         "8",
         "429",
         "198",
         "4341",
         "10.0",
         "F-1689835"
        ],
        [
         "6",
         "14.0",
         "8",
         "454",
         "220",
         "4354",
         "9.0",
         "C-1689846"
        ],
        [
         "7",
         "14.0",
         "8",
         "440",
         "215",
         "4312",
         "8.5",
         "P-1689857"
        ],
        [
         "8",
         "14.0",
         "8",
         "455",
         "225",
         "4425",
         "10.0",
         "P-1689868"
        ],
        [
         "9",
         "15.0",
         "8",
         "390",
         "190",
         "3850",
         "8.5",
         "A-1689879"
        ],
        [
         "10",
         "15.0",
         "8",
         "383",
         "170",
         "3563",
         "10.0",
         "D-1689890"
        ],
        [
         "11",
         "14.0",
         "8",
         "340",
         "160",
         "3609",
         "8.0",
         "P-1689901"
        ],
        [
         "12",
         "15.0",
         "8",
         "400",
         "150",
         "3761",
         "9.5",
         "C-1689912"
        ],
        [
         "13",
         "14.0",
         "8",
         "455",
         "225",
         "3086",
         "10.0",
         "B-1689923"
        ],
        [
         "14",
         "24.0",
         "4",
         "113",
         "95",
         "2372",
         "15.0",
         "T-1689934"
        ],
        [
         "15",
         "22.0",
         "6",
         "198",
         "95",
         "2833",
         "15.5",
         "P-1689945"
        ],
        [
         "16",
         "18.0",
         "6",
         "199",
         "97",
         "2774",
         "15.5",
         "A-1689956"
        ],
        [
         "17",
         "21.0",
         "6",
         "200",
         "85",
         "2587",
         "16.0",
         "F-1689967"
        ],
        [
         "18",
         "27.0",
         "4",
         "97",
         "88",
         "2130",
         "14.5",
         "D-1689978"
        ],
        [
         "19",
         "26.0",
         "4",
         "97",
         "46",
         "1835",
         "20.5",
         "V-1689989"
        ],
        [
         "20",
         "25.0",
         "4",
         "110",
         "87",
         "2672",
         "17.5",
         "P-1690000"
        ],
        [
         "21",
         "24.0",
         "4",
         "107",
         "90",
         "2430",
         "14.5",
         "A-1690011"
        ],
        [
         "22",
         "25.0",
         "4",
         "104",
         "95",
         "2375",
         "17.5",
         "S-1690022"
        ],
        [
         "23",
         "26.0",
         "4",
         "121",
         "113",
         "2234",
         "12.5",
         "B-1690033"
        ],
        [
         "24",
         "21.0",
         "6",
         "199",
         "90",
         "2648",
         "15.0",
         "A-1690044"
        ],
        [
         "25",
         "10.0",
         "8",
         "360",
         "215",
         "4615",
         "14.0",
         "F-1690055"
        ],
        [
         "26",
         "10.0",
         "8",
         "307",
         "200",
         "4376",
         "15.0",
         "C-1690066"
        ],
        [
         "27",
         "11.0",
         "8",
         "318",
         "210",
         "4382",
         "13.5",
         "D-1690077"
        ],
        [
         "28",
         "9.0",
         "8",
         "304",
         "193",
         "4732",
         "18.5",
         "H-1690088"
        ],
        [
         "29",
         "27.0",
         "4",
         "97",
         "88",
         "2130",
         "14.5",
         "D-1690099"
        ],
        [
         "30",
         "28.0",
         "4",
         "140",
         "90",
         "2264",
         "15.5",
         "C-1690110"
        ],
        [
         "31",
         "25.0",
         "4",
         "113",
         "95",
         "2228",
         "14.0",
         "T-1690121"
        ],
        [
         "32",
         "25.0",
         "4",
         "98",
         null,
         "2046",
         "19.0",
         "F-1690132"
        ],
        [
         "33",
         "19.0",
         "6",
         "232",
         "100",
         "2634",
         "13.0",
         "A-1690143"
        ],
        [
         "34",
         "16.0",
         "6",
         "225",
         "105",
         "3439",
         "15.5",
         "P-1690154"
        ],
        [
         "35",
         "17.0",
         "6",
         "250",
         "100",
         "3329",
         "15.5",
         "C-1690165"
        ],
        [
         "36",
         "19.0",
         "6",
         "250",
         "88",
         "3302",
         "15.5",
         "F-1690176"
        ],
        [
         "37",
         "18.0",
         "6",
         "232",
         "100",
         "3288",
         "15.5",
         "A-1690187"
        ],
        [
         "38",
         "14.0",
         "8",
         "350",
         "165",
         "4209",
         "12.0",
         "C-1690198"
        ],
        [
         "39",
         "14.0",
         "8",
         "400",
         "175",
         "4464",
         "11.5",
         "P-1690209"
        ],
        [
         "40",
         "14.0",
         "8",
         "351",
         "153",
         "4154",
         "13.5",
         "F-1690220"
        ],
        [
         "41",
         "14.0",
         "8",
         "318",
         "150",
         "4096",
         "13.0",
         "P-1690231"
        ],
        [
         "42",
         "12.0",
         "8",
         "383",
         "180",
         "4955",
         "11.5",
         "D-1690242"
        ],
        [
         "43",
         "13.0",
         "8",
         "400",
         "170",
         "4746",
         "12.0",
         "F-1690253"
        ],
        [
         "44",
         "13.0",
         "8",
         "400",
         "175",
         "5140",
         "12.0",
         "P-1690264"
        ],
        [
         "45",
         "18.0",
         "6",
         "258",
         "110",
         "2962",
         "13.5",
         "A-1690275"
        ],
        [
         "46",
         "22.0",
         "4",
         "140",
         "72",
         "2408",
         "19.0",
         "C-1690286"
        ],
        [
         "47",
         "19.0",
         "6",
         "250",
         "100",
         "3282",
         "15.0",
         "P-1690297"
        ],
        [
         "48",
         "18.0",
         "6",
         "250",
         "88",
         "3139",
         "14.5",
         "F-1690308"
        ],
        [
         "49",
         "23.0",
         "4",
         "122",
         "86",
         "2220",
         "14.0",
         "M-1690319"
        ]
       ],
       "shape": {
        "columns": 7,
        "rows": 398
       }
      },
      "text/html": [
       "<div>\n",
       "<style scoped>\n",
       "    .dataframe tbody tr th:only-of-type {\n",
       "        vertical-align: middle;\n",
       "    }\n",
       "\n",
       "    .dataframe tbody tr th {\n",
       "        vertical-align: top;\n",
       "    }\n",
       "\n",
       "    .dataframe thead th {\n",
       "        text-align: right;\n",
       "    }\n",
       "</style>\n",
       "<table border=\"1\" class=\"dataframe\">\n",
       "  <thead>\n",
       "    <tr style=\"text-align: right;\">\n",
       "      <th></th>\n",
       "      <th>mpg</th>\n",
       "      <th>cylinders</th>\n",
       "      <th>displacement</th>\n",
       "      <th>horsepower</th>\n",
       "      <th>weight</th>\n",
       "      <th>acceleration</th>\n",
       "      <th>vehicle_id</th>\n",
       "    </tr>\n",
       "  </thead>\n",
       "  <tbody>\n",
       "    <tr>\n",
       "      <th>0</th>\n",
       "      <td>18.0</td>\n",
       "      <td>8</td>\n",
       "      <td>307</td>\n",
       "      <td>130</td>\n",
       "      <td>3504</td>\n",
       "      <td>12.0</td>\n",
       "      <td>C-1689780</td>\n",
       "    </tr>\n",
       "    <tr>\n",
       "      <th>1</th>\n",
       "      <td>15.0</td>\n",
       "      <td>8</td>\n",
       "      <td>350</td>\n",
       "      <td>165</td>\n",
       "      <td>3693</td>\n",
       "      <td>11.5</td>\n",
       "      <td>B-1689791</td>\n",
       "    </tr>\n",
       "    <tr>\n",
       "      <th>2</th>\n",
       "      <td>18.0</td>\n",
       "      <td>8</td>\n",
       "      <td>318</td>\n",
       "      <td>150</td>\n",
       "      <td>3436</td>\n",
       "      <td>11.0</td>\n",
       "      <td>P-1689802</td>\n",
       "    </tr>\n",
       "    <tr>\n",
       "      <th>3</th>\n",
       "      <td>16.0</td>\n",
       "      <td>8</td>\n",
       "      <td>304</td>\n",
       "      <td>150</td>\n",
       "      <td>3433</td>\n",
       "      <td>12.0</td>\n",
       "      <td>A-1689813</td>\n",
       "    </tr>\n",
       "    <tr>\n",
       "      <th>4</th>\n",
       "      <td>17.0</td>\n",
       "      <td>8</td>\n",
       "      <td>302</td>\n",
       "      <td>140</td>\n",
       "      <td>3449</td>\n",
       "      <td>10.5</td>\n",
       "      <td>F-1689824</td>\n",
       "    </tr>\n",
       "    <tr>\n",
       "      <th>...</th>\n",
       "      <td>...</td>\n",
       "      <td>...</td>\n",
       "      <td>...</td>\n",
       "      <td>...</td>\n",
       "      <td>...</td>\n",
       "      <td>...</td>\n",
       "      <td>...</td>\n",
       "    </tr>\n",
       "    <tr>\n",
       "      <th>393</th>\n",
       "      <td>27.0</td>\n",
       "      <td>4</td>\n",
       "      <td>140</td>\n",
       "      <td>86</td>\n",
       "      <td>2790</td>\n",
       "      <td>15.6</td>\n",
       "      <td>F-1694103</td>\n",
       "    </tr>\n",
       "    <tr>\n",
       "      <th>394</th>\n",
       "      <td>44.0</td>\n",
       "      <td>4</td>\n",
       "      <td>97</td>\n",
       "      <td>52</td>\n",
       "      <td>2130</td>\n",
       "      <td>24.6</td>\n",
       "      <td>V-1694114</td>\n",
       "    </tr>\n",
       "    <tr>\n",
       "      <th>395</th>\n",
       "      <td>32.0</td>\n",
       "      <td>4</td>\n",
       "      <td>135</td>\n",
       "      <td>84</td>\n",
       "      <td>2295</td>\n",
       "      <td>11.6</td>\n",
       "      <td>D-1694125</td>\n",
       "    </tr>\n",
       "    <tr>\n",
       "      <th>396</th>\n",
       "      <td>28.0</td>\n",
       "      <td>4</td>\n",
       "      <td>120</td>\n",
       "      <td>79</td>\n",
       "      <td>2625</td>\n",
       "      <td>18.6</td>\n",
       "      <td>F-1694136</td>\n",
       "    </tr>\n",
       "    <tr>\n",
       "      <th>397</th>\n",
       "      <td>31.0</td>\n",
       "      <td>4</td>\n",
       "      <td>119</td>\n",
       "      <td>82</td>\n",
       "      <td>2720</td>\n",
       "      <td>19.4</td>\n",
       "      <td>C-1694147</td>\n",
       "    </tr>\n",
       "  </tbody>\n",
       "</table>\n",
       "<p>398 rows × 7 columns</p>\n",
       "</div>"
      ],
      "text/plain": [
       "      mpg  cylinders  displacement horsepower  weight  acceleration vehicle_id\n",
       "0    18.0          8           307        130    3504          12.0  C-1689780\n",
       "1    15.0          8           350        165    3693          11.5  B-1689791\n",
       "2    18.0          8           318        150    3436          11.0  P-1689802\n",
       "3    16.0          8           304        150    3433          12.0  A-1689813\n",
       "4    17.0          8           302        140    3449          10.5  F-1689824\n",
       "..    ...        ...           ...        ...     ...           ...        ...\n",
       "393  27.0          4           140         86    2790          15.6  F-1694103\n",
       "394  44.0          4            97         52    2130          24.6  V-1694114\n",
       "395  32.0          4           135         84    2295          11.6  D-1694125\n",
       "396  28.0          4           120         79    2625          18.6  F-1694136\n",
       "397  31.0          4           119         82    2720          19.4  C-1694147\n",
       "\n",
       "[398 rows x 7 columns]"
      ]
     },
     "execution_count": 5,
     "metadata": {},
     "output_type": "execute_result"
    }
   ],
   "source": [
    "carfeatures"
   ]
  },
  {
   "attachments": {},
   "cell_type": "markdown",
   "metadata": {},
   "source": [
    "<font size = \"5\" >\n",
    "\n",
    "Extract column names"
   ]
  },
  {
   "cell_type": "code",
   "execution_count": 6,
   "metadata": {},
   "outputs": [
    {
     "data": {
      "text/plain": [
       "numpy.ndarray"
      ]
     },
     "execution_count": 6,
     "metadata": {},
     "output_type": "execute_result"
    }
   ],
   "source": [
    "type(carfeatures.columns.values)"
   ]
  },
  {
   "cell_type": "code",
   "execution_count": 7,
   "metadata": {},
   "outputs": [
    {
     "name": "stdout",
     "output_type": "stream",
     "text": [
      "['mpg' 'cylinders' 'displacement' 'horsepower' 'weight' 'acceleration'\n",
      " 'vehicle_id']\n"
     ]
    }
   ],
   "source": [
    "# Write the name of the dataset and use a period \".\" to extract \n",
    "# the attribute \"columns\" and the subttribute \"values\"\n",
    "\n",
    "car_colnames = carfeatures.columns.values\n",
    "print(car_colnames)"
   ]
  },
  {
   "attachments": {},
   "cell_type": "markdown",
   "metadata": {},
   "source": [
    "<font size = \"5\">\n",
    "\n",
    "Subset columns:\n",
    "\n",
    "```python\n",
    "data[list_names]\n",
    "```"
   ]
  },
  {
   "cell_type": "code",
   "execution_count": 8,
   "metadata": {},
   "outputs": [
    {
     "data": {
      "text/plain": [
       "0      18.0\n",
       "1      15.0\n",
       "2      18.0\n",
       "3      16.0\n",
       "4      17.0\n",
       "       ... \n",
       "393    27.0\n",
       "394    44.0\n",
       "395    32.0\n",
       "396    28.0\n",
       "397    31.0\n",
       "Name: mpg, Length: 398, dtype: float64"
      ]
     },
     "execution_count": 8,
     "metadata": {},
     "output_type": "execute_result"
    }
   ],
   "source": [
    "carfeatures[car_colnames[0]]"
   ]
  },
  {
   "cell_type": "code",
   "execution_count": 9,
   "metadata": {},
   "outputs": [
    {
     "data": {
      "text/plain": [
       "0      18.0\n",
       "1      15.0\n",
       "2      18.0\n",
       "3      16.0\n",
       "4      17.0\n",
       "       ... \n",
       "393    27.0\n",
       "394    44.0\n",
       "395    32.0\n",
       "396    28.0\n",
       "397    31.0\n",
       "Name: mpg, Length: 398, dtype: float64"
      ]
     },
     "execution_count": 9,
     "metadata": {},
     "output_type": "execute_result"
    }
   ],
   "source": [
    "carfeatures['mpg']"
   ]
  },
  {
   "cell_type": "code",
   "execution_count": 10,
   "metadata": {},
   "outputs": [
    {
     "data": {
      "application/vnd.microsoft.datawrangler.viewer.v0+json": {
       "columns": [
        {
         "name": "index",
         "rawType": "int64",
         "type": "integer"
        },
        {
         "name": "acceleration",
         "rawType": "float64",
         "type": "float"
        },
        {
         "name": "weight",
         "rawType": "int64",
         "type": "integer"
        },
        {
         "name": "mpg",
         "rawType": "float64",
         "type": "float"
        }
       ],
       "conversionMethod": "pd.DataFrame",
       "ref": "65450bb5-6e14-4399-83db-58c7ee595599",
       "rows": [
        [
         "0",
         "12.0",
         "3504",
         "18.0"
        ],
        [
         "1",
         "11.5",
         "3693",
         "15.0"
        ],
        [
         "2",
         "11.0",
         "3436",
         "18.0"
        ],
        [
         "3",
         "12.0",
         "3433",
         "16.0"
        ],
        [
         "4",
         "10.5",
         "3449",
         "17.0"
        ],
        [
         "5",
         "10.0",
         "4341",
         "15.0"
        ],
        [
         "6",
         "9.0",
         "4354",
         "14.0"
        ],
        [
         "7",
         "8.5",
         "4312",
         "14.0"
        ],
        [
         "8",
         "10.0",
         "4425",
         "14.0"
        ],
        [
         "9",
         "8.5",
         "3850",
         "15.0"
        ],
        [
         "10",
         "10.0",
         "3563",
         "15.0"
        ],
        [
         "11",
         "8.0",
         "3609",
         "14.0"
        ],
        [
         "12",
         "9.5",
         "3761",
         "15.0"
        ],
        [
         "13",
         "10.0",
         "3086",
         "14.0"
        ],
        [
         "14",
         "15.0",
         "2372",
         "24.0"
        ],
        [
         "15",
         "15.5",
         "2833",
         "22.0"
        ],
        [
         "16",
         "15.5",
         "2774",
         "18.0"
        ],
        [
         "17",
         "16.0",
         "2587",
         "21.0"
        ],
        [
         "18",
         "14.5",
         "2130",
         "27.0"
        ],
        [
         "19",
         "20.5",
         "1835",
         "26.0"
        ],
        [
         "20",
         "17.5",
         "2672",
         "25.0"
        ],
        [
         "21",
         "14.5",
         "2430",
         "24.0"
        ],
        [
         "22",
         "17.5",
         "2375",
         "25.0"
        ],
        [
         "23",
         "12.5",
         "2234",
         "26.0"
        ],
        [
         "24",
         "15.0",
         "2648",
         "21.0"
        ],
        [
         "25",
         "14.0",
         "4615",
         "10.0"
        ],
        [
         "26",
         "15.0",
         "4376",
         "10.0"
        ],
        [
         "27",
         "13.5",
         "4382",
         "11.0"
        ],
        [
         "28",
         "18.5",
         "4732",
         "9.0"
        ],
        [
         "29",
         "14.5",
         "2130",
         "27.0"
        ],
        [
         "30",
         "15.5",
         "2264",
         "28.0"
        ],
        [
         "31",
         "14.0",
         "2228",
         "25.0"
        ],
        [
         "32",
         "19.0",
         "2046",
         "25.0"
        ],
        [
         "33",
         "13.0",
         "2634",
         "19.0"
        ],
        [
         "34",
         "15.5",
         "3439",
         "16.0"
        ],
        [
         "35",
         "15.5",
         "3329",
         "17.0"
        ],
        [
         "36",
         "15.5",
         "3302",
         "19.0"
        ],
        [
         "37",
         "15.5",
         "3288",
         "18.0"
        ],
        [
         "38",
         "12.0",
         "4209",
         "14.0"
        ],
        [
         "39",
         "11.5",
         "4464",
         "14.0"
        ],
        [
         "40",
         "13.5",
         "4154",
         "14.0"
        ],
        [
         "41",
         "13.0",
         "4096",
         "14.0"
        ],
        [
         "42",
         "11.5",
         "4955",
         "12.0"
        ],
        [
         "43",
         "12.0",
         "4746",
         "13.0"
        ],
        [
         "44",
         "12.0",
         "5140",
         "13.0"
        ],
        [
         "45",
         "13.5",
         "2962",
         "18.0"
        ],
        [
         "46",
         "19.0",
         "2408",
         "22.0"
        ],
        [
         "47",
         "15.0",
         "3282",
         "19.0"
        ],
        [
         "48",
         "14.5",
         "3139",
         "18.0"
        ],
        [
         "49",
         "14.0",
         "2220",
         "23.0"
        ]
       ],
       "shape": {
        "columns": 3,
        "rows": 398
       }
      },
      "text/html": [
       "<div>\n",
       "<style scoped>\n",
       "    .dataframe tbody tr th:only-of-type {\n",
       "        vertical-align: middle;\n",
       "    }\n",
       "\n",
       "    .dataframe tbody tr th {\n",
       "        vertical-align: top;\n",
       "    }\n",
       "\n",
       "    .dataframe thead th {\n",
       "        text-align: right;\n",
       "    }\n",
       "</style>\n",
       "<table border=\"1\" class=\"dataframe\">\n",
       "  <thead>\n",
       "    <tr style=\"text-align: right;\">\n",
       "      <th></th>\n",
       "      <th>acceleration</th>\n",
       "      <th>weight</th>\n",
       "      <th>mpg</th>\n",
       "    </tr>\n",
       "  </thead>\n",
       "  <tbody>\n",
       "    <tr>\n",
       "      <th>0</th>\n",
       "      <td>12.0</td>\n",
       "      <td>3504</td>\n",
       "      <td>18.0</td>\n",
       "    </tr>\n",
       "    <tr>\n",
       "      <th>1</th>\n",
       "      <td>11.5</td>\n",
       "      <td>3693</td>\n",
       "      <td>15.0</td>\n",
       "    </tr>\n",
       "    <tr>\n",
       "      <th>2</th>\n",
       "      <td>11.0</td>\n",
       "      <td>3436</td>\n",
       "      <td>18.0</td>\n",
       "    </tr>\n",
       "    <tr>\n",
       "      <th>3</th>\n",
       "      <td>12.0</td>\n",
       "      <td>3433</td>\n",
       "      <td>16.0</td>\n",
       "    </tr>\n",
       "    <tr>\n",
       "      <th>4</th>\n",
       "      <td>10.5</td>\n",
       "      <td>3449</td>\n",
       "      <td>17.0</td>\n",
       "    </tr>\n",
       "    <tr>\n",
       "      <th>...</th>\n",
       "      <td>...</td>\n",
       "      <td>...</td>\n",
       "      <td>...</td>\n",
       "    </tr>\n",
       "    <tr>\n",
       "      <th>393</th>\n",
       "      <td>15.6</td>\n",
       "      <td>2790</td>\n",
       "      <td>27.0</td>\n",
       "    </tr>\n",
       "    <tr>\n",
       "      <th>394</th>\n",
       "      <td>24.6</td>\n",
       "      <td>2130</td>\n",
       "      <td>44.0</td>\n",
       "    </tr>\n",
       "    <tr>\n",
       "      <th>395</th>\n",
       "      <td>11.6</td>\n",
       "      <td>2295</td>\n",
       "      <td>32.0</td>\n",
       "    </tr>\n",
       "    <tr>\n",
       "      <th>396</th>\n",
       "      <td>18.6</td>\n",
       "      <td>2625</td>\n",
       "      <td>28.0</td>\n",
       "    </tr>\n",
       "    <tr>\n",
       "      <th>397</th>\n",
       "      <td>19.4</td>\n",
       "      <td>2720</td>\n",
       "      <td>31.0</td>\n",
       "    </tr>\n",
       "  </tbody>\n",
       "</table>\n",
       "<p>398 rows × 3 columns</p>\n",
       "</div>"
      ],
      "text/plain": [
       "     acceleration  weight   mpg\n",
       "0            12.0    3504  18.0\n",
       "1            11.5    3693  15.0\n",
       "2            11.0    3436  18.0\n",
       "3            12.0    3433  16.0\n",
       "4            10.5    3449  17.0\n",
       "..            ...     ...   ...\n",
       "393          15.6    2790  27.0\n",
       "394          24.6    2130  44.0\n",
       "395          11.6    2295  32.0\n",
       "396          18.6    2625  28.0\n",
       "397          19.4    2720  31.0\n",
       "\n",
       "[398 rows x 3 columns]"
      ]
     },
     "execution_count": 10,
     "metadata": {},
     "output_type": "execute_result"
    }
   ],
   "source": [
    "carfeatures[   [\"acceleration\",\"weight\", \"mpg\"]     ]"
   ]
  },
  {
   "cell_type": "code",
   "execution_count": 11,
   "metadata": {},
   "outputs": [
    {
     "data": {
      "application/vnd.microsoft.datawrangler.viewer.v0+json": {
       "columns": [
        {
         "name": "index",
         "rawType": "int64",
         "type": "integer"
        },
        {
         "name": "weight",
         "rawType": "int64",
         "type": "integer"
        },
        {
         "name": "mpg",
         "rawType": "float64",
         "type": "float"
        }
       ],
       "conversionMethod": "pd.DataFrame",
       "ref": "fd853cc6-0e71-42c7-9d29-a84f632e0edf",
       "rows": [
        [
         "0",
         "3504",
         "18.0"
        ],
        [
         "1",
         "3693",
         "15.0"
        ],
        [
         "2",
         "3436",
         "18.0"
        ],
        [
         "3",
         "3433",
         "16.0"
        ],
        [
         "4",
         "3449",
         "17.0"
        ],
        [
         "5",
         "4341",
         "15.0"
        ],
        [
         "6",
         "4354",
         "14.0"
        ],
        [
         "7",
         "4312",
         "14.0"
        ],
        [
         "8",
         "4425",
         "14.0"
        ],
        [
         "9",
         "3850",
         "15.0"
        ],
        [
         "10",
         "3563",
         "15.0"
        ],
        [
         "11",
         "3609",
         "14.0"
        ],
        [
         "12",
         "3761",
         "15.0"
        ],
        [
         "13",
         "3086",
         "14.0"
        ],
        [
         "14",
         "2372",
         "24.0"
        ],
        [
         "15",
         "2833",
         "22.0"
        ],
        [
         "16",
         "2774",
         "18.0"
        ],
        [
         "17",
         "2587",
         "21.0"
        ],
        [
         "18",
         "2130",
         "27.0"
        ],
        [
         "19",
         "1835",
         "26.0"
        ],
        [
         "20",
         "2672",
         "25.0"
        ],
        [
         "21",
         "2430",
         "24.0"
        ],
        [
         "22",
         "2375",
         "25.0"
        ],
        [
         "23",
         "2234",
         "26.0"
        ],
        [
         "24",
         "2648",
         "21.0"
        ],
        [
         "25",
         "4615",
         "10.0"
        ],
        [
         "26",
         "4376",
         "10.0"
        ],
        [
         "27",
         "4382",
         "11.0"
        ],
        [
         "28",
         "4732",
         "9.0"
        ],
        [
         "29",
         "2130",
         "27.0"
        ],
        [
         "30",
         "2264",
         "28.0"
        ],
        [
         "31",
         "2228",
         "25.0"
        ],
        [
         "32",
         "2046",
         "25.0"
        ],
        [
         "33",
         "2634",
         "19.0"
        ],
        [
         "34",
         "3439",
         "16.0"
        ],
        [
         "35",
         "3329",
         "17.0"
        ],
        [
         "36",
         "3302",
         "19.0"
        ],
        [
         "37",
         "3288",
         "18.0"
        ],
        [
         "38",
         "4209",
         "14.0"
        ],
        [
         "39",
         "4464",
         "14.0"
        ],
        [
         "40",
         "4154",
         "14.0"
        ],
        [
         "41",
         "4096",
         "14.0"
        ],
        [
         "42",
         "4955",
         "12.0"
        ],
        [
         "43",
         "4746",
         "13.0"
        ],
        [
         "44",
         "5140",
         "13.0"
        ],
        [
         "45",
         "2962",
         "18.0"
        ],
        [
         "46",
         "2408",
         "22.0"
        ],
        [
         "47",
         "3282",
         "19.0"
        ],
        [
         "48",
         "3139",
         "18.0"
        ],
        [
         "49",
         "2220",
         "23.0"
        ]
       ],
       "shape": {
        "columns": 2,
        "rows": 398
       }
      },
      "text/html": [
       "<div>\n",
       "<style scoped>\n",
       "    .dataframe tbody tr th:only-of-type {\n",
       "        vertical-align: middle;\n",
       "    }\n",
       "\n",
       "    .dataframe tbody tr th {\n",
       "        vertical-align: top;\n",
       "    }\n",
       "\n",
       "    .dataframe thead th {\n",
       "        text-align: right;\n",
       "    }\n",
       "</style>\n",
       "<table border=\"1\" class=\"dataframe\">\n",
       "  <thead>\n",
       "    <tr style=\"text-align: right;\">\n",
       "      <th></th>\n",
       "      <th>weight</th>\n",
       "      <th>mpg</th>\n",
       "    </tr>\n",
       "  </thead>\n",
       "  <tbody>\n",
       "    <tr>\n",
       "      <th>0</th>\n",
       "      <td>3504</td>\n",
       "      <td>18.0</td>\n",
       "    </tr>\n",
       "    <tr>\n",
       "      <th>1</th>\n",
       "      <td>3693</td>\n",
       "      <td>15.0</td>\n",
       "    </tr>\n",
       "    <tr>\n",
       "      <th>2</th>\n",
       "      <td>3436</td>\n",
       "      <td>18.0</td>\n",
       "    </tr>\n",
       "    <tr>\n",
       "      <th>3</th>\n",
       "      <td>3433</td>\n",
       "      <td>16.0</td>\n",
       "    </tr>\n",
       "    <tr>\n",
       "      <th>4</th>\n",
       "      <td>3449</td>\n",
       "      <td>17.0</td>\n",
       "    </tr>\n",
       "    <tr>\n",
       "      <th>...</th>\n",
       "      <td>...</td>\n",
       "      <td>...</td>\n",
       "    </tr>\n",
       "    <tr>\n",
       "      <th>393</th>\n",
       "      <td>2790</td>\n",
       "      <td>27.0</td>\n",
       "    </tr>\n",
       "    <tr>\n",
       "      <th>394</th>\n",
       "      <td>2130</td>\n",
       "      <td>44.0</td>\n",
       "    </tr>\n",
       "    <tr>\n",
       "      <th>395</th>\n",
       "      <td>2295</td>\n",
       "      <td>32.0</td>\n",
       "    </tr>\n",
       "    <tr>\n",
       "      <th>396</th>\n",
       "      <td>2625</td>\n",
       "      <td>28.0</td>\n",
       "    </tr>\n",
       "    <tr>\n",
       "      <th>397</th>\n",
       "      <td>2720</td>\n",
       "      <td>31.0</td>\n",
       "    </tr>\n",
       "  </tbody>\n",
       "</table>\n",
       "<p>398 rows × 2 columns</p>\n",
       "</div>"
      ],
      "text/plain": [
       "     weight   mpg\n",
       "0      3504  18.0\n",
       "1      3693  15.0\n",
       "2      3436  18.0\n",
       "3      3433  16.0\n",
       "4      3449  17.0\n",
       "..      ...   ...\n",
       "393    2790  27.0\n",
       "394    2130  44.0\n",
       "395    2295  32.0\n",
       "396    2625  28.0\n",
       "397    2720  31.0\n",
       "\n",
       "[398 rows x 2 columns]"
      ]
     },
     "metadata": {},
     "output_type": "display_data"
    },
    {
     "data": {
      "application/vnd.microsoft.datawrangler.viewer.v0+json": {
       "columns": [
        {
         "name": "index",
         "rawType": "int64",
         "type": "integer"
        },
        {
         "name": "weight",
         "rawType": "int64",
         "type": "integer"
        },
        {
         "name": "mpg",
         "rawType": "float64",
         "type": "float"
        }
       ],
       "conversionMethod": "pd.DataFrame",
       "ref": "e7892ad5-8685-4a96-ba6b-ec3c5dda5f97",
       "rows": [
        [
         "0",
         "3504",
         "18.0"
        ],
        [
         "1",
         "3693",
         "15.0"
        ],
        [
         "2",
         "3436",
         "18.0"
        ],
        [
         "3",
         "3433",
         "16.0"
        ],
        [
         "4",
         "3449",
         "17.0"
        ],
        [
         "5",
         "4341",
         "15.0"
        ],
        [
         "6",
         "4354",
         "14.0"
        ],
        [
         "7",
         "4312",
         "14.0"
        ],
        [
         "8",
         "4425",
         "14.0"
        ],
        [
         "9",
         "3850",
         "15.0"
        ],
        [
         "10",
         "3563",
         "15.0"
        ],
        [
         "11",
         "3609",
         "14.0"
        ],
        [
         "12",
         "3761",
         "15.0"
        ],
        [
         "13",
         "3086",
         "14.0"
        ],
        [
         "14",
         "2372",
         "24.0"
        ],
        [
         "15",
         "2833",
         "22.0"
        ],
        [
         "16",
         "2774",
         "18.0"
        ],
        [
         "17",
         "2587",
         "21.0"
        ],
        [
         "18",
         "2130",
         "27.0"
        ],
        [
         "19",
         "1835",
         "26.0"
        ],
        [
         "20",
         "2672",
         "25.0"
        ],
        [
         "21",
         "2430",
         "24.0"
        ],
        [
         "22",
         "2375",
         "25.0"
        ],
        [
         "23",
         "2234",
         "26.0"
        ],
        [
         "24",
         "2648",
         "21.0"
        ],
        [
         "25",
         "4615",
         "10.0"
        ],
        [
         "26",
         "4376",
         "10.0"
        ],
        [
         "27",
         "4382",
         "11.0"
        ],
        [
         "28",
         "4732",
         "9.0"
        ],
        [
         "29",
         "2130",
         "27.0"
        ],
        [
         "30",
         "2264",
         "28.0"
        ],
        [
         "31",
         "2228",
         "25.0"
        ],
        [
         "32",
         "2046",
         "25.0"
        ],
        [
         "33",
         "2634",
         "19.0"
        ],
        [
         "34",
         "3439",
         "16.0"
        ],
        [
         "35",
         "3329",
         "17.0"
        ],
        [
         "36",
         "3302",
         "19.0"
        ],
        [
         "37",
         "3288",
         "18.0"
        ],
        [
         "38",
         "4209",
         "14.0"
        ],
        [
         "39",
         "4464",
         "14.0"
        ],
        [
         "40",
         "4154",
         "14.0"
        ],
        [
         "41",
         "4096",
         "14.0"
        ],
        [
         "42",
         "4955",
         "12.0"
        ],
        [
         "43",
         "4746",
         "13.0"
        ],
        [
         "44",
         "5140",
         "13.0"
        ],
        [
         "45",
         "2962",
         "18.0"
        ],
        [
         "46",
         "2408",
         "22.0"
        ],
        [
         "47",
         "3282",
         "19.0"
        ],
        [
         "48",
         "3139",
         "18.0"
        ],
        [
         "49",
         "2220",
         "23.0"
        ]
       ],
       "shape": {
        "columns": 2,
        "rows": 398
       }
      },
      "text/html": [
       "<div>\n",
       "<style scoped>\n",
       "    .dataframe tbody tr th:only-of-type {\n",
       "        vertical-align: middle;\n",
       "    }\n",
       "\n",
       "    .dataframe tbody tr th {\n",
       "        vertical-align: top;\n",
       "    }\n",
       "\n",
       "    .dataframe thead th {\n",
       "        text-align: right;\n",
       "    }\n",
       "</style>\n",
       "<table border=\"1\" class=\"dataframe\">\n",
       "  <thead>\n",
       "    <tr style=\"text-align: right;\">\n",
       "      <th></th>\n",
       "      <th>weight</th>\n",
       "      <th>mpg</th>\n",
       "    </tr>\n",
       "  </thead>\n",
       "  <tbody>\n",
       "    <tr>\n",
       "      <th>0</th>\n",
       "      <td>3504</td>\n",
       "      <td>18.0</td>\n",
       "    </tr>\n",
       "    <tr>\n",
       "      <th>1</th>\n",
       "      <td>3693</td>\n",
       "      <td>15.0</td>\n",
       "    </tr>\n",
       "    <tr>\n",
       "      <th>2</th>\n",
       "      <td>3436</td>\n",
       "      <td>18.0</td>\n",
       "    </tr>\n",
       "    <tr>\n",
       "      <th>3</th>\n",
       "      <td>3433</td>\n",
       "      <td>16.0</td>\n",
       "    </tr>\n",
       "    <tr>\n",
       "      <th>4</th>\n",
       "      <td>3449</td>\n",
       "      <td>17.0</td>\n",
       "    </tr>\n",
       "    <tr>\n",
       "      <th>...</th>\n",
       "      <td>...</td>\n",
       "      <td>...</td>\n",
       "    </tr>\n",
       "    <tr>\n",
       "      <th>393</th>\n",
       "      <td>2790</td>\n",
       "      <td>27.0</td>\n",
       "    </tr>\n",
       "    <tr>\n",
       "      <th>394</th>\n",
       "      <td>2130</td>\n",
       "      <td>44.0</td>\n",
       "    </tr>\n",
       "    <tr>\n",
       "      <th>395</th>\n",
       "      <td>2295</td>\n",
       "      <td>32.0</td>\n",
       "    </tr>\n",
       "    <tr>\n",
       "      <th>396</th>\n",
       "      <td>2625</td>\n",
       "      <td>28.0</td>\n",
       "    </tr>\n",
       "    <tr>\n",
       "      <th>397</th>\n",
       "      <td>2720</td>\n",
       "      <td>31.0</td>\n",
       "    </tr>\n",
       "  </tbody>\n",
       "</table>\n",
       "<p>398 rows × 2 columns</p>\n",
       "</div>"
      ],
      "text/plain": [
       "     weight   mpg\n",
       "0      3504  18.0\n",
       "1      3693  15.0\n",
       "2      3436  18.0\n",
       "3      3433  16.0\n",
       "4      3449  17.0\n",
       "..      ...   ...\n",
       "393    2790  27.0\n",
       "394    2130  44.0\n",
       "395    2295  32.0\n",
       "396    2625  28.0\n",
       "397    2720  31.0\n",
       "\n",
       "[398 rows x 2 columns]"
      ]
     },
     "metadata": {},
     "output_type": "display_data"
    }
   ],
   "source": [
    "# To subset multiple columns write the name of the datasets \n",
    "# and enter a list in square brackets next to the name\n",
    "\n",
    "list_subsetcols = [\"weight\",\"mpg\"]\n",
    "subcols_carfeatures = carfeatures[list_subsetcols]\n",
    "display(subcols_carfeatures)\n",
    "\n",
    "# Or we can simply include the list directly inside square brackets\n",
    "display(carfeatures[[\"weight\",\"mpg\"]])\n"
   ]
  },
  {
   "attachments": {},
   "cell_type": "markdown",
   "metadata": {},
   "source": [
    "<font size = \"5\">\n",
    "\n",
    "Try it yourself!\n",
    "\n",
    "- Extract the weight and acceleration variables"
   ]
  },
  {
   "cell_type": "code",
   "execution_count": 12,
   "metadata": {},
   "outputs": [
    {
     "data": {
      "application/vnd.microsoft.datawrangler.viewer.v0+json": {
       "columns": [
        {
         "name": "index",
         "rawType": "int64",
         "type": "integer"
        },
        {
         "name": "weight",
         "rawType": "int64",
         "type": "integer"
        },
        {
         "name": "acceleration",
         "rawType": "float64",
         "type": "float"
        }
       ],
       "conversionMethod": "pd.DataFrame",
       "ref": "f4e3600d-1cc0-4c24-9775-0c6a63f65d06",
       "rows": [
        [
         "0",
         "3504",
         "12.0"
        ],
        [
         "1",
         "3693",
         "11.5"
        ],
        [
         "2",
         "3436",
         "11.0"
        ],
        [
         "3",
         "3433",
         "12.0"
        ],
        [
         "4",
         "3449",
         "10.5"
        ],
        [
         "5",
         "4341",
         "10.0"
        ],
        [
         "6",
         "4354",
         "9.0"
        ],
        [
         "7",
         "4312",
         "8.5"
        ],
        [
         "8",
         "4425",
         "10.0"
        ],
        [
         "9",
         "3850",
         "8.5"
        ],
        [
         "10",
         "3563",
         "10.0"
        ],
        [
         "11",
         "3609",
         "8.0"
        ],
        [
         "12",
         "3761",
         "9.5"
        ],
        [
         "13",
         "3086",
         "10.0"
        ],
        [
         "14",
         "2372",
         "15.0"
        ],
        [
         "15",
         "2833",
         "15.5"
        ],
        [
         "16",
         "2774",
         "15.5"
        ],
        [
         "17",
         "2587",
         "16.0"
        ],
        [
         "18",
         "2130",
         "14.5"
        ],
        [
         "19",
         "1835",
         "20.5"
        ],
        [
         "20",
         "2672",
         "17.5"
        ],
        [
         "21",
         "2430",
         "14.5"
        ],
        [
         "22",
         "2375",
         "17.5"
        ],
        [
         "23",
         "2234",
         "12.5"
        ],
        [
         "24",
         "2648",
         "15.0"
        ],
        [
         "25",
         "4615",
         "14.0"
        ],
        [
         "26",
         "4376",
         "15.0"
        ],
        [
         "27",
         "4382",
         "13.5"
        ],
        [
         "28",
         "4732",
         "18.5"
        ],
        [
         "29",
         "2130",
         "14.5"
        ],
        [
         "30",
         "2264",
         "15.5"
        ],
        [
         "31",
         "2228",
         "14.0"
        ],
        [
         "32",
         "2046",
         "19.0"
        ],
        [
         "33",
         "2634",
         "13.0"
        ],
        [
         "34",
         "3439",
         "15.5"
        ],
        [
         "35",
         "3329",
         "15.5"
        ],
        [
         "36",
         "3302",
         "15.5"
        ],
        [
         "37",
         "3288",
         "15.5"
        ],
        [
         "38",
         "4209",
         "12.0"
        ],
        [
         "39",
         "4464",
         "11.5"
        ],
        [
         "40",
         "4154",
         "13.5"
        ],
        [
         "41",
         "4096",
         "13.0"
        ],
        [
         "42",
         "4955",
         "11.5"
        ],
        [
         "43",
         "4746",
         "12.0"
        ],
        [
         "44",
         "5140",
         "12.0"
        ],
        [
         "45",
         "2962",
         "13.5"
        ],
        [
         "46",
         "2408",
         "19.0"
        ],
        [
         "47",
         "3282",
         "15.0"
        ],
        [
         "48",
         "3139",
         "14.5"
        ],
        [
         "49",
         "2220",
         "14.0"
        ]
       ],
       "shape": {
        "columns": 2,
        "rows": 398
       }
      },
      "text/html": [
       "<div>\n",
       "<style scoped>\n",
       "    .dataframe tbody tr th:only-of-type {\n",
       "        vertical-align: middle;\n",
       "    }\n",
       "\n",
       "    .dataframe tbody tr th {\n",
       "        vertical-align: top;\n",
       "    }\n",
       "\n",
       "    .dataframe thead th {\n",
       "        text-align: right;\n",
       "    }\n",
       "</style>\n",
       "<table border=\"1\" class=\"dataframe\">\n",
       "  <thead>\n",
       "    <tr style=\"text-align: right;\">\n",
       "      <th></th>\n",
       "      <th>weight</th>\n",
       "      <th>acceleration</th>\n",
       "    </tr>\n",
       "  </thead>\n",
       "  <tbody>\n",
       "    <tr>\n",
       "      <th>0</th>\n",
       "      <td>3504</td>\n",
       "      <td>12.0</td>\n",
       "    </tr>\n",
       "    <tr>\n",
       "      <th>1</th>\n",
       "      <td>3693</td>\n",
       "      <td>11.5</td>\n",
       "    </tr>\n",
       "    <tr>\n",
       "      <th>2</th>\n",
       "      <td>3436</td>\n",
       "      <td>11.0</td>\n",
       "    </tr>\n",
       "    <tr>\n",
       "      <th>3</th>\n",
       "      <td>3433</td>\n",
       "      <td>12.0</td>\n",
       "    </tr>\n",
       "    <tr>\n",
       "      <th>4</th>\n",
       "      <td>3449</td>\n",
       "      <td>10.5</td>\n",
       "    </tr>\n",
       "    <tr>\n",
       "      <th>...</th>\n",
       "      <td>...</td>\n",
       "      <td>...</td>\n",
       "    </tr>\n",
       "    <tr>\n",
       "      <th>393</th>\n",
       "      <td>2790</td>\n",
       "      <td>15.6</td>\n",
       "    </tr>\n",
       "    <tr>\n",
       "      <th>394</th>\n",
       "      <td>2130</td>\n",
       "      <td>24.6</td>\n",
       "    </tr>\n",
       "    <tr>\n",
       "      <th>395</th>\n",
       "      <td>2295</td>\n",
       "      <td>11.6</td>\n",
       "    </tr>\n",
       "    <tr>\n",
       "      <th>396</th>\n",
       "      <td>2625</td>\n",
       "      <td>18.6</td>\n",
       "    </tr>\n",
       "    <tr>\n",
       "      <th>397</th>\n",
       "      <td>2720</td>\n",
       "      <td>19.4</td>\n",
       "    </tr>\n",
       "  </tbody>\n",
       "</table>\n",
       "<p>398 rows × 2 columns</p>\n",
       "</div>"
      ],
      "text/plain": [
       "     weight  acceleration\n",
       "0      3504          12.0\n",
       "1      3693          11.5\n",
       "2      3436          11.0\n",
       "3      3433          12.0\n",
       "4      3449          10.5\n",
       "..      ...           ...\n",
       "393    2790          15.6\n",
       "394    2130          24.6\n",
       "395    2295          11.6\n",
       "396    2625          18.6\n",
       "397    2720          19.4\n",
       "\n",
       "[398 rows x 2 columns]"
      ]
     },
     "execution_count": 12,
     "metadata": {},
     "output_type": "execute_result"
    }
   ],
   "source": [
    "# Write your own code\n",
    "\n",
    "carfeatures[[\"weight\",\"acceleration\"]]\n"
   ]
  },
  {
   "attachments": {},
   "cell_type": "markdown",
   "metadata": {},
   "source": [
    "## <span style=\"color:darkblue\"> III. Subsetting by row/column position </span>\n",
    "\n",
    "<font size = \"5\">"
   ]
  },
  {
   "attachments": {},
   "cell_type": "markdown",
   "metadata": {},
   "source": [
    "<font size = \"5\">\n",
    "\n",
    "Sort by column"
   ]
  },
  {
   "cell_type": "code",
   "execution_count": 13,
   "metadata": {},
   "outputs": [
    {
     "data": {
      "application/vnd.microsoft.datawrangler.viewer.v0+json": {
       "columns": [
        {
         "name": "index",
         "rawType": "int64",
         "type": "integer"
        },
        {
         "name": "mpg",
         "rawType": "float64",
         "type": "float"
        },
        {
         "name": "cylinders",
         "rawType": "int64",
         "type": "integer"
        },
        {
         "name": "displacement",
         "rawType": "int64",
         "type": "integer"
        },
        {
         "name": "horsepower",
         "rawType": "object",
         "type": "unknown"
        },
        {
         "name": "weight",
         "rawType": "int64",
         "type": "integer"
        },
        {
         "name": "acceleration",
         "rawType": "float64",
         "type": "float"
        },
        {
         "name": "vehicle_id",
         "rawType": "object",
         "type": "string"
        }
       ],
       "conversionMethod": "pd.DataFrame",
       "ref": "ae05629f-ac5d-452e-9483-a77e111a7624",
       "rows": [
        [
         "322",
         "46.6",
         "4",
         "86",
         "65",
         "2110",
         "17.9",
         "M-1693322"
        ],
        [
         "329",
         "44.6",
         "4",
         "91",
         "67",
         "1850",
         "13.8",
         "H-1693399"
        ],
        [
         "325",
         "44.3",
         "4",
         "90",
         "48",
         "2085",
         "21.7",
         "V-1693355"
        ],
        [
         "394",
         "44.0",
         "4",
         "97",
         "52",
         "2130",
         "24.6",
         "V-1694114"
        ],
        [
         "326",
         "43.4",
         "4",
         "90",
         "48",
         "2335",
         "23.7",
         "V-1693366"
        ],
        [
         "244",
         "43.1",
         "4",
         "90",
         "48",
         "1985",
         "21.5",
         "V-1692464"
        ],
        [
         "309",
         "41.5",
         "4",
         "98",
         "76",
         "2144",
         "14.7",
         "V-1693179"
        ],
        [
         "330",
         "40.9",
         "4",
         "85",
         "?",
         "1835",
         "17.3",
         "R-1693410"
        ],
        [
         "324",
         "40.8",
         "4",
         "85",
         "65",
         "2110",
         "19.2",
         "D-1693344"
        ],
        [
         "247",
         "39.4",
         "4",
         "85",
         "70",
         "2070",
         "18.6",
         "D-1692497"
        ],
        [
         "343",
         "39.1",
         "4",
         "79",
         "58",
         "1755",
         "16.9",
         "T-1693553"
        ],
        [
         "344",
         "39.0",
         "4",
         "86",
         "64",
         "1875",
         "16.4",
         "P-1693564"
        ],
        [
         "310",
         "38.1",
         "4",
         "89",
         "60",
         "1968",
         "18.8",
         "T-1693190"
        ],
        [
         "387",
         "38.0",
         "6",
         "262",
         "85",
         "3015",
         "17.0",
         "O-1694037"
        ],
        [
         "385",
         "38.0",
         "4",
         "91",
         "67",
         "1995",
         "16.2",
         "D-1694015"
        ],
        [
         "383",
         "38.0",
         "4",
         "91",
         "67",
         "1965",
         "15.0",
         "H-1693993"
        ],
        [
         "378",
         "38.0",
         "4",
         "105",
         "63",
         "2125",
         "14.7",
         "P-1693938"
        ],
        [
         "348",
         "37.7",
         "4",
         "89",
         "62",
         "2050",
         "17.3",
         "T-1693608"
        ],
        [
         "304",
         "37.3",
         "4",
         "91",
         "69",
         "2130",
         "14.7",
         "F-1693124"
        ],
        [
         "312",
         "37.2",
         "4",
         "86",
         "65",
         "2019",
         "16.4",
         "D-1693212"
        ],
        [
         "320",
         "37.0",
         "4",
         "119",
         "92",
         "2434",
         "15.0",
         "D-1693300"
        ],
        [
         "347",
         "37.0",
         "4",
         "85",
         "65",
         "1975",
         "19.4",
         "D-1693597"
        ],
        [
         "376",
         "37.0",
         "4",
         "91",
         "68",
         "2025",
         "18.2",
         "M-1693916"
        ],
        [
         "327",
         "36.4",
         "5",
         "121",
         "67",
         "2950",
         "19.9",
         "A-1693377"
        ],
        [
         "245",
         "36.1",
         "4",
         "98",
         "66",
         "1800",
         "14.4",
         "F-1692475"
        ],
        [
         "248",
         "36.1",
         "4",
         "91",
         "60",
         "1800",
         "16.4",
         "H-1692508"
        ],
        [
         "379",
         "36.0",
         "4",
         "98",
         "70",
         "2125",
         "17.3",
         "M-1693949"
        ],
        [
         "391",
         "36.0",
         "4",
         "135",
         "84",
         "2370",
         "13.0",
         "D-1694081"
        ],
        [
         "218",
         "36.0",
         "4",
         "79",
         "58",
         "1825",
         "18.6",
         "R-1692178"
        ],
        [
         "375",
         "36.0",
         "4",
         "105",
         "74",
         "1980",
         "15.3",
         "V-1693905"
        ],
        [
         "381",
         "36.0",
         "4",
         "107",
         "75",
         "2205",
         "14.5",
         "H-1693971"
        ],
        [
         "380",
         "36.0",
         "4",
         "120",
         "88",
         "2160",
         "14.5",
         "N-1693960"
        ],
        [
         "295",
         "35.7",
         "4",
         "98",
         "80",
         "1915",
         "14.4",
         "D-1693025"
        ],
        [
         "345",
         "35.1",
         "4",
         "81",
         "60",
         "1760",
         "16.1",
         "H-1693575"
        ],
        [
         "335",
         "35.0",
         "4",
         "122",
         "88",
         "2500",
         "15.1",
         "T-1693465"
        ],
        [
         "54",
         "35.0",
         "4",
         "72",
         "69",
         "1613",
         "18.0",
         "D-1690374"
        ],
        [
         "350",
         "34.7",
         "4",
         "105",
         "63",
         "2215",
         "14.9",
         "P-1693630"
        ],
        [
         "354",
         "34.5",
         "4",
         "100",
         "?",
         "2320",
         "15.8",
         "R-1693674"
        ],
        [
         "302",
         "34.5",
         "4",
         "105",
         "70",
         "2150",
         "14.9",
         "P-1693102"
        ],
        [
         "351",
         "34.4",
         "4",
         "98",
         "65",
         "2045",
         "16.2",
         "F-1693641"
        ],
        [
         "317",
         "34.3",
         "4",
         "97",
         "78",
         "2188",
         "15.8",
         "A-1693267"
        ],
        [
         "301",
         "34.2",
         "4",
         "105",
         "70",
         "2200",
         "13.2",
         "P-1693091"
        ],
        [
         "294",
         "34.1",
         "4",
         "86",
         "65",
         "1975",
         "15.2",
         "M-1693014"
        ],
        [
         "349",
         "34.1",
         "4",
         "91",
         "68",
         "1985",
         "16.0",
         "M-1693619"
        ],
        [
         "382",
         "34.0",
         "4",
         "108",
         "70",
         "2245",
         "16.9",
         "T-1693982"
        ],
        [
         "369",
         "34.0",
         "4",
         "112",
         "88",
         "2395",
         "18.0",
         "C-1693839"
        ],
        [
         "331",
         "33.8",
         "4",
         "97",
         "67",
         "2145",
         "18.0",
         "S-1693421"
        ],
        [
         "355",
         "33.7",
         "4",
         "107",
         "75",
         "2210",
         "14.4",
         "H-1693685"
        ],
        [
         "308",
         "33.5",
         "4",
         "151",
         "90",
         "2556",
         "13.2",
         "P-1693168"
        ],
        [
         "238",
         "33.5",
         "4",
         "98",
         "83",
         "2075",
         "15.9",
         "D-1692398"
        ]
       ],
       "shape": {
        "columns": 7,
        "rows": 398
       }
      },
      "text/html": [
       "<div>\n",
       "<style scoped>\n",
       "    .dataframe tbody tr th:only-of-type {\n",
       "        vertical-align: middle;\n",
       "    }\n",
       "\n",
       "    .dataframe tbody tr th {\n",
       "        vertical-align: top;\n",
       "    }\n",
       "\n",
       "    .dataframe thead th {\n",
       "        text-align: right;\n",
       "    }\n",
       "</style>\n",
       "<table border=\"1\" class=\"dataframe\">\n",
       "  <thead>\n",
       "    <tr style=\"text-align: right;\">\n",
       "      <th></th>\n",
       "      <th>mpg</th>\n",
       "      <th>cylinders</th>\n",
       "      <th>displacement</th>\n",
       "      <th>horsepower</th>\n",
       "      <th>weight</th>\n",
       "      <th>acceleration</th>\n",
       "      <th>vehicle_id</th>\n",
       "    </tr>\n",
       "  </thead>\n",
       "  <tbody>\n",
       "    <tr>\n",
       "      <th>322</th>\n",
       "      <td>46.6</td>\n",
       "      <td>4</td>\n",
       "      <td>86</td>\n",
       "      <td>65</td>\n",
       "      <td>2110</td>\n",
       "      <td>17.9</td>\n",
       "      <td>M-1693322</td>\n",
       "    </tr>\n",
       "    <tr>\n",
       "      <th>329</th>\n",
       "      <td>44.6</td>\n",
       "      <td>4</td>\n",
       "      <td>91</td>\n",
       "      <td>67</td>\n",
       "      <td>1850</td>\n",
       "      <td>13.8</td>\n",
       "      <td>H-1693399</td>\n",
       "    </tr>\n",
       "    <tr>\n",
       "      <th>325</th>\n",
       "      <td>44.3</td>\n",
       "      <td>4</td>\n",
       "      <td>90</td>\n",
       "      <td>48</td>\n",
       "      <td>2085</td>\n",
       "      <td>21.7</td>\n",
       "      <td>V-1693355</td>\n",
       "    </tr>\n",
       "    <tr>\n",
       "      <th>394</th>\n",
       "      <td>44.0</td>\n",
       "      <td>4</td>\n",
       "      <td>97</td>\n",
       "      <td>52</td>\n",
       "      <td>2130</td>\n",
       "      <td>24.6</td>\n",
       "      <td>V-1694114</td>\n",
       "    </tr>\n",
       "    <tr>\n",
       "      <th>326</th>\n",
       "      <td>43.4</td>\n",
       "      <td>4</td>\n",
       "      <td>90</td>\n",
       "      <td>48</td>\n",
       "      <td>2335</td>\n",
       "      <td>23.7</td>\n",
       "      <td>V-1693366</td>\n",
       "    </tr>\n",
       "    <tr>\n",
       "      <th>...</th>\n",
       "      <td>...</td>\n",
       "      <td>...</td>\n",
       "      <td>...</td>\n",
       "      <td>...</td>\n",
       "      <td>...</td>\n",
       "      <td>...</td>\n",
       "      <td>...</td>\n",
       "    </tr>\n",
       "    <tr>\n",
       "      <th>103</th>\n",
       "      <td>11.0</td>\n",
       "      <td>8</td>\n",
       "      <td>400</td>\n",
       "      <td>150</td>\n",
       "      <td>4997</td>\n",
       "      <td>14.0</td>\n",
       "      <td>C-1690913</td>\n",
       "    </tr>\n",
       "    <tr>\n",
       "      <th>67</th>\n",
       "      <td>11.0</td>\n",
       "      <td>8</td>\n",
       "      <td>429</td>\n",
       "      <td>208</td>\n",
       "      <td>4633</td>\n",
       "      <td>11.0</td>\n",
       "      <td>M-1690517</td>\n",
       "    </tr>\n",
       "    <tr>\n",
       "      <th>25</th>\n",
       "      <td>10.0</td>\n",
       "      <td>8</td>\n",
       "      <td>360</td>\n",
       "      <td>215</td>\n",
       "      <td>4615</td>\n",
       "      <td>14.0</td>\n",
       "      <td>F-1690055</td>\n",
       "    </tr>\n",
       "    <tr>\n",
       "      <th>26</th>\n",
       "      <td>10.0</td>\n",
       "      <td>8</td>\n",
       "      <td>307</td>\n",
       "      <td>200</td>\n",
       "      <td>4376</td>\n",
       "      <td>15.0</td>\n",
       "      <td>C-1690066</td>\n",
       "    </tr>\n",
       "    <tr>\n",
       "      <th>28</th>\n",
       "      <td>9.0</td>\n",
       "      <td>8</td>\n",
       "      <td>304</td>\n",
       "      <td>193</td>\n",
       "      <td>4732</td>\n",
       "      <td>18.5</td>\n",
       "      <td>H-1690088</td>\n",
       "    </tr>\n",
       "  </tbody>\n",
       "</table>\n",
       "<p>398 rows × 7 columns</p>\n",
       "</div>"
      ],
      "text/plain": [
       "      mpg  cylinders  displacement horsepower  weight  acceleration vehicle_id\n",
       "322  46.6          4            86         65    2110          17.9  M-1693322\n",
       "329  44.6          4            91         67    1850          13.8  H-1693399\n",
       "325  44.3          4            90         48    2085          21.7  V-1693355\n",
       "394  44.0          4            97         52    2130          24.6  V-1694114\n",
       "326  43.4          4            90         48    2335          23.7  V-1693366\n",
       "..    ...        ...           ...        ...     ...           ...        ...\n",
       "103  11.0          8           400        150    4997          14.0  C-1690913\n",
       "67   11.0          8           429        208    4633          11.0  M-1690517\n",
       "25   10.0          8           360        215    4615          14.0  F-1690055\n",
       "26   10.0          8           307        200    4376          15.0  C-1690066\n",
       "28    9.0          8           304        193    4732          18.5  H-1690088\n",
       "\n",
       "[398 rows x 7 columns]"
      ]
     },
     "metadata": {},
     "output_type": "display_data"
    }
   ],
   "source": [
    "carsorted = carfeatures.sort_values(by = \"mpg\", ascending = False)\n",
    "display(carsorted)"
   ]
  },
  {
   "attachments": {},
   "cell_type": "markdown",
   "metadata": {},
   "source": [
    "<font size = \"5\">\n",
    "\n",
    "Subset row(s)\n",
    "\n",
    "``` data.iloc[ row_int , : ]``` $\\quad$ or\n",
    "\n",
    "``` data.iloc[ list_rows, : ]```\n"
   ]
  },
  {
   "cell_type": "code",
   "execution_count": 14,
   "metadata": {},
   "outputs": [
    {
     "data": {
      "application/vnd.microsoft.datawrangler.viewer.v0+json": {
       "columns": [
        {
         "name": "index",
         "rawType": "int64",
         "type": "integer"
        },
        {
         "name": "mpg",
         "rawType": "float64",
         "type": "float"
        },
        {
         "name": "cylinders",
         "rawType": "int64",
         "type": "integer"
        },
        {
         "name": "displacement",
         "rawType": "int64",
         "type": "integer"
        },
        {
         "name": "horsepower",
         "rawType": "object",
         "type": "unknown"
        },
        {
         "name": "weight",
         "rawType": "int64",
         "type": "integer"
        },
        {
         "name": "acceleration",
         "rawType": "float64",
         "type": "float"
        },
        {
         "name": "vehicle_id",
         "rawType": "object",
         "type": "string"
        }
       ],
       "conversionMethod": "pd.DataFrame",
       "ref": "7a1fa5ab-cf59-49d4-a438-7a0289d83213",
       "rows": [
        [
         "322",
         "46.6",
         "4",
         "86",
         "65",
         "2110",
         "17.9",
         "M-1693322"
        ],
        [
         "329",
         "44.6",
         "4",
         "91",
         "67",
         "1850",
         "13.8",
         "H-1693399"
        ],
        [
         "325",
         "44.3",
         "4",
         "90",
         "48",
         "2085",
         "21.7",
         "V-1693355"
        ],
        [
         "394",
         "44.0",
         "4",
         "97",
         "52",
         "2130",
         "24.6",
         "V-1694114"
        ],
        [
         "326",
         "43.4",
         "4",
         "90",
         "48",
         "2335",
         "23.7",
         "V-1693366"
        ],
        [
         "244",
         "43.1",
         "4",
         "90",
         "48",
         "1985",
         "21.5",
         "V-1692464"
        ],
        [
         "309",
         "41.5",
         "4",
         "98",
         "76",
         "2144",
         "14.7",
         "V-1693179"
        ],
        [
         "330",
         "40.9",
         "4",
         "85",
         "?",
         "1835",
         "17.3",
         "R-1693410"
        ],
        [
         "324",
         "40.8",
         "4",
         "85",
         "65",
         "2110",
         "19.2",
         "D-1693344"
        ],
        [
         "247",
         "39.4",
         "4",
         "85",
         "70",
         "2070",
         "18.6",
         "D-1692497"
        ],
        [
         "343",
         "39.1",
         "4",
         "79",
         "58",
         "1755",
         "16.9",
         "T-1693553"
        ],
        [
         "344",
         "39.0",
         "4",
         "86",
         "64",
         "1875",
         "16.4",
         "P-1693564"
        ],
        [
         "310",
         "38.1",
         "4",
         "89",
         "60",
         "1968",
         "18.8",
         "T-1693190"
        ],
        [
         "387",
         "38.0",
         "6",
         "262",
         "85",
         "3015",
         "17.0",
         "O-1694037"
        ],
        [
         "385",
         "38.0",
         "4",
         "91",
         "67",
         "1995",
         "16.2",
         "D-1694015"
        ],
        [
         "383",
         "38.0",
         "4",
         "91",
         "67",
         "1965",
         "15.0",
         "H-1693993"
        ],
        [
         "378",
         "38.0",
         "4",
         "105",
         "63",
         "2125",
         "14.7",
         "P-1693938"
        ],
        [
         "348",
         "37.7",
         "4",
         "89",
         "62",
         "2050",
         "17.3",
         "T-1693608"
        ],
        [
         "304",
         "37.3",
         "4",
         "91",
         "69",
         "2130",
         "14.7",
         "F-1693124"
        ],
        [
         "312",
         "37.2",
         "4",
         "86",
         "65",
         "2019",
         "16.4",
         "D-1693212"
        ],
        [
         "320",
         "37.0",
         "4",
         "119",
         "92",
         "2434",
         "15.0",
         "D-1693300"
        ],
        [
         "347",
         "37.0",
         "4",
         "85",
         "65",
         "1975",
         "19.4",
         "D-1693597"
        ],
        [
         "376",
         "37.0",
         "4",
         "91",
         "68",
         "2025",
         "18.2",
         "M-1693916"
        ],
        [
         "327",
         "36.4",
         "5",
         "121",
         "67",
         "2950",
         "19.9",
         "A-1693377"
        ],
        [
         "245",
         "36.1",
         "4",
         "98",
         "66",
         "1800",
         "14.4",
         "F-1692475"
        ],
        [
         "248",
         "36.1",
         "4",
         "91",
         "60",
         "1800",
         "16.4",
         "H-1692508"
        ],
        [
         "379",
         "36.0",
         "4",
         "98",
         "70",
         "2125",
         "17.3",
         "M-1693949"
        ],
        [
         "391",
         "36.0",
         "4",
         "135",
         "84",
         "2370",
         "13.0",
         "D-1694081"
        ],
        [
         "218",
         "36.0",
         "4",
         "79",
         "58",
         "1825",
         "18.6",
         "R-1692178"
        ],
        [
         "375",
         "36.0",
         "4",
         "105",
         "74",
         "1980",
         "15.3",
         "V-1693905"
        ],
        [
         "381",
         "36.0",
         "4",
         "107",
         "75",
         "2205",
         "14.5",
         "H-1693971"
        ],
        [
         "380",
         "36.0",
         "4",
         "120",
         "88",
         "2160",
         "14.5",
         "N-1693960"
        ],
        [
         "295",
         "35.7",
         "4",
         "98",
         "80",
         "1915",
         "14.4",
         "D-1693025"
        ],
        [
         "345",
         "35.1",
         "4",
         "81",
         "60",
         "1760",
         "16.1",
         "H-1693575"
        ],
        [
         "335",
         "35.0",
         "4",
         "122",
         "88",
         "2500",
         "15.1",
         "T-1693465"
        ],
        [
         "54",
         "35.0",
         "4",
         "72",
         "69",
         "1613",
         "18.0",
         "D-1690374"
        ],
        [
         "350",
         "34.7",
         "4",
         "105",
         "63",
         "2215",
         "14.9",
         "P-1693630"
        ],
        [
         "354",
         "34.5",
         "4",
         "100",
         "?",
         "2320",
         "15.8",
         "R-1693674"
        ],
        [
         "302",
         "34.5",
         "4",
         "105",
         "70",
         "2150",
         "14.9",
         "P-1693102"
        ],
        [
         "351",
         "34.4",
         "4",
         "98",
         "65",
         "2045",
         "16.2",
         "F-1693641"
        ],
        [
         "317",
         "34.3",
         "4",
         "97",
         "78",
         "2188",
         "15.8",
         "A-1693267"
        ],
        [
         "301",
         "34.2",
         "4",
         "105",
         "70",
         "2200",
         "13.2",
         "P-1693091"
        ],
        [
         "294",
         "34.1",
         "4",
         "86",
         "65",
         "1975",
         "15.2",
         "M-1693014"
        ],
        [
         "349",
         "34.1",
         "4",
         "91",
         "68",
         "1985",
         "16.0",
         "M-1693619"
        ],
        [
         "382",
         "34.0",
         "4",
         "108",
         "70",
         "2245",
         "16.9",
         "T-1693982"
        ],
        [
         "369",
         "34.0",
         "4",
         "112",
         "88",
         "2395",
         "18.0",
         "C-1693839"
        ],
        [
         "331",
         "33.8",
         "4",
         "97",
         "67",
         "2145",
         "18.0",
         "S-1693421"
        ],
        [
         "355",
         "33.7",
         "4",
         "107",
         "75",
         "2210",
         "14.4",
         "H-1693685"
        ],
        [
         "308",
         "33.5",
         "4",
         "151",
         "90",
         "2556",
         "13.2",
         "P-1693168"
        ],
        [
         "238",
         "33.5",
         "4",
         "98",
         "83",
         "2075",
         "15.9",
         "D-1692398"
        ]
       ],
       "shape": {
        "columns": 7,
        "rows": 398
       }
      },
      "text/html": [
       "<div>\n",
       "<style scoped>\n",
       "    .dataframe tbody tr th:only-of-type {\n",
       "        vertical-align: middle;\n",
       "    }\n",
       "\n",
       "    .dataframe tbody tr th {\n",
       "        vertical-align: top;\n",
       "    }\n",
       "\n",
       "    .dataframe thead th {\n",
       "        text-align: right;\n",
       "    }\n",
       "</style>\n",
       "<table border=\"1\" class=\"dataframe\">\n",
       "  <thead>\n",
       "    <tr style=\"text-align: right;\">\n",
       "      <th></th>\n",
       "      <th>mpg</th>\n",
       "      <th>cylinders</th>\n",
       "      <th>displacement</th>\n",
       "      <th>horsepower</th>\n",
       "      <th>weight</th>\n",
       "      <th>acceleration</th>\n",
       "      <th>vehicle_id</th>\n",
       "    </tr>\n",
       "  </thead>\n",
       "  <tbody>\n",
       "    <tr>\n",
       "      <th>322</th>\n",
       "      <td>46.6</td>\n",
       "      <td>4</td>\n",
       "      <td>86</td>\n",
       "      <td>65</td>\n",
       "      <td>2110</td>\n",
       "      <td>17.9</td>\n",
       "      <td>M-1693322</td>\n",
       "    </tr>\n",
       "    <tr>\n",
       "      <th>329</th>\n",
       "      <td>44.6</td>\n",
       "      <td>4</td>\n",
       "      <td>91</td>\n",
       "      <td>67</td>\n",
       "      <td>1850</td>\n",
       "      <td>13.8</td>\n",
       "      <td>H-1693399</td>\n",
       "    </tr>\n",
       "    <tr>\n",
       "      <th>325</th>\n",
       "      <td>44.3</td>\n",
       "      <td>4</td>\n",
       "      <td>90</td>\n",
       "      <td>48</td>\n",
       "      <td>2085</td>\n",
       "      <td>21.7</td>\n",
       "      <td>V-1693355</td>\n",
       "    </tr>\n",
       "    <tr>\n",
       "      <th>394</th>\n",
       "      <td>44.0</td>\n",
       "      <td>4</td>\n",
       "      <td>97</td>\n",
       "      <td>52</td>\n",
       "      <td>2130</td>\n",
       "      <td>24.6</td>\n",
       "      <td>V-1694114</td>\n",
       "    </tr>\n",
       "    <tr>\n",
       "      <th>326</th>\n",
       "      <td>43.4</td>\n",
       "      <td>4</td>\n",
       "      <td>90</td>\n",
       "      <td>48</td>\n",
       "      <td>2335</td>\n",
       "      <td>23.7</td>\n",
       "      <td>V-1693366</td>\n",
       "    </tr>\n",
       "    <tr>\n",
       "      <th>...</th>\n",
       "      <td>...</td>\n",
       "      <td>...</td>\n",
       "      <td>...</td>\n",
       "      <td>...</td>\n",
       "      <td>...</td>\n",
       "      <td>...</td>\n",
       "      <td>...</td>\n",
       "    </tr>\n",
       "    <tr>\n",
       "      <th>103</th>\n",
       "      <td>11.0</td>\n",
       "      <td>8</td>\n",
       "      <td>400</td>\n",
       "      <td>150</td>\n",
       "      <td>4997</td>\n",
       "      <td>14.0</td>\n",
       "      <td>C-1690913</td>\n",
       "    </tr>\n",
       "    <tr>\n",
       "      <th>67</th>\n",
       "      <td>11.0</td>\n",
       "      <td>8</td>\n",
       "      <td>429</td>\n",
       "      <td>208</td>\n",
       "      <td>4633</td>\n",
       "      <td>11.0</td>\n",
       "      <td>M-1690517</td>\n",
       "    </tr>\n",
       "    <tr>\n",
       "      <th>25</th>\n",
       "      <td>10.0</td>\n",
       "      <td>8</td>\n",
       "      <td>360</td>\n",
       "      <td>215</td>\n",
       "      <td>4615</td>\n",
       "      <td>14.0</td>\n",
       "      <td>F-1690055</td>\n",
       "    </tr>\n",
       "    <tr>\n",
       "      <th>26</th>\n",
       "      <td>10.0</td>\n",
       "      <td>8</td>\n",
       "      <td>307</td>\n",
       "      <td>200</td>\n",
       "      <td>4376</td>\n",
       "      <td>15.0</td>\n",
       "      <td>C-1690066</td>\n",
       "    </tr>\n",
       "    <tr>\n",
       "      <th>28</th>\n",
       "      <td>9.0</td>\n",
       "      <td>8</td>\n",
       "      <td>304</td>\n",
       "      <td>193</td>\n",
       "      <td>4732</td>\n",
       "      <td>18.5</td>\n",
       "      <td>H-1690088</td>\n",
       "    </tr>\n",
       "  </tbody>\n",
       "</table>\n",
       "<p>398 rows × 7 columns</p>\n",
       "</div>"
      ],
      "text/plain": [
       "      mpg  cylinders  displacement horsepower  weight  acceleration vehicle_id\n",
       "322  46.6          4            86         65    2110          17.9  M-1693322\n",
       "329  44.6          4            91         67    1850          13.8  H-1693399\n",
       "325  44.3          4            90         48    2085          21.7  V-1693355\n",
       "394  44.0          4            97         52    2130          24.6  V-1694114\n",
       "326  43.4          4            90         48    2335          23.7  V-1693366\n",
       "..    ...        ...           ...        ...     ...           ...        ...\n",
       "103  11.0          8           400        150    4997          14.0  C-1690913\n",
       "67   11.0          8           429        208    4633          11.0  M-1690517\n",
       "25   10.0          8           360        215    4615          14.0  F-1690055\n",
       "26   10.0          8           307        200    4376          15.0  C-1690066\n",
       "28    9.0          8           304        193    4732          18.5  H-1690088\n",
       "\n",
       "[398 rows x 7 columns]"
      ]
     },
     "execution_count": 14,
     "metadata": {},
     "output_type": "execute_result"
    }
   ],
   "source": [
    "carsorted"
   ]
  },
  {
   "cell_type": "code",
   "execution_count": 15,
   "metadata": {},
   "outputs": [
    {
     "data": {
      "application/vnd.microsoft.datawrangler.viewer.v0+json": {
       "columns": [
        {
         "name": "index",
         "rawType": "int64",
         "type": "integer"
        },
        {
         "name": "mpg",
         "rawType": "float64",
         "type": "float"
        },
        {
         "name": "cylinders",
         "rawType": "int64",
         "type": "integer"
        },
        {
         "name": "displacement",
         "rawType": "int64",
         "type": "integer"
        },
        {
         "name": "horsepower",
         "rawType": "object",
         "type": "string"
        },
        {
         "name": "weight",
         "rawType": "int64",
         "type": "integer"
        },
        {
         "name": "acceleration",
         "rawType": "float64",
         "type": "float"
        },
        {
         "name": "vehicle_id",
         "rawType": "object",
         "type": "string"
        }
       ],
       "conversionMethod": "pd.DataFrame",
       "ref": "9a804e45-2ec0-4b24-a791-ba22886af792",
       "rows": [
        [
         "322",
         "46.6",
         "4",
         "86",
         "65",
         "2110",
         "17.9",
         "M-1693322"
        ],
        [
         "329",
         "44.6",
         "4",
         "91",
         "67",
         "1850",
         "13.8",
         "H-1693399"
        ],
        [
         "325",
         "44.3",
         "4",
         "90",
         "48",
         "2085",
         "21.7",
         "V-1693355"
        ]
       ],
       "shape": {
        "columns": 7,
        "rows": 3
       }
      },
      "text/html": [
       "<div>\n",
       "<style scoped>\n",
       "    .dataframe tbody tr th:only-of-type {\n",
       "        vertical-align: middle;\n",
       "    }\n",
       "\n",
       "    .dataframe tbody tr th {\n",
       "        vertical-align: top;\n",
       "    }\n",
       "\n",
       "    .dataframe thead th {\n",
       "        text-align: right;\n",
       "    }\n",
       "</style>\n",
       "<table border=\"1\" class=\"dataframe\">\n",
       "  <thead>\n",
       "    <tr style=\"text-align: right;\">\n",
       "      <th></th>\n",
       "      <th>mpg</th>\n",
       "      <th>cylinders</th>\n",
       "      <th>displacement</th>\n",
       "      <th>horsepower</th>\n",
       "      <th>weight</th>\n",
       "      <th>acceleration</th>\n",
       "      <th>vehicle_id</th>\n",
       "    </tr>\n",
       "  </thead>\n",
       "  <tbody>\n",
       "    <tr>\n",
       "      <th>322</th>\n",
       "      <td>46.6</td>\n",
       "      <td>4</td>\n",
       "      <td>86</td>\n",
       "      <td>65</td>\n",
       "      <td>2110</td>\n",
       "      <td>17.9</td>\n",
       "      <td>M-1693322</td>\n",
       "    </tr>\n",
       "    <tr>\n",
       "      <th>329</th>\n",
       "      <td>44.6</td>\n",
       "      <td>4</td>\n",
       "      <td>91</td>\n",
       "      <td>67</td>\n",
       "      <td>1850</td>\n",
       "      <td>13.8</td>\n",
       "      <td>H-1693399</td>\n",
       "    </tr>\n",
       "    <tr>\n",
       "      <th>325</th>\n",
       "      <td>44.3</td>\n",
       "      <td>4</td>\n",
       "      <td>90</td>\n",
       "      <td>48</td>\n",
       "      <td>2085</td>\n",
       "      <td>21.7</td>\n",
       "      <td>V-1693355</td>\n",
       "    </tr>\n",
       "  </tbody>\n",
       "</table>\n",
       "</div>"
      ],
      "text/plain": [
       "      mpg  cylinders  displacement horsepower  weight  acceleration vehicle_id\n",
       "322  46.6          4            86         65    2110          17.9  M-1693322\n",
       "329  44.6          4            91         67    1850          13.8  H-1693399\n",
       "325  44.3          4            90         48    2085          21.7  V-1693355"
      ]
     },
     "execution_count": 15,
     "metadata": {},
     "output_type": "execute_result"
    }
   ],
   "source": [
    "carsorted.iloc[[0,1,2],:]"
   ]
  },
  {
   "cell_type": "code",
   "execution_count": 16,
   "metadata": {},
   "outputs": [
    {
     "data": {
      "application/vnd.microsoft.datawrangler.viewer.v0+json": {
       "columns": [
        {
         "name": "index",
         "rawType": "int64",
         "type": "integer"
        },
        {
         "name": "mpg",
         "rawType": "float64",
         "type": "float"
        },
        {
         "name": "cylinders",
         "rawType": "int64",
         "type": "integer"
        },
        {
         "name": "displacement",
         "rawType": "int64",
         "type": "integer"
        }
       ],
       "conversionMethod": "pd.DataFrame",
       "ref": "8481c271-419d-4fa5-9374-1d134cd95fe8",
       "rows": [
        [
         "0",
         "18.0",
         "8",
         "307"
        ],
        [
         "1",
         "15.0",
         "8",
         "350"
        ],
        [
         "2",
         "18.0",
         "8",
         "318"
        ],
        [
         "3",
         "16.0",
         "8",
         "304"
        ],
        [
         "4",
         "17.0",
         "8",
         "302"
        ],
        [
         "5",
         "15.0",
         "8",
         "429"
        ],
        [
         "6",
         "14.0",
         "8",
         "454"
        ],
        [
         "7",
         "14.0",
         "8",
         "440"
        ],
        [
         "8",
         "14.0",
         "8",
         "455"
        ],
        [
         "9",
         "15.0",
         "8",
         "390"
        ],
        [
         "10",
         "15.0",
         "8",
         "383"
        ],
        [
         "11",
         "14.0",
         "8",
         "340"
        ],
        [
         "12",
         "15.0",
         "8",
         "400"
        ],
        [
         "13",
         "14.0",
         "8",
         "455"
        ],
        [
         "14",
         "24.0",
         "4",
         "113"
        ],
        [
         "15",
         "22.0",
         "6",
         "198"
        ],
        [
         "16",
         "18.0",
         "6",
         "199"
        ],
        [
         "17",
         "21.0",
         "6",
         "200"
        ],
        [
         "18",
         "27.0",
         "4",
         "97"
        ],
        [
         "19",
         "26.0",
         "4",
         "97"
        ],
        [
         "20",
         "25.0",
         "4",
         "110"
        ],
        [
         "21",
         "24.0",
         "4",
         "107"
        ],
        [
         "22",
         "25.0",
         "4",
         "104"
        ],
        [
         "23",
         "26.0",
         "4",
         "121"
        ],
        [
         "24",
         "21.0",
         "6",
         "199"
        ],
        [
         "25",
         "10.0",
         "8",
         "360"
        ],
        [
         "26",
         "10.0",
         "8",
         "307"
        ],
        [
         "27",
         "11.0",
         "8",
         "318"
        ],
        [
         "28",
         "9.0",
         "8",
         "304"
        ],
        [
         "29",
         "27.0",
         "4",
         "97"
        ],
        [
         "30",
         "28.0",
         "4",
         "140"
        ],
        [
         "31",
         "25.0",
         "4",
         "113"
        ],
        [
         "32",
         "25.0",
         "4",
         "98"
        ],
        [
         "33",
         "19.0",
         "6",
         "232"
        ],
        [
         "34",
         "16.0",
         "6",
         "225"
        ],
        [
         "35",
         "17.0",
         "6",
         "250"
        ],
        [
         "36",
         "19.0",
         "6",
         "250"
        ],
        [
         "37",
         "18.0",
         "6",
         "232"
        ],
        [
         "38",
         "14.0",
         "8",
         "350"
        ],
        [
         "39",
         "14.0",
         "8",
         "400"
        ],
        [
         "40",
         "14.0",
         "8",
         "351"
        ],
        [
         "41",
         "14.0",
         "8",
         "318"
        ],
        [
         "42",
         "12.0",
         "8",
         "383"
        ],
        [
         "43",
         "13.0",
         "8",
         "400"
        ],
        [
         "44",
         "13.0",
         "8",
         "400"
        ],
        [
         "45",
         "18.0",
         "6",
         "258"
        ],
        [
         "46",
         "22.0",
         "4",
         "140"
        ],
        [
         "47",
         "19.0",
         "6",
         "250"
        ],
        [
         "48",
         "18.0",
         "6",
         "250"
        ],
        [
         "49",
         "23.0",
         "4",
         "122"
        ]
       ],
       "shape": {
        "columns": 3,
        "rows": 398
       }
      },
      "text/html": [
       "<div>\n",
       "<style scoped>\n",
       "    .dataframe tbody tr th:only-of-type {\n",
       "        vertical-align: middle;\n",
       "    }\n",
       "\n",
       "    .dataframe tbody tr th {\n",
       "        vertical-align: top;\n",
       "    }\n",
       "\n",
       "    .dataframe thead th {\n",
       "        text-align: right;\n",
       "    }\n",
       "</style>\n",
       "<table border=\"1\" class=\"dataframe\">\n",
       "  <thead>\n",
       "    <tr style=\"text-align: right;\">\n",
       "      <th></th>\n",
       "      <th>mpg</th>\n",
       "      <th>cylinders</th>\n",
       "      <th>displacement</th>\n",
       "    </tr>\n",
       "  </thead>\n",
       "  <tbody>\n",
       "    <tr>\n",
       "      <th>0</th>\n",
       "      <td>18.0</td>\n",
       "      <td>8</td>\n",
       "      <td>307</td>\n",
       "    </tr>\n",
       "    <tr>\n",
       "      <th>1</th>\n",
       "      <td>15.0</td>\n",
       "      <td>8</td>\n",
       "      <td>350</td>\n",
       "    </tr>\n",
       "    <tr>\n",
       "      <th>2</th>\n",
       "      <td>18.0</td>\n",
       "      <td>8</td>\n",
       "      <td>318</td>\n",
       "    </tr>\n",
       "    <tr>\n",
       "      <th>3</th>\n",
       "      <td>16.0</td>\n",
       "      <td>8</td>\n",
       "      <td>304</td>\n",
       "    </tr>\n",
       "    <tr>\n",
       "      <th>4</th>\n",
       "      <td>17.0</td>\n",
       "      <td>8</td>\n",
       "      <td>302</td>\n",
       "    </tr>\n",
       "    <tr>\n",
       "      <th>...</th>\n",
       "      <td>...</td>\n",
       "      <td>...</td>\n",
       "      <td>...</td>\n",
       "    </tr>\n",
       "    <tr>\n",
       "      <th>393</th>\n",
       "      <td>27.0</td>\n",
       "      <td>4</td>\n",
       "      <td>140</td>\n",
       "    </tr>\n",
       "    <tr>\n",
       "      <th>394</th>\n",
       "      <td>44.0</td>\n",
       "      <td>4</td>\n",
       "      <td>97</td>\n",
       "    </tr>\n",
       "    <tr>\n",
       "      <th>395</th>\n",
       "      <td>32.0</td>\n",
       "      <td>4</td>\n",
       "      <td>135</td>\n",
       "    </tr>\n",
       "    <tr>\n",
       "      <th>396</th>\n",
       "      <td>28.0</td>\n",
       "      <td>4</td>\n",
       "      <td>120</td>\n",
       "    </tr>\n",
       "    <tr>\n",
       "      <th>397</th>\n",
       "      <td>31.0</td>\n",
       "      <td>4</td>\n",
       "      <td>119</td>\n",
       "    </tr>\n",
       "  </tbody>\n",
       "</table>\n",
       "<p>398 rows × 3 columns</p>\n",
       "</div>"
      ],
      "text/plain": [
       "      mpg  cylinders  displacement\n",
       "0    18.0          8           307\n",
       "1    15.0          8           350\n",
       "2    18.0          8           318\n",
       "3    16.0          8           304\n",
       "4    17.0          8           302\n",
       "..    ...        ...           ...\n",
       "393  27.0          4           140\n",
       "394  44.0          4            97\n",
       "395  32.0          4           135\n",
       "396  28.0          4           120\n",
       "397  31.0          4           119\n",
       "\n",
       "[398 rows x 3 columns]"
      ]
     },
     "execution_count": 16,
     "metadata": {},
     "output_type": "execute_result"
    }
   ],
   "source": [
    "carfeatures.iloc[:,[0,1,2]]"
   ]
  },
  {
   "cell_type": "code",
   "execution_count": 17,
   "metadata": {},
   "outputs": [
    {
     "data": {
      "text/plain": [
       "mpg                  46.6\n",
       "cylinders               4\n",
       "displacement           86\n",
       "horsepower             65\n",
       "weight               2110\n",
       "acceleration         17.9\n",
       "vehicle_id      M-1693322\n",
       "Name: 322, dtype: object"
      ]
     },
     "metadata": {},
     "output_type": "display_data"
    },
    {
     "data": {
      "application/vnd.microsoft.datawrangler.viewer.v0+json": {
       "columns": [
        {
         "name": "index",
         "rawType": "int64",
         "type": "integer"
        },
        {
         "name": "mpg",
         "rawType": "float64",
         "type": "float"
        },
        {
         "name": "cylinders",
         "rawType": "int64",
         "type": "integer"
        },
        {
         "name": "displacement",
         "rawType": "int64",
         "type": "integer"
        },
        {
         "name": "horsepower",
         "rawType": "object",
         "type": "string"
        },
        {
         "name": "weight",
         "rawType": "int64",
         "type": "integer"
        },
        {
         "name": "acceleration",
         "rawType": "float64",
         "type": "float"
        },
        {
         "name": "vehicle_id",
         "rawType": "object",
         "type": "string"
        }
       ],
       "conversionMethod": "pd.DataFrame",
       "ref": "9250ea42-bd67-4c8e-8a99-08fab85ca90e",
       "rows": [
        [
         "322",
         "46.6",
         "4",
         "86",
         "65",
         "2110",
         "17.9",
         "M-1693322"
        ],
        [
         "329",
         "44.6",
         "4",
         "91",
         "67",
         "1850",
         "13.8",
         "H-1693399"
        ],
        [
         "325",
         "44.3",
         "4",
         "90",
         "48",
         "2085",
         "21.7",
         "V-1693355"
        ]
       ],
       "shape": {
        "columns": 7,
        "rows": 3
       }
      },
      "text/html": [
       "<div>\n",
       "<style scoped>\n",
       "    .dataframe tbody tr th:only-of-type {\n",
       "        vertical-align: middle;\n",
       "    }\n",
       "\n",
       "    .dataframe tbody tr th {\n",
       "        vertical-align: top;\n",
       "    }\n",
       "\n",
       "    .dataframe thead th {\n",
       "        text-align: right;\n",
       "    }\n",
       "</style>\n",
       "<table border=\"1\" class=\"dataframe\">\n",
       "  <thead>\n",
       "    <tr style=\"text-align: right;\">\n",
       "      <th></th>\n",
       "      <th>mpg</th>\n",
       "      <th>cylinders</th>\n",
       "      <th>displacement</th>\n",
       "      <th>horsepower</th>\n",
       "      <th>weight</th>\n",
       "      <th>acceleration</th>\n",
       "      <th>vehicle_id</th>\n",
       "    </tr>\n",
       "  </thead>\n",
       "  <tbody>\n",
       "    <tr>\n",
       "      <th>322</th>\n",
       "      <td>46.6</td>\n",
       "      <td>4</td>\n",
       "      <td>86</td>\n",
       "      <td>65</td>\n",
       "      <td>2110</td>\n",
       "      <td>17.9</td>\n",
       "      <td>M-1693322</td>\n",
       "    </tr>\n",
       "    <tr>\n",
       "      <th>329</th>\n",
       "      <td>44.6</td>\n",
       "      <td>4</td>\n",
       "      <td>91</td>\n",
       "      <td>67</td>\n",
       "      <td>1850</td>\n",
       "      <td>13.8</td>\n",
       "      <td>H-1693399</td>\n",
       "    </tr>\n",
       "    <tr>\n",
       "      <th>325</th>\n",
       "      <td>44.3</td>\n",
       "      <td>4</td>\n",
       "      <td>90</td>\n",
       "      <td>48</td>\n",
       "      <td>2085</td>\n",
       "      <td>21.7</td>\n",
       "      <td>V-1693355</td>\n",
       "    </tr>\n",
       "  </tbody>\n",
       "</table>\n",
       "</div>"
      ],
      "text/plain": [
       "      mpg  cylinders  displacement horsepower  weight  acceleration vehicle_id\n",
       "322  46.6          4            86         65    2110          17.9  M-1693322\n",
       "329  44.6          4            91         67    1850          13.8  H-1693399\n",
       "325  44.3          4            90         48    2085          21.7  V-1693355"
      ]
     },
     "metadata": {},
     "output_type": "display_data"
    }
   ],
   "source": [
    "# The following command extracts all columns for row zero\n",
    "# Remember that numbering starts at zero in Python\n",
    "# In this case we will show the car with the highest \"mpg\" value\n",
    "\n",
    "display(carsorted.iloc[0,:])\n",
    "display(carsorted.iloc[[0,1,2],:])\n"
   ]
  },
  {
   "cell_type": "code",
   "execution_count": 18,
   "metadata": {},
   "outputs": [
    {
     "data": {
      "application/vnd.microsoft.datawrangler.viewer.v0+json": {
       "columns": [
        {
         "name": "index",
         "rawType": "int64",
         "type": "integer"
        },
        {
         "name": "mpg",
         "rawType": "float64",
         "type": "float"
        },
        {
         "name": "cylinders",
         "rawType": "int64",
         "type": "integer"
        },
        {
         "name": "displacement",
         "rawType": "int64",
         "type": "integer"
        },
        {
         "name": "horsepower",
         "rawType": "object",
         "type": "string"
        },
        {
         "name": "weight",
         "rawType": "int64",
         "type": "integer"
        },
        {
         "name": "acceleration",
         "rawType": "float64",
         "type": "float"
        },
        {
         "name": "vehicle_id",
         "rawType": "object",
         "type": "string"
        }
       ],
       "conversionMethod": "pd.DataFrame",
       "ref": "febde9a5-1a25-4220-9f61-1c738364edb5",
       "rows": [
        [
         "322",
         "46.6",
         "4",
         "86",
         "65",
         "2110",
         "17.9",
         "M-1693322"
        ],
        [
         "329",
         "44.6",
         "4",
         "91",
         "67",
         "1850",
         "13.8",
         "H-1693399"
        ],
        [
         "325",
         "44.3",
         "4",
         "90",
         "48",
         "2085",
         "21.7",
         "V-1693355"
        ]
       ],
       "shape": {
        "columns": 7,
        "rows": 3
       }
      },
      "text/html": [
       "<div>\n",
       "<style scoped>\n",
       "    .dataframe tbody tr th:only-of-type {\n",
       "        vertical-align: middle;\n",
       "    }\n",
       "\n",
       "    .dataframe tbody tr th {\n",
       "        vertical-align: top;\n",
       "    }\n",
       "\n",
       "    .dataframe thead th {\n",
       "        text-align: right;\n",
       "    }\n",
       "</style>\n",
       "<table border=\"1\" class=\"dataframe\">\n",
       "  <thead>\n",
       "    <tr style=\"text-align: right;\">\n",
       "      <th></th>\n",
       "      <th>mpg</th>\n",
       "      <th>cylinders</th>\n",
       "      <th>displacement</th>\n",
       "      <th>horsepower</th>\n",
       "      <th>weight</th>\n",
       "      <th>acceleration</th>\n",
       "      <th>vehicle_id</th>\n",
       "    </tr>\n",
       "  </thead>\n",
       "  <tbody>\n",
       "    <tr>\n",
       "      <th>322</th>\n",
       "      <td>46.6</td>\n",
       "      <td>4</td>\n",
       "      <td>86</td>\n",
       "      <td>65</td>\n",
       "      <td>2110</td>\n",
       "      <td>17.9</td>\n",
       "      <td>M-1693322</td>\n",
       "    </tr>\n",
       "    <tr>\n",
       "      <th>329</th>\n",
       "      <td>44.6</td>\n",
       "      <td>4</td>\n",
       "      <td>91</td>\n",
       "      <td>67</td>\n",
       "      <td>1850</td>\n",
       "      <td>13.8</td>\n",
       "      <td>H-1693399</td>\n",
       "    </tr>\n",
       "    <tr>\n",
       "      <th>325</th>\n",
       "      <td>44.3</td>\n",
       "      <td>4</td>\n",
       "      <td>90</td>\n",
       "      <td>48</td>\n",
       "      <td>2085</td>\n",
       "      <td>21.7</td>\n",
       "      <td>V-1693355</td>\n",
       "    </tr>\n",
       "  </tbody>\n",
       "</table>\n",
       "</div>"
      ],
      "text/plain": [
       "      mpg  cylinders  displacement horsepower  weight  acceleration vehicle_id\n",
       "322  46.6          4            86         65    2110          17.9  M-1693322\n",
       "329  44.6          4            91         67    1850          13.8  H-1693399\n",
       "325  44.3          4            90         48    2085          21.7  V-1693355"
      ]
     },
     "execution_count": 18,
     "metadata": {},
     "output_type": "execute_result"
    }
   ],
   "source": [
    "carsorted.iloc[[0,1,2],:]"
   ]
  },
  {
   "cell_type": "code",
   "execution_count": 19,
   "metadata": {},
   "outputs": [
    {
     "data": {
      "application/vnd.microsoft.datawrangler.viewer.v0+json": {
       "columns": [
        {
         "name": "index",
         "rawType": "int64",
         "type": "integer"
        },
        {
         "name": "mpg",
         "rawType": "float64",
         "type": "float"
        },
        {
         "name": "cylinders",
         "rawType": "int64",
         "type": "integer"
        },
        {
         "name": "displacement",
         "rawType": "int64",
         "type": "integer"
        },
        {
         "name": "horsepower",
         "rawType": "object",
         "type": "string"
        },
        {
         "name": "weight",
         "rawType": "int64",
         "type": "integer"
        },
        {
         "name": "acceleration",
         "rawType": "float64",
         "type": "float"
        },
        {
         "name": "vehicle_id",
         "rawType": "object",
         "type": "string"
        }
       ],
       "conversionMethod": "pd.DataFrame",
       "ref": "ad21ea9f-deae-4359-82f2-3bbb5252cec0",
       "rows": [
        [
         "322",
         "46.6",
         "4",
         "86",
         "65",
         "2110",
         "17.9",
         "M-1693322"
        ],
        [
         "329",
         "44.6",
         "4",
         "91",
         "67",
         "1850",
         "13.8",
         "H-1693399"
        ],
        [
         "325",
         "44.3",
         "4",
         "90",
         "48",
         "2085",
         "21.7",
         "V-1693355"
        ]
       ],
       "shape": {
        "columns": 7,
        "rows": 3
       }
      },
      "text/html": [
       "<div>\n",
       "<style scoped>\n",
       "    .dataframe tbody tr th:only-of-type {\n",
       "        vertical-align: middle;\n",
       "    }\n",
       "\n",
       "    .dataframe tbody tr th {\n",
       "        vertical-align: top;\n",
       "    }\n",
       "\n",
       "    .dataframe thead th {\n",
       "        text-align: right;\n",
       "    }\n",
       "</style>\n",
       "<table border=\"1\" class=\"dataframe\">\n",
       "  <thead>\n",
       "    <tr style=\"text-align: right;\">\n",
       "      <th></th>\n",
       "      <th>mpg</th>\n",
       "      <th>cylinders</th>\n",
       "      <th>displacement</th>\n",
       "      <th>horsepower</th>\n",
       "      <th>weight</th>\n",
       "      <th>acceleration</th>\n",
       "      <th>vehicle_id</th>\n",
       "    </tr>\n",
       "  </thead>\n",
       "  <tbody>\n",
       "    <tr>\n",
       "      <th>322</th>\n",
       "      <td>46.6</td>\n",
       "      <td>4</td>\n",
       "      <td>86</td>\n",
       "      <td>65</td>\n",
       "      <td>2110</td>\n",
       "      <td>17.9</td>\n",
       "      <td>M-1693322</td>\n",
       "    </tr>\n",
       "    <tr>\n",
       "      <th>329</th>\n",
       "      <td>44.6</td>\n",
       "      <td>4</td>\n",
       "      <td>91</td>\n",
       "      <td>67</td>\n",
       "      <td>1850</td>\n",
       "      <td>13.8</td>\n",
       "      <td>H-1693399</td>\n",
       "    </tr>\n",
       "    <tr>\n",
       "      <th>325</th>\n",
       "      <td>44.3</td>\n",
       "      <td>4</td>\n",
       "      <td>90</td>\n",
       "      <td>48</td>\n",
       "      <td>2085</td>\n",
       "      <td>21.7</td>\n",
       "      <td>V-1693355</td>\n",
       "    </tr>\n",
       "  </tbody>\n",
       "</table>\n",
       "</div>"
      ],
      "text/plain": [
       "      mpg  cylinders  displacement horsepower  weight  acceleration vehicle_id\n",
       "322  46.6          4            86         65    2110          17.9  M-1693322\n",
       "329  44.6          4            91         67    1850          13.8  H-1693399\n",
       "325  44.3          4            90         48    2085          21.7  V-1693355"
      ]
     },
     "execution_count": 19,
     "metadata": {},
     "output_type": "execute_result"
    }
   ],
   "source": [
    "carsorted.iloc[[0,1,2]]"
   ]
  },
  {
   "attachments": {},
   "cell_type": "markdown",
   "metadata": {},
   "source": [
    "<font size = \"5\">\n",
    "\n",
    "Subset block of rows\n",
    "\n",
    "``` data.iloc[ lower:upper , : ]```"
   ]
  },
  {
   "cell_type": "code",
   "execution_count": 20,
   "metadata": {},
   "outputs": [
    {
     "data": {
      "application/vnd.microsoft.datawrangler.viewer.v0+json": {
       "columns": [
        {
         "name": "index",
         "rawType": "int64",
         "type": "integer"
        },
        {
         "name": "mpg",
         "rawType": "float64",
         "type": "float"
        },
        {
         "name": "cylinders",
         "rawType": "int64",
         "type": "integer"
        },
        {
         "name": "displacement",
         "rawType": "int64",
         "type": "integer"
        },
        {
         "name": "horsepower",
         "rawType": "object",
         "type": "string"
        },
        {
         "name": "weight",
         "rawType": "int64",
         "type": "integer"
        },
        {
         "name": "acceleration",
         "rawType": "float64",
         "type": "float"
        },
        {
         "name": "vehicle_id",
         "rawType": "object",
         "type": "string"
        }
       ],
       "conversionMethod": "pd.DataFrame",
       "ref": "ac579cf0-bd2d-46d5-8586-9f5bf35e1fc7",
       "rows": [
        [
         "0",
         "18.0",
         "8",
         "307",
         "130",
         "3504",
         "12.0",
         "C-1689780"
        ],
        [
         "1",
         "15.0",
         "8",
         "350",
         "165",
         "3693",
         "11.5",
         "B-1689791"
        ],
        [
         "2",
         "18.0",
         "8",
         "318",
         "150",
         "3436",
         "11.0",
         "P-1689802"
        ],
        [
         "3",
         "16.0",
         "8",
         "304",
         "150",
         "3433",
         "12.0",
         "A-1689813"
        ],
        [
         "4",
         "17.0",
         "8",
         "302",
         "140",
         "3449",
         "10.5",
         "F-1689824"
        ]
       ],
       "shape": {
        "columns": 7,
        "rows": 5
       }
      },
      "text/html": [
       "<div>\n",
       "<style scoped>\n",
       "    .dataframe tbody tr th:only-of-type {\n",
       "        vertical-align: middle;\n",
       "    }\n",
       "\n",
       "    .dataframe tbody tr th {\n",
       "        vertical-align: top;\n",
       "    }\n",
       "\n",
       "    .dataframe thead th {\n",
       "        text-align: right;\n",
       "    }\n",
       "</style>\n",
       "<table border=\"1\" class=\"dataframe\">\n",
       "  <thead>\n",
       "    <tr style=\"text-align: right;\">\n",
       "      <th></th>\n",
       "      <th>mpg</th>\n",
       "      <th>cylinders</th>\n",
       "      <th>displacement</th>\n",
       "      <th>horsepower</th>\n",
       "      <th>weight</th>\n",
       "      <th>acceleration</th>\n",
       "      <th>vehicle_id</th>\n",
       "    </tr>\n",
       "  </thead>\n",
       "  <tbody>\n",
       "    <tr>\n",
       "      <th>0</th>\n",
       "      <td>18.0</td>\n",
       "      <td>8</td>\n",
       "      <td>307</td>\n",
       "      <td>130</td>\n",
       "      <td>3504</td>\n",
       "      <td>12.0</td>\n",
       "      <td>C-1689780</td>\n",
       "    </tr>\n",
       "    <tr>\n",
       "      <th>1</th>\n",
       "      <td>15.0</td>\n",
       "      <td>8</td>\n",
       "      <td>350</td>\n",
       "      <td>165</td>\n",
       "      <td>3693</td>\n",
       "      <td>11.5</td>\n",
       "      <td>B-1689791</td>\n",
       "    </tr>\n",
       "    <tr>\n",
       "      <th>2</th>\n",
       "      <td>18.0</td>\n",
       "      <td>8</td>\n",
       "      <td>318</td>\n",
       "      <td>150</td>\n",
       "      <td>3436</td>\n",
       "      <td>11.0</td>\n",
       "      <td>P-1689802</td>\n",
       "    </tr>\n",
       "    <tr>\n",
       "      <th>3</th>\n",
       "      <td>16.0</td>\n",
       "      <td>8</td>\n",
       "      <td>304</td>\n",
       "      <td>150</td>\n",
       "      <td>3433</td>\n",
       "      <td>12.0</td>\n",
       "      <td>A-1689813</td>\n",
       "    </tr>\n",
       "    <tr>\n",
       "      <th>4</th>\n",
       "      <td>17.0</td>\n",
       "      <td>8</td>\n",
       "      <td>302</td>\n",
       "      <td>140</td>\n",
       "      <td>3449</td>\n",
       "      <td>10.5</td>\n",
       "      <td>F-1689824</td>\n",
       "    </tr>\n",
       "  </tbody>\n",
       "</table>\n",
       "</div>"
      ],
      "text/plain": [
       "    mpg  cylinders  displacement horsepower  weight  acceleration vehicle_id\n",
       "0  18.0          8           307        130    3504          12.0  C-1689780\n",
       "1  15.0          8           350        165    3693          11.5  B-1689791\n",
       "2  18.0          8           318        150    3436          11.0  P-1689802\n",
       "3  16.0          8           304        150    3433          12.0  A-1689813\n",
       "4  17.0          8           302        140    3449          10.5  F-1689824"
      ]
     },
     "metadata": {},
     "output_type": "display_data"
    },
    {
     "data": {
      "application/vnd.microsoft.datawrangler.viewer.v0+json": {
       "columns": [
        {
         "name": "index",
         "rawType": "int64",
         "type": "integer"
        },
        {
         "name": "mpg",
         "rawType": "float64",
         "type": "float"
        },
        {
         "name": "cylinders",
         "rawType": "int64",
         "type": "integer"
        },
        {
         "name": "displacement",
         "rawType": "int64",
         "type": "integer"
        },
        {
         "name": "horsepower",
         "rawType": "object",
         "type": "string"
        },
        {
         "name": "weight",
         "rawType": "int64",
         "type": "integer"
        },
        {
         "name": "acceleration",
         "rawType": "float64",
         "type": "float"
        },
        {
         "name": "vehicle_id",
         "rawType": "object",
         "type": "string"
        }
       ],
       "conversionMethod": "pd.DataFrame",
       "ref": "222ba876-19de-44d6-bf4f-c5a15bd67eec",
       "rows": [
        [
         "0",
         "18.0",
         "8",
         "307",
         "130",
         "3504",
         "12.0",
         "C-1689780"
        ],
        [
         "1",
         "15.0",
         "8",
         "350",
         "165",
         "3693",
         "11.5",
         "B-1689791"
        ],
        [
         "2",
         "18.0",
         "8",
         "318",
         "150",
         "3436",
         "11.0",
         "P-1689802"
        ],
        [
         "3",
         "16.0",
         "8",
         "304",
         "150",
         "3433",
         "12.0",
         "A-1689813"
        ],
        [
         "4",
         "17.0",
         "8",
         "302",
         "140",
         "3449",
         "10.5",
         "F-1689824"
        ],
        [
         "5",
         "15.0",
         "8",
         "429",
         "198",
         "4341",
         "10.0",
         "F-1689835"
        ],
        [
         "6",
         "14.0",
         "8",
         "454",
         "220",
         "4354",
         "9.0",
         "C-1689846"
        ],
        [
         "7",
         "14.0",
         "8",
         "440",
         "215",
         "4312",
         "8.5",
         "P-1689857"
        ]
       ],
       "shape": {
        "columns": 7,
        "rows": 8
       }
      },
      "text/html": [
       "<div>\n",
       "<style scoped>\n",
       "    .dataframe tbody tr th:only-of-type {\n",
       "        vertical-align: middle;\n",
       "    }\n",
       "\n",
       "    .dataframe tbody tr th {\n",
       "        vertical-align: top;\n",
       "    }\n",
       "\n",
       "    .dataframe thead th {\n",
       "        text-align: right;\n",
       "    }\n",
       "</style>\n",
       "<table border=\"1\" class=\"dataframe\">\n",
       "  <thead>\n",
       "    <tr style=\"text-align: right;\">\n",
       "      <th></th>\n",
       "      <th>mpg</th>\n",
       "      <th>cylinders</th>\n",
       "      <th>displacement</th>\n",
       "      <th>horsepower</th>\n",
       "      <th>weight</th>\n",
       "      <th>acceleration</th>\n",
       "      <th>vehicle_id</th>\n",
       "    </tr>\n",
       "  </thead>\n",
       "  <tbody>\n",
       "    <tr>\n",
       "      <th>0</th>\n",
       "      <td>18.0</td>\n",
       "      <td>8</td>\n",
       "      <td>307</td>\n",
       "      <td>130</td>\n",
       "      <td>3504</td>\n",
       "      <td>12.0</td>\n",
       "      <td>C-1689780</td>\n",
       "    </tr>\n",
       "    <tr>\n",
       "      <th>1</th>\n",
       "      <td>15.0</td>\n",
       "      <td>8</td>\n",
       "      <td>350</td>\n",
       "      <td>165</td>\n",
       "      <td>3693</td>\n",
       "      <td>11.5</td>\n",
       "      <td>B-1689791</td>\n",
       "    </tr>\n",
       "    <tr>\n",
       "      <th>2</th>\n",
       "      <td>18.0</td>\n",
       "      <td>8</td>\n",
       "      <td>318</td>\n",
       "      <td>150</td>\n",
       "      <td>3436</td>\n",
       "      <td>11.0</td>\n",
       "      <td>P-1689802</td>\n",
       "    </tr>\n",
       "    <tr>\n",
       "      <th>3</th>\n",
       "      <td>16.0</td>\n",
       "      <td>8</td>\n",
       "      <td>304</td>\n",
       "      <td>150</td>\n",
       "      <td>3433</td>\n",
       "      <td>12.0</td>\n",
       "      <td>A-1689813</td>\n",
       "    </tr>\n",
       "    <tr>\n",
       "      <th>4</th>\n",
       "      <td>17.0</td>\n",
       "      <td>8</td>\n",
       "      <td>302</td>\n",
       "      <td>140</td>\n",
       "      <td>3449</td>\n",
       "      <td>10.5</td>\n",
       "      <td>F-1689824</td>\n",
       "    </tr>\n",
       "    <tr>\n",
       "      <th>5</th>\n",
       "      <td>15.0</td>\n",
       "      <td>8</td>\n",
       "      <td>429</td>\n",
       "      <td>198</td>\n",
       "      <td>4341</td>\n",
       "      <td>10.0</td>\n",
       "      <td>F-1689835</td>\n",
       "    </tr>\n",
       "    <tr>\n",
       "      <th>6</th>\n",
       "      <td>14.0</td>\n",
       "      <td>8</td>\n",
       "      <td>454</td>\n",
       "      <td>220</td>\n",
       "      <td>4354</td>\n",
       "      <td>9.0</td>\n",
       "      <td>C-1689846</td>\n",
       "    </tr>\n",
       "    <tr>\n",
       "      <th>7</th>\n",
       "      <td>14.0</td>\n",
       "      <td>8</td>\n",
       "      <td>440</td>\n",
       "      <td>215</td>\n",
       "      <td>4312</td>\n",
       "      <td>8.5</td>\n",
       "      <td>P-1689857</td>\n",
       "    </tr>\n",
       "  </tbody>\n",
       "</table>\n",
       "</div>"
      ],
      "text/plain": [
       "    mpg  cylinders  displacement horsepower  weight  acceleration vehicle_id\n",
       "0  18.0          8           307        130    3504          12.0  C-1689780\n",
       "1  15.0          8           350        165    3693          11.5  B-1689791\n",
       "2  18.0          8           318        150    3436          11.0  P-1689802\n",
       "3  16.0          8           304        150    3433          12.0  A-1689813\n",
       "4  17.0          8           302        140    3449          10.5  F-1689824\n",
       "5  15.0          8           429        198    4341          10.0  F-1689835\n",
       "6  14.0          8           454        220    4354           9.0  C-1689846\n",
       "7  14.0          8           440        215    4312           8.5  P-1689857"
      ]
     },
     "metadata": {},
     "output_type": "display_data"
    }
   ],
   "source": [
    "# Extract rows 0 to 5\n",
    "display(carfeatures.iloc[0:5,:])\n",
    "\n",
    "# Extract rows 8 onwards\n",
    "display(carfeatures.iloc[  :8   , : ])\n",
    "\n",
    "# Note: We can leave the numbers to the left and right of \":\" blank\n",
    "# in order to select all values before or after, respectively.\n"
   ]
  },
  {
   "attachments": {},
   "cell_type": "markdown",
   "metadata": {},
   "source": [
    "<font size = \"5\">\n",
    "\n",
    "Similar for columns\n",
    "\n",
    "- One column: $\\quad$ ``` data.iloc[ : , col_integer ]```\n",
    "- Multiple columns: $\\quad$ ``` data.iloc[ : , list_cols ]```\n",
    "- Row+Column: $\\quad$ ``` data.iloc[ list_rows , list_cols ]```"
   ]
  },
  {
   "attachments": {},
   "cell_type": "markdown",
   "metadata": {},
   "source": [
    "<font size = \"5\">\n",
    "\n",
    "Try it yourself!!\n",
    "\n",
    "- Create a new datate called \"car_ascendingmpg\" which <br>\n",
    "sorts cars from lowest to highest mpg\n",
    "- Subset the data of 5 cars with the lowest \"mpg\"\n",
    "\n",
    "HINT: Use ``sort_values(...,ascending = TRUE``)\n"
   ]
  },
  {
   "cell_type": "code",
   "execution_count": 21,
   "metadata": {},
   "outputs": [
    {
     "data": {
      "application/vnd.microsoft.datawrangler.viewer.v0+json": {
       "columns": [
        {
         "name": "index",
         "rawType": "int64",
         "type": "integer"
        },
        {
         "name": "mpg",
         "rawType": "float64",
         "type": "float"
        },
        {
         "name": "cylinders",
         "rawType": "int64",
         "type": "integer"
        },
        {
         "name": "displacement",
         "rawType": "int64",
         "type": "integer"
        },
        {
         "name": "horsepower",
         "rawType": "object",
         "type": "string"
        },
        {
         "name": "weight",
         "rawType": "int64",
         "type": "integer"
        },
        {
         "name": "acceleration",
         "rawType": "float64",
         "type": "float"
        },
        {
         "name": "vehicle_id",
         "rawType": "object",
         "type": "string"
        }
       ],
       "conversionMethod": "pd.DataFrame",
       "ref": "69d8a162-a474-4899-acac-367bcf9efb6d",
       "rows": [
        [
         "28",
         "9.0",
         "8",
         "304",
         "193",
         "4732",
         "18.5",
         "H-1690088"
        ],
        [
         "25",
         "10.0",
         "8",
         "360",
         "215",
         "4615",
         "14.0",
         "F-1690055"
        ],
        [
         "26",
         "10.0",
         "8",
         "307",
         "200",
         "4376",
         "15.0",
         "C-1690066"
        ],
        [
         "103",
         "11.0",
         "8",
         "400",
         "150",
         "4997",
         "14.0",
         "C-1690913"
        ],
        [
         "124",
         "11.0",
         "8",
         "350",
         "180",
         "3664",
         "11.0",
         "O-1691144"
        ]
       ],
       "shape": {
        "columns": 7,
        "rows": 5
       }
      },
      "text/html": [
       "<div>\n",
       "<style scoped>\n",
       "    .dataframe tbody tr th:only-of-type {\n",
       "        vertical-align: middle;\n",
       "    }\n",
       "\n",
       "    .dataframe tbody tr th {\n",
       "        vertical-align: top;\n",
       "    }\n",
       "\n",
       "    .dataframe thead th {\n",
       "        text-align: right;\n",
       "    }\n",
       "</style>\n",
       "<table border=\"1\" class=\"dataframe\">\n",
       "  <thead>\n",
       "    <tr style=\"text-align: right;\">\n",
       "      <th></th>\n",
       "      <th>mpg</th>\n",
       "      <th>cylinders</th>\n",
       "      <th>displacement</th>\n",
       "      <th>horsepower</th>\n",
       "      <th>weight</th>\n",
       "      <th>acceleration</th>\n",
       "      <th>vehicle_id</th>\n",
       "    </tr>\n",
       "  </thead>\n",
       "  <tbody>\n",
       "    <tr>\n",
       "      <th>28</th>\n",
       "      <td>9.0</td>\n",
       "      <td>8</td>\n",
       "      <td>304</td>\n",
       "      <td>193</td>\n",
       "      <td>4732</td>\n",
       "      <td>18.5</td>\n",
       "      <td>H-1690088</td>\n",
       "    </tr>\n",
       "    <tr>\n",
       "      <th>25</th>\n",
       "      <td>10.0</td>\n",
       "      <td>8</td>\n",
       "      <td>360</td>\n",
       "      <td>215</td>\n",
       "      <td>4615</td>\n",
       "      <td>14.0</td>\n",
       "      <td>F-1690055</td>\n",
       "    </tr>\n",
       "    <tr>\n",
       "      <th>26</th>\n",
       "      <td>10.0</td>\n",
       "      <td>8</td>\n",
       "      <td>307</td>\n",
       "      <td>200</td>\n",
       "      <td>4376</td>\n",
       "      <td>15.0</td>\n",
       "      <td>C-1690066</td>\n",
       "    </tr>\n",
       "    <tr>\n",
       "      <th>103</th>\n",
       "      <td>11.0</td>\n",
       "      <td>8</td>\n",
       "      <td>400</td>\n",
       "      <td>150</td>\n",
       "      <td>4997</td>\n",
       "      <td>14.0</td>\n",
       "      <td>C-1690913</td>\n",
       "    </tr>\n",
       "    <tr>\n",
       "      <th>124</th>\n",
       "      <td>11.0</td>\n",
       "      <td>8</td>\n",
       "      <td>350</td>\n",
       "      <td>180</td>\n",
       "      <td>3664</td>\n",
       "      <td>11.0</td>\n",
       "      <td>O-1691144</td>\n",
       "    </tr>\n",
       "  </tbody>\n",
       "</table>\n",
       "</div>"
      ],
      "text/plain": [
       "      mpg  cylinders  displacement horsepower  weight  acceleration vehicle_id\n",
       "28    9.0          8           304        193    4732          18.5  H-1690088\n",
       "25   10.0          8           360        215    4615          14.0  F-1690055\n",
       "26   10.0          8           307        200    4376          15.0  C-1690066\n",
       "103  11.0          8           400        150    4997          14.0  C-1690913\n",
       "124  11.0          8           350        180    3664          11.0  O-1691144"
      ]
     },
     "execution_count": 21,
     "metadata": {},
     "output_type": "execute_result"
    }
   ],
   "source": [
    "# Write your own code\n",
    "\n",
    "car_ascendingmpg = carfeatures.sort_values(by = \"mpg\", ascending = True)\n",
    "\n",
    "car_ascendingmpg.iloc[0:5 , : ]"
   ]
  },
  {
   "attachments": {},
   "cell_type": "markdown",
   "metadata": {},
   "source": [
    "## <span style=\"color:darkblue\"> II. Filtering Dataframes Based on Logical Expressions </span>"
   ]
  },
  {
   "cell_type": "markdown",
   "metadata": {},
   "source": [
    "<font size = \"5\">\n",
    "\n",
    "(i) Filtering using ```pandas.query()``` \n",
    "\n",
    "```python\n",
    "data.query(\"logical expression\")\n",
    "```"
   ]
  },
  {
   "cell_type": "code",
   "execution_count": 22,
   "metadata": {},
   "outputs": [
    {
     "data": {
      "application/vnd.microsoft.datawrangler.viewer.v0+json": {
       "columns": [
        {
         "name": "index",
         "rawType": "int64",
         "type": "integer"
        },
        {
         "name": "mpg",
         "rawType": "float64",
         "type": "float"
        },
        {
         "name": "cylinders",
         "rawType": "int64",
         "type": "integer"
        },
        {
         "name": "displacement",
         "rawType": "int64",
         "type": "integer"
        },
        {
         "name": "horsepower",
         "rawType": "object",
         "type": "unknown"
        },
        {
         "name": "weight",
         "rawType": "int64",
         "type": "integer"
        },
        {
         "name": "acceleration",
         "rawType": "float64",
         "type": "float"
        },
        {
         "name": "vehicle_id",
         "rawType": "object",
         "type": "string"
        }
       ],
       "conversionMethod": "pd.DataFrame",
       "ref": "a324f276-776e-4eca-ad28-b4e39105a5c5",
       "rows": [
        [
         "18",
         "27.0",
         "4",
         "97",
         "88",
         "2130",
         "14.5",
         "D-1689978"
        ],
        [
         "19",
         "26.0",
         "4",
         "97",
         "46",
         "1835",
         "20.5",
         "V-1689989"
        ],
        [
         "20",
         "25.0",
         "4",
         "110",
         "87",
         "2672",
         "17.5",
         "P-1690000"
        ],
        [
         "22",
         "25.0",
         "4",
         "104",
         "95",
         "2375",
         "17.5",
         "S-1690022"
        ],
        [
         "23",
         "26.0",
         "4",
         "121",
         "113",
         "2234",
         "12.5",
         "B-1690033"
        ],
        [
         "29",
         "27.0",
         "4",
         "97",
         "88",
         "2130",
         "14.5",
         "D-1690099"
        ],
        [
         "30",
         "28.0",
         "4",
         "140",
         "90",
         "2264",
         "15.5",
         "C-1690110"
        ],
        [
         "31",
         "25.0",
         "4",
         "113",
         "95",
         "2228",
         "14.0",
         "T-1690121"
        ],
        [
         "32",
         "25.0",
         "4",
         "98",
         null,
         "2046",
         "19.0",
         "F-1690132"
        ],
        [
         "50",
         "28.0",
         "4",
         "116",
         "90",
         "2123",
         "14.0",
         "O-1690330"
        ],
        [
         "51",
         "30.0",
         "4",
         "79",
         "70",
         "2074",
         "19.5",
         "P-1690341"
        ],
        [
         "52",
         "30.0",
         "4",
         "88",
         "76",
         "2065",
         "14.5",
         "F-1690352"
        ],
        [
         "53",
         "31.0",
         "4",
         "71",
         "65",
         "1773",
         "19.0",
         "T-1690363"
        ],
        [
         "54",
         "35.0",
         "4",
         "72",
         "69",
         "1613",
         "18.0",
         "D-1690374"
        ],
        [
         "55",
         "27.0",
         "4",
         "97",
         "60",
         "1834",
         "19.0",
         "V-1690385"
        ],
        [
         "56",
         "26.0",
         "4",
         "91",
         "70",
         "1955",
         "20.5",
         "P-1690396"
        ],
        [
         "58",
         "25.0",
         "4",
         "98",
         "80",
         "2126",
         "17.0",
         "D-1690418"
        ],
        [
         "79",
         "26.0",
         "4",
         "96",
         "69",
         "2189",
         "18.0",
         "R-1690649"
        ],
        [
         "81",
         "28.0",
         "4",
         "97",
         "92",
         "2288",
         "17.0",
         "D-1690671"
        ],
        [
         "83",
         "28.0",
         "4",
         "98",
         "80",
         "2164",
         "15.0",
         "D-1690693"
        ],
        [
         "84",
         "27.0",
         "4",
         "97",
         "88",
         "2100",
         "16.5",
         "T-1690704"
        ],
        [
         "102",
         "26.0",
         "4",
         "97",
         "46",
         "1950",
         "21.0",
         "V-1690902"
        ],
        [
         "114",
         "26.0",
         "4",
         "98",
         "90",
         "2265",
         "15.5",
         "F-1691034"
        ],
        [
         "117",
         "29.0",
         "4",
         "68",
         "49",
         "1867",
         "19.5",
         "F-1691067"
        ],
        [
         "129",
         "31.0",
         "4",
         "79",
         "67",
         "1950",
         "19.0",
         "D-1691199"
        ],
        [
         "130",
         "26.0",
         "4",
         "122",
         "80",
         "2451",
         "16.5",
         "F-1691210"
        ],
        [
         "131",
         "32.0",
         "4",
         "71",
         "65",
         "1836",
         "21.0",
         "T-1691221"
        ],
        [
         "132",
         "25.0",
         "4",
         "140",
         "75",
         "2542",
         "17.0",
         "C-1691232"
        ],
        [
         "141",
         "29.0",
         "4",
         "98",
         "83",
         "2219",
         "16.5",
         "A-1691331"
        ],
        [
         "142",
         "26.0",
         "4",
         "79",
         "67",
         "1963",
         "15.5",
         "V-1691342"
        ],
        [
         "143",
         "26.0",
         "4",
         "97",
         "78",
         "2300",
         "14.5",
         "O-1691353"
        ],
        [
         "144",
         "31.0",
         "4",
         "76",
         "52",
         "1649",
         "16.5",
         "T-1691364"
        ],
        [
         "145",
         "32.0",
         "4",
         "83",
         "61",
         "2003",
         "19.0",
         "D-1691375"
        ],
        [
         "146",
         "28.0",
         "4",
         "90",
         "75",
         "2125",
         "14.5",
         "D-1691386"
        ],
        [
         "148",
         "26.0",
         "4",
         "116",
         "75",
         "2246",
         "14.0",
         "F-1691408"
        ],
        [
         "150",
         "26.0",
         "4",
         "108",
         "93",
         "2391",
         "15.5",
         "S-1691430"
        ],
        [
         "151",
         "31.0",
         "4",
         "79",
         "67",
         "2000",
         "16.0",
         "F-1691441"
        ],
        [
         "167",
         "29.0",
         "4",
         "97",
         "75",
         "2171",
         "16.0",
         "T-1691617"
        ],
        [
         "172",
         "25.0",
         "4",
         "90",
         "71",
         "2223",
         "16.5",
         "V-1691672"
        ],
        [
         "175",
         "29.0",
         "4",
         "90",
         "70",
         "1937",
         "14.0",
         "V-1691705"
        ],
        [
         "180",
         "25.0",
         "4",
         "121",
         "115",
         "2671",
         "13.5",
         "S-1691760"
        ],
        [
         "181",
         "33.0",
         "4",
         "91",
         "53",
         "1795",
         "17.5",
         "H-1691771"
        ],
        [
         "182",
         "28.0",
         "4",
         "107",
         "86",
         "2464",
         "15.5",
         "F-1691782"
        ],
        [
         "183",
         "25.0",
         "4",
         "116",
         "81",
         "2220",
         "16.9",
         "O-1691793"
        ],
        [
         "184",
         "25.0",
         "4",
         "140",
         "92",
         "2572",
         "14.9",
         "C-1691804"
        ],
        [
         "185",
         "26.0",
         "4",
         "98",
         "79",
         "2255",
         "17.7",
         "D-1691815"
        ],
        [
         "186",
         "27.0",
         "4",
         "101",
         "83",
         "2202",
         "15.3",
         "R-1691826"
        ],
        [
         "195",
         "29.0",
         "4",
         "85",
         "52",
         "2035",
         "22.2",
         "C-1691925"
        ],
        [
         "197",
         "29.0",
         "4",
         "90",
         "70",
         "1937",
         "14.2",
         "V-1691947"
        ],
        [
         "198",
         "33.0",
         "4",
         "91",
         "53",
         "1795",
         "17.4",
         "H-1691958"
        ]
       ],
       "shape": {
        "columns": 7,
        "rows": 169
       }
      },
      "text/html": [
       "<div>\n",
       "<style scoped>\n",
       "    .dataframe tbody tr th:only-of-type {\n",
       "        vertical-align: middle;\n",
       "    }\n",
       "\n",
       "    .dataframe tbody tr th {\n",
       "        vertical-align: top;\n",
       "    }\n",
       "\n",
       "    .dataframe thead th {\n",
       "        text-align: right;\n",
       "    }\n",
       "</style>\n",
       "<table border=\"1\" class=\"dataframe\">\n",
       "  <thead>\n",
       "    <tr style=\"text-align: right;\">\n",
       "      <th></th>\n",
       "      <th>mpg</th>\n",
       "      <th>cylinders</th>\n",
       "      <th>displacement</th>\n",
       "      <th>horsepower</th>\n",
       "      <th>weight</th>\n",
       "      <th>acceleration</th>\n",
       "      <th>vehicle_id</th>\n",
       "    </tr>\n",
       "  </thead>\n",
       "  <tbody>\n",
       "    <tr>\n",
       "      <th>18</th>\n",
       "      <td>27.0</td>\n",
       "      <td>4</td>\n",
       "      <td>97</td>\n",
       "      <td>88</td>\n",
       "      <td>2130</td>\n",
       "      <td>14.5</td>\n",
       "      <td>D-1689978</td>\n",
       "    </tr>\n",
       "    <tr>\n",
       "      <th>19</th>\n",
       "      <td>26.0</td>\n",
       "      <td>4</td>\n",
       "      <td>97</td>\n",
       "      <td>46</td>\n",
       "      <td>1835</td>\n",
       "      <td>20.5</td>\n",
       "      <td>V-1689989</td>\n",
       "    </tr>\n",
       "    <tr>\n",
       "      <th>20</th>\n",
       "      <td>25.0</td>\n",
       "      <td>4</td>\n",
       "      <td>110</td>\n",
       "      <td>87</td>\n",
       "      <td>2672</td>\n",
       "      <td>17.5</td>\n",
       "      <td>P-1690000</td>\n",
       "    </tr>\n",
       "    <tr>\n",
       "      <th>22</th>\n",
       "      <td>25.0</td>\n",
       "      <td>4</td>\n",
       "      <td>104</td>\n",
       "      <td>95</td>\n",
       "      <td>2375</td>\n",
       "      <td>17.5</td>\n",
       "      <td>S-1690022</td>\n",
       "    </tr>\n",
       "    <tr>\n",
       "      <th>23</th>\n",
       "      <td>26.0</td>\n",
       "      <td>4</td>\n",
       "      <td>121</td>\n",
       "      <td>113</td>\n",
       "      <td>2234</td>\n",
       "      <td>12.5</td>\n",
       "      <td>B-1690033</td>\n",
       "    </tr>\n",
       "    <tr>\n",
       "      <th>...</th>\n",
       "      <td>...</td>\n",
       "      <td>...</td>\n",
       "      <td>...</td>\n",
       "      <td>...</td>\n",
       "      <td>...</td>\n",
       "      <td>...</td>\n",
       "      <td>...</td>\n",
       "    </tr>\n",
       "    <tr>\n",
       "      <th>393</th>\n",
       "      <td>27.0</td>\n",
       "      <td>4</td>\n",
       "      <td>140</td>\n",
       "      <td>86</td>\n",
       "      <td>2790</td>\n",
       "      <td>15.6</td>\n",
       "      <td>F-1694103</td>\n",
       "    </tr>\n",
       "    <tr>\n",
       "      <th>394</th>\n",
       "      <td>44.0</td>\n",
       "      <td>4</td>\n",
       "      <td>97</td>\n",
       "      <td>52</td>\n",
       "      <td>2130</td>\n",
       "      <td>24.6</td>\n",
       "      <td>V-1694114</td>\n",
       "    </tr>\n",
       "    <tr>\n",
       "      <th>395</th>\n",
       "      <td>32.0</td>\n",
       "      <td>4</td>\n",
       "      <td>135</td>\n",
       "      <td>84</td>\n",
       "      <td>2295</td>\n",
       "      <td>11.6</td>\n",
       "      <td>D-1694125</td>\n",
       "    </tr>\n",
       "    <tr>\n",
       "      <th>396</th>\n",
       "      <td>28.0</td>\n",
       "      <td>4</td>\n",
       "      <td>120</td>\n",
       "      <td>79</td>\n",
       "      <td>2625</td>\n",
       "      <td>18.6</td>\n",
       "      <td>F-1694136</td>\n",
       "    </tr>\n",
       "    <tr>\n",
       "      <th>397</th>\n",
       "      <td>31.0</td>\n",
       "      <td>4</td>\n",
       "      <td>119</td>\n",
       "      <td>82</td>\n",
       "      <td>2720</td>\n",
       "      <td>19.4</td>\n",
       "      <td>C-1694147</td>\n",
       "    </tr>\n",
       "  </tbody>\n",
       "</table>\n",
       "<p>169 rows × 7 columns</p>\n",
       "</div>"
      ],
      "text/plain": [
       "      mpg  cylinders  displacement horsepower  weight  acceleration vehicle_id\n",
       "18   27.0          4            97         88    2130          14.5  D-1689978\n",
       "19   26.0          4            97         46    1835          20.5  V-1689989\n",
       "20   25.0          4           110         87    2672          17.5  P-1690000\n",
       "22   25.0          4           104         95    2375          17.5  S-1690022\n",
       "23   26.0          4           121        113    2234          12.5  B-1690033\n",
       "..    ...        ...           ...        ...     ...           ...        ...\n",
       "393  27.0          4           140         86    2790          15.6  F-1694103\n",
       "394  44.0          4            97         52    2130          24.6  V-1694114\n",
       "395  32.0          4           135         84    2295          11.6  D-1694125\n",
       "396  28.0          4           120         79    2625          18.6  F-1694136\n",
       "397  31.0          4           119         82    2720          19.4  C-1694147\n",
       "\n",
       "[169 rows x 7 columns]"
      ]
     },
     "execution_count": 22,
     "metadata": {},
     "output_type": "execute_result"
    }
   ],
   "source": [
    "# Enter any logical expression\n",
    "\n",
    "carfeatures.query(\" mpg >= 25 \")"
   ]
  },
  {
   "cell_type": "code",
   "execution_count": 23,
   "metadata": {},
   "outputs": [
    {
     "data": {
      "application/vnd.microsoft.datawrangler.viewer.v0+json": {
       "columns": [
        {
         "name": "index",
         "rawType": "int64",
         "type": "integer"
        },
        {
         "name": "mpg",
         "rawType": "float64",
         "type": "float"
        },
        {
         "name": "cylinders",
         "rawType": "int64",
         "type": "integer"
        },
        {
         "name": "displacement",
         "rawType": "int64",
         "type": "integer"
        },
        {
         "name": "horsepower",
         "rawType": "object",
         "type": "string"
        },
        {
         "name": "weight",
         "rawType": "int64",
         "type": "integer"
        },
        {
         "name": "acceleration",
         "rawType": "float64",
         "type": "float"
        },
        {
         "name": "vehicle_id",
         "rawType": "object",
         "type": "string"
        }
       ],
       "conversionMethod": "pd.DataFrame",
       "ref": "87973fbd-921f-4ad4-9bbe-f57009b6605d",
       "rows": [
        [
         "0",
         "18.0",
         "8",
         "307",
         "130",
         "3504",
         "12.0",
         "C-1689780"
        ],
        [
         "1",
         "15.0",
         "8",
         "350",
         "165",
         "3693",
         "11.5",
         "B-1689791"
        ],
        [
         "2",
         "18.0",
         "8",
         "318",
         "150",
         "3436",
         "11.0",
         "P-1689802"
        ],
        [
         "3",
         "16.0",
         "8",
         "304",
         "150",
         "3433",
         "12.0",
         "A-1689813"
        ],
        [
         "4",
         "17.0",
         "8",
         "302",
         "140",
         "3449",
         "10.5",
         "F-1689824"
        ],
        [
         "5",
         "15.0",
         "8",
         "429",
         "198",
         "4341",
         "10.0",
         "F-1689835"
        ],
        [
         "8",
         "14.0",
         "8",
         "455",
         "225",
         "4425",
         "10.0",
         "P-1689868"
        ],
        [
         "10",
         "15.0",
         "8",
         "383",
         "170",
         "3563",
         "10.0",
         "D-1689890"
        ],
        [
         "13",
         "14.0",
         "8",
         "455",
         "225",
         "3086",
         "10.0",
         "B-1689923"
        ],
        [
         "14",
         "24.0",
         "4",
         "113",
         "95",
         "2372",
         "15.0",
         "T-1689934"
        ],
        [
         "15",
         "22.0",
         "6",
         "198",
         "95",
         "2833",
         "15.5",
         "P-1689945"
        ],
        [
         "16",
         "18.0",
         "6",
         "199",
         "97",
         "2774",
         "15.5",
         "A-1689956"
        ],
        [
         "17",
         "21.0",
         "6",
         "200",
         "85",
         "2587",
         "16.0",
         "F-1689967"
        ],
        [
         "18",
         "27.0",
         "4",
         "97",
         "88",
         "2130",
         "14.5",
         "D-1689978"
        ],
        [
         "20",
         "25.0",
         "4",
         "110",
         "87",
         "2672",
         "17.5",
         "P-1690000"
        ],
        [
         "21",
         "24.0",
         "4",
         "107",
         "90",
         "2430",
         "14.5",
         "A-1690011"
        ],
        [
         "22",
         "25.0",
         "4",
         "104",
         "95",
         "2375",
         "17.5",
         "S-1690022"
        ],
        [
         "23",
         "26.0",
         "4",
         "121",
         "113",
         "2234",
         "12.5",
         "B-1690033"
        ],
        [
         "24",
         "21.0",
         "6",
         "199",
         "90",
         "2648",
         "15.0",
         "A-1690044"
        ],
        [
         "25",
         "10.0",
         "8",
         "360",
         "215",
         "4615",
         "14.0",
         "F-1690055"
        ],
        [
         "26",
         "10.0",
         "8",
         "307",
         "200",
         "4376",
         "15.0",
         "C-1690066"
        ],
        [
         "27",
         "11.0",
         "8",
         "318",
         "210",
         "4382",
         "13.5",
         "D-1690077"
        ],
        [
         "29",
         "27.0",
         "4",
         "97",
         "88",
         "2130",
         "14.5",
         "D-1690099"
        ],
        [
         "30",
         "28.0",
         "4",
         "140",
         "90",
         "2264",
         "15.5",
         "C-1690110"
        ],
        [
         "31",
         "25.0",
         "4",
         "113",
         "95",
         "2228",
         "14.0",
         "T-1690121"
        ],
        [
         "33",
         "19.0",
         "6",
         "232",
         "100",
         "2634",
         "13.0",
         "A-1690143"
        ],
        [
         "34",
         "16.0",
         "6",
         "225",
         "105",
         "3439",
         "15.5",
         "P-1690154"
        ],
        [
         "35",
         "17.0",
         "6",
         "250",
         "100",
         "3329",
         "15.5",
         "C-1690165"
        ],
        [
         "36",
         "19.0",
         "6",
         "250",
         "88",
         "3302",
         "15.5",
         "F-1690176"
        ],
        [
         "37",
         "18.0",
         "6",
         "232",
         "100",
         "3288",
         "15.5",
         "A-1690187"
        ],
        [
         "38",
         "14.0",
         "8",
         "350",
         "165",
         "4209",
         "12.0",
         "C-1690198"
        ],
        [
         "39",
         "14.0",
         "8",
         "400",
         "175",
         "4464",
         "11.5",
         "P-1690209"
        ],
        [
         "40",
         "14.0",
         "8",
         "351",
         "153",
         "4154",
         "13.5",
         "F-1690220"
        ],
        [
         "41",
         "14.0",
         "8",
         "318",
         "150",
         "4096",
         "13.0",
         "P-1690231"
        ],
        [
         "42",
         "12.0",
         "8",
         "383",
         "180",
         "4955",
         "11.5",
         "D-1690242"
        ],
        [
         "43",
         "13.0",
         "8",
         "400",
         "170",
         "4746",
         "12.0",
         "F-1690253"
        ],
        [
         "44",
         "13.0",
         "8",
         "400",
         "175",
         "5140",
         "12.0",
         "P-1690264"
        ],
        [
         "45",
         "18.0",
         "6",
         "258",
         "110",
         "2962",
         "13.5",
         "A-1690275"
        ],
        [
         "47",
         "19.0",
         "6",
         "250",
         "100",
         "3282",
         "15.0",
         "P-1690297"
        ],
        [
         "48",
         "18.0",
         "6",
         "250",
         "88",
         "3139",
         "14.5",
         "F-1690308"
        ],
        [
         "49",
         "23.0",
         "4",
         "122",
         "86",
         "2220",
         "14.0",
         "M-1690319"
        ],
        [
         "50",
         "28.0",
         "4",
         "116",
         "90",
         "2123",
         "14.0",
         "O-1690330"
        ],
        [
         "52",
         "30.0",
         "4",
         "88",
         "76",
         "2065",
         "14.5",
         "F-1690352"
        ],
        [
         "57",
         "24.0",
         "4",
         "113",
         "95",
         "2278",
         "15.5",
         "T-1690407"
        ],
        [
         "58",
         "25.0",
         "4",
         "98",
         "80",
         "2126",
         "17.0",
         "D-1690418"
        ],
        [
         "61",
         "21.0",
         "4",
         "122",
         "86",
         "2226",
         "16.5",
         "F-1690451"
        ],
        [
         "62",
         "13.0",
         "8",
         "350",
         "165",
         "4274",
         "12.0",
         "C-1690462"
        ],
        [
         "63",
         "14.0",
         "8",
         "400",
         "175",
         "4385",
         "12.0",
         "P-1690473"
        ],
        [
         "64",
         "15.0",
         "8",
         "318",
         "150",
         "4135",
         "13.5",
         "P-1690484"
        ],
        [
         "65",
         "14.0",
         "8",
         "351",
         "153",
         "4129",
         "13.0",
         "F-1690495"
        ]
       ],
       "shape": {
        "columns": 7,
        "rows": 315
       }
      },
      "text/html": [
       "<div>\n",
       "<style scoped>\n",
       "    .dataframe tbody tr th:only-of-type {\n",
       "        vertical-align: middle;\n",
       "    }\n",
       "\n",
       "    .dataframe tbody tr th {\n",
       "        vertical-align: top;\n",
       "    }\n",
       "\n",
       "    .dataframe thead th {\n",
       "        text-align: right;\n",
       "    }\n",
       "</style>\n",
       "<table border=\"1\" class=\"dataframe\">\n",
       "  <thead>\n",
       "    <tr style=\"text-align: right;\">\n",
       "      <th></th>\n",
       "      <th>mpg</th>\n",
       "      <th>cylinders</th>\n",
       "      <th>displacement</th>\n",
       "      <th>horsepower</th>\n",
       "      <th>weight</th>\n",
       "      <th>acceleration</th>\n",
       "      <th>vehicle_id</th>\n",
       "    </tr>\n",
       "  </thead>\n",
       "  <tbody>\n",
       "    <tr>\n",
       "      <th>0</th>\n",
       "      <td>18.0</td>\n",
       "      <td>8</td>\n",
       "      <td>307</td>\n",
       "      <td>130</td>\n",
       "      <td>3504</td>\n",
       "      <td>12.0</td>\n",
       "      <td>C-1689780</td>\n",
       "    </tr>\n",
       "    <tr>\n",
       "      <th>1</th>\n",
       "      <td>15.0</td>\n",
       "      <td>8</td>\n",
       "      <td>350</td>\n",
       "      <td>165</td>\n",
       "      <td>3693</td>\n",
       "      <td>11.5</td>\n",
       "      <td>B-1689791</td>\n",
       "    </tr>\n",
       "    <tr>\n",
       "      <th>2</th>\n",
       "      <td>18.0</td>\n",
       "      <td>8</td>\n",
       "      <td>318</td>\n",
       "      <td>150</td>\n",
       "      <td>3436</td>\n",
       "      <td>11.0</td>\n",
       "      <td>P-1689802</td>\n",
       "    </tr>\n",
       "    <tr>\n",
       "      <th>3</th>\n",
       "      <td>16.0</td>\n",
       "      <td>8</td>\n",
       "      <td>304</td>\n",
       "      <td>150</td>\n",
       "      <td>3433</td>\n",
       "      <td>12.0</td>\n",
       "      <td>A-1689813</td>\n",
       "    </tr>\n",
       "    <tr>\n",
       "      <th>4</th>\n",
       "      <td>17.0</td>\n",
       "      <td>8</td>\n",
       "      <td>302</td>\n",
       "      <td>140</td>\n",
       "      <td>3449</td>\n",
       "      <td>10.5</td>\n",
       "      <td>F-1689824</td>\n",
       "    </tr>\n",
       "    <tr>\n",
       "      <th>...</th>\n",
       "      <td>...</td>\n",
       "      <td>...</td>\n",
       "      <td>...</td>\n",
       "      <td>...</td>\n",
       "      <td>...</td>\n",
       "      <td>...</td>\n",
       "      <td>...</td>\n",
       "    </tr>\n",
       "    <tr>\n",
       "      <th>390</th>\n",
       "      <td>32.0</td>\n",
       "      <td>4</td>\n",
       "      <td>144</td>\n",
       "      <td>96</td>\n",
       "      <td>2665</td>\n",
       "      <td>13.9</td>\n",
       "      <td>T-1694070</td>\n",
       "    </tr>\n",
       "    <tr>\n",
       "      <th>391</th>\n",
       "      <td>36.0</td>\n",
       "      <td>4</td>\n",
       "      <td>135</td>\n",
       "      <td>84</td>\n",
       "      <td>2370</td>\n",
       "      <td>13.0</td>\n",
       "      <td>D-1694081</td>\n",
       "    </tr>\n",
       "    <tr>\n",
       "      <th>392</th>\n",
       "      <td>27.0</td>\n",
       "      <td>4</td>\n",
       "      <td>151</td>\n",
       "      <td>90</td>\n",
       "      <td>2950</td>\n",
       "      <td>17.3</td>\n",
       "      <td>C-1694092</td>\n",
       "    </tr>\n",
       "    <tr>\n",
       "      <th>393</th>\n",
       "      <td>27.0</td>\n",
       "      <td>4</td>\n",
       "      <td>140</td>\n",
       "      <td>86</td>\n",
       "      <td>2790</td>\n",
       "      <td>15.6</td>\n",
       "      <td>F-1694103</td>\n",
       "    </tr>\n",
       "    <tr>\n",
       "      <th>395</th>\n",
       "      <td>32.0</td>\n",
       "      <td>4</td>\n",
       "      <td>135</td>\n",
       "      <td>84</td>\n",
       "      <td>2295</td>\n",
       "      <td>11.6</td>\n",
       "      <td>D-1694125</td>\n",
       "    </tr>\n",
       "  </tbody>\n",
       "</table>\n",
       "<p>315 rows × 7 columns</p>\n",
       "</div>"
      ],
      "text/plain": [
       "      mpg  cylinders  displacement horsepower  weight  acceleration vehicle_id\n",
       "0    18.0          8           307        130    3504          12.0  C-1689780\n",
       "1    15.0          8           350        165    3693          11.5  B-1689791\n",
       "2    18.0          8           318        150    3436          11.0  P-1689802\n",
       "3    16.0          8           304        150    3433          12.0  A-1689813\n",
       "4    17.0          8           302        140    3449          10.5  F-1689824\n",
       "..    ...        ...           ...        ...     ...           ...        ...\n",
       "390  32.0          4           144         96    2665          13.9  T-1694070\n",
       "391  36.0          4           135         84    2370          13.0  D-1694081\n",
       "392  27.0          4           151         90    2950          17.3  C-1694092\n",
       "393  27.0          4           140         86    2790          15.6  F-1694103\n",
       "395  32.0          4           135         84    2295          11.6  D-1694125\n",
       "\n",
       "[315 rows x 7 columns]"
      ]
     },
     "execution_count": 23,
     "metadata": {},
     "output_type": "execute_result"
    }
   ],
   "source": [
    "# Use \"and\" / \"or\" for logical operations on queries\n",
    "\n",
    "carfeatures.query(\"(acceleration >= 10) and (acceleration < 18)\")"
   ]
  },
  {
   "attachments": {},
   "cell_type": "markdown",
   "metadata": {},
   "source": [
    "<font size = \"5\">\n",
    "\n",
    "(ii) Expressions with colnames + global variables (@)"
   ]
  },
  {
   "cell_type": "code",
   "execution_count": 24,
   "metadata": {},
   "outputs": [],
   "source": [
    "# You can invoke global variables into the query by using @variablename\n",
    "# If you don't include @, then Python will try to look for a column with \n",
    "# that name.\n",
    "\n",
    "threshold = 25\n",
    "data_varthreshold_mpg = carfeatures.query(\"mpg >= @threshold\")"
   ]
  },
  {
   "cell_type": "code",
   "execution_count": 36,
   "metadata": {},
   "outputs": [
    {
     "data": {
      "application/vnd.microsoft.datawrangler.viewer.v0+json": {
       "columns": [
        {
         "name": "index",
         "rawType": "int64",
         "type": "integer"
        },
        {
         "name": "mpg",
         "rawType": "float64",
         "type": "float"
        },
        {
         "name": "cylinders",
         "rawType": "int64",
         "type": "integer"
        },
        {
         "name": "displacement",
         "rawType": "int64",
         "type": "integer"
        },
        {
         "name": "horsepower",
         "rawType": "object",
         "type": "unknown"
        },
        {
         "name": "weight",
         "rawType": "int64",
         "type": "integer"
        },
        {
         "name": "acceleration",
         "rawType": "float64",
         "type": "float"
        },
        {
         "name": "vehicle_id",
         "rawType": "object",
         "type": "string"
        }
       ],
       "conversionMethod": "pd.DataFrame",
       "ref": "62ea6227-d376-4eba-804e-551cb6daa05b",
       "rows": [
        [
         "18",
         "27.0",
         "4",
         "97",
         "88",
         "2130",
         "14.5",
         "D-1689978"
        ],
        [
         "19",
         "26.0",
         "4",
         "97",
         "46",
         "1835",
         "20.5",
         "V-1689989"
        ],
        [
         "20",
         "25.0",
         "4",
         "110",
         "87",
         "2672",
         "17.5",
         "P-1690000"
        ],
        [
         "22",
         "25.0",
         "4",
         "104",
         "95",
         "2375",
         "17.5",
         "S-1690022"
        ],
        [
         "23",
         "26.0",
         "4",
         "121",
         "113",
         "2234",
         "12.5",
         "B-1690033"
        ],
        [
         "29",
         "27.0",
         "4",
         "97",
         "88",
         "2130",
         "14.5",
         "D-1690099"
        ],
        [
         "30",
         "28.0",
         "4",
         "140",
         "90",
         "2264",
         "15.5",
         "C-1690110"
        ],
        [
         "31",
         "25.0",
         "4",
         "113",
         "95",
         "2228",
         "14.0",
         "T-1690121"
        ],
        [
         "32",
         "25.0",
         "4",
         "98",
         null,
         "2046",
         "19.0",
         "F-1690132"
        ],
        [
         "50",
         "28.0",
         "4",
         "116",
         "90",
         "2123",
         "14.0",
         "O-1690330"
        ],
        [
         "51",
         "30.0",
         "4",
         "79",
         "70",
         "2074",
         "19.5",
         "P-1690341"
        ],
        [
         "52",
         "30.0",
         "4",
         "88",
         "76",
         "2065",
         "14.5",
         "F-1690352"
        ],
        [
         "53",
         "31.0",
         "4",
         "71",
         "65",
         "1773",
         "19.0",
         "T-1690363"
        ],
        [
         "54",
         "35.0",
         "4",
         "72",
         "69",
         "1613",
         "18.0",
         "D-1690374"
        ],
        [
         "55",
         "27.0",
         "4",
         "97",
         "60",
         "1834",
         "19.0",
         "V-1690385"
        ],
        [
         "56",
         "26.0",
         "4",
         "91",
         "70",
         "1955",
         "20.5",
         "P-1690396"
        ],
        [
         "58",
         "25.0",
         "4",
         "98",
         "80",
         "2126",
         "17.0",
         "D-1690418"
        ],
        [
         "79",
         "26.0",
         "4",
         "96",
         "69",
         "2189",
         "18.0",
         "R-1690649"
        ],
        [
         "81",
         "28.0",
         "4",
         "97",
         "92",
         "2288",
         "17.0",
         "D-1690671"
        ],
        [
         "83",
         "28.0",
         "4",
         "98",
         "80",
         "2164",
         "15.0",
         "D-1690693"
        ],
        [
         "84",
         "27.0",
         "4",
         "97",
         "88",
         "2100",
         "16.5",
         "T-1690704"
        ],
        [
         "102",
         "26.0",
         "4",
         "97",
         "46",
         "1950",
         "21.0",
         "V-1690902"
        ],
        [
         "114",
         "26.0",
         "4",
         "98",
         "90",
         "2265",
         "15.5",
         "F-1691034"
        ],
        [
         "117",
         "29.0",
         "4",
         "68",
         "49",
         "1867",
         "19.5",
         "F-1691067"
        ],
        [
         "129",
         "31.0",
         "4",
         "79",
         "67",
         "1950",
         "19.0",
         "D-1691199"
        ],
        [
         "130",
         "26.0",
         "4",
         "122",
         "80",
         "2451",
         "16.5",
         "F-1691210"
        ],
        [
         "131",
         "32.0",
         "4",
         "71",
         "65",
         "1836",
         "21.0",
         "T-1691221"
        ],
        [
         "132",
         "25.0",
         "4",
         "140",
         "75",
         "2542",
         "17.0",
         "C-1691232"
        ],
        [
         "141",
         "29.0",
         "4",
         "98",
         "83",
         "2219",
         "16.5",
         "A-1691331"
        ],
        [
         "142",
         "26.0",
         "4",
         "79",
         "67",
         "1963",
         "15.5",
         "V-1691342"
        ],
        [
         "143",
         "26.0",
         "4",
         "97",
         "78",
         "2300",
         "14.5",
         "O-1691353"
        ],
        [
         "144",
         "31.0",
         "4",
         "76",
         "52",
         "1649",
         "16.5",
         "T-1691364"
        ],
        [
         "145",
         "32.0",
         "4",
         "83",
         "61",
         "2003",
         "19.0",
         "D-1691375"
        ],
        [
         "146",
         "28.0",
         "4",
         "90",
         "75",
         "2125",
         "14.5",
         "D-1691386"
        ],
        [
         "148",
         "26.0",
         "4",
         "116",
         "75",
         "2246",
         "14.0",
         "F-1691408"
        ],
        [
         "150",
         "26.0",
         "4",
         "108",
         "93",
         "2391",
         "15.5",
         "S-1691430"
        ],
        [
         "151",
         "31.0",
         "4",
         "79",
         "67",
         "2000",
         "16.0",
         "F-1691441"
        ],
        [
         "167",
         "29.0",
         "4",
         "97",
         "75",
         "2171",
         "16.0",
         "T-1691617"
        ],
        [
         "172",
         "25.0",
         "4",
         "90",
         "71",
         "2223",
         "16.5",
         "V-1691672"
        ],
        [
         "175",
         "29.0",
         "4",
         "90",
         "70",
         "1937",
         "14.0",
         "V-1691705"
        ],
        [
         "180",
         "25.0",
         "4",
         "121",
         "115",
         "2671",
         "13.5",
         "S-1691760"
        ],
        [
         "181",
         "33.0",
         "4",
         "91",
         "53",
         "1795",
         "17.5",
         "H-1691771"
        ],
        [
         "182",
         "28.0",
         "4",
         "107",
         "86",
         "2464",
         "15.5",
         "F-1691782"
        ],
        [
         "183",
         "25.0",
         "4",
         "116",
         "81",
         "2220",
         "16.9",
         "O-1691793"
        ],
        [
         "184",
         "25.0",
         "4",
         "140",
         "92",
         "2572",
         "14.9",
         "C-1691804"
        ],
        [
         "185",
         "26.0",
         "4",
         "98",
         "79",
         "2255",
         "17.7",
         "D-1691815"
        ],
        [
         "186",
         "27.0",
         "4",
         "101",
         "83",
         "2202",
         "15.3",
         "R-1691826"
        ],
        [
         "195",
         "29.0",
         "4",
         "85",
         "52",
         "2035",
         "22.2",
         "C-1691925"
        ],
        [
         "197",
         "29.0",
         "4",
         "90",
         "70",
         "1937",
         "14.2",
         "V-1691947"
        ],
        [
         "198",
         "33.0",
         "4",
         "91",
         "53",
         "1795",
         "17.4",
         "H-1691958"
        ]
       ],
       "shape": {
        "columns": 7,
        "rows": 169
       }
      },
      "text/html": [
       "<div>\n",
       "<style scoped>\n",
       "    .dataframe tbody tr th:only-of-type {\n",
       "        vertical-align: middle;\n",
       "    }\n",
       "\n",
       "    .dataframe tbody tr th {\n",
       "        vertical-align: top;\n",
       "    }\n",
       "\n",
       "    .dataframe thead th {\n",
       "        text-align: right;\n",
       "    }\n",
       "</style>\n",
       "<table border=\"1\" class=\"dataframe\">\n",
       "  <thead>\n",
       "    <tr style=\"text-align: right;\">\n",
       "      <th></th>\n",
       "      <th>mpg</th>\n",
       "      <th>cylinders</th>\n",
       "      <th>displacement</th>\n",
       "      <th>horsepower</th>\n",
       "      <th>weight</th>\n",
       "      <th>acceleration</th>\n",
       "      <th>vehicle_id</th>\n",
       "    </tr>\n",
       "  </thead>\n",
       "  <tbody>\n",
       "    <tr>\n",
       "      <th>18</th>\n",
       "      <td>27.0</td>\n",
       "      <td>4</td>\n",
       "      <td>97</td>\n",
       "      <td>88</td>\n",
       "      <td>2130</td>\n",
       "      <td>14.5</td>\n",
       "      <td>D-1689978</td>\n",
       "    </tr>\n",
       "    <tr>\n",
       "      <th>19</th>\n",
       "      <td>26.0</td>\n",
       "      <td>4</td>\n",
       "      <td>97</td>\n",
       "      <td>46</td>\n",
       "      <td>1835</td>\n",
       "      <td>20.5</td>\n",
       "      <td>V-1689989</td>\n",
       "    </tr>\n",
       "    <tr>\n",
       "      <th>20</th>\n",
       "      <td>25.0</td>\n",
       "      <td>4</td>\n",
       "      <td>110</td>\n",
       "      <td>87</td>\n",
       "      <td>2672</td>\n",
       "      <td>17.5</td>\n",
       "      <td>P-1690000</td>\n",
       "    </tr>\n",
       "    <tr>\n",
       "      <th>22</th>\n",
       "      <td>25.0</td>\n",
       "      <td>4</td>\n",
       "      <td>104</td>\n",
       "      <td>95</td>\n",
       "      <td>2375</td>\n",
       "      <td>17.5</td>\n",
       "      <td>S-1690022</td>\n",
       "    </tr>\n",
       "    <tr>\n",
       "      <th>23</th>\n",
       "      <td>26.0</td>\n",
       "      <td>4</td>\n",
       "      <td>121</td>\n",
       "      <td>113</td>\n",
       "      <td>2234</td>\n",
       "      <td>12.5</td>\n",
       "      <td>B-1690033</td>\n",
       "    </tr>\n",
       "    <tr>\n",
       "      <th>...</th>\n",
       "      <td>...</td>\n",
       "      <td>...</td>\n",
       "      <td>...</td>\n",
       "      <td>...</td>\n",
       "      <td>...</td>\n",
       "      <td>...</td>\n",
       "      <td>...</td>\n",
       "    </tr>\n",
       "    <tr>\n",
       "      <th>393</th>\n",
       "      <td>27.0</td>\n",
       "      <td>4</td>\n",
       "      <td>140</td>\n",
       "      <td>86</td>\n",
       "      <td>2790</td>\n",
       "      <td>15.6</td>\n",
       "      <td>F-1694103</td>\n",
       "    </tr>\n",
       "    <tr>\n",
       "      <th>394</th>\n",
       "      <td>44.0</td>\n",
       "      <td>4</td>\n",
       "      <td>97</td>\n",
       "      <td>52</td>\n",
       "      <td>2130</td>\n",
       "      <td>24.6</td>\n",
       "      <td>V-1694114</td>\n",
       "    </tr>\n",
       "    <tr>\n",
       "      <th>395</th>\n",
       "      <td>32.0</td>\n",
       "      <td>4</td>\n",
       "      <td>135</td>\n",
       "      <td>84</td>\n",
       "      <td>2295</td>\n",
       "      <td>11.6</td>\n",
       "      <td>D-1694125</td>\n",
       "    </tr>\n",
       "    <tr>\n",
       "      <th>396</th>\n",
       "      <td>28.0</td>\n",
       "      <td>4</td>\n",
       "      <td>120</td>\n",
       "      <td>79</td>\n",
       "      <td>2625</td>\n",
       "      <td>18.6</td>\n",
       "      <td>F-1694136</td>\n",
       "    </tr>\n",
       "    <tr>\n",
       "      <th>397</th>\n",
       "      <td>31.0</td>\n",
       "      <td>4</td>\n",
       "      <td>119</td>\n",
       "      <td>82</td>\n",
       "      <td>2720</td>\n",
       "      <td>19.4</td>\n",
       "      <td>C-1694147</td>\n",
       "    </tr>\n",
       "  </tbody>\n",
       "</table>\n",
       "<p>169 rows × 7 columns</p>\n",
       "</div>"
      ],
      "text/plain": [
       "      mpg  cylinders  displacement horsepower  weight  acceleration vehicle_id\n",
       "18   27.0          4            97         88    2130          14.5  D-1689978\n",
       "19   26.0          4            97         46    1835          20.5  V-1689989\n",
       "20   25.0          4           110         87    2672          17.5  P-1690000\n",
       "22   25.0          4           104         95    2375          17.5  S-1690022\n",
       "23   26.0          4           121        113    2234          12.5  B-1690033\n",
       "..    ...        ...           ...        ...     ...           ...        ...\n",
       "393  27.0          4           140         86    2790          15.6  F-1694103\n",
       "394  44.0          4            97         52    2130          24.6  V-1694114\n",
       "395  32.0          4           135         84    2295          11.6  D-1694125\n",
       "396  28.0          4           120         79    2625          18.6  F-1694136\n",
       "397  31.0          4           119         82    2720          19.4  C-1694147\n",
       "\n",
       "[169 rows x 7 columns]"
      ]
     },
     "execution_count": 36,
     "metadata": {},
     "output_type": "execute_result"
    }
   ],
   "source": [
    "carfeatures[carfeatures['mpg']>=threshold]"
   ]
  },
  {
   "attachments": {},
   "cell_type": "markdown",
   "metadata": {},
   "source": [
    "<font size = \"5\">\n",
    "\n",
    "(iii) Expressions with colnames with spaces"
   ]
  },
  {
   "cell_type": "code",
   "execution_count": 25,
   "metadata": {},
   "outputs": [],
   "source": [
    "# Sometimes column names have spaces in them\n",
    "# In this case use the \"`\" symbol, e.g.          `variable name`\n",
    "\n",
    "carfeatures[\"new variable\"] = carfeatures[\"mpg\"]\n",
    "data_spacesthreshold_mpg = carfeatures.query(\"`new variable` >= 25\")\n"
   ]
  },
  {
   "cell_type": "code",
   "execution_count": 26,
   "metadata": {},
   "outputs": [],
   "source": [
    "carfeatures[\"new variable two\"] = carfeatures[\"mpg\"]\n",
    "data_spacesthreshold_mpg_two = carfeatures.query(\"`new variable two` >= 25\")"
   ]
  },
  {
   "attachments": {},
   "cell_type": "markdown",
   "metadata": {},
   "source": [
    "<font size = \"5\">\n",
    "\n",
    "Try it yourself!\n",
    "\n",
    "-  Subset the data with mpg $\\ge$ 25 and cylinders == 8"
   ]
  },
  {
   "cell_type": "code",
   "execution_count": 27,
   "metadata": {},
   "outputs": [
    {
     "data": {
      "application/vnd.microsoft.datawrangler.viewer.v0+json": {
       "columns": [
        {
         "name": "index",
         "rawType": "int64",
         "type": "integer"
        },
        {
         "name": "mpg",
         "rawType": "float64",
         "type": "float"
        },
        {
         "name": "cylinders",
         "rawType": "int64",
         "type": "integer"
        },
        {
         "name": "displacement",
         "rawType": "int64",
         "type": "integer"
        },
        {
         "name": "horsepower",
         "rawType": "object",
         "type": "string"
        },
        {
         "name": "weight",
         "rawType": "int64",
         "type": "integer"
        },
        {
         "name": "acceleration",
         "rawType": "float64",
         "type": "float"
        },
        {
         "name": "vehicle_id",
         "rawType": "object",
         "type": "string"
        },
        {
         "name": "new variable",
         "rawType": "float64",
         "type": "float"
        },
        {
         "name": "new variable two",
         "rawType": "float64",
         "type": "float"
        }
       ],
       "conversionMethod": "pd.DataFrame",
       "ref": "9d9a6380-304a-4d05-86aa-693fad47c73d",
       "rows": [
        [
         "364",
         "26.6",
         "8",
         "350",
         "105",
         "3725",
         "19.0",
         "O-1693784",
         "26.6",
         "26.6"
        ]
       ],
       "shape": {
        "columns": 9,
        "rows": 1
       }
      },
      "text/html": [
       "<div>\n",
       "<style scoped>\n",
       "    .dataframe tbody tr th:only-of-type {\n",
       "        vertical-align: middle;\n",
       "    }\n",
       "\n",
       "    .dataframe tbody tr th {\n",
       "        vertical-align: top;\n",
       "    }\n",
       "\n",
       "    .dataframe thead th {\n",
       "        text-align: right;\n",
       "    }\n",
       "</style>\n",
       "<table border=\"1\" class=\"dataframe\">\n",
       "  <thead>\n",
       "    <tr style=\"text-align: right;\">\n",
       "      <th></th>\n",
       "      <th>mpg</th>\n",
       "      <th>cylinders</th>\n",
       "      <th>displacement</th>\n",
       "      <th>horsepower</th>\n",
       "      <th>weight</th>\n",
       "      <th>acceleration</th>\n",
       "      <th>vehicle_id</th>\n",
       "      <th>new variable</th>\n",
       "      <th>new variable two</th>\n",
       "    </tr>\n",
       "  </thead>\n",
       "  <tbody>\n",
       "    <tr>\n",
       "      <th>364</th>\n",
       "      <td>26.6</td>\n",
       "      <td>8</td>\n",
       "      <td>350</td>\n",
       "      <td>105</td>\n",
       "      <td>3725</td>\n",
       "      <td>19.0</td>\n",
       "      <td>O-1693784</td>\n",
       "      <td>26.6</td>\n",
       "      <td>26.6</td>\n",
       "    </tr>\n",
       "  </tbody>\n",
       "</table>\n",
       "</div>"
      ],
      "text/plain": [
       "      mpg  cylinders  displacement horsepower  weight  acceleration  \\\n",
       "364  26.6          8           350        105    3725          19.0   \n",
       "\n",
       "    vehicle_id  new variable  new variable two  \n",
       "364  O-1693784          26.6              26.6  "
      ]
     },
     "execution_count": 27,
     "metadata": {},
     "output_type": "execute_result"
    }
   ],
   "source": [
    "# Write your own code here\n",
    "\n",
    "carfeatures.query(\"(mpg>=25) and (cylinders == 8)\")\n",
    "\n"
   ]
  },
  {
   "attachments": {},
   "cell_type": "markdown",
   "metadata": {},
   "source": [
    "## <span style=\"color:darkblue\"> III. Visualization for Subsets of the Data </span>\n"
   ]
  },
  {
   "attachments": {},
   "cell_type": "markdown",
   "metadata": {},
   "source": [
    "<font size = \"5\">\n",
    "\n",
    "List of unique categories"
   ]
  },
  {
   "cell_type": "code",
   "execution_count": 25,
   "metadata": {},
   "outputs": [
    {
     "name": "stdout",
     "output_type": "stream",
     "text": [
      "[8 4 6 3 5]\n"
     ]
    }
   ],
   "source": [
    "# Use pd.unique() to extract a list with the unique elements in that column\n",
    "\n",
    "list_unique_cylinders = pd.unique(carfeatures[\"cylinders\"])\n",
    "print(list_unique_cylinders)"
   ]
  },
  {
   "attachments": {},
   "cell_type": "markdown",
   "metadata": {},
   "source": [
    "<font size = \"5\">\n",
    "\n",
    "Compute two overlapping plots"
   ]
  },
  {
   "cell_type": "code",
   "execution_count": 31,
   "metadata": {},
   "outputs": [
    {
     "data": {
      "image/png": "[encoded data removed]",
      "text/plain": [
       "<Figure size 640x480 with 1 Axes>"
      ]
     },
     "metadata": {},
     "output_type": "display_data"
    }
   ],
   "source": [
    "# If we call plt.scatter() twice to display two plots\n",
    "# To display all plots simultaneously we include plt.show() at the very end.\n",
    "# The idea is that the graphs are stacked on top of each other\n",
    "\n",
    "df_8 = carfeatures.query(\"cylinders == 8\")\n",
    "df_4 = carfeatures.query(\"cylinders == 4\")\n",
    "\n",
    "plt.scatter(x = df_8[\"weight\"],y = df_8[\"acceleration\"])\n",
    "plt.scatter(x = df_4[\"weight\"],y = df_4[\"acceleration\"])\n",
    "plt.legend(labels = [\"8\",\"4\"],\n",
    "           title  = \"Cylinders\")\n",
    "\n",
    "plt.xlabel(\"Weight\")\n",
    "plt.ylabel(\"Acceleration\")\n",
    "plt.show()\n",
    "\n",
    "# Note: If we put plt.show() in between the plots, then the results will\n",
    "# be shown on separate graphs instead."
   ]
  },
  {
   "attachments": {},
   "cell_type": "markdown",
   "metadata": {},
   "source": [
    "<font size = \"5\">\n",
    "\n",
    "Compute plots by all categories"
   ]
  },
  {
   "cell_type": "code",
   "execution_count": null,
   "metadata": {},
   "outputs": [
    {
     "data": {
      "image/png": "[encoded data removed]",
      "text/plain": [
       "<Figure size 640x480 with 1 Axes>"
      ]
     },
     "metadata": {},
     "output_type": "display_data"
    }
   ],
   "source": [
    "# Compute number of unique categories\n",
    "list_unique_cylinders = pd.unique(carfeatures[\"cylinders\"])\n",
    "\n",
    "# Use a for loop to plot a scatter plot between \"weight\" and \"acceleration\"\n",
    "# for each category. Each plot  will have a different color\n",
    "\n",
    "for category in list_unique_cylinders:\n",
    "    df   = carfeatures.query(\"cylinders == @category\")\n",
    "    plt.scatter(x = df[\"weight\"],y = df[\"acceleration\"])\n",
    "    \n",
    "# Add labels and a legends    \n",
    "plt.xlabel(\"Weight\")\n",
    "plt.ylabel(\"Acceleration\")\n",
    "plt.legend(labels = list_unique_cylinders,\n",
    "           title  = \"Cylinders\")\n",
    "plt.show()\n"
   ]
  },
  {
   "attachments": {},
   "cell_type": "markdown",
   "metadata": {},
   "source": [
    "<font size = \"5\">\n",
    "\n",
    "Try it yourself!\n",
    "\n",
    "- Compute a histogram of \"mpg\" by cylinder count\n",
    "- Make the histograms transparent by adjusting ```alpha``` in\n",
    "\n",
    " ```plt.hist(x = ..., alpha = 0.5)``` "
   ]
  },
  {
   "cell_type": "code",
   "execution_count": 36,
   "metadata": {},
   "outputs": [
    {
     "data": {
      "image/png": "[encoded data removed]",
      "text/plain": [
       "<Figure size 640x480 with 1 Axes>"
      ]
     },
     "metadata": {},
     "output_type": "display_data"
    }
   ],
   "source": [
    "# Write your own code\n",
    "\n",
    "\n",
    "\n",
    "cy_uni = pd.unique(carfeatures[\"cylinders\"])\n",
    "for cylinder in cy_uni:\n",
    "    data = carfeatures.query (\"cylinders == @cylinder\")\n",
    "    plt.hist(x=data[\"mpg\"], alpha = 0.5)\n",
    "plt.legend(labels = cy_uni)\n",
    "plt.show()"
   ]
  }
 ],
 "metadata": {
  "kernelspec": {
   "display_name": "Python 3",
   "language": "python",
   "name": "python3"
  },
  "language_info": {
   "codemirror_mode": {
    "name": "ipython",
    "version": 3
   },
   "file_extension": ".py",
   "mimetype": "text/x-python",
   "name": "python",
   "nbconvert_exporter": "python",
   "pygments_lexer": "ipython3",
   "version": "3.12.4"
  },
  "orig_nbformat": 4
 },
 "nbformat": 4,
 "nbformat_minor": 2
}
