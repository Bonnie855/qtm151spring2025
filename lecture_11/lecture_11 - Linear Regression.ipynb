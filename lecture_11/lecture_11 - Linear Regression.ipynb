{
 "cells": [
  {
   "attachments": {},
   "cell_type": "markdown",
   "metadata": {},
   "source": [
    "# <span style=\"color:darkblue\"> Lecture 11: Application 1 - Linear Regression </span>\n",
    "\n",
    "<font size = \"5\">\n",
    "\n",
    "We will fit statistical models to data\n",
    "\n",
    "- I will give an intro with minimal stats background\n",
    "- See the optional lecture file for advanced users\n",
    "\n",
    "The primary goal is to practice previous commands"
   ]
  },
  {
   "attachments": {},
   "cell_type": "markdown",
   "metadata": {},
   "source": [
    "# <span style=\"color:darkblue\"> I. Import Libraries </span>\n"
   ]
  },
  {
   "cell_type": "code",
   "execution_count": 3,
   "metadata": {},
   "outputs": [],
   "source": [
    "# The \"pandas\" library is used for processing datasets\n",
    "# The \"numpy\" is for numeric observations and random numbers\n",
    "# The \"matplotlib.pyplot\" library is for creating graphs\n",
    "\n",
    "import pandas as pd\n",
    "import numpy as np\n",
    "import matplotlib.pyplot as plt\n"
   ]
  },
  {
   "attachments": {},
   "cell_type": "markdown",
   "metadata": {},
   "source": [
    "<font size = \"5\">\n",
    "\n",
    "Install the \"statsmodels\" library\n",
    "\n",
    "```conda install statsmodels```\n",
    "\n",
    "- In Windows, you can do this by opening the program  <br> \"anaconda\n",
    "prompt\" and typing the above command.\n",
    "- In Mac, you can open your terminal and <br>\n",
    "type the above command"
   ]
  },
  {
   "cell_type": "code",
   "execution_count": 4,
   "metadata": {},
   "outputs": [],
   "source": [
    "# We will \"alias\" two sublibraries in \"statsmodels\"\n",
    "# \"statsmodels.formula.api\" contains functions to estimate models\n",
    "# \"statsmodels.api\" contains general-use statistical options\n",
    "\n",
    "import statsmodels.api as sm\n",
    "import statsmodels.formula.api as smf\n"
   ]
  },
  {
   "attachments": {},
   "cell_type": "markdown",
   "metadata": {},
   "source": [
    "# <span style=\"color:darkblue\"> II. Generate simulated Data </span>\n",
    "\n",
    "<font size = \"5\">\n",
    "\n",
    "Create an empty dataset"
   ]
  },
  {
   "cell_type": "code",
   "execution_count": 5,
   "metadata": {},
   "outputs": [
    {
     "data": {
      "application/vnd.microsoft.datawrangler.viewer.v0+json": {
       "columns": [
        {
         "name": "index",
         "rawType": "int64",
         "type": "integer"
        }
       ],
       "conversionMethod": "pd.DataFrame",
       "ref": "337fa692-5676-4d25-a8c5-d6000b92c550",
       "rows": [],
       "shape": {
        "columns": 0,
        "rows": 0
       }
      },
      "text/html": [
       "<div>\n",
       "<style scoped>\n",
       "    .dataframe tbody tr th:only-of-type {\n",
       "        vertical-align: middle;\n",
       "    }\n",
       "\n",
       "    .dataframe tbody tr th {\n",
       "        vertical-align: top;\n",
       "    }\n",
       "\n",
       "    .dataframe thead th {\n",
       "        text-align: right;\n",
       "    }\n",
       "</style>\n",
       "<table border=\"1\" class=\"dataframe\">\n",
       "  <thead>\n",
       "    <tr style=\"text-align: right;\">\n",
       "      <th></th>\n",
       "    </tr>\n",
       "  </thead>\n",
       "  <tbody>\n",
       "  </tbody>\n",
       "</table>\n",
       "</div>"
      ],
      "text/plain": [
       "Empty DataFrame\n",
       "Columns: []\n",
       "Index: []"
      ]
     },
     "execution_count": 5,
     "metadata": {},
     "output_type": "execute_result"
    }
   ],
   "source": [
    "dataset = pd.DataFrame()\n",
    "dataset"
   ]
  },
  {
   "attachments": {},
   "cell_type": "markdown",
   "metadata": {},
   "source": [
    "<font size = \"5\">\n",
    "\n",
    "Create two random variables of size ($n = 50$)"
   ]
  },
  {
   "cell_type": "code",
   "execution_count": 8,
   "metadata": {},
   "outputs": [],
   "source": [
    "n = 50\n",
    "np.random.seed(42)\n",
    "dataset[\"x\"] = np.random.normal(loc = 0,scale = 1, size = n)\n",
    "dataset[\"e\"] = np.random.normal(loc = 0,scale = 1, size = n)"
   ]
  },
  {
   "attachments": {},
   "cell_type": "markdown",
   "metadata": {},
   "source": [
    "<font size = \"5\">\n",
    "\n",
    "Create data from the linear model\n",
    "\n",
    "$ y = b_0 + b_1 x + e, \\qquad b_0 = 1, b_1 = 2.$"
   ]
  },
  {
   "cell_type": "code",
   "execution_count": 9,
   "metadata": {},
   "outputs": [],
   "source": [
    "# The number b0 is known as the \"intercept\"\n",
    "# The number b1 is known as the \"slope\"\n",
    "\n",
    "b0 = 1\n",
    "b1 = 2\n",
    "\n",
    "# We can compute formulas directly over dataset columns\n",
    "dataset[\"y\"] = b0 + b1 * dataset[\"x\"] + dataset[\"e\"]"
   ]
  },
  {
   "cell_type": "code",
   "execution_count": 10,
   "metadata": {},
   "outputs": [
    {
     "data": {
      "text/plain": [
       "0     2.317512\n",
       "1     0.338389\n",
       "2     1.618455\n",
       "3     4.657736\n",
       "4     1.562693\n",
       "5     1.463006\n",
       "6     3.319208\n",
       "7     2.225657\n",
       "8     0.392315\n",
       "9     3.060665\n",
       "10   -0.406010\n",
       "11   -0.117118\n",
       "12    0.377590\n",
       "13   -4.022767\n",
       "14   -1.637310\n",
       "15    1.231665\n",
       "16   -1.097672\n",
       "17    2.632028\n",
       "18   -0.454412\n",
       "19   -2.469727\n",
       "20    4.292693\n",
       "21    2.086484\n",
       "22    1.099230\n",
       "23   -0.284853\n",
       "24   -2.708511\n",
       "25    2.043748\n",
       "26   -1.214940\n",
       "27    1.452389\n",
       "28   -0.109517\n",
       "29   -1.570956\n",
       "30   -0.423085\n",
       "31    5.061669\n",
       "32    2.450900\n",
       "33   -1.633692\n",
       "34    1.836596\n",
       "35   -1.943444\n",
       "36    2.333129\n",
       "37   -2.590589\n",
       "38   -2.186132\n",
       "39    1.906990\n",
       "40    2.574011\n",
       "41    2.311382\n",
       "42    0.066650\n",
       "43    0.070130\n",
       "44   -2.349152\n",
       "45   -1.903203\n",
       "46    0.374843\n",
       "47    3.375300\n",
       "48    1.692350\n",
       "49   -2.760667\n",
       "Name: y, dtype: float64"
      ]
     },
     "execution_count": 10,
     "metadata": {},
     "output_type": "execute_result"
    }
   ],
   "source": [
    "dataset['y']"
   ]
  },
  {
   "attachments": {},
   "cell_type": "markdown",
   "metadata": {},
   "source": [
    "<font size = \"5\">\n",
    "\n",
    "Compute the theoretically best fit line\n",
    "\n",
    "$ p = b_0 + b_1 x$"
   ]
  },
  {
   "cell_type": "code",
   "execution_count": 11,
   "metadata": {},
   "outputs": [],
   "source": [
    "dataset[\"p\"] = b0 + b1*dataset[\"x\"]"
   ]
  },
  {
   "attachments": {},
   "cell_type": "markdown",
   "metadata": {},
   "source": [
    "<font size = \"5\">\n",
    "\n",
    "Plot the data"
   ]
  },
  {
   "cell_type": "code",
   "execution_count": 12,
   "metadata": {},
   "outputs": [
    {
     "data": {
      "image/png": "[encoded data removed]",
      "text/plain": [
       "<Figure size 640x480 with 1 Axes>"
      ]
     },
     "metadata": {},
     "output_type": "display_data"
    }
   ],
   "source": [
    "plt.scatter(x = dataset[\"x\"], y = dataset[\"y\"])\n",
    "plt.plot(dataset[\"x\"],dataset[\"p\"], color = 'green')\n",
    "\n",
    "plt.xlabel(\"X Variable\")\n",
    "plt.ylabel(\"Y Variable\")\n",
    "plt.legend(labels = [\"Data points\", \"Best fit line\"])\n",
    "plt.show()\n"
   ]
  },
  {
   "attachments": {},
   "cell_type": "markdown",
   "metadata": {},
   "source": [
    "<font size = \"5\" >\n",
    "\n",
    "Try it yourself\n",
    "\n",
    "- Create a new dataset called $\\quad$```subset_above2``` \n",
    "- Subset records with $y \\ge 2$ using $\\quad$```.query()```\n",
    "- Count the original rows $\\quad$ ```len(dataset)```\n",
    "- Count the subsetted rows $\\quad$ ```len(subset_above2)```\n",
    "- Compute the proportion of subsetted observations\n"
   ]
  },
  {
   "cell_type": "code",
   "execution_count": 13,
   "metadata": {},
   "outputs": [
    {
     "name": "stdout",
     "output_type": "stream",
     "text": [
      "50\n",
      "15\n",
      "0.3\n"
     ]
    }
   ],
   "source": [
    "# Write your own code here\n",
    "\n",
    "\n",
    "\n",
    "subset_above2 = dataset.query(\" y >= 2  \")\n",
    "\n",
    "print(len(dataset))\n",
    "print(len(subset_above2))\n",
    "\n",
    "print( len(subset_above2)/len(dataset))\n"
   ]
  },
  {
   "attachments": {},
   "cell_type": "markdown",
   "metadata": {},
   "source": [
    "<font size = \"5\">\n",
    "\n",
    "Try it yourself!\n",
    "\n",
    "- Store the sample mean of $y$ as $\\quad$ ```ybar```\n",
    "- Compute the standard deviation of $y$ $\\quad$ ```stdv_sample```\n",
    "- Use ```.query()``` to subset observations that satisfy\n",
    "\n",
    "$ \\qquad abs\\left(y - ybar \\right) \\le stdv\\_sample $\n",
    "\n",
    "$\\quad$ HINT: Use ```.mean()```,$\\text{ }$ ```.std()``` <br>\n",
    "$\\quad$ HINT: Use the globals  $\\ $ ```@xbar```,$\\text{ }$ ```@stdv_sample```"
   ]
  },
  {
   "cell_type": "code",
   "execution_count": null,
   "metadata": {},
   "outputs": [
    {
     "data": {
      "application/vnd.microsoft.datawrangler.viewer.v0+json": {
       "columns": [
        {
         "name": "index",
         "rawType": "int64",
         "type": "integer"
        },
        {
         "name": "x",
         "rawType": "float64",
         "type": "float"
        },
        {
         "name": "e",
         "rawType": "float64",
         "type": "float"
        },
        {
         "name": "y",
         "rawType": "float64",
         "type": "float"
        },
        {
         "name": "p",
         "rawType": "float64",
         "type": "float"
        }
       ],
       "conversionMethod": "pd.DataFrame",
       "ref": "5b8834f1-a052-4974-881e-5e81924d73ba",
       "rows": [
        [
         "0",
         "0.4967141530112327",
         "0.324083969394795",
         "2.3175122754172603",
         "1.9934283060224653"
        ],
        [
         "1",
         "-0.13826430117118466",
         "-0.38508228041631654",
         "0.33838911724131415",
         "0.7234713976576307"
        ],
        [
         "2",
         "0.6476885381006925",
         "-0.6769220003059587",
         "1.6184550758954264",
         "2.295377076201385"
        ],
        [
         "4",
         "-0.23415337472333597",
         "1.030999522495951",
         "1.562692773049279",
         "0.5316932505533281"
        ],
        [
         "5",
         "-0.23413695694918055",
         "0.9312801191161986",
         "1.4630062052178374",
         "0.5317260861016389"
        ],
        [
         "7",
         "0.7674347291529088",
         "-0.3092123758512146",
         "2.225657082454603",
         "2.534869458305818"
        ],
        [
         "8",
         "-0.4694743859349521",
         "0.33126343140356396",
         "0.39231465953365974",
         "0.06105122813009578"
        ],
        [
         "10",
         "-0.46341769281246226",
         "-0.47917423784528995",
         "-0.40600962347021446",
         "0.07316461437507549"
        ],
        [
         "11",
         "-0.46572975357025687",
         "-0.18565897666381712",
         "-0.11711848380433085",
         "0.06854049285948627"
        ],
        [
         "12",
         "0.24196227156603412",
         "-1.1063349740060282",
         "0.37758956912604",
         "1.4839245431320682"
        ],
        [
         "15",
         "-0.5622875292409727",
         "1.356240028570823",
         "1.2316649700888775",
         "-0.12457505848194539"
        ],
        [
         "16",
         "-1.0128311203344238",
         "-0.07201012158033385",
         "-1.0976723622491815",
         "-1.0256622406688476"
        ],
        [
         "17",
         "0.3142473325952739",
         "1.0035328978920242",
         "2.632027563082572",
         "1.6284946651905479"
        ],
        [
         "18",
         "-0.9080240755212111",
         "0.36163602504763415",
         "-0.4544121259947881",
         "-0.8160481510424222"
        ],
        [
         "21",
         "-0.22577630048653566",
         "1.5380365664659692",
         "2.086483965492898",
         "0.5484473990269287"
        ],
        [
         "22",
         "0.06752820468792384",
         "-0.03582603910995153",
         "1.099230370265896",
         "1.1350564093758477"
        ],
        [
         "23",
         "-1.4247481862134568",
         "1.564643655814006",
         "-0.28485271661290756",
         "-1.8494963724269136"
        ],
        [
         "25",
         "0.11092258970986608",
         "0.8219025043752238",
         "2.043747683794956",
         "1.2218451794197323"
        ],
        [
         "26",
         "-1.1509935774223028",
         "0.08704706823817134",
         "-1.2149400866064342",
         "-1.3019871548446056"
        ],
        [
         "27",
         "0.37569801834567196",
         "-0.29900735046586785",
         "1.452388686225476",
         "1.751396036691344"
        ],
        [
         "28",
         "-0.600638689918805",
         "0.0917607765355023",
         "-0.10951660330210766",
         "-0.20127737983760996"
        ],
        [
         "29",
         "-0.2916937497932768",
         "-1.9875689146008928",
         "-1.5709564141874464",
         "0.41661250041344644"
        ],
        [
         "30",
         "-0.6017066122293969",
         "-0.21967188783751193",
         "-0.42308511229630574",
         "-0.20341322445879384"
        ],
        [
         "32",
         "-0.013497224737933914",
         "1.477894044741516",
         "2.450899595265648",
         "0.9730055505241322"
        ],
        [
         "34",
         "0.822544912103189",
         "-0.8084936028931876",
         "1.8365962213131906",
         "2.6450898242063783"
        ],
        [
         "36",
         "0.2088635950047554",
         "0.9154021177020741",
         "2.3331293077115847",
         "1.4177271900095108"
        ],
        [
         "39",
         "0.19686123586912352",
         "0.5132674331133561",
         "1.9069899048516032",
         "1.393722471738247"
        ],
        [
         "40",
         "0.7384665799954104",
         "0.09707754934804039",
         "2.5740107093388613",
         "2.476933159990821"
        ],
        [
         "41",
         "0.1713682811899705",
         "0.9686449905328892",
         "2.31138155291283",
         "1.342736562379941"
        ],
        [
         "42",
         "-0.11564828238824053",
         "-0.7020530938773524",
         "0.06665034134616654",
         "0.7687034352235189"
        ],
        [
         "43",
         "-0.3011036955892888",
         "-0.3276621465977682",
         "0.07013046222365421",
         "0.3977926088214224"
        ],
        [
         "46",
         "-0.4606387709597875",
         "0.29612027706457605",
         "0.37484273514500105",
         "0.078722458080425"
        ],
        [
         "48",
         "0.3436182895684614",
         "0.0051134566424609",
         "1.6923500357793837",
         "1.6872365791369228"
        ]
       ],
       "shape": {
        "columns": 4,
        "rows": 33
       }
      },
      "text/html": [
       "<div>\n",
       "<style scoped>\n",
       "    .dataframe tbody tr th:only-of-type {\n",
       "        vertical-align: middle;\n",
       "    }\n",
       "\n",
       "    .dataframe tbody tr th {\n",
       "        vertical-align: top;\n",
       "    }\n",
       "\n",
       "    .dataframe thead th {\n",
       "        text-align: right;\n",
       "    }\n",
       "</style>\n",
       "<table border=\"1\" class=\"dataframe\">\n",
       "  <thead>\n",
       "    <tr style=\"text-align: right;\">\n",
       "      <th></th>\n",
       "      <th>x</th>\n",
       "      <th>e</th>\n",
       "      <th>y</th>\n",
       "      <th>p</th>\n",
       "    </tr>\n",
       "  </thead>\n",
       "  <tbody>\n",
       "    <tr>\n",
       "      <th>0</th>\n",
       "      <td>0.496714</td>\n",
       "      <td>0.324084</td>\n",
       "      <td>2.317512</td>\n",
       "      <td>1.993428</td>\n",
       "    </tr>\n",
       "    <tr>\n",
       "      <th>1</th>\n",
       "      <td>-0.138264</td>\n",
       "      <td>-0.385082</td>\n",
       "      <td>0.338389</td>\n",
       "      <td>0.723471</td>\n",
       "    </tr>\n",
       "    <tr>\n",
       "      <th>2</th>\n",
       "      <td>0.647689</td>\n",
       "      <td>-0.676922</td>\n",
       "      <td>1.618455</td>\n",
       "      <td>2.295377</td>\n",
       "    </tr>\n",
       "    <tr>\n",
       "      <th>4</th>\n",
       "      <td>-0.234153</td>\n",
       "      <td>1.031000</td>\n",
       "      <td>1.562693</td>\n",
       "      <td>0.531693</td>\n",
       "    </tr>\n",
       "    <tr>\n",
       "      <th>5</th>\n",
       "      <td>-0.234137</td>\n",
       "      <td>0.931280</td>\n",
       "      <td>1.463006</td>\n",
       "      <td>0.531726</td>\n",
       "    </tr>\n",
       "    <tr>\n",
       "      <th>7</th>\n",
       "      <td>0.767435</td>\n",
       "      <td>-0.309212</td>\n",
       "      <td>2.225657</td>\n",
       "      <td>2.534869</td>\n",
       "    </tr>\n",
       "    <tr>\n",
       "      <th>8</th>\n",
       "      <td>-0.469474</td>\n",
       "      <td>0.331263</td>\n",
       "      <td>0.392315</td>\n",
       "      <td>0.061051</td>\n",
       "    </tr>\n",
       "    <tr>\n",
       "      <th>10</th>\n",
       "      <td>-0.463418</td>\n",
       "      <td>-0.479174</td>\n",
       "      <td>-0.406010</td>\n",
       "      <td>0.073165</td>\n",
       "    </tr>\n",
       "    <tr>\n",
       "      <th>11</th>\n",
       "      <td>-0.465730</td>\n",
       "      <td>-0.185659</td>\n",
       "      <td>-0.117118</td>\n",
       "      <td>0.068540</td>\n",
       "    </tr>\n",
       "    <tr>\n",
       "      <th>12</th>\n",
       "      <td>0.241962</td>\n",
       "      <td>-1.106335</td>\n",
       "      <td>0.377590</td>\n",
       "      <td>1.483925</td>\n",
       "    </tr>\n",
       "    <tr>\n",
       "      <th>15</th>\n",
       "      <td>-0.562288</td>\n",
       "      <td>1.356240</td>\n",
       "      <td>1.231665</td>\n",
       "      <td>-0.124575</td>\n",
       "    </tr>\n",
       "    <tr>\n",
       "      <th>16</th>\n",
       "      <td>-1.012831</td>\n",
       "      <td>-0.072010</td>\n",
       "      <td>-1.097672</td>\n",
       "      <td>-1.025662</td>\n",
       "    </tr>\n",
       "    <tr>\n",
       "      <th>17</th>\n",
       "      <td>0.314247</td>\n",
       "      <td>1.003533</td>\n",
       "      <td>2.632028</td>\n",
       "      <td>1.628495</td>\n",
       "    </tr>\n",
       "    <tr>\n",
       "      <th>18</th>\n",
       "      <td>-0.908024</td>\n",
       "      <td>0.361636</td>\n",
       "      <td>-0.454412</td>\n",
       "      <td>-0.816048</td>\n",
       "    </tr>\n",
       "    <tr>\n",
       "      <th>21</th>\n",
       "      <td>-0.225776</td>\n",
       "      <td>1.538037</td>\n",
       "      <td>2.086484</td>\n",
       "      <td>0.548447</td>\n",
       "    </tr>\n",
       "    <tr>\n",
       "      <th>22</th>\n",
       "      <td>0.067528</td>\n",
       "      <td>-0.035826</td>\n",
       "      <td>1.099230</td>\n",
       "      <td>1.135056</td>\n",
       "    </tr>\n",
       "    <tr>\n",
       "      <th>23</th>\n",
       "      <td>-1.424748</td>\n",
       "      <td>1.564644</td>\n",
       "      <td>-0.284853</td>\n",
       "      <td>-1.849496</td>\n",
       "    </tr>\n",
       "    <tr>\n",
       "      <th>25</th>\n",
       "      <td>0.110923</td>\n",
       "      <td>0.821903</td>\n",
       "      <td>2.043748</td>\n",
       "      <td>1.221845</td>\n",
       "    </tr>\n",
       "    <tr>\n",
       "      <th>26</th>\n",
       "      <td>-1.150994</td>\n",
       "      <td>0.087047</td>\n",
       "      <td>-1.214940</td>\n",
       "      <td>-1.301987</td>\n",
       "    </tr>\n",
       "    <tr>\n",
       "      <th>27</th>\n",
       "      <td>0.375698</td>\n",
       "      <td>-0.299007</td>\n",
       "      <td>1.452389</td>\n",
       "      <td>1.751396</td>\n",
       "    </tr>\n",
       "    <tr>\n",
       "      <th>28</th>\n",
       "      <td>-0.600639</td>\n",
       "      <td>0.091761</td>\n",
       "      <td>-0.109517</td>\n",
       "      <td>-0.201277</td>\n",
       "    </tr>\n",
       "    <tr>\n",
       "      <th>29</th>\n",
       "      <td>-0.291694</td>\n",
       "      <td>-1.987569</td>\n",
       "      <td>-1.570956</td>\n",
       "      <td>0.416613</td>\n",
       "    </tr>\n",
       "    <tr>\n",
       "      <th>30</th>\n",
       "      <td>-0.601707</td>\n",
       "      <td>-0.219672</td>\n",
       "      <td>-0.423085</td>\n",
       "      <td>-0.203413</td>\n",
       "    </tr>\n",
       "    <tr>\n",
       "      <th>32</th>\n",
       "      <td>-0.013497</td>\n",
       "      <td>1.477894</td>\n",
       "      <td>2.450900</td>\n",
       "      <td>0.973006</td>\n",
       "    </tr>\n",
       "    <tr>\n",
       "      <th>34</th>\n",
       "      <td>0.822545</td>\n",
       "      <td>-0.808494</td>\n",
       "      <td>1.836596</td>\n",
       "      <td>2.645090</td>\n",
       "    </tr>\n",
       "    <tr>\n",
       "      <th>36</th>\n",
       "      <td>0.208864</td>\n",
       "      <td>0.915402</td>\n",
       "      <td>2.333129</td>\n",
       "      <td>1.417727</td>\n",
       "    </tr>\n",
       "    <tr>\n",
       "      <th>39</th>\n",
       "      <td>0.196861</td>\n",
       "      <td>0.513267</td>\n",
       "      <td>1.906990</td>\n",
       "      <td>1.393722</td>\n",
       "    </tr>\n",
       "    <tr>\n",
       "      <th>40</th>\n",
       "      <td>0.738467</td>\n",
       "      <td>0.097078</td>\n",
       "      <td>2.574011</td>\n",
       "      <td>2.476933</td>\n",
       "    </tr>\n",
       "    <tr>\n",
       "      <th>41</th>\n",
       "      <td>0.171368</td>\n",
       "      <td>0.968645</td>\n",
       "      <td>2.311382</td>\n",
       "      <td>1.342737</td>\n",
       "    </tr>\n",
       "    <tr>\n",
       "      <th>42</th>\n",
       "      <td>-0.115648</td>\n",
       "      <td>-0.702053</td>\n",
       "      <td>0.066650</td>\n",
       "      <td>0.768703</td>\n",
       "    </tr>\n",
       "    <tr>\n",
       "      <th>43</th>\n",
       "      <td>-0.301104</td>\n",
       "      <td>-0.327662</td>\n",
       "      <td>0.070130</td>\n",
       "      <td>0.397793</td>\n",
       "    </tr>\n",
       "    <tr>\n",
       "      <th>46</th>\n",
       "      <td>-0.460639</td>\n",
       "      <td>0.296120</td>\n",
       "      <td>0.374843</td>\n",
       "      <td>0.078722</td>\n",
       "    </tr>\n",
       "    <tr>\n",
       "      <th>48</th>\n",
       "      <td>0.343618</td>\n",
       "      <td>0.005113</td>\n",
       "      <td>1.692350</td>\n",
       "      <td>1.687237</td>\n",
       "    </tr>\n",
       "  </tbody>\n",
       "</table>\n",
       "</div>"
      ],
      "text/plain": [
       "           x         e         y         p\n",
       "0   0.496714  0.324084  2.317512  1.993428\n",
       "1  -0.138264 -0.385082  0.338389  0.723471\n",
       "2   0.647689 -0.676922  1.618455  2.295377\n",
       "4  -0.234153  1.031000  1.562693  0.531693\n",
       "5  -0.234137  0.931280  1.463006  0.531726\n",
       "7   0.767435 -0.309212  2.225657  2.534869\n",
       "8  -0.469474  0.331263  0.392315  0.061051\n",
       "10 -0.463418 -0.479174 -0.406010  0.073165\n",
       "11 -0.465730 -0.185659 -0.117118  0.068540\n",
       "12  0.241962 -1.106335  0.377590  1.483925\n",
       "15 -0.562288  1.356240  1.231665 -0.124575\n",
       "16 -1.012831 -0.072010 -1.097672 -1.025662\n",
       "17  0.314247  1.003533  2.632028  1.628495\n",
       "18 -0.908024  0.361636 -0.454412 -0.816048\n",
       "21 -0.225776  1.538037  2.086484  0.548447\n",
       "22  0.067528 -0.035826  1.099230  1.135056\n",
       "23 -1.424748  1.564644 -0.284853 -1.849496\n",
       "25  0.110923  0.821903  2.043748  1.221845\n",
       "26 -1.150994  0.087047 -1.214940 -1.301987\n",
       "27  0.375698 -0.299007  1.452389  1.751396\n",
       "28 -0.600639  0.091761 -0.109517 -0.201277\n",
       "29 -0.291694 -1.987569 -1.570956  0.416613\n",
       "30 -0.601707 -0.219672 -0.423085 -0.203413\n",
       "32 -0.013497  1.477894  2.450900  0.973006\n",
       "34  0.822545 -0.808494  1.836596  2.645090\n",
       "36  0.208864  0.915402  2.333129  1.417727\n",
       "39  0.196861  0.513267  1.906990  1.393722\n",
       "40  0.738467  0.097078  2.574011  2.476933\n",
       "41  0.171368  0.968645  2.311382  1.342737\n",
       "42 -0.115648 -0.702053  0.066650  0.768703\n",
       "43 -0.301104 -0.327662  0.070130  0.397793\n",
       "46 -0.460639  0.296120  0.374843  0.078722\n",
       "48  0.343618  0.005113  1.692350  1.687237"
      ]
     },
     "execution_count": 14,
     "metadata": {},
     "output_type": "execute_result"
    }
   ],
   "source": [
    "# Note: abs(...) is the absolute value function\n",
    "# Write your own code \n",
    "\n",
    "ybar = dataset[\"y\"].mean()\n",
    "stdv_sample = dataset[\"y\"].std()\n",
    "\n",
    "\n",
    "subset_threshold = dataset.query(\"  (abs(y - @ybar)) <= (@stdv_sample ) \" ) \n",
    "len(subset_threshold)\n",
    "\n"
   ]
  },
  {
   "attachments": {},
   "cell_type": "markdown",
   "metadata": {},
   "source": [
    "# <span style=\"color:darkblue\"> II. Estimate the best fit line</span>\n"
   ]
  },
  {
   "attachments": {},
   "cell_type": "markdown",
   "metadata": {},
   "source": [
    "<font size = \"5\">\n",
    "\n",
    "We have data on $(y,x)$ but we don't know $(b_0,b_1, e)$"
   ]
  },
  {
   "attachments": {},
   "cell_type": "markdown",
   "metadata": {},
   "source": [
    "<font size = \"5\">\n",
    "\n",
    "Let's fit an OLS model\n",
    "\n",
    "- It's a statistical approach to get $(b_0,b_1)$\n",
    "- No need to know how it works but why we want it"
   ]
  },
  {
   "cell_type": "code",
   "execution_count": null,
   "metadata": {},
   "outputs": [],
   "source": [
    "#------------------------------------------------------------------------------#\n",
    "# We use the subfunction \"ols()\" in the library \"smf\"\n",
    "#---- (i) The first argument is a string called \"formula\" with the format \n",
    "#-------- \"outcome ~ indepdent_vars\"\n",
    "#----(ii) the second argument is the dataset\n",
    "# The second line fits the model with standard errors \"cov\". In this case we \n",
    "# use \"robust\" standard errors (HC1)\n",
    "#-------------------------------------------------------------------------------#\n",
    "\n",
    "model   = smf.ols(formula = ' y ~  x', data = dataset)\n",
    "results = model.fit()\n",
    "# Can also run as one line\n",
    "# results = smf.ols(formula = 'y ~ x',data = dataset).fit(cov = \"HC1\")\n"
   ]
  },
  {
   "attachments": {},
   "cell_type": "markdown",
   "metadata": {},
   "source": [
    "<font size = \"5\">\n",
    "\n",
    "Compute the estimated best fit line"
   ]
  },
  {
   "cell_type": "code",
   "execution_count": null,
   "metadata": {},
   "outputs": [
    {
     "name": "stdout",
     "output_type": "stream",
     "text": [
      "Intercept    1.041022\n",
      "x            2.103076\n",
      "dtype: float64\n"
     ]
    },
    {
     "name": "stderr",
     "output_type": "stream",
     "text": [
      "/var/folders/tb/tjzt7tks31986ckxl9t6pq1h0000gp/T/ipykernel_1451/2237251491.py:9: FutureWarning: Series.__getitem__ treating keys as positions is deprecated. In a future version, integer keys will always be treated as labels (consistent with DataFrame behavior). To access a value by position, use `ser.iloc[pos]`\n",
      "  dataset[\"p_estimated\"] = b_list[0] + b_list[1]  * dataset[\"x\"]\n"
     ]
    }
   ],
   "source": [
    "# We will use \".params\" to get the attribute \"parameters from the results\"\n",
    "\n",
    "b_list = results.params\n",
    "print(b_list)\n",
    "\n",
    "# We can then compute the \"estimated\" best fit lines\n",
    "# by extracting the intercept and slop from \"b_list\"\n",
    "\n",
    "dataset[\"p_estimated\"] = b_list[0] + b_list[1]  * dataset[\"x\"]\n",
    "\n",
    "# Note: The estimators for \"b0\" and \"b1\" are close to \n",
    "# the values we used to generate the data\n"
   ]
  },
  {
   "attachments": {},
   "cell_type": "markdown",
   "metadata": {},
   "source": [
    "<font size = \"5\">\n",
    "\n",
    "Plot the best fit line"
   ]
  },
  {
   "cell_type": "code",
   "execution_count": 19,
   "metadata": {},
   "outputs": [
    {
     "data": {
      "image/png": "[encoded data removed]",
      "text/plain": [
       "<Figure size 640x480 with 1 Axes>"
      ]
     },
     "metadata": {},
     "output_type": "display_data"
    }
   ],
   "source": [
    "# Use scatter twice, with different \"y\" inputs\n",
    "# THe \"legend\" command creates a box on with the color labels\n",
    "\n",
    "plt.scatter(x = dataset[\"x\"],y = dataset[\"y\"])\n",
    "plt.plot(dataset[\"x\"],dataset[\"p_estimated\"], color = 'green')\n",
    "\n",
    "plt.legend(labels = [\"Data points\",\"Estimated Predicted Model\"])\n",
    "plt.show()\n"
   ]
  },
  {
   "attachments": {},
   "cell_type": "markdown",
   "metadata": {},
   "source": [
    "<font size = \"5\">\n",
    "\n",
    "Try it yourself!\n",
    "- How good is the estimated fit?\n",
    "- Create two overlapping lineplots\n",
    "- $(p \\text{ }$ vs $\\text{ } x)$ and $(p_{estimated} \\text{ }$ vs $\\text{ } x)$\n",
    "- Create a legend to label each plot"
   ]
  },
  {
   "cell_type": "code",
   "execution_count": 25,
   "metadata": {},
   "outputs": [
    {
     "data": {
      "text/plain": [
       "<function matplotlib.pyplot.show(close=None, block=None)>"
      ]
     },
     "execution_count": 25,
     "metadata": {},
     "output_type": "execute_result"
    },
    {
     "data": {
      "image/png": "[encoded data removed]",
      "text/plain": [
       "<Figure size 640x480 with 1 Axes>"
      ]
     },
     "metadata": {},
     "output_type": "display_data"
    }
   ],
   "source": [
    "# Write your own code\n",
    "plt.scatter(x=dataset[\"x\"], y= dataset[\"y\"])\n",
    "plt.scatter(x=dataset[\"x\"],y=dataset[\"p_estimated\"])\n",
    "plt.legend(labels=[\"original\",\"estimated\"])\n",
    "plt.show\n"
   ]
  },
  {
   "attachments": {},
   "cell_type": "markdown",
   "metadata": {},
   "source": [
    "<font size = \"5\">\n",
    "\n",
    "Try it youself\n",
    "\n",
    "- Compute a column with the formula\n",
    "\n",
    "$\\quad$ ``` sample_error = y - p_estimated```\n",
    "\n",
    "- Create a lambda function <br>\n",
    "\n",
    "$\\quad$ ``` fn_positive_error = lambda error: error >= 0  ```\n",
    "\n",
    "- Compute a column for whether the error is positive <br>\n",
    "using ``` .apply()```\n",
    "\n"
   ]
  },
  {
   "cell_type": "code",
   "execution_count": 27,
   "metadata": {},
   "outputs": [],
   "source": [
    "# Write your own code\n",
    "dataset[\"sample_error\"] = dataset[\"y\"] - dataset[\"p_estimated\"]\n",
    "fn_positive_error = lambda error: error >= 0\n",
    "dataset[\"positive_error\"] = dataset[\"sample_error\"].apply(fn_positive_error)"
   ]
  },
  {
   "attachments": {},
   "cell_type": "markdown",
   "metadata": {},
   "source": [
    "<font size = \"5\">\n",
    "\n",
    "Try it yourself\n",
    "\n",
    "- Compute a new column <br>\n",
    "\n",
    "```error_sqr = sample_error ** 2```\n",
    "\n",
    "- Calculate the mean of ```error_sqr```"
   ]
  },
  {
   "cell_type": "code",
   "execution_count": null,
   "metadata": {},
   "outputs": [],
   "source": []
  },
  {
   "cell_type": "code",
   "execution_count": 30,
   "metadata": {},
   "outputs": [
    {
     "data": {
      "text/plain": [
       "np.float64(1.2072982805262027)"
      ]
     },
     "execution_count": 30,
     "metadata": {},
     "output_type": "execute_result"
    }
   ],
   "source": [
    "# Write your own code\n",
    "dataset[\"error_sqr\"] = dataset[\"sample_error\"] **2\n",
    "dataset[\"error_sqr\"].std()"
   ]
  }
 ],
 "metadata": {
  "kernelspec": {
   "display_name": "Python 3",
   "language": "python",
   "name": "python3"
  },
  "language_info": {
   "codemirror_mode": {
    "name": "ipython",
    "version": 3
   },
   "file_extension": ".py",
   "mimetype": "text/x-python",
   "name": "python",
   "nbconvert_exporter": "python",
   "pygments_lexer": "ipython3",
   "version": "3.12.4"
  },
  "orig_nbformat": 4
 },
 "nbformat": 4,
 "nbformat_minor": 2
}
