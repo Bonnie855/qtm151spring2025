{
 "cells": [
  {
   "attachments": {},
   "cell_type": "markdown",
   "metadata": {},
   "source": [
    "# <span style=\"color:darkblue\"> QTM 151 - Quiz 1 </span>"
   ]
  },
  {
   "attachments": {},
   "cell_type": "markdown",
   "metadata": {},
   "source": [
    "## Try to submit as an HTML file"
   ]
  },
  {
   "attachments": {},
   "cell_type": "markdown",
   "metadata": {},
   "source": [
    "<font size=\"5\"> \n",
    "\n",
    "Print your name below"
   ]
  },
  {
   "cell_type": "code",
   "execution_count": 1,
   "metadata": {},
   "outputs": [
    {
     "name": "stdout",
     "output_type": "stream",
     "text": [
      "Bonnie Tan\n"
     ]
    }
   ],
   "source": [
    "# Write your answer here\n",
    "\n",
    "print(\"Bonnie Tan\")"
   ]
  },
  {
   "attachments": {},
   "cell_type": "markdown",
   "metadata": {},
   "source": [
    "<font size = \"5\" >\n",
    "This quiz is open book \n",
    "\n",
    "- You can use the lecture notes\n",
    "- You will get partial credit for attempting the questions\n",
    "- To get full credit, the code should work as intended\n",
    "- You should <span style=\"color:red\"> NOT </span> communicate with other students\n",
    "\n",
    "Print the following message: <br>\n",
    "\n",
    "\"I will abide by Emory's code of conduct\"\n"
   ]
  },
  {
   "cell_type": "code",
   "execution_count": 2,
   "metadata": {},
   "outputs": [
    {
     "name": "stdout",
     "output_type": "stream",
     "text": [
      "I will abide by Emory's code of conduct\n"
     ]
    }
   ],
   "source": [
    "# Write your answer here:\n",
    "\n",
    "print(\"I will abide by Emory's code of conduct\")"
   ]
  },
  {
   "attachments": {},
   "cell_type": "markdown",
   "metadata": {},
   "source": [
    "<font size = \"5\">\n",
    "\n",
    "Import the libraries \"numpy\", \"matplotlib.pytplot\", and \"pandas\""
   ]
  },
  {
   "cell_type": "code",
   "execution_count": 2,
   "metadata": {},
   "outputs": [],
   "source": [
    "# Write your answer here\n",
    "import numpy as np\n",
    "import matplotlib.pyplot as plt\n",
    "import pandas as pd"
   ]
  },
  {
   "cell_type": "markdown",
   "metadata": {},
   "source": [
    "<font size = \"5\">\n",
    "\n",
    "(a) IF/ELSE statements\n",
    "\n",
    "<font size = \"3\">\n",
    "\n",
    "- Create two lists: \n",
    "\n",
    "``` list_p = [\"Introduction\",\"to\",\"Python\"] ``` <br>\n",
    "``` list_r = [\"Intro\",\"to\",\"R\"] ```\n",
    "\n",
    "- Create a new variable ``` keyword = \"Introduction\" ```\n",
    "- Create an if/else that tests whether ``` keyword ``` is part of either <br>\n",
    "list.  Print your a message (you choose which message) if the test is true.\n",
    "\n",
    "HINT: Use the \"in\" command to test whether an element is part <br>\n",
    "of a list (see Lecture 4) \n",
    "\n",
    "\n"
   ]
  },
  {
   "cell_type": "code",
   "execution_count": 4,
   "metadata": {},
   "outputs": [
    {
     "name": "stdout",
     "output_type": "stream",
     "text": [
      "keyword is in p list\n"
     ]
    }
   ],
   "source": [
    "# Write your answer here:\n",
    "list_p = [\"Introduction\",\"to\",\"Python\"]\n",
    "list_r = [\"Intro\",\"to\",\"R\"]\n",
    "keyword = \"Introduction\"\n",
    "if keyword in list_p:\n",
    "    print(\"keyword is in p list\")\n",
    "else:\n",
    "    print(\"keyword is in r list\")\n",
    "\n"
   ]
  },
  {
   "attachments": {},
   "cell_type": "markdown",
   "metadata": {},
   "source": [
    "<font size = \"5\">\n",
    "\n",
    "(a) Transform a list of values and plot it\n",
    "\n",
    "<font size = \"3\">\n",
    "\n",
    "- Create an array with the following values\n",
    "\n",
    "``` coord_x = [1,4, 0, -1, 20, 40] ```\n",
    "\n",
    "``` coord_y = [2,2, 0, 10, 0, 1] ```\n",
    "\n",
    "- Create a new vector ```hypotenuse``` with the following formula\n",
    "\n",
    "$\\qquad hypotenuse = x^2 + y^2$\n",
    "\n",
    "- Produce a  histogram of the variable hypotenuse\n",
    "- Label the axes and the title\n",
    "- Change the color to \"orange\", \"green\" or \"purple\" (you choose)\n",
    "\n",
    "Hint: You can use numpy functions"
   ]
  },
  {
   "cell_type": "code",
   "execution_count": 5,
   "metadata": {},
   "outputs": [
    {
     "data": {
      "image/png": "[encoded data removed]",
      "text/plain": [
       "<Figure size 640x480 with 1 Axes>"
      ]
     },
     "metadata": {},
     "output_type": "display_data"
    }
   ],
   "source": [
    "# Write your answer here:\n",
    "coord_x = [1,4, 0, -1, 20, 40]\n",
    "coord_y = [2,2, 0, 10, 0, 1]\n",
    "x  = np.array(  coord_x  )\n",
    "y  = np.array(  coord_y   )\n",
    "hypotenuse = x^2 + y^2\n",
    "plt.hist(hypotenuse)\n",
    "\n",
    "plt.title(\"Distribution of hypotenuse with sides\")\n",
    "plt.ylabel(\"Frequency\")\n",
    "plt.xlabel(\"Values of hypotenuse\")\n",
    "plt.show()\n",
    "\n",
    "\n"
   ]
  },
  {
   "attachments": {},
   "cell_type": "markdown",
   "metadata": {},
   "source": [
    "<font size = \"5\">\n",
    "\n",
    "(c) Plot random variables ...\n",
    "\n",
    "<font size = \"3\">\n",
    "\n",
    "- Let $n = 500$\n",
    "- Generate \"vec_x\" from a normal (loc = 0,scale = 1,size = n)\n",
    "- Generate \"vex_z\" from a normal (loc = 5,scale = 1,size = n)\n",
    "- Plot two histograms\n",
    "    - Label the axes and title\n",
    "    - Each graph should have a different title\n",
    " \n",
    "To get full points, plot the scatter plots on a single row using the <br>\n",
    "subplots syntax (see Lecture 6)"
   ]
  },
  {
   "cell_type": "code",
   "execution_count": 6,
   "metadata": {},
   "outputs": [
    {
     "data": {
      "text/plain": [
       "Text(291.3585858585858, 0.5, 'Frequency')"
      ]
     },
     "execution_count": 6,
     "metadata": {},
     "output_type": "execute_result"
    },
    {
     "data": {
      "image/png": "[encoded data removed]",
      "text/plain": [
       "<Figure size 600x300 with 2 Axes>"
      ]
     },
     "metadata": {},
     "output_type": "display_data"
    }
   ],
   "source": [
    "# Write your answer here:\n",
    "n=500\n",
    "vec_x = np.random.normal(loc = 0, scale = 1, size = n)\n",
    "vec_y = np.random.normal(loc = 5, scale = 1, size = n)\n",
    "\n",
    "fig, list_subfig = plt.subplots(1, 2,figsize = (6,3))\n",
    "plt.tight_layout()\n",
    "\n",
    "# First Figure\n",
    "list_subfig[0].hist(x = vec_x)\n",
    "list_subfig[0].set_title(\"Normal Distribution with mean 0\")\n",
    "list_subfig[0].set_xlabel(\"Value\")\n",
    "list_subfig[0].set_ylabel(\"Frequency\")\n",
    "\n",
    "# Second Figure\n",
    "list_subfig[1].hist(x = vec_y)\n",
    "list_subfig[1].set_title(\"Normal Distribution with mean 5\")\n",
    "list_subfig[1].set_xlabel(\"Value\")\n",
    "list_subfig[1].set_ylabel(\"Frequency\")\n",
    "\n"
   ]
  },
  {
   "cell_type": "markdown",
   "metadata": {},
   "source": [
    "<font size = \"5\">\n",
    "\n",
    "(d) Combine information across datasets\n",
    "\n",
    "<font size = \"3\">\n",
    "\n",
    "- Read the dataset \"/data_quiz/germany_co2_emissions.csv\" and store it as \"data_germany\"\n",
    "- View the dataset, and see what variables it contains\n",
    "- Plot a figure on CO2 emissions with the following characteristics\n",
    "    - The yearly variable on the x-axis.\n",
    "    - Plots of Germany's CO2 emissions on the y-axis.\n",
    "    - Label the axes\n"
   ]
  },
  {
   "cell_type": "code",
   "execution_count": 3,
   "metadata": {},
   "outputs": [
    {
     "data": {
      "image/png": "[encoded data removed]",
      "text/plain": [
       "<Figure size 640x480 with 1 Axes>"
      ]
     },
     "metadata": {},
     "output_type": "display_data"
    }
   ],
   "source": [
    "# Write your answer here:\n",
    "germany = pd.read_csv('data_quiz/germany_co2_emissions.csv')\n",
    "germany\n",
    "\n",
    "plt.scatter(x = germany['year'], y = germany['total_emissions'])\n",
    "plt.title(\"germany emissions\")\n",
    "plt.xlabel(\"years\")\n",
    "plt.ylabel(\"emissions\")\n",
    "plt.show()\n",
    "\n",
    "\n",
    "\n"
   ]
  },
  {
   "attachments": {},
   "cell_type": "markdown",
   "metadata": {},
   "source": [
    "<font size = \"5\">\n",
    "\n",
    "(e) Loop through dfferent variables and plot\n",
    "\n",
    "\n",
    "<font size = \"3\">\n",
    "\n",
    "- Read the dataset \"data_quiz/wdi_ageprop_2020.csv\"\n",
    "- Create a list of variable names with the following elements:\n",
    "\n",
    "``` list_varnames = [\"percent_ages0to14\",\"percent_ages15to64\"]  ```\n",
    "\n",
    "- Run a for loop that computes the mean for each variable and print it on screen.\n"
   ]
  },
  {
   "cell_type": "code",
   "execution_count": 14,
   "metadata": {},
   "outputs": [
    {
     "ename": "TypeError",
     "evalue": "'str' object is not callable",
     "output_type": "error",
     "traceback": [
      "\u001b[0;31m---------------------------------------------------------------------------\u001b[0m",
      "\u001b[0;31mTypeError\u001b[0m                                 Traceback (most recent call last)",
      "Cell \u001b[0;32mIn[14], line 9\u001b[0m\n\u001b[1;32m      7\u001b[0m value \u001b[38;5;241m=\u001b[39m x\u001b[38;5;241m.\u001b[39mmean()\n\u001b[1;32m      8\u001b[0m index \u001b[38;5;241m=\u001b[39m index\u001b[38;5;241m+\u001b[39m\u001b[38;5;241m1\u001b[39m\n\u001b[0;32m----> 9\u001b[0m \u001b[38;5;28;43mprint\u001b[39;49m\u001b[43m(\u001b[49m\u001b[43mvalue\u001b[49m\u001b[43m)\u001b[49m\n",
      "\u001b[0;31mTypeError\u001b[0m: 'str' object is not callable"
     ]
    }
   ],
   "source": [
    "# Write your answer here:\n",
    "germany = pd.read_csv('data_quiz/wdi_ageprop_2020.csv')\n",
    "list_varnames = [\"percent_ages0to14\",\"percent_ages15to64\"]\n",
    "for value in list_varnames:\n",
    "    index = 0\n",
    "    x = germany[list_varnames[index]]\n",
    "    value = x.mean()\n",
    "    index = index+1\n",
    "    print(value)\n"
   ]
  },
  {
   "cell_type": "markdown",
   "metadata": {},
   "source": [
    "<font size = \"5\">\n",
    "\n",
    "(f) Run loop through different datasets and compute statistics\n",
    "\n",
    "<font size = \"3\">\n",
    "\n",
    "- Create a list with the \".csv\" dataset names of two countries. For example, <br>\n",
    "``` [\"data_quiz/name1.csv\",\"data_quiz/name2.csv\"] ```\n",
    "\n",
    "- Create an empty list called ``` list_emissions ```\n",
    "\n",
    "- Run a for-loop over the list of dataset names. Inside the loop:\n",
    "    - Read the corresponding \".csv\" dataset.\n",
    "    - Compute the mean of \"total_emissions\" for each respective country, <br>\n",
    "    and store it as an element of ```list_emissions```\n",
    "\n",
    "- Print ```list_emissions```\n",
    "\n",
    "HINT: Use ```.append()``` (See Lecture 5)\n"
   ]
  },
  {
   "cell_type": "code",
   "execution_count": 49,
   "metadata": {},
   "outputs": [
    {
     "name": "stdout",
     "output_type": "stream",
     "text": [
      "[    year  total_emissions\n",
      "0   1990    955310.000000\n",
      "1   1991    932550.000000\n",
      "2   1992    892820.000000\n",
      "3   1993    887060.000000\n",
      "4   1994    875900.000000\n",
      "5   1995    874660.000000\n",
      "6   1996    904340.000000\n",
      "7   1997    872650.000000\n",
      "8   1998    865250.000000\n",
      "9   1999    833590.000000\n",
      "10  2000    830280.000000\n",
      "11  2001    847680.000000\n",
      "12  2002    833380.004883\n",
      "13  2003    836789.978027\n",
      "14  2004    821070.007324\n",
      "15  2005    802380.004883\n",
      "16  2006    814409.973145\n",
      "17  2007    783799.987793\n",
      "18  2008    789690.002441\n",
      "19  2009    734809.997559\n",
      "20  2010    773070.007324\n",
      "21  2011    746479.980469\n",
      "22  2012    760130.004883\n",
      "23  2013    776150.024414\n",
      "24  2014    736010.009766\n",
      "25  2015    742309.997559\n",
      "26  2016    747150.024414\n",
      "27  2017    732200.012207\n",
      "28  2018    707700.012207\n",
      "29  2019    657400.024414,     year  total_emissions\n",
      "0   1990    955310.000000\n",
      "1   1991    932550.000000\n",
      "2   1992    892820.000000\n",
      "3   1993    887060.000000\n",
      "4   1994    875900.000000\n",
      "5   1995    874660.000000\n",
      "6   1996    904340.000000\n",
      "7   1997    872650.000000\n",
      "8   1998    865250.000000\n",
      "9   1999    833590.000000\n",
      "10  2000    830280.000000\n",
      "11  2001    847680.000000\n",
      "12  2002    833380.004883\n",
      "13  2003    836789.978027\n",
      "14  2004    821070.007324\n",
      "15  2005    802380.004883\n",
      "16  2006    814409.973145\n",
      "17  2007    783799.987793\n",
      "18  2008    789690.002441\n",
      "19  2009    734809.997559\n",
      "20  2010    773070.007324\n",
      "21  2011    746479.980469\n",
      "22  2012    760130.004883\n",
      "23  2013    776150.024414\n",
      "24  2014    736010.009766\n",
      "25  2015    742309.997559\n",
      "26  2016    747150.024414\n",
      "27  2017    732200.012207\n",
      "28  2018    707700.012207\n",
      "29  2019    657400.024414]\n"
     ]
    }
   ],
   "source": [
    "# Write your answer here:\n",
    "list = [\"data_quiz/germany_co2_emissions.csv\",\"data_quiz/india_co2_emissions.csv\"]\n",
    "list_emissions = []\n",
    "index = 0\n",
    "for value in list:\n",
    "    x= list[0]\n",
    "    data = pd.read_csv(x)\n",
    "    index = index+1\n",
    "    list_emissions.append(data)\n",
    "\n",
    "print(list_emissions)\n",
    "\n"
   ]
  }
 ],
 "metadata": {
  "kernelspec": {
   "display_name": "Python 3",
   "language": "python",
   "name": "python3"
  },
  "language_info": {
   "codemirror_mode": {
    "name": "ipython",
    "version": 3
   },
   "file_extension": ".py",
   "mimetype": "text/x-python",
   "name": "python",
   "nbconvert_exporter": "python",
   "pygments_lexer": "ipython3",
   "version": "3.12.4"
  },
  "orig_nbformat": 4
 },
 "nbformat": 4,
 "nbformat_minor": 2
}
