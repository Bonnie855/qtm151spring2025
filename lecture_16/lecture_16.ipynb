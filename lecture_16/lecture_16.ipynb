{
 "cells": [
  {
   "attachments": {},
   "cell_type": "markdown",
   "metadata": {},
   "source": [
    "# <span style=\"color:darkblue\"> Lecture 16 - Time Data </span>\n",
    "\n",
    "<font size = \"5\">\n",
    "\n",
    "In  the last lecture we ...\n",
    "- Completed the module on SQL\n",
    "- Learned about escape characters\n",
    "\n",
    "\n",
    "In  this lecture we will ...\n",
    "\n",
    "- Process time data in Python\n",
    "- Learn about wildcards"
   ]
  },
  {
   "attachments": {},
   "cell_type": "markdown",
   "metadata": {},
   "source": [
    "# <span style=\"color:darkblue\"> I. Import Libraries and Data </span>"
   ]
  },
  {
   "cell_type": "markdown",
   "metadata": {},
   "source": [
    "<font size = \"5\">\n",
    "\n",
    "Import libraries"
   ]
  },
  {
   "cell_type": "code",
<<<<<<< HEAD
   "execution_count": 4,
=======
   "execution_count": 1,
>>>>>>> upstream/main
   "metadata": {},
   "outputs": [
    {
     "name": "stdout",
     "output_type": "stream",
     "text": [
      "Intel MKL WARNING: Support of Intel(R) Streaming SIMD Extensions 4.2 (Intel(R) SSE4.2) enabled only processors has been deprecated. Intel oneAPI Math Kernel Library 2025.0 will require Intel(R) Advanced Vector Extensions (Intel(R) AVX) instructions.\n",
      "Intel MKL WARNING: Support of Intel(R) Streaming SIMD Extensions 4.2 (Intel(R) SSE4.2) enabled only processors has been deprecated. Intel oneAPI Math Kernel Library 2025.0 will require Intel(R) Advanced Vector Extensions (Intel(R) AVX) instructions.\n"
     ]
    }
   ],
   "source": [
    "# \"pandas\" processes datasets\n",
    "# \"maplotlib.pyplot\" generates graphs\n",
    "# \"maplotlib.dates\" has advanced options for plotting dates\n",
    "# \"datetime\" handles date information\n",
    "\n",
    "import pandas as pd\n",
    "import matplotlib.pyplot as plt\n",
    "import matplotlib.dates as mdates\n",
    "from datetime import date, time, datetime"
   ]
  },
  {
   "attachments": {},
   "cell_type": "markdown",
   "metadata": {},
   "source": [
    "<font size = \"5\">\n",
    "\n",
    "Import data"
   ]
  },
  {
   "cell_type": "code",
<<<<<<< HEAD
   "execution_count": 5,
=======
   "execution_count": 2,
>>>>>>> upstream/main
   "metadata": {},
   "outputs": [],
   "source": [
    "financial = pd.read_csv(\"data_raw/financial.csv\")"
   ]
  },
  {
   "attachments": {},
   "cell_type": "markdown",
   "metadata": {},
   "source": [
    "<font size = \"5\">\n",
    "\n",
    "\"Parse\" time columns"
   ]
  },
  {
   "cell_type": "code",
<<<<<<< HEAD
   "execution_count": 7,
=======
   "execution_count": 3,
>>>>>>> upstream/main
   "metadata": {},
   "outputs": [],
   "source": [
    "# Convert string column to datetime format\n",
    "# If the date format is simple, you can also parse on input as\n",
    "# financial = pd.read_csv(\"data_raw/financial.csv\",parse_dates = [\"date\"]\n",
    "# See advanced options for parsing further in the lecture...\n",
    "\n",
    "financial[\"date\"] = pd.to_datetime(financial[\"date_str\"])"
   ]
  },
  {
   "attachments": {},
   "cell_type": "markdown",
   "metadata": {},
   "source": [
    "<font size = \"5\">\n",
    "\n",
    "Check Types"
   ]
  },
  {
   "cell_type": "code",
<<<<<<< HEAD
   "execution_count": 10,
=======
   "execution_count": 4,
>>>>>>> upstream/main
   "metadata": {},
   "outputs": [
    {
     "data": {
      "text/plain": [
       "date_str            object\n",
       "sp500              float64\n",
       "djia               float64\n",
       "date_ex1            object\n",
       "date_ex2            object\n",
       "date_ex3            object\n",
       "date        datetime64[ns]\n",
       "dtype: object"
      ]
     },
<<<<<<< HEAD
     "execution_count": 10,
=======
     "execution_count": 4,
>>>>>>> upstream/main
     "metadata": {},
     "output_type": "execute_result"
    }
   ],
   "source": [
    "# Standard data types are \"int\", \"str\", \"float\", and \"bool\"\n",
    "# There is also a \"datetime\" types\n",
    "\n",
    "financial.dtypes"
   ]
  },
  {
   "attachments": {},
   "cell_type": "markdown",
   "metadata": {},
   "source": [
    "<font size = \"5\">\n",
    "\n",
    "Visualize time data"
   ]
  },
  {
   "cell_type": "code",
<<<<<<< HEAD
   "execution_count": 11,
=======
   "execution_count": 5,
>>>>>>> upstream/main
   "metadata": {},
   "outputs": [
    {
     "data": {
      "text/plain": [
       "Timestamp('2018-04-04 00:00:00')"
      ]
     },
<<<<<<< HEAD
     "execution_count": 11,
=======
     "execution_count": 5,
>>>>>>> upstream/main
     "metadata": {},
     "output_type": "execute_result"
    }
   ],
   "source": [
    "financial['date'][0]"
   ]
  },
  {
   "cell_type": "code",
<<<<<<< HEAD
   "execution_count": 12,
=======
   "execution_count": 6,
>>>>>>> upstream/main
   "metadata": {},
   "outputs": [
    {
     "data": {
      "application/vnd.microsoft.datawrangler.viewer.v0+json": {
       "columns": [
        {
         "name": "index",
         "rawType": "int64",
         "type": "integer"
        },
        {
         "name": "date_str",
         "rawType": "object",
         "type": "string"
        },
        {
         "name": "sp500",
         "rawType": "float64",
         "type": "float"
        },
        {
         "name": "djia",
         "rawType": "float64",
         "type": "float"
        },
        {
         "name": "date_ex1",
         "rawType": "object",
         "type": "string"
        },
        {
         "name": "date_ex2",
         "rawType": "object",
         "type": "string"
        },
        {
         "name": "date_ex3",
         "rawType": "object",
         "type": "string"
        },
        {
         "name": "date",
         "rawType": "datetime64[ns]",
         "type": "datetime"
        }
       ],
       "conversionMethod": "pd.DataFrame",
<<<<<<< HEAD
       "ref": "d735347e-64ec-4146-89d2-8fb27f1b44de",
=======
       "ref": "c6d58ea6-8eb0-4a87-a136-3d2d5e25ccce",
>>>>>>> upstream/main
       "rows": [
        [
         "1304",
         "4/4/2023",
         "4100.6",
         "33402.38",
         "April 04 2023",
         "Tuesday, 2023-04-04",
         "4-Apr-23",
         "2023-04-04 00:00:00"
        ],
        [
         "1303",
         "4/3/2023",
         "4124.51",
         "33601.15",
         "April 03 2023",
         "Monday, 2023-04-03",
         "3-Apr-23",
         "2023-04-03 00:00:00"
        ],
        [
         "1302",
         "3/31/2023",
         "4109.31",
         "33274.15",
         "March 31 2023",
         "Friday, 2023-03-31",
         "31-Mar-23",
         "2023-03-31 00:00:00"
        ],
        [
         "1301",
         "3/30/2023",
         "4050.83",
         "32859.03",
         "March 30 2023",
         "Thursday, 2023-03-30",
         "30-Mar-23",
         "2023-03-30 00:00:00"
        ],
        [
         "1300",
         "3/29/2023",
         "4027.81",
         "32717.6",
         "March 29 2023",
         "Wednesday, 2023-03-29",
         "29-Mar-23",
         "2023-03-29 00:00:00"
        ],
        [
         "1299",
         "3/28/2023",
         "3971.27",
         "32394.25",
         "March 28 2023",
         "Tuesday, 2023-03-28",
         "28-Mar-23",
         "2023-03-28 00:00:00"
        ],
        [
         "1298",
         "3/27/2023",
         "3977.53",
         "32432.08",
         "March 27 2023",
         "Monday, 2023-03-27",
         "27-Mar-23",
         "2023-03-27 00:00:00"
        ],
        [
         "1297",
         "3/24/2023",
         "3970.99",
         "32237.53",
         "March 24 2023",
         "Friday, 2023-03-24",
         "24-Mar-23",
         "2023-03-24 00:00:00"
        ],
        [
         "1296",
         "3/23/2023",
         "3948.72",
         "32105.25",
         "March 23 2023",
         "Thursday, 2023-03-23",
         "23-Mar-23",
         "2023-03-23 00:00:00"
        ],
        [
         "1295",
         "3/22/2023",
         "3936.97",
         "32030.11",
         "March 22 2023",
         "Wednesday, 2023-03-22",
         "22-Mar-23",
         "2023-03-22 00:00:00"
        ],
        [
         "1294",
         "3/21/2023",
         "4002.87",
         "32560.6",
         "March 21 2023",
         "Tuesday, 2023-03-21",
         "21-Mar-23",
         "2023-03-21 00:00:00"
        ],
        [
         "1293",
         "3/20/2023",
         "3951.57",
         "32244.58",
         "March 20 2023",
         "Monday, 2023-03-20",
         "20-Mar-23",
         "2023-03-20 00:00:00"
        ],
        [
         "1292",
         "3/17/2023",
         "3916.64",
         "31861.98",
         "March 17 2023",
         "Friday, 2023-03-17",
         "17-Mar-23",
         "2023-03-17 00:00:00"
        ],
        [
         "1291",
         "3/16/2023",
         "3960.28",
         "32246.55",
         "March 16 2023",
         "Thursday, 2023-03-16",
         "16-Mar-23",
         "2023-03-16 00:00:00"
        ],
        [
         "1290",
         "3/15/2023",
         "3891.93",
         "31874.57",
         "March 15 2023",
         "Wednesday, 2023-03-15",
         "15-Mar-23",
         "2023-03-15 00:00:00"
        ],
        [
         "1289",
         "3/14/2023",
         "3919.29",
         "32155.4",
         "March 14 2023",
         "Tuesday, 2023-03-14",
         "14-Mar-23",
         "2023-03-14 00:00:00"
        ],
        [
         "1288",
         "3/13/2023",
         "3855.76",
         "31819.14",
         "March 13 2023",
         "Monday, 2023-03-13",
         "13-Mar-23",
         "2023-03-13 00:00:00"
        ],
        [
         "1287",
         "3/10/2023",
         "3861.59",
         "31909.64",
         "March 10 2023",
         "Friday, 2023-03-10",
         "10-Mar-23",
         "2023-03-10 00:00:00"
        ],
        [
         "1286",
         "3/9/2023",
         "3918.32",
         "32254.86",
         "March 09 2023",
         "Thursday, 2023-03-09",
         "9-Mar-23",
         "2023-03-09 00:00:00"
        ],
        [
         "1285",
         "3/8/2023",
         "3992.01",
         "32798.4",
         "March 08 2023",
         "Wednesday, 2023-03-08",
         "8-Mar-23",
         "2023-03-08 00:00:00"
        ],
        [
         "1284",
         "3/7/2023",
         "3986.37",
         "32856.46",
         "March 07 2023",
         "Tuesday, 2023-03-07",
         "7-Mar-23",
         "2023-03-07 00:00:00"
        ],
        [
         "1283",
         "3/6/2023",
         "4048.42",
         "33431.44",
         "March 06 2023",
         "Monday, 2023-03-06",
         "6-Mar-23",
         "2023-03-06 00:00:00"
        ],
        [
         "1282",
         "3/3/2023",
         "4045.64",
         "33390.97",
         "March 03 2023",
         "Friday, 2023-03-03",
         "3-Mar-23",
         "2023-03-03 00:00:00"
        ],
        [
         "1281",
         "3/2/2023",
         "3981.35",
         "33003.57",
         "March 02 2023",
         "Thursday, 2023-03-02",
         "2-Mar-23",
         "2023-03-02 00:00:00"
        ],
        [
         "1280",
         "3/1/2023",
         "3951.39",
         "32661.84",
         "March 01 2023",
         "Wednesday, 2023-03-01",
         "1-Mar-23",
         "2023-03-01 00:00:00"
        ],
        [
         "1279",
         "2/28/2023",
         "3970.15",
         "32656.7",
         "February 28 2023",
         "Tuesday, 2023-02-28",
         "28-Feb-23",
         "2023-02-28 00:00:00"
        ],
        [
         "1278",
         "2/27/2023",
         "3982.24",
         "32889.09",
         "February 27 2023",
         "Monday, 2023-02-27",
         "27-Feb-23",
         "2023-02-27 00:00:00"
        ],
        [
         "1277",
         "2/24/2023",
         "3970.04",
         "32816.92",
         "February 24 2023",
         "Friday, 2023-02-24",
         "24-Feb-23",
         "2023-02-24 00:00:00"
        ],
        [
         "1276",
         "2/23/2023",
         "4012.32",
         "33153.91",
         "February 23 2023",
         "Thursday, 2023-02-23",
         "23-Feb-23",
         "2023-02-23 00:00:00"
        ],
        [
         "1275",
         "2/22/2023",
         "3991.05",
         "33045.09",
         "February 22 2023",
         "Wednesday, 2023-02-22",
         "22-Feb-23",
         "2023-02-22 00:00:00"
        ],
        [
         "1274",
         "2/21/2023",
         "3997.34",
         "33129.59",
         "February 21 2023",
         "Tuesday, 2023-02-21",
         "21-Feb-23",
         "2023-02-21 00:00:00"
        ],
        [
         "1273",
         "2/20/2023",
         null,
         null,
         "February 20 2023",
         "Monday, 2023-02-20",
         "20-Feb-23",
         "2023-02-20 00:00:00"
        ],
        [
         "1272",
         "2/17/2023",
         "4079.09",
         "33826.69",
         "February 17 2023",
         "Friday, 2023-02-17",
         "17-Feb-23",
         "2023-02-17 00:00:00"
        ],
        [
         "1271",
         "2/16/2023",
         "4090.41",
         "33696.85",
         "February 16 2023",
         "Thursday, 2023-02-16",
         "16-Feb-23",
         "2023-02-16 00:00:00"
        ],
        [
         "1270",
         "2/15/2023",
         "4147.6",
         "34128.05",
         "February 15 2023",
         "Wednesday, 2023-02-15",
         "15-Feb-23",
         "2023-02-15 00:00:00"
        ],
        [
         "1269",
         "2/14/2023",
         "4136.13",
         "34089.27",
         "February 14 2023",
         "Tuesday, 2023-02-14",
         "14-Feb-23",
         "2023-02-14 00:00:00"
        ],
        [
         "1268",
         "2/13/2023",
         "4137.29",
         "34245.93",
         "February 13 2023",
         "Monday, 2023-02-13",
         "13-Feb-23",
         "2023-02-13 00:00:00"
        ],
        [
         "1267",
         "2/10/2023",
         "4090.46",
         "33869.27",
         "February 10 2023",
         "Friday, 2023-02-10",
         "10-Feb-23",
         "2023-02-10 00:00:00"
        ],
        [
         "1266",
         "2/9/2023",
         "4081.5",
         "33699.88",
         "February 09 2023",
         "Thursday, 2023-02-09",
         "9-Feb-23",
         "2023-02-09 00:00:00"
        ],
        [
         "1265",
         "2/8/2023",
         "4117.86",
         "33949.01",
         "February 08 2023",
         "Wednesday, 2023-02-08",
         "8-Feb-23",
         "2023-02-08 00:00:00"
        ],
        [
         "1264",
         "2/7/2023",
         "4164.0",
         "34156.69",
         "February 07 2023",
         "Tuesday, 2023-02-07",
         "7-Feb-23",
         "2023-02-07 00:00:00"
        ],
        [
         "1263",
         "2/6/2023",
         "4111.08",
         "33891.02",
         "February 06 2023",
         "Monday, 2023-02-06",
         "6-Feb-23",
         "2023-02-06 00:00:00"
        ],
        [
         "1262",
         "2/3/2023",
         "4136.48",
         "33926.01",
         "February 03 2023",
         "Friday, 2023-02-03",
         "3-Feb-23",
         "2023-02-03 00:00:00"
        ],
        [
         "1261",
         "2/2/2023",
         "4179.76",
         "34053.94",
         "February 02 2023",
         "Thursday, 2023-02-02",
         "2-Feb-23",
         "2023-02-02 00:00:00"
        ],
        [
         "1260",
         "2/1/2023",
         "4119.21",
         "34092.96",
         "February 01 2023",
         "Wednesday, 2023-02-01",
         "1-Feb-23",
         "2023-02-01 00:00:00"
        ],
        [
         "1259",
         "1/31/2023",
         "4076.6",
         "34086.04",
         "January 31 2023",
         "Tuesday, 2023-01-31",
         "31-Jan-23",
         "2023-01-31 00:00:00"
        ],
        [
         "1258",
         "1/30/2023",
         "4017.77",
         "33717.09",
         "January 30 2023",
         "Monday, 2023-01-30",
         "30-Jan-23",
         "2023-01-30 00:00:00"
        ],
        [
         "1257",
         "1/27/2023",
         "4070.56",
         "33978.08",
         "January 27 2023",
         "Friday, 2023-01-27",
         "27-Jan-23",
         "2023-01-27 00:00:00"
        ],
        [
         "1256",
         "1/26/2023",
         "4060.43",
         "33949.41",
         "January 26 2023",
         "Thursday, 2023-01-26",
         "26-Jan-23",
         "2023-01-26 00:00:00"
        ],
        [
         "1255",
         "1/25/2023",
         "4016.22",
         "33743.84",
         "January 25 2023",
         "Wednesday, 2023-01-25",
         "25-Jan-23",
         "2023-01-25 00:00:00"
        ]
       ],
       "shape": {
        "columns": 7,
        "rows": 1305
       }
      },
      "text/html": [
       "<div>\n",
       "<style scoped>\n",
       "    .dataframe tbody tr th:only-of-type {\n",
       "        vertical-align: middle;\n",
       "    }\n",
       "\n",
       "    .dataframe tbody tr th {\n",
       "        vertical-align: top;\n",
       "    }\n",
       "\n",
       "    .dataframe thead th {\n",
       "        text-align: right;\n",
       "    }\n",
       "</style>\n",
       "<table border=\"1\" class=\"dataframe\">\n",
       "  <thead>\n",
       "    <tr style=\"text-align: right;\">\n",
       "      <th></th>\n",
       "      <th>date_str</th>\n",
       "      <th>sp500</th>\n",
       "      <th>djia</th>\n",
       "      <th>date_ex1</th>\n",
       "      <th>date_ex2</th>\n",
       "      <th>date_ex3</th>\n",
       "      <th>date</th>\n",
       "    </tr>\n",
       "  </thead>\n",
       "  <tbody>\n",
       "    <tr>\n",
       "      <th>1304</th>\n",
       "      <td>4/4/2023</td>\n",
       "      <td>4100.60</td>\n",
       "      <td>33402.38</td>\n",
       "      <td>April 04 2023</td>\n",
       "      <td>Tuesday, 2023-04-04</td>\n",
       "      <td>4-Apr-23</td>\n",
       "      <td>2023-04-04</td>\n",
       "    </tr>\n",
       "    <tr>\n",
       "      <th>1303</th>\n",
       "      <td>4/3/2023</td>\n",
       "      <td>4124.51</td>\n",
       "      <td>33601.15</td>\n",
       "      <td>April 03 2023</td>\n",
       "      <td>Monday, 2023-04-03</td>\n",
       "      <td>3-Apr-23</td>\n",
       "      <td>2023-04-03</td>\n",
       "    </tr>\n",
       "    <tr>\n",
       "      <th>1302</th>\n",
       "      <td>3/31/2023</td>\n",
       "      <td>4109.31</td>\n",
       "      <td>33274.15</td>\n",
       "      <td>March 31 2023</td>\n",
       "      <td>Friday, 2023-03-31</td>\n",
       "      <td>31-Mar-23</td>\n",
       "      <td>2023-03-31</td>\n",
       "    </tr>\n",
       "    <tr>\n",
       "      <th>1301</th>\n",
       "      <td>3/30/2023</td>\n",
       "      <td>4050.83</td>\n",
       "      <td>32859.03</td>\n",
       "      <td>March 30 2023</td>\n",
       "      <td>Thursday, 2023-03-30</td>\n",
       "      <td>30-Mar-23</td>\n",
       "      <td>2023-03-30</td>\n",
       "    </tr>\n",
       "    <tr>\n",
       "      <th>1300</th>\n",
       "      <td>3/29/2023</td>\n",
       "      <td>4027.81</td>\n",
       "      <td>32717.60</td>\n",
       "      <td>March 29 2023</td>\n",
       "      <td>Wednesday, 2023-03-29</td>\n",
       "      <td>29-Mar-23</td>\n",
       "      <td>2023-03-29</td>\n",
       "    </tr>\n",
       "    <tr>\n",
       "      <th>...</th>\n",
       "      <td>...</td>\n",
       "      <td>...</td>\n",
       "      <td>...</td>\n",
       "      <td>...</td>\n",
       "      <td>...</td>\n",
       "      <td>...</td>\n",
       "      <td>...</td>\n",
       "    </tr>\n",
       "    <tr>\n",
       "      <th>4</th>\n",
       "      <td>4/10/2018</td>\n",
       "      <td>2656.87</td>\n",
       "      <td>24408.00</td>\n",
       "      <td>April 10 2018</td>\n",
       "      <td>Tuesday, 2018-04-10</td>\n",
       "      <td>10-Apr-18</td>\n",
       "      <td>2018-04-10</td>\n",
       "    </tr>\n",
       "    <tr>\n",
       "      <th>3</th>\n",
       "      <td>4/9/2018</td>\n",
       "      <td>2613.16</td>\n",
       "      <td>23979.10</td>\n",
       "      <td>April 09 2018</td>\n",
       "      <td>Monday, 2018-04-09</td>\n",
       "      <td>9-Apr-18</td>\n",
       "      <td>2018-04-09</td>\n",
       "    </tr>\n",
       "    <tr>\n",
       "      <th>2</th>\n",
       "      <td>4/6/2018</td>\n",
       "      <td>2604.47</td>\n",
       "      <td>23932.76</td>\n",
       "      <td>April 06 2018</td>\n",
       "      <td>Friday, 2018-04-06</td>\n",
       "      <td>6-Apr-18</td>\n",
       "      <td>2018-04-06</td>\n",
       "    </tr>\n",
       "    <tr>\n",
       "      <th>1</th>\n",
       "      <td>4/5/2018</td>\n",
       "      <td>2662.84</td>\n",
       "      <td>24505.22</td>\n",
       "      <td>April 05 2018</td>\n",
       "      <td>Thursday, 2018-04-05</td>\n",
       "      <td>5-Apr-18</td>\n",
       "      <td>2018-04-05</td>\n",
       "    </tr>\n",
       "    <tr>\n",
       "      <th>0</th>\n",
       "      <td>4/4/2018</td>\n",
       "      <td>2644.69</td>\n",
       "      <td>24264.30</td>\n",
       "      <td>April 04 2018</td>\n",
       "      <td>Wednesday, 2018-04-04</td>\n",
       "      <td>4-Apr-18</td>\n",
       "      <td>2018-04-04</td>\n",
       "    </tr>\n",
       "  </tbody>\n",
       "</table>\n",
       "<p>1305 rows × 7 columns</p>\n",
       "</div>"
      ],
      "text/plain": [
       "       date_str    sp500      djia       date_ex1               date_ex2  \\\n",
       "1304   4/4/2023  4100.60  33402.38  April 04 2023    Tuesday, 2023-04-04   \n",
       "1303   4/3/2023  4124.51  33601.15  April 03 2023     Monday, 2023-04-03   \n",
       "1302  3/31/2023  4109.31  33274.15  March 31 2023     Friday, 2023-03-31   \n",
       "1301  3/30/2023  4050.83  32859.03  March 30 2023   Thursday, 2023-03-30   \n",
       "1300  3/29/2023  4027.81  32717.60  March 29 2023  Wednesday, 2023-03-29   \n",
       "...         ...      ...       ...            ...                    ...   \n",
       "4     4/10/2018  2656.87  24408.00  April 10 2018    Tuesday, 2018-04-10   \n",
       "3      4/9/2018  2613.16  23979.10  April 09 2018     Monday, 2018-04-09   \n",
       "2      4/6/2018  2604.47  23932.76  April 06 2018     Friday, 2018-04-06   \n",
       "1      4/5/2018  2662.84  24505.22  April 05 2018   Thursday, 2018-04-05   \n",
       "0      4/4/2018  2644.69  24264.30  April 04 2018  Wednesday, 2018-04-04   \n",
       "\n",
       "       date_ex3       date  \n",
       "1304   4-Apr-23 2023-04-04  \n",
       "1303   3-Apr-23 2023-04-03  \n",
       "1302  31-Mar-23 2023-03-31  \n",
       "1301  30-Mar-23 2023-03-30  \n",
       "1300  29-Mar-23 2023-03-29  \n",
       "...         ...        ...  \n",
       "4     10-Apr-18 2018-04-10  \n",
       "3      9-Apr-18 2018-04-09  \n",
       "2      6-Apr-18 2018-04-06  \n",
       "1      5-Apr-18 2018-04-05  \n",
       "0      4-Apr-18 2018-04-04  \n",
       "\n",
       "[1305 rows x 7 columns]"
      ]
     },
<<<<<<< HEAD
     "execution_count": 12,
=======
     "execution_count": 6,
>>>>>>> upstream/main
     "metadata": {},
     "output_type": "execute_result"
    }
   ],
   "source": [
    "financial.sort_values(\"date\",ascending = False)"
   ]
  },
  {
   "cell_type": "code",
<<<<<<< HEAD
   "execution_count": 13,
=======
   "execution_count": 7,
>>>>>>> upstream/main
   "metadata": {},
   "outputs": [
    {
     "data": {
      "text/plain": [
       "Text(0.5, 1.0, 'The evolution of the stock market')"
      ]
     },
<<<<<<< HEAD
     "execution_count": 13,
=======
     "execution_count": 7,
>>>>>>> upstream/main
     "metadata": {},
     "output_type": "execute_result"
    },
    {
     "data": {
<<<<<<< HEAD
      "image/png": "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",
=======
      "image/png": "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",
>>>>>>> upstream/main
      "text/plain": [
       "<Figure size 640x480 with 1 Axes>"
      ]
     },
     "metadata": {},
     "output_type": "display_data"
    }
   ],
   "source": [
    "# plt.plot() is used to create line plots\n",
    "# The first two arguments are column names for the (x,y) data\n",
    "# The third argument is the data\n",
    "# Make sure that the data is sorted, since the lines will be connected\n",
    "# based on the order of the dataset\n",
    "\n",
    "plt.plot(\"date\", \"sp500\",\n",
    "          data = financial)\n",
    "plt.xlabel(\"Time\")\n",
    "plt.ylabel(\"S&P 500 Index\")\n",
    "plt.title(\"The evolution of the stock market\")\n"
   ]
  },
  {
   "attachments": {},
   "cell_type": "markdown",
   "metadata": {},
   "source": [
    "<font size = \"5\">\n",
    "\n",
    "S&P 500 tracks the average performance of <br>\n",
    "of the largest companies in the US stock market\n",
    "\n",
    "$\\quad$ https://en.wikipedia.org/wiki/S%26P_500 <br>\n",
    "$\\quad$ https://fred.stlouisfed.org/series/SP500"
   ]
  },
  {
   "attachments": {},
   "cell_type": "markdown",
   "metadata": {},
   "source": [
    "<font size = \"5\">\n",
    "\n",
    "Try it yourself!\n",
    "\n",
    "- Generate a line plot which has the Dow Jones <br>\n",
    "Industrial Index (\"djia\") on the y-axis and <br>\n",
    "\"date\" on the x-axis."
   ]
  },
  {
   "cell_type": "code",
<<<<<<< HEAD
   "execution_count": 19,
=======
   "execution_count": 9,
>>>>>>> upstream/main
   "metadata": {},
   "outputs": [
    {
     "data": {
      "text/plain": [
<<<<<<< HEAD
       "Text(0.5, 1.0, 'data')"
      ]
     },
     "execution_count": 19,
=======
       "Text(0.5, 1.0, 'The evolution of the stock market')"
      ]
     },
     "execution_count": 9,
>>>>>>> upstream/main
     "metadata": {},
     "output_type": "execute_result"
    },
    {
     "data": {
<<<<<<< HEAD
      "image/png": "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",
=======
      "image/png": "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",
>>>>>>> upstream/main
      "text/plain": [
       "<Figure size 640x480 with 1 Axes>"
      ]
     },
     "metadata": {},
     "output_type": "display_data"
    }
   ],
   "source": [
    "# Write your own code\n",
    "\n",
<<<<<<< HEAD
    "plt.plot(\"date\", \"djia\", data = financial)\n",
    "plt.xlabel(\"date\")\n",
    "plt.ylabel(\"djia\")\n",
    "plt.title(\"data\")\n"
=======
    "plt.plot(\"date\", \"djia\",\n",
    "          data = financial)\n",
    "plt.xlabel(\"Time\")\n",
    "plt.ylabel(\"Dow Jones Index\")\n",
    "plt.title(\"The evolution of the stock market\")\n",
    "\n"
>>>>>>> upstream/main
   ]
  },
  {
   "attachments": {},
   "cell_type": "markdown",
   "metadata": {},
   "source": [
    "# <span style=\"color:darkblue\"> II. Dates + Wild Cards  </span>"
   ]
  },
  {
   "attachments": {},
   "cell_type": "markdown",
   "metadata": {},
   "source": [
    "<font size = \"5\">\n",
    "\n",
    "Convert to string (a)\n",
    "\n",
    "\n",
    "- A wildcard ```%``` is used to denote date formats\n",
    "- Useful when working with text data\n",
    "\n",
    "$\\quad$ <img src=\"figures/wildcards_fig1.png\" alt=\"drawing\" width=\"300\"/>"
   ]
  },
  {
   "cell_type": "code",
   "execution_count": 10,
   "metadata": {},
   "outputs": [
    {
     "data": {
      "text/plain": [
       "0       04\n",
       "1       04\n",
       "2       04\n",
       "3       04\n",
       "4       04\n",
       "        ..\n",
       "1300    03\n",
       "1301    03\n",
       "1302    03\n",
       "1303    04\n",
       "1304    04\n",
       "Name: month_str, Length: 1305, dtype: object"
      ]
     },
     "execution_count": 25,
     "metadata": {},
     "output_type": "execute_result"
    }
   ],
   "source": [
    "# \"String from time\" .dt.strftime()\n",
    "# The first argument needs to be a datetime type \n",
    "# The second argument is the format you want to use\n",
    "# Note: \"dt\" stands for datatime\n",
    "\n",
    "financial[\"month_str\"] = financial[\"date\"].dt.strftime(\"%m\")\n",
    "financial[\"week_str\"]  = financial[\"date\"].dt.strftime(\"%W\")\n"
   ]
  },
  {
   "attachments": {},
   "cell_type": "markdown",
   "metadata": {},
   "source": [
    "<font size = \"5\">\n",
    "\n",
    "Convert to string (b)\n",
    "\n",
    "$\\quad$ <img src=\"figures/wildcards_fig2.png\" alt=\"drawing\" width=\"400\"/>"
   ]
  },
  {
   "cell_type": "code",
   "execution_count": 11,
   "metadata": {},
   "outputs": [
    {
     "data": {
      "text/plain": [
       "0       April\n",
       "1       April\n",
       "2       April\n",
       "3       April\n",
       "4       April\n",
       "        ...  \n",
       "1300    March\n",
       "1301    March\n",
       "1302    March\n",
       "1303    April\n",
       "1304    April\n",
       "Name: monthname, Length: 1305, dtype: object"
      ]
     },
     "execution_count": 24,
     "metadata": {},
     "output_type": "execute_result"
    }
   ],
   "source": [
    "financial[\"monthname\"]   =  financial[\"date\"].dt.strftime(\"%B\")\n",
    "financial[\"weekdayname\"] =  financial[\"date\"].dt.strftime(\"%A\")"
   ]
  },
  {
   "attachments": {},
   "cell_type": "markdown",
   "metadata": {},
   "source": [
    "<font size = \"5\">\n",
    "\n",
    "Personalized format"
   ]
  },
  {
   "cell_type": "code",
   "execution_count": 18,
   "metadata": {},
   "outputs": [
    {
<<<<<<< HEAD
     "data": {
      "text/plain": [
       "0       This is the month of April\n",
       "1       This is the month of April\n",
       "2       This is the month of April\n",
       "3       This is the month of April\n",
       "4       This is the month of April\n",
       "                   ...            \n",
       "1300    This is the month of March\n",
       "1301    This is the month of March\n",
       "1302    This is the month of March\n",
       "1303    This is the month of April\n",
       "1304    This is the month of April\n",
       "Name: date, Length: 1305, dtype: object"
      ]
     },
     "execution_count": 26,
     "metadata": {},
     "output_type": "execute_result"
=======
     "name": "stdout",
     "output_type": "stream",
     "text": [
      "0       This is the month of April\n",
      "1       This is the month of April\n",
      "2       This is the month of April\n",
      "3       This is the month of April\n",
      "4       This is the month of April\n",
      "                   ...            \n",
      "1300    This is the month of March\n",
      "1301    This is the month of March\n",
      "1302    This is the month of March\n",
      "1303    This is the month of April\n",
      "1304    This is the month of April\n",
      "Name: date, Length: 1305, dtype: object\n",
      "0       The day of the week is Wednesday\n",
      "1        The day of the week is Thursday\n",
      "2          The day of the week is Friday\n",
      "3          The day of the week is Monday\n",
      "4         The day of the week is Tuesday\n",
      "                      ...               \n",
      "1300    The day of the week is Wednesday\n",
      "1301     The day of the week is Thursday\n",
      "1302       The day of the week is Friday\n",
      "1303       The day of the week is Monday\n",
      "1304      The day of the week is Tuesday\n",
      "Name: date, Length: 1305, dtype: object\n",
      "0       2018-04\n",
      "1       2018-04\n",
      "2       2018-04\n",
      "3       2018-04\n",
      "4       2018-04\n",
      "         ...   \n",
      "1300    2023-03\n",
      "1301    2023-03\n",
      "1302    2023-03\n",
      "1303    2023-04\n",
      "1304    2023-04\n",
      "Name: date, Length: 1305, dtype: object\n"
     ]
>>>>>>> upstream/main
    }
   ],
   "source": [
    "# Insert wildcards inside custom strings\n",
    "# Internally it will \"fill-in-the-blank\" with the corresponding information\n",
    "# You can use commas, dashes (--), slash (/) or other characters\n",
    "\n",
    "message_monthname =  financial[\"date\"].dt.strftime(\"This is the month of %B\")\n",
    "\n",
    "message_monthday  =  financial[\"date\"].dt.strftime(\"The day of the week is %A\")\n",
    "\n",
    "message_yearmonth =  financial[\"date\"].dt.strftime(\"%Y-%m\")\n",
    "\n",
    "\n",
    "print(message_monthname)\n",
    "print(message_monthday)\n",
    "print(message_yearmonth)\n"
   ]
  },
  {
   "attachments": {},
   "cell_type": "markdown",
   "metadata": {},
   "source": [
    "<font size = \"5\">\n",
    "\n",
    "Try it yourself!\n",
    "\n",
    "- Create a new column called \"date_test\" <br>\n",
    "  which has the format using ```.dt.strftime()```\n",
    "  \n",
    "$\\quad$ ```Monday, December 31, 2023 ```"
   ]
  },
  {
   "cell_type": "code",
<<<<<<< HEAD
   "execution_count": 31,
=======
   "execution_count": 23,
>>>>>>> upstream/main
   "metadata": {},
   "outputs": [
    {
     "data": {
      "text/plain": [
<<<<<<< HEAD
       "0       April,Wednesday 04,2018\n",
       "1        April,Thursday 05,2018\n",
       "2          April,Friday 06,2018\n",
       "3          April,Monday 09,2018\n",
       "4         April,Tuesday 10,2018\n",
       "                 ...           \n",
       "1300    March,Wednesday 29,2023\n",
       "1301     March,Thursday 30,2023\n",
       "1302       March,Friday 31,2023\n",
       "1303       April,Monday 03,2023\n",
       "1304      April,Tuesday 04,2023\n",
       "Name: data_test, Length: 1305, dtype: object"
      ]
     },
     "execution_count": 31,
=======
       "0       Wednesday, April 04, 2018\n",
       "1        Thursday, April 05, 2018\n",
       "2          Friday, April 06, 2018\n",
       "3          Monday, April 09, 2018\n",
       "4         Tuesday, April 10, 2018\n",
       "                  ...            \n",
       "1300    Wednesday, March 29, 2023\n",
       "1301     Thursday, March 30, 2023\n",
       "1302       Friday, March 31, 2023\n",
       "1303       Monday, April 03, 2023\n",
       "1304      Tuesday, April 04, 2023\n",
       "Name: date, Length: 1305, dtype: object"
      ]
     },
     "execution_count": 23,
>>>>>>> upstream/main
     "metadata": {},
     "output_type": "execute_result"
    }
   ],
   "source": [
    "# Write your own code\n",
    "financial[\"data_test\"] = financial[\"date\"].dt.strftime(\"%B,%A %d,%Y\")\n",
    "\n",
<<<<<<< HEAD
    "financial[\"data_test\"]"
=======
    "date_test = financial[\"date\"].dt.strftime(\"%A, %B %d, %Y\")\n",
    "\n",
    "date_test\n"
>>>>>>> upstream/main
   ]
  },
  {
   "attachments": {},
   "cell_type": "markdown",
   "metadata": {},
   "source": [
    "# <span style=\"color:darkblue\"> III. Data Operations </span>"
   ]
  },
  {
   "attachments": {},
   "cell_type": "markdown",
   "metadata": {},
   "source": [
    "<font size = \"5\">\n",
    "\n",
    "Parsing + wild cards\n",
    "\n",
    "$\\quad$ <img src=\"figures/wildcards_fig3.png\" alt=\"drawing\" width=\"400\"/>"
   ]
  },
  {
   "cell_type": "code",
   "execution_count": 25,
   "metadata": {},
   "outputs": [],
   "source": [
    "# Combine wildcards + characters depending on the input\n",
    "# Can include spaces, commas, \"/\", \"-\" or any other formatting\n",
    "# Be careful to include the wildcar letters in upper or lower case \n",
    "# depending on the intended format \n",
    "\n",
    "financial['date_ex1_dt'] = pd.to_datetime(financial[\"date_ex1\"], format = \"%B %d %Y\")\n",
    "financial['date_ex2_dt'] = pd.to_datetime(financial[\"date_ex2\"], format = \"%A, %Y-%m-%d\")\n"
   ]
  },
  {
   "cell_type": "markdown",
   "metadata": {},
   "source": [
    "**Does the following line of code work?** ```pd.to_datetime(financial[\"date_ex1\"], format = \"%A, %Y-%m-%d\")```"
   ]
  },
  {
   "attachments": {},
   "cell_type": "markdown",
   "metadata": {},
   "source": [
    "<font size = \"5\">\n",
    "\n",
    "Period grouping"
   ]
  },
  {
   "cell_type": "code",
<<<<<<< HEAD
   "execution_count": 35,
=======
   "execution_count": 27,
>>>>>>> upstream/main
   "metadata": {},
   "outputs": [
    {
     "name": "stderr",
     "output_type": "stream",
     "text": [
      "/var/folders/tb/tjzt7tks31986ckxl9t6pq1h0000gp/T/ipykernel_6749/3463313173.py:5: FutureWarning: 'y' is deprecated and will be removed in a future version, please use 'YE' instead.\n",
      "  month_config = pd.Grouper(key='date', freq='y')\n"
     ]
    },
    {
     "data": {
      "text/plain": [
       "TimeGrouper(key='date', freq=<YearEnd: month=12>, axis=0, sort=True, dropna=True, closed='right', label='right', how='mean', convention='e', origin='start_day')"
      ]
     },
     "execution_count": 35,
     "metadata": {},
     "output_type": "execute_result"
    }
   ],
   "source": [
    "# In \"freq\" specify the letter for the level of aggregation\n",
    "# year (y), month (m), week (w), day(d)\n",
    "# There are also more advanced options! See documentation\n",
    "\n",
    "month_config = pd.Grouper(key='date', freq='y')\n",
    "month_config"
   ]
  },
  {
   "attachments": {},
   "cell_type": "markdown",
   "metadata": {},
   "source": [
    "<font size = \"5\">\n",
    "\n",
    "Aggregate by period"
   ]
  },
  {
   "cell_type": "code",
   "execution_count": 29,
   "metadata": {},
   "outputs": [
    {
     "data": {
      "application/vnd.microsoft.datawrangler.viewer.v0+json": {
       "columns": [
        {
         "name": "index",
         "rawType": "int64",
         "type": "integer"
        },
        {
         "name": "date",
         "rawType": "datetime64[ns]",
         "type": "datetime"
        },
        {
         "name": "sp500_mean",
         "rawType": "float64",
         "type": "float"
        }
       ],
       "conversionMethod": "pd.DataFrame",
       "ref": "f29d4540-8267-441c-a72e-329df57ef17f",
       "rows": [
        [
         "0",
         "2018-12-31 00:00:00",
         "2751.9218617021274"
        ],
        [
         "1",
         "2019-12-31 00:00:00",
         "2913.3605555555555"
        ],
        [
         "2",
         "2020-12-31 00:00:00",
         "3217.8564822134385"
        ],
        [
         "3",
         "2021-12-31 00:00:00",
         "4273.406626984127"
        ],
        [
         "4",
         "2022-12-31 00:00:00",
         "4098.514741035857"
        ],
        [
         "5",
         "2023-12-31 00:00:00",
         "4003.57984375"
        ]
       ],
       "shape": {
        "columns": 2,
        "rows": 6
       }
      },
      "text/html": [
       "<div>\n",
       "<style scoped>\n",
       "    .dataframe tbody tr th:only-of-type {\n",
       "        vertical-align: middle;\n",
       "    }\n",
       "\n",
       "    .dataframe tbody tr th {\n",
       "        vertical-align: top;\n",
       "    }\n",
       "\n",
       "    .dataframe thead th {\n",
       "        text-align: right;\n",
       "    }\n",
       "</style>\n",
       "<table border=\"1\" class=\"dataframe\">\n",
       "  <thead>\n",
       "    <tr style=\"text-align: right;\">\n",
       "      <th></th>\n",
       "      <th>date</th>\n",
       "      <th>sp500_mean</th>\n",
       "    </tr>\n",
       "  </thead>\n",
       "  <tbody>\n",
       "    <tr>\n",
       "      <th>0</th>\n",
       "      <td>2018-12-31</td>\n",
       "      <td>2751.921862</td>\n",
       "    </tr>\n",
       "    <tr>\n",
       "      <th>1</th>\n",
       "      <td>2019-12-31</td>\n",
       "      <td>2913.360556</td>\n",
       "    </tr>\n",
       "    <tr>\n",
       "      <th>2</th>\n",
       "      <td>2020-12-31</td>\n",
       "      <td>3217.856482</td>\n",
       "    </tr>\n",
       "    <tr>\n",
       "      <th>3</th>\n",
       "      <td>2021-12-31</td>\n",
       "      <td>4273.406627</td>\n",
       "    </tr>\n",
       "    <tr>\n",
       "      <th>4</th>\n",
       "      <td>2022-12-31</td>\n",
       "      <td>4098.514741</td>\n",
       "    </tr>\n",
       "    <tr>\n",
       "      <th>5</th>\n",
       "      <td>2023-12-31</td>\n",
       "      <td>4003.579844</td>\n",
       "    </tr>\n",
       "  </tbody>\n",
       "</table>\n",
       "</div>"
      ],
      "text/plain": [
       "        date   sp500_mean\n",
       "0 2018-12-31  2751.921862\n",
       "1 2019-12-31  2913.360556\n",
       "2 2020-12-31  3217.856482\n",
       "3 2021-12-31  4273.406627\n",
       "4 2022-12-31  4098.514741\n",
       "5 2023-12-31  4003.579844"
      ]
     },
     "execution_count": 29,
     "metadata": {},
     "output_type": "execute_result"
    }
   ],
   "source": [
    "financial.groupby(month_config).agg(sp500_mean = (\"sp500\",\"mean\")).reset_index()"
   ]
  },
  {
   "cell_type": "code",
<<<<<<< HEAD
   "execution_count": 36,
=======
   "execution_count": 30,
>>>>>>> upstream/main
   "metadata": {},
   "outputs": [],
   "source": [
    "# Group on the period column\n",
    "# We use a wrapper () to split the command into multiple lines\n",
    "# The \".reset_index()\" option ensures that the grouper is\n",
    "# converted to a column. This is important for plotting.\n",
    "# There's a lot of options to \n",
    "\n",
    "monthlydata = (financial\n",
    "               .groupby(month_config) \n",
    "               .agg(sp500_mean = (\"sp500\",\"mean\"))\n",
    "               .reset_index())"
   ]
  },
  {
   "cell_type": "code",
<<<<<<< HEAD
   "execution_count": 37,
=======
   "execution_count": 31,
>>>>>>> upstream/main
   "metadata": {},
   "outputs": [
    {
     "data": {
      "application/vnd.microsoft.datawrangler.viewer.v0+json": {
       "columns": [
        {
         "name": "index",
         "rawType": "int64",
         "type": "integer"
        },
        {
         "name": "date",
         "rawType": "datetime64[ns]",
         "type": "datetime"
        },
        {
         "name": "sp500_mean",
         "rawType": "float64",
         "type": "float"
        }
       ],
       "conversionMethod": "pd.DataFrame",
<<<<<<< HEAD
       "ref": "57963800-f629-4b60-825b-4b37d5ff9f2d",
=======
       "ref": "4227f3e2-28ce-42e8-ae06-8484283587bd",
>>>>>>> upstream/main
       "rows": [
        [
         "0",
         "2018-12-31 00:00:00",
         "2751.9218617021274"
        ],
        [
         "1",
         "2019-12-31 00:00:00",
         "2913.3605555555555"
        ],
        [
         "2",
         "2020-12-31 00:00:00",
         "3217.8564822134385"
        ],
        [
         "3",
         "2021-12-31 00:00:00",
         "4273.406626984127"
        ],
        [
         "4",
         "2022-12-31 00:00:00",
         "4098.514741035857"
        ],
        [
         "5",
         "2023-12-31 00:00:00",
         "4003.57984375"
        ]
       ],
       "shape": {
        "columns": 2,
        "rows": 6
       }
      },
      "text/html": [
       "<div>\n",
       "<style scoped>\n",
       "    .dataframe tbody tr th:only-of-type {\n",
       "        vertical-align: middle;\n",
       "    }\n",
       "\n",
       "    .dataframe tbody tr th {\n",
       "        vertical-align: top;\n",
       "    }\n",
       "\n",
       "    .dataframe thead th {\n",
       "        text-align: right;\n",
       "    }\n",
       "</style>\n",
       "<table border=\"1\" class=\"dataframe\">\n",
       "  <thead>\n",
       "    <tr style=\"text-align: right;\">\n",
       "      <th></th>\n",
       "      <th>date</th>\n",
       "      <th>sp500_mean</th>\n",
       "    </tr>\n",
       "  </thead>\n",
       "  <tbody>\n",
       "    <tr>\n",
       "      <th>0</th>\n",
       "      <td>2018-12-31</td>\n",
       "      <td>2751.921862</td>\n",
       "    </tr>\n",
       "    <tr>\n",
       "      <th>1</th>\n",
       "      <td>2019-12-31</td>\n",
       "      <td>2913.360556</td>\n",
       "    </tr>\n",
       "    <tr>\n",
       "      <th>2</th>\n",
       "      <td>2020-12-31</td>\n",
       "      <td>3217.856482</td>\n",
       "    </tr>\n",
       "    <tr>\n",
       "      <th>3</th>\n",
       "      <td>2021-12-31</td>\n",
       "      <td>4273.406627</td>\n",
       "    </tr>\n",
       "    <tr>\n",
       "      <th>4</th>\n",
       "      <td>2022-12-31</td>\n",
       "      <td>4098.514741</td>\n",
       "    </tr>\n",
       "    <tr>\n",
       "      <th>5</th>\n",
       "      <td>2023-12-31</td>\n",
       "      <td>4003.579844</td>\n",
       "    </tr>\n",
       "  </tbody>\n",
       "</table>\n",
       "</div>"
      ],
      "text/plain": [
       "        date   sp500_mean\n",
       "0 2018-12-31  2751.921862\n",
       "1 2019-12-31  2913.360556\n",
       "2 2020-12-31  3217.856482\n",
       "3 2021-12-31  4273.406627\n",
       "4 2022-12-31  4098.514741\n",
       "5 2023-12-31  4003.579844"
      ]
     },
<<<<<<< HEAD
     "execution_count": 37,
=======
     "execution_count": 31,
>>>>>>> upstream/main
     "metadata": {},
     "output_type": "execute_result"
    }
   ],
   "source": [
    "monthlydata"
   ]
  },
  {
   "attachments": {},
   "cell_type": "markdown",
   "metadata": {},
   "source": [
    "<font size = \"5\">\n",
    "\n",
    "Plot aggregate data"
   ]
  },
  {
   "cell_type": "code",
<<<<<<< HEAD
   "execution_count": 38,
=======
   "execution_count": 32,
>>>>>>> upstream/main
   "metadata": {},
   "outputs": [
    {
     "data": {
      "text/plain": [
       "Text(0.5, 1.0, 'Monthly average stock market performance')"
      ]
     },
<<<<<<< HEAD
     "execution_count": 38,
=======
     "execution_count": 32,
>>>>>>> upstream/main
     "metadata": {},
     "output_type": "execute_result"
    },
    {
     "data": {
<<<<<<< HEAD
      "image/png": "iVBORw0KGgoAAAANSUhEUgAAAkQAAAHHCAYAAABeLEexAAAAOXRFWHRTb2Z0d2FyZQBNYXRwbG90bGliIHZlcnNpb24zLjkuMSwgaHR0cHM6Ly9tYXRwbG90bGliLm9yZy/TGe4hAAAACXBIWXMAAA9hAAAPYQGoP6dpAABvzUlEQVR4nO3dd1hUx/oH8O8usEvdpYMI2FAUFQtqxMReUNGfJhYssSQmRoM9V41papIba4rGmngTzU3sRmPsxG4kCigK9g5KUxGWIm13fn8ge11BBQUOsN/P8/AkO2fO2fcclrOvM3NmZEIIASIiIiIjJpc6ACIiIiKpMSEiIiIio8eEiIiIiIweEyIiIiIyekyIiIiIyOgxISIiIiKjx4SIiIiIjB4TIiIiIjJ6TIiIiIjI6DEhoipLJpNh3Lhxz623evVqyGQy3Lx5s+yDogqnuJ+TiqpDhw5o1KiR1GGUi7y8PEybNg0eHh6Qy+Xo27ev1CFRFcKEiEqsIIGQyWQ4duxYoe1CCHh4eEAmk6FXr15lGsvx48cxa9YspKSklOn7UPlbu3YtvvvuO6nDMCrnz5/HrFmzKuw/Dn766ScsWLAA/fv3x5o1azB58mSpQ6IqhAkRvTBzc3OsXbu2UPnhw4dx+/ZtKJXKMo/h+PHjmD17NhOiKogJUfk7f/48Zs+eXWETogMHDqB69er49ttvMWzYMLRv317qkKgKYUJEL6xnz57YtGkT8vLyDMrXrl0LPz8/uLq6ShQZFcjIyJA6BCojxvK7FULg4cOHAICkpCTY2tqW2rF1Oh2ysrJK7XhUuTEhohc2ePBg3L9/HyEhIfqynJwcbN68GUOGDClyn4yMDHzwwQfw8PCAUqmEt7c3Fi5cCCGEQb2CcR3btm1Do0aNoFQq0bBhQ+zZs0dfZ9asWZg6dSoAoFatWvpuvCf/dfusYxRlxIgRcHR0RG5ubqFt3bp1g7e39zP3P3r0KAYMGABPT08olUp4eHhg8uTJ+ps6ACxcuBAymQy3bt0qtP+MGTOgUCjw4MEDfdmJEyfQvXt3qNVqWFpaon379vj7778N9ps1axZkMhnOnz+PIUOGwM7ODq+99hoA4OzZsxg5ciRq164Nc3NzuLq64u2338b9+/cLvf+hQ4fQokULmJubo06dOli5cqX+2E/69ddf4efnBwsLC9jb22PQoEGIjY195vUBgLS0NEyaNAk1a9aEUqmEs7MzunbtilOnTgHIHxezc+dO3Lp1S/97rVmzpn7/pKQkjBo1Ci4uLjA3N0eTJk2wZs2aQu+j0+mwaNEiNG7cGObm5nByckL37t0RHh7+zPi+/PJLyOVyfP/998+sV/A53bRpE3x8fGBhYQF/f39ERUUBAFauXAkvLy+Ym5ujQ4cOhT6bxfmsAMDIkSNhbW2Na9euoWfPnrCxscHQoUOfGte+fftgaWmJwYMH6//BcvHiRfTv3x/29vYwNzdHixYtsH37dv0+q1evxoABAwAAHTt21F/3Q4cOPfV9CuK6fv06AgICYGVlBTc3N3z++eeF/qZ1Oh2+++47NGzYEObm5nBxccF7771n8DkHgJo1a6JXr17Yu3cvWrRoAQsLC6xcuRIymQwHDx7EuXPnCsVW0vvKb7/9hoYNG0KpVGLPnj36YQDHjh3DhAkT4OTkBFtbW7z33nvIyclBSkoKhg8fDjs7O9jZ2WHatGmFjr1w4UK0adMGDg4OsLCwgJ+fHzZv3lzomhXn3lbgzp07GDVqFNzc3KBUKlGrVi2MHTsWOTk5+jopKSmYNGmS/ty9vLwwb9486HS6p/7e6CkEUQn9/PPPAoAICwsTbdq0EcOGDdNv27Ztm5DL5eLOnTuiRo0aIjAwUL9Np9OJTp06CZlMJt555x2xZMkS0bt3bwFATJo0yeA9AIgmTZqIatWqiS+++EJ89913onbt2sLS0lLcu3dPCCHEmTNnxODBgwUA8e2334r//ve/4r///a9IT08v9jEeP58bN24IIYQICQkRAMSff/5pEFN8fLwwMTERn3/++TOvz/jx40XPnj3FV199JVauXClGjRolTExMRP/+/fV1bt26JWQymZg/f36h/WvXrm1w3fbv3y8UCoXw9/cXX3/9tfj222+Fr6+vUCgU4sSJE/p6M2fOFACEj4+P6NOnj1i2bJlYunSpEEKIhQsXirZt24rPP/9c/PDDD2LixInCwsJCtGrVSuh0Ov0xTp06JZRKpahZs6aYO3eu+Pe//y3c3NxEkyZNxJO3iy+//FLIZDIRFBQkli1bJmbPni0cHR1FzZo1xYMHD555jYYMGSIUCoWYMmWKWLVqlZg3b57o3bu3+PXXX4UQQuzbt080bdpUODo66n+vW7duFUIIkZmZKRo0aCDMzMzE5MmTxeLFi0Xbtm0FAPHdd98ZvM/IkSMFANGjRw/x3XffiYULF4o+ffqI77//Xl8HgAgODta//vjjj4VMJhM//PDDM8+hYF9fX1/h4eEh5s6dK+bOnSvUarXw9PQUS5YsET4+PuLrr78Wn3zyiVAoFKJjx44G+xfnsyKEECNGjBBKpVLUqVNHjBgxQqxYsUL88ssvQggh2rdvLxo2bKiv++effwqlUimGDx8u8vLyhBBCREdHC7VaLXx8fMS8efPEkiVLRLt27YRMJhO///67EEKIa9euiQkTJggA4qOPPtJf94SEhKee/4gRI4S5ubmoW7euGDZsmFiyZIno1auXACA+/fRTg7rvvPOOMDU1Fe+++65YsWKFmD59urCyshItW7YUOTk5+no1atQQXl5ews7OTnz44YdixYoVYseOHeK///2vqF+/vnB3dzeIraT3lQYNGggnJycxe/ZssXTpUnH69Gn9PaBp06aie/fuYunSpWLYsGECgJg2bZp47bXXxJAhQ8SyZcv057dmzRqDY7u7u4v3339fLFmyRHzzzTeiVatWAoDYsWNHoRiKc1+6c+eOcHNzE5aWlmLSpElixYoV4tNPPxUNGjTQ/31lZGQIX19f4eDgID766COxYsUKMXz4cCGTycTEiROf+nujojEhohJ7PCFasmSJsLGxEZmZmUIIIQYMGKC/6T+ZEG3btk0AEF9++aXB8fr37y9kMpm4evWqvgyAUCgUBmVnzpwRAAy+zBYsWGCQzDyuuMd4MiHSarXC3d1dBAUFGRzvm2++ETKZTFy/fv2Z16fgWjxuzpw5QiaTiVu3bunL/P39hZ+fn0G9kydPCgD6LzudTifq1q0rAgICDBKXzMxMUatWLdG1a1d9WUFCNHjw4GLFtG7dOgFAHDlyRF/Wu3dvYWlpKe7cuaMvu3LlijA1NTVIiG7evClMTEzEv//9b4NjRkVFCVNT00LlT1Kr1QZJSFECAwNFjRo1CpV/9913AoA+eRJCiJycHOHv7y+sra2FRqMRQghx4MABAUBMmDCh0DEev5aPJ0QffPCBkMvlYvXq1c+M7fF9lUqlwedv5cqVAoBwdXXVxyKEEDNmzCj0WS3uZ2XEiBECgPjwww8L1X88IdqyZYswMzMT7777rtBqtfo6nTt3Fo0bNxZZWVkG16BNmzaibt26+rJNmzYJAOLgwYPFOv+CuMaPH29w3MDAQKFQKMTdu3eFEEIcPXpUABC//fabwf579uwpVF6jRg0BQOzZs+eZ51qgpPcVuVwuzp07Z1C34B7w5N+Zv7+/kMlkYsyYMfqyvLw84e7uLtq3b29wjCd/lzk5OaJRo0aiU6dOBuXFvS8NHz5cyOVyERYWVug6FMT4xRdfCCsrK3H58mWD7R9++KEwMTERMTExhfalp2OXGb2UgQMH4uHDh9ixYwfS0tKwY8eOp3aX7dq1CyYmJpgwYYJB+QcffAAhBHbv3m1Q3qVLF9SpU0f/2tfXFyqVCtevXy92fC9yDLlcjqFDh2L79u1IS0vTl//2229o06YNatWq9cz3tLCw0P9/RkYG7t27hzZt2kAIgdOnT+u3BQUFISIiAteuXdOXbdiwAUqlEn369AEAREZG4sqVKxgyZAju37+Pe/fu4d69e8jIyEDnzp1x5MiRQk3jY8aMeWZMWVlZuHfvHlq3bg0A+m4qrVaLv/76C3379oWbm5u+vpeXF3r06GFwvN9//x06nQ4DBw7Ux3Tv3j24urqibt26OHjw4DOvka2tLU6cOIG4uLhn1ivKrl274OrqisGDB+vLzMzMMGHCBKSnp+Pw4cMAgC1btkAmk2HmzJmFjvFk958QAuPGjcOiRYvw66+/YsSIEcWOp3Pnzgbdea+88goAoF+/frCxsSlU/vhnr7iflQJjx459ahzr1q1DUFAQ3nvvPaxcuRJyef7tPTk5GQcOHMDAgQORlpam/13dv38fAQEBuHLlCu7cuVPs8y3K49MWFHQJ5eTk4K+//gIAbNq0CWq1Gl27djX4vPj5+cHa2rrQ56VWrVoICAgo1nuX9L7Svn17+Pj4FHmsUaNGGXw2XnnlFQghMGrUKH2ZiYkJWrRoUege8vjv8sGDB0hNTUXbtm31f1+Pe959SafTYdu2bejduzdatGhRaP+CGDdt2oS2bdvCzs7O4Lp26dIFWq0WR44cKfI8qWimUgdAlZuTkxO6dOmCtWvXIjMzE1qtFv379y+y7q1bt+Dm5mbwJQEADRo00G9/nKenZ6Fj2NnZFRpz8Cwveozhw4dj3rx52Lp1K4YPH45Lly4hIiICK1aseO57xsTE4LPPPsP27dsLvU9qaqr+/wcMGIApU6Zgw4YN+OijjyCEwKZNm9CjRw+oVCoAwJUrVwDgmV/QqampsLOz078uKmFLTk7G7NmzsX79eiQlJRUZU1JSEh4+fAgvL69C+z9ZduXKFQghULdu3SJjMjMze2q8ADB//nyMGDECHh4e8PPzQ8+ePTF8+HDUrl37mfsB+Z+TunXr6r/wCzz5Obp27Rrc3Nxgb2//3GP+8ssvSE9Px/Llyw0SreJ48jOmVqsBAB4eHkWWP/6ZKO5nBQBMTU3h7u5eZAw3btzAm2++iQEDBhQa93T16lUIIfDpp5/i008/LXL/pKQkVK9e/Wmn+ExyubzQ761evXoAoB8zdeXKFaSmpsLZ2fmp7/+45/2j43Elva8869gl+V0++fvasWMHvvzyS0RGRiI7O1tfXtTYu+fdl+7evQuNRvPc+aWuXLmCs2fPwsnJqcjtT15XejYmRPTShgwZgnfffRcJCQno0aNHqT0FYmJiUmS5eGIwY1kcw8fHB35+fvj1118xfPhw/Prrr1AoFBg4cOAz99NqtejatSuSk5Mxffp01K9fH1ZWVrhz5w5Gjhxp0Jrj5uaGtm3bYuPGjfjoo4/wzz//ICYmBvPmzdPXKai/YMECNG3atMj3tLa2Nnj9+L9UCwwcOBDHjx/H1KlT0bRpU1hbW0On06F79+4vNPhSp9NBJpNh9+7dRV7jJ2MqKp62bdti69at2LdvHxYsWIB58+bh999/L9QaVR5effVVREZGYsmSJRg4cGCxkqgCT/uMPe+zV5LPCgAolcpCSWCBatWqoVq1ati1axfCw8MNWhUKjvOvf/3rqa0uRSXBpUmn08HZ2Rm//fZbkduf/EIv6jNcWp517JL8Lh+/hxw9ehT/93//h3bt2mHZsmWoVq0azMzM8PPPPxc5NUlp3NuA/OvatWtXTJs2rcjtBYkpFQ8TInppr7/+Ot577z38888/2LBhw1Pr1ahRA3/99RfS0tIM/jV38eJF/faSKupfX6Vl+PDhmDJlCuLj47F27VoEBgYatMQUJSoqCpcvX8aaNWswfPhwffnjT+I9LigoCO+//z4uXbqEDRs2wNLSEr1799ZvL2hWV6lU6NKlywudx4MHD7B//37Mnj0bn332mb68oPWpgLOzM8zNzXH16tVCx3iyrE6dOhBCoFatWi98061WrRref/99vP/++0hKSkLz5s3x73//W58QPe13W6NGDZw9exY6nc4gQXjyc1SnTh3s3bsXycnJz01wvLy8MH/+fHTo0AHdu3fH/v37C7U4lLaSflaexdzcHDt27ECnTp3QvXt3HD58GA0bNgQAfeuNmZnZcz9DL/L3pNPpcP36dYPPweXLlwFA35VYp04d/PXXX3j11VdLPdkpi/tKSW3ZsgXm5ubYu3evwfxrP//88wsdz8nJCSqVCtHR0c+sV6dOHaSnp7/wvYEMcQwRvTRra2ssX74cs2bNMvgyf1LPnj2h1WqxZMkSg/Jvv/0WMpnshVoGrKysAKBMJmYcPHgwZDIZJk6ciOvXr+PNN9987j4F//J7/F96QggsWrSoyPr9+vWDiYkJ1q1bh02bNqFXr176cwIAPz8/1KlTBwsXLkR6enqh/e/evftCMQEoNOmhiYkJunTpgm3bthmM7bl69WqhcRhvvPEGTExMMHv27ELHFUIU+Th/Aa1WW6g7yNnZGW5ubgZdDVZWVoXqAfmfo4SEBIPkOy8vD99//z2sra31k/X169cPQgjMnj270DGK+pe4r68vdu3ahQsXLqB3796FHn0vbSX9rDyPWq3G3r179VMYFIxNc3Z2RocOHbBy5UrEx8cX2u/xz9CL/j09/jcthMCSJUtgZmaGzp07A8hvEdRqtfjiiy8K7ZuXl/dSf79lcV8pKRMTE8hkMmi1Wn3ZzZs3sW3bthc6XsGyJH/++WeRU0QUfGYGDhyI0NBQ7N27t1CdlJSUQnPE0bOxhYhKRXEGofbu3RsdO3bExx9/jJs3b6JJkybYt28f/vjjD0yaNMlgkGFx+fn5AQA+/vhjDBo0CGZmZujdu7dBUvGiCuas2bRpE2xtbREYGPjcferXr486dergX//6F+7cuQOVSoUtW7Y8dcySs7MzOnbsiG+++QZpaWkICgoy2C6Xy7Fq1Sr06NEDDRs2xFtvvYXq1avjzp07OHjwIFQqFf78889nxqRSqdCuXTvMnz8fubm5qF69Ovbt24cbN24Uqjtr1izs27cPr776KsaOHav/omnUqBEiIyP19erUqYMvv/wSM2bMwM2bN9G3b1/Y2Njgxo0b2Lp1K0aPHo1//etfRcaTlpYGd3d39O/fH02aNIG1tTX++usvhIWF4euvv9bX8/Pzw4YNGzBlyhS0bNkS1tbW6N27N0aPHo2VK1di5MiRiIiIQM2aNbF582b8/fff+O677/StBB07dsSwYcOwePFiXLlyRd89ePToUXTs2LHI9ctat26NP/74Az179kT//v2xbdu2546HelEl/awUh6OjI0JCQvDaa6+hS5cuOHbsGKpXr46lS5fitddeQ+PGjfHuu++idu3aSExMRGhoKG7fvo0zZ84AAJo2bQoTExPMmzcPqampUCqV6NSp01PH/gD5rVN79uzBiBEj8Morr2D37t3YuXMnPvroI31XWPv27fHee+9hzpw5iIyMRLdu3WBmZoYrV65g06ZNWLRo0VPHHj5PWdxXSiowMBDffPMNunfvjiFDhiApKQlLly6Fl5cXzp49+0LH/Oqrr7Bv3z60b98eo0ePRoMGDRAfH49Nmzbh2LFjsLW1xdSpU7F9+3b06tULI0eOhJ+fHzIyMhAVFYXNmzfj5s2bcHR0LOWzrcLK63E2qjoef+z+WZ587F4IIdLS0sTkyZOFm5ubMDMzE3Xr1hULFiwweNRViMJzwzx+zBEjRhiUffHFF6J69epCLpcbPNZc3GM8+dj94zZu3CgAiNGjRz/zXB93/vx50aVLF2FtbS0cHR3Fu+++q3+s9ueffy5U/8cffxQAhI2NjXj48GGRxzx9+rR44403hIODg1AqlaJGjRpi4MCBYv/+/fo6BY/dFzzq/Ljbt2+L119/Xdja2gq1Wi0GDBgg4uLiBAAxc+ZMg7r79+8XzZo1EwqFQtSpU0esWrVKfPDBB8Lc3LzQcbds2SJee+01YWVlJaysrET9+vVFcHCwuHTp0lOvT3Z2tpg6dapo0qSJsLGxEVZWVqJJkyZi2bJlBvXS09PFkCFDhK2trQBg8Ah+YmKieOutt4Sjo6NQKBSicePGRV7bvLw8sWDBAlG/fn2hUCiEk5OT6NGjh4iIiNDXKepz8scffwhTU1MRFBRk8Pj6k4ra98aNGwKAWLBggUH5wYMHBQCxadMmfVlxPysjRowQVlZWRcZQ1KPoV69eFdWqVRMNGjTQfx6uXbsmhg8fLlxdXYWZmZmoXr266NWrl9i8ebPBvj/++KOoXbu2MDExee4j+AVxXbt2TXTr1k1YWloKFxcXMXPmzCKv2w8//CD8/PyEhYWFsLGxEY0bNxbTpk0TcXFx+jpF3Teeda5CvPx95Wn3tKf9TRX1+/jPf/4j6tatK5RKpahfv774+eef9fsXJ4ai7m23bt0Sw4cPF05OTkKpVIratWuL4OBgkZ2dbXDuM2bMEF5eXkKhUAhHR0fRpk0bsXDhQoP5nej5ZEKUcBQXkRH5448/0LdvXxw5cgRt27aVOhzJ9O3bF+fOnSs07oiM28iRI7F58+Yiu3OJKhuOISJ6hh9//BG1a9fWL4FhDJ4cO3PlyhXs2rULHTp0kCYgIqJywDFEREVYv349zp49i507d2LRokVl+jRbRVO7dm39ume3bt3C8uXLoVAonvpoLxFRVcCEiKgIgwcPhrW1NUaNGoX3339f6nDKVffu3bFu3TokJCRAqVTC398fX3311VMnYSQiqgo4hoiIiIiMHscQERERkdFjQkRERERGj2OIikGn0yEuLg42NjZGNbiWiIioMhNCIC0tDW5ubk9dC7AAE6JiiIuLK7TaMREREVUOsbGxcHd3f2YdJkTFULAUQGxsLFQqlcTREBERUXFoNBp4eHgUa7FmJkTFUNBNplKpmBARERFVMsUZ7sJB1URERGT0mBARERGR0WNCREREREaPCREREREZPSZEREREZPSYEBEREZHRY0JERERERo8JERERERk9JkRERERk9JgQERERkdFjQkRERERGjwkRERERGT0mRERElVBWrhZCCKnDIKoymBAREVUyBy8mocFne9D9u6NYdzIGD3O0UodEVOkxISIiqmRWHL4GIYBLiWmY8XsUWs/Zjzm7LiA2OVPq0IgqLSZERESVyM17GThxIxkyGTC5Sz142lsi9WEuVh65jvYLDmL0L+E4fu0eu9OISshU6gCIiKj4NobHAgDa1XXCxC51Ma6TFw5eTMLq4zdx7Oo97DufiH3nE+HtYoORr9ZE36bVYaEwkThqoopPJvjPiOfSaDRQq9VITU2FSqWSOhwiMlJ5Wh3azD2ApLRsLBvaHD0bVzPYfiUxDWtCb2JLxB08zM0fV6S2MMOglh54s3UNeNhbShE2kWRK8v3NhKgYmBARUUWw/0IiRq0Jh72VAv/M6AyFadGjHlIf5mJTeCx+Cb2FmEfjiuQyoEsDF4x8tSb8aztAJpOVZ+hEkijJ9ze7zIiIKokNYfndZa83q/7UZAjIbxV6p21tvPVqLXanERUTW4iKgS1ERCS1u2nZ8J+zH3k6gX2T26Gei02J9md3GhkjdpmVMiZERCS1lYevYc7ui2jqYYttwa++8HHYnUbGhF1mRERViBACGx49XRbU0uOljvVkd9qa0Js4esWwO21Em5p4vRm708i4sIWoGNhCRERSCr+ZjP4rQmFhZoKTH3eGjblZqR6/oDvt91N3kJnD7jSqOkry/c2JGYmIKriCwdSBvtVKPRkCgLouNviyb2OEzuiMTwIbcLJHMkpsISoGthARkVTSs/PQ6t9/ITNHi01j/NGypn2Zv6dWJwy60wqwO40qm0rZQjR37lzIZDJMmjQJAJCcnIzx48fD29sbFhYW8PT0xIQJE5CammqwX0xMDAIDA2FpaQlnZ2dMnToVeXl5BnUOHTqE5s2bQ6lUwsvLC6tXry6nsyIiejk7zsQhM0eL2k5WaFHDrlze00QuQxcfF/x31CsImdwOb7b2hKXCBJcS0/DRVq6dRlVThUiIwsLCsHLlSvj6+urL4uLiEBcXh4ULFyI6OhqrV6/Gnj17MGrUKH0drVaLwMBA5OTk4Pjx41izZg1Wr16Nzz77TF/nxo0bCAwMRMeOHREZGYlJkybhnXfewd69e8v1HImIXkTBYOqBLTwkefqL3WlkLCTvMktPT0fz5s2xbNkyfPnll2jatCm+++67Iutu2rQJb775JjIyMmBqaordu3ejV69eiIuLg4uLCwBgxYoVmD59Ou7evQuFQoHp06dj586diI6O1h9n0KBBSElJwZ49e4oVI7vMiEgKVxLT0PXbIzCRyxA6oxOcbcylDglancChS/mTPbI7jSq6StVlFhwcjMDAQHTp0uW5dQtOyNQ0f7aA0NBQNG7cWJ8MAUBAQAA0Gg3OnTunr/PksQMCAhAaGvrU98nOzoZGozH4ISIqbwWDqTvVd64QyRCQ353WucGzu9O+YncaVUKSJkTr16/HqVOnMGfOnOfWvXfvHr744guMHj1aX5aQkGCQDAHQv05ISHhmHY1Gg4cPHxb5XnPmzIFardb/eHi83LwfREQllZOnw++n7wAAglpUzHvQ07rTfmB3GlVCkiVEsbGxmDhxIn777TeYmz/7Xz4ajQaBgYHw8fHBrFmzyjy2GTNmIDU1Vf8TGxtb5u9JRPS4/RcSkZyRA2cbJTp4O0kdzjMVTPZ48F8d8J8RLdC2riN0Ath3PhFDfjyB7t8dxdoTMXj4aI4joopIspmqIyIikJSUhObNm+vLtFotjhw5giVLliA7OxsmJiZIS0tD9+7dYWNjg61bt8LM7H9zcLi6uuLkyZMGx01MTNRvK/hvQdnjdVQqFSwsLIqMTalUQqlUlsp5EhG9iILB1P383GFqIvnohmIp6E7r3MDFYLLHgu60eXsuIqilB4ZxskeqgCT7K+vcuTOioqIQGRmp/2nRogWGDh2KyMhImJiYQKPRoFu3blAoFNi+fXuhliR/f39ERUUhKSlJXxYSEgKVSgUfHx99nf379xvsFxISAn9//7I/SSKiFxCf+hBHLt8FkP90WWXE7jSqbCRrIbKxsUGjRo0MyqysrODg4IBGjRrpk6HMzEz8+uuvBoObnZycYGJigm7dusHHxwfDhg3D/PnzkZCQgE8++QTBwcH6Fp4xY8ZgyZIlmDZtGt5++20cOHAAGzduxM6dO8v9nImIimNz+G3oBNCqlj1qOVpJHc5LeXzttMefTnty7bS+zdxgqeDymiSdCvvpO3XqFE6cOAEA8PLyMth248YN1KxZEyYmJtixYwfGjh0Lf39/WFlZYcSIEfj888/1dWvVqoWdO3di8uTJWLRoEdzd3bFq1SoEBASU6/kQERWHTiewMeLRQq6VtHWoKOxOo4pO8nmIKgPOQ0RE5eX41XsYsuoEbJSmOPlxlyo9p0/qw1xsCo/FL6G3EPPoMX25DOjSwAUj29SEfx0HSSajpKqjJN/fFbaFiIjIGBUMpu7d1K1KJ0PA87vT6rlYY2SbWuxOo3LBFqJiYAsREZWH1MxctPzqL+Tk6fBH8Kto4mErdUjl7mpSGtYcv4Utp24j89Fj+moLM3an0Qspyfc3E6JiYEJEROXhl9Cb+OyPc6jvaoPdE9sadXcRu9OoNLDLjIioEipYqkOqhVwrEnanUXljC1ExsIWIiMpa9J1U9Pr+GBQmcpz4qDPsrBRSh1ThFNWdpjI3xaBWnuxOoyJVqsVdiYgI2PhoMHXXhi5Mhp7Cy9kGX/RtZDDZoyYrTz/Z47u/hOP4VU72SC+GLUTFwBYiIipLWblatPr3X9Bk5eGXt1uhXb2KvXZZRaHVCYPutAL1XKwxok1NvN6sOrvTjBwHVZcyJkREVJb+iLyDiesjUd3WAkendYRcbtzjh14Eu9OoKEyIShkTIiIqS0N+/AfHr93HxM51MblrPanDqdSe9nRa5wYueItPpxkdJkSljAkREZWVmPuZaLfgIGQy4Oi0jnC3Y0tGaWB3GgF87J6IqNLY9Gjdste8HJkMlaLH1057vDvtcmI6Pt4ajXm7L7I7jQywhagY2EJERGVBqxN4bd4BxKdm4fvBzdC7iZvUIVVp7E4zPmwhIiKqBI5cuYv41CzYWpqhW0MXqcOp8p422WPI+USEPJrskd1pxou/cSIiiWx8NDN136bVoTSt2gu5ViTsTqOisMusGNhlRkSl7X56NlrP2Y9crcDuiW3RoBrvLVJKfZiLzRG3seb4zULdab18q6FlTXu42VpIHCWVFLvMiIgquK2n7yBXK+DrrmYyVAGoLcww6rVaGNmmZpHdaQDgpjZHi5r2aFHTDi1q2MPb1QYmnDOqymBCRERUzoQQBgu5UsXxZHfahrBYnLiRjHNxGsSlZmH7mThsPxMHALBRmqJZDTu0qGGHFjXt0NTDlmOPKjH+5oiIytnp2BRcSUqHuZkc/9eUT5ZVVF7ONvg40AcAkJGdhzOxKQi7+QDht5JxOiYFadl5OHL5Lo5cvgsAMJXL0NBNld+KVMMOfjXt4GxjLuUpUAkwISIiKmcFg6l7NqoGlbmZxNFQcVgpTdHGyxFtvBwB5E+ZcDFBg/CbDxB2MxnhNx8gQZOFM7dTceZ2Kv5z7AYAoIaDJVrUyO9ma1nTDnWcrPlofwXFhIiIqBxlZOfhz0ddLgNbsrussjKRy9DQTY2GbmqMaFMTQgjcSXmIiFv/S5AuJabh1v1M3LqfiS2nbgMA7CzN4FfDTt+K1NhdzScMKwgmRERE5WhnVDwycrSo6WCJV2rZSx0OlRKZTAZ3O0u421miT9PqAPKfXDsd8wDhj7rZImNT8CAzF39dSMJfF5IAAApTOXyrq//XzVbDDnZWCilPxWgxISIiKkcF3WUDWniw66SKU1uYoYO3Mzp4OwMAcvJ0OBeXqm9Firj1APfScxB+6wHCbz3Q7+flbI2Wj55ka1HTDp72lvyslAPOQ1QMnIeIiErD1aR0dPnmMOQyIHRGZ7ioOODWmAkhcPN+JsIfdbGF30rGtbsZheo52SgfPcmW34rk46aCmYlcgogrH85DRERUAW0Kz28d6ujtzGSIIJPJUMvRCrUcrTDg0fQL99OzEXHrgb4VKepOKu6mZWN3dAJ2RycAACzMTNDUwxYta9rBr6Y9mnvawoaD818aEyIionKQq9XpB9ZyMDU9jYO1Et0auqJbQ1cAQFauFmdvpyL8Vn4rUsStB0h9mIvQ6/cRev0+gPwZtb1dVfndbI9akTirdskxISIiKgcHLibhXnoOHK2V6FTfWepwqJIwNzNBq1r2aPVoAL5OJ3D1bnr+GKSbDxB2KxmxyQ9xIV6DC/Ea/BJ6CwBQ3dYCfjXyH/X346zaxcKEiIioHBQMpu7XvDrHf9ALk8tlqOdig3ouNhj6Sg0AQKImSz8GKfzmA5yP1+BOykPcSXlYaFbtlo/GIjX1sIWFgo/7P44JERFRGUvUZOHgpfzHrAdwqQ4qZS4qcwT6VkOgbzUA+XNdRcam6JOkU7ceFD2rdnU1WjzWiuRko5TyNCTHhIiIqIxtjrgNnQBa1LCDl7O11OFQFWelNMWrXo549dGs2nlaHS4mpOU/zXbrwf9m1Y5NwZnYFP2s2jUdLOFXw/7RWCTjm1WbCRERURkSQuifLuNgapKCqYkcjaqr0ai6GiNfraWfVfvxbrZLiWm4eT8TN58yq3bLmnZoVL1qz6rNhIiIqAyduJGMm/czYaUwQWDjalKHQ2Qwq3bfZv+bVftUzAP9nEhPm1W7ibta34rkV8MOtpZVZ1ZtJkRERGWoYDB17yZusFLylksVk9rCDB29ndHxiVm1H29Fup+Rg7CbDxB28wFWHM7fr66zNVpUkVm1OVN1MXCmaiJ6EZqsXLT691/IytXh9/fboLmnndQhEb2Qglm18xeuzR+LdP05s2q3rGmHBtWknVW7JN/fFebZz7lz50Imk2HSpEn6sqysLAQHB8PBwQHW1tbo168fEhMTDfaLiYlBYGAgLC0t4ezsjKlTpyIvL8+gzqFDh9C8eXMolUp4eXlh9erV5XBGRGTs/jwTh6xcHeo6W6OZh63U4RC9sIJZtQe28MD8/k1w4IMOiPikC34Y5ofR7WqjuactzExk+lm1v9hxHv+35G/4ztqHIT/+g2/2XcKRy3eRlpUr9ak8VYVovw0LC8PKlSvh6+trUD558mTs3LkTmzZtglqtxrhx4/DGG2/g77//BgBotVoEBgbC1dUVx48fR3x8PIYPHw4zMzN89dVXAIAbN24gMDAQY8aMwW+//Yb9+/fjnXfeQbVq1RAQEFDu50pExqOguyyoJRdyparnabNqF7QiRdx6AE1WHo5fu4/j1/43q3Z9V1V+N1sFm1Vb8i6z9PR0NG/eHMuWLcOXX36Jpk2b4rvvvkNqaiqcnJywdu1a9O/fHwBw8eJFNGjQAKGhoWjdujV2796NXr16IS4uDi4uLgCAFStWYPr06bh79y4UCgWmT5+OnTt3Ijo6Wv+egwYNQkpKCvbs2VOsGNllRkQldTFBg+7fHYWZiQz/zOgMB2vjnuOFjI9OJ3AlKV0/Bin80azaT3p8Vu2glp5QmJZe51Wl6jILDg5GYGAgunTpYlAeERGB3Nxcg/L69evD09MToaGhAIDQ0FA0btxYnwwBQEBAADQaDc6dO6ev8+SxAwIC9McoSnZ2NjQajcEPEVFJbHjUOtSlgQuTITJKcrkM3q75M2p/G9QUR6d1womPOmPpkOYY2aYmGlVXQS6Dfkbtr0Muw1TC5UUk7TJbv349Tp06hbCwsELbEhISoFAoYGtra1Du4uKChIQEfZ3Hk6GC7QXbnlVHo9Hg4cOHsLAo3FQ3Z84czJ49+4XPi4iMW3aeFltP3wHAuYeIHvfkrNrp2XmIjElB+K1k6HQCcmNMiGJjYzFx4kSEhITA3NxcqjCKNGPGDEyZMkX/WqPRwMODNzUiKp6Q84lIycxFNbU52tV1kjocogrLWmmK1+o64rW6jlKHIl2XWUREBJKSktC8eXOYmprC1NQUhw8fxuLFi2FqagoXFxfk5OQgJSXFYL/ExES4uuYP4HJ1dS301FnB6+fVUalURbYOAYBSqYRKpTL4ISIqroLusv5+7lxhnKiSkCwh6ty5M6KiohAZGan/adGiBYYOHar/fzMzM+zfv1+/z6VLlxATEwN/f38AgL+/P6KiopCUlKSvExISApVKBR8fH32dx49RUKfgGEREpen2g0wcu3oPADDAjy3LRJWFZF1mNjY2aNSokUGZlZUVHBwc9OWjRo3ClClTYG9vD5VKhfHjx8Pf3x+tW7cGAHTr1g0+Pj4YNmwY5s+fj4SEBHzyyScIDg6GUpk/iHHMmDFYsmQJpk2bhrfffhsHDhzAxo0bsXPnzvI9YSIyCpsjbkMIoE0dB3g6WEodDhEVU4WYh+hpvv32W8jlcvTr1w/Z2dkICAjAsmXL9NtNTEywY8cOjB07Fv7+/rCyssKIESPw+eef6+vUqlULO3fuxOTJk7Fo0SK4u7tj1apVnIOIiEqdTiewKTx/YcwgDqYmqlQkn4eoMuA8RERUHEev3MWw/5yEytwUJz/uAnOzqrsyOFFlUKnmISIiqioKBlP3bVadyRBRJcOEiIioFDzIyMG+c/lPtA5swe4yosqGCRERUSnYFnkHOVodGrqp0Ki6WupwiKiEmBAREb0kIYS+u4yDqYkqJyZEREQvKepOKi4mpEFhKkefJtWlDoeIXgATIiKil1TQOtSjkSvUlmYSR0NEL4IJERHRS3iYo8X2yDgAQBAHUxNVWkyIiIhewu7oeKRl58HD3gKtaztIHQ4RvSAmREREL6Ggu2yAnwfkXMiVqNJiQkRE9IJu3svAiRvJkMnyV7YnosqLCRER0QvaGJ7fOtSurhPcbC0kjoaIXgYTIiKiF5Cn1WFzBBdyJaoqmBAREb2Aw5fvIiktG/ZWCnRp4CJ1OET0kpgQERG9gILB1K83qw6FKW+lRJUd/4qJiEroblo2DlxMAsDuMqKqggkREVEJ/X7qNvJ0Ak09bFHPxUbqcIioFDAhIiIqASEENoRzIVeiqoYJERFRCUTceoDrdzNgYWaCXr7VpA6HiEoJEyIiohIoGEwd6FsNNuZcyJWoqmBCRERUTOnZedgZFQ+A3WVEVQ0TIiKiYtpxJg6ZOVrUdrJCixp2UodDRKWICRERUTEVDKYe2MIDMhkXciWqSpgQEREVw5XENJyOSYGJXIY3mleXOhwiKmVMiIiIiqFgMHWn+s5wtjGXOBoiKm1MiIiIniMnT4ffT98BAAS14GBqoqqICRER0XPsv5CI5IwcONso0cHbSepwiKgMMCEiInqOgsHU/fzcYWrC2yZRVcS/bCKiZ4hPfYgjl+8CyH+6jIiqJiZERETPsDn8NnQCaFXLHrUcraQOh4jKCBMiIqKn0OkENkY8WsiVrUNEVRoTIiKip/jn+n3EJj+EjdIUPRtzIVeiqowJERHRUxQMpu7d1A0WChOJoyGissSEiIioCKmZudgdnQCA3WVExkDShGj58uXw9fWFSqWCSqWCv78/du/erd+ekJCAYcOGwdXVFVZWVmjevDm2bNlicIzk5GQMHToUKpUKtra2GDVqFNLT0w3qnD17Fm3btoW5uTk8PDwwf/78cjk/Iqq8/jhzBzl5OtR3tYGvu1rqcIiojEmaELm7u2Pu3LmIiIhAeHg4OnXqhD59+uDcuXMAgOHDh+PSpUvYvn07oqKi8MYbb2DgwIE4ffq0/hhDhw7FuXPnEBISgh07duDIkSMYPXq0frtGo0G3bt1Qo0YNREREYMGCBZg1axZ++OGHcj9fIqo8Cpbq4EKuREZCVDB2dnZi1apVQgghrKysxC+//GKw3d7eXvz4449CCCHOnz8vAIiwsDD99t27dwuZTCbu3LkjhBBi2bJlws7OTmRnZ+vrTJ8+XXh7exc7ptTUVAFApKamvvB5EVHlEXU7RdSYvkPU/WiXSE7Pfv4ORFQhleT7u8KMIdJqtVi/fj0yMjLg7+8PAGjTpg02bNiA5ORk6HQ6rF+/HllZWejQoQMAIDQ0FLa2tmjRooX+OF26dIFcLseJEyf0ddq1aweFQqGvExAQgEuXLuHBgwdFxpKdnQ2NRmPwQ0TGY+OjwdRdG7rAzkrxnNpEVBVInhBFRUXB2toaSqUSY8aMwdatW+Hj4wMA2LhxI3Jzc+Hg4AClUon33nsPW7duhZeXF4D8MUbOzs4GxzM1NYW9vT0SEhL0dVxcXAzqFLwuqPOkOXPmQK1W6388PDigkshYZOVqsY0LuRIZHckTIm9vb0RGRuLEiRMYO3YsRowYgfPnzwMAPv30U6SkpOCvv/5CeHg4pkyZgoEDByIqKqpMY5oxYwZSU1P1P7GxsWX6fkRUcew9lwBNVh6q21rgNS9HqcMhonJiKnUACoVC3+Lj5+eHsLAwLFq0CNOmTcOSJUsQHR2Nhg0bAgCaNGmCo0ePYunSpVixYgVcXV2RlJRkcLy8vDwkJyfD1dUVAODq6orExESDOgWvC+o8SalUQqlUlup5ElHlUDCYur+fO+RyDqYmMhaStxA9SafTITs7G5mZmQAAudwwRBMTE+h0OgCAv78/UlJSEBERod9+4MAB6HQ6vPLKK/o6R44cQW5urr5OSEgIvL29YWdnV9anQ0SVSMz9TBy/dh8yGTCghbvU4RBROZI0IZoxYwaOHDmCmzdvIioqCjNmzMChQ4cwdOhQ1K9fH15eXnjvvfdw8uRJXLt2DV9//TVCQkLQt29fAECDBg3QvXt3vPvuuzh58iT+/vtvjBs3DoMGDYKbmxsAYMiQIVAoFBg1ahTOnTuHDRs2YNGiRZgyZYqEZ05EFdGmR+uWveblCHc7S4mjIaLyJGmXWVJSEoYPH474+Hio1Wr4+vpi79696Nq1KwBg165d+PDDD9G7d2+kp6fDy8sLa9asQc+ePfXH+O233zBu3Dh07twZcrkc/fr1w+LFi/Xb1Wo19u3bh+DgYPj5+cHR0RGfffaZwVxFRERancDmiNsA8uceIiLjIhNCCKmDqOg0Gg3UajVSU1OhUqmkDoeIysDBS0l46+cw2Fqa4cRHnaE05dplRJVdSb6/K9wYIiIiKWx8NJi6b9PqTIaIjBATIiIyevfTs/HXhfynT4NasruMyBgxISIio7f19B3kagV83dVoUI3d4kTGiAkRERk1IYTBQq5EZJyYEBGRUTsdm4IrSekwN5Pj/5q6SR0OEUmECRERGbWCwdQ9G1WDytxM4miISCpMiIjIaGVk5+HPM3EAgIEcTE1k1JgQEZHR2hkVj4wcLWo6WOKVWvZSh0NEEmJCRERGa1N4fnfZgBYekMm4kCuRMWNCRERG6drddITdfAC5LH9leyIybkyIiMgobXzUOtTR2xkuKnOJoyEiqTEhIiKjk6vVYUvEHQAcTE1E+ZgQEZHROXgxCffSs+ForUSn+s5Sh0NEFQATIiIyOgXdZf2aV4eZCW+DRMSEiIiMTJImCwcv3QWQ/3QZERHAhIiIjMzmU7eh1Qm0qGEHL2drqcMhogqCCRERGQ0hBDaF3wbAwdREZIgJEREZjZM3knHjXgasFCYIbFxN6nCIqAJhQkRERmPDo8HUvZu4wUppKnE0RFSRMCEiIqOgycrFrqh4AOwuI6LCmBARkVH480wcsnJ1qOtsjWYetlKHQ0QVDBMiIjIKG8Pyu8uCWnIhVyIqjAkREVV5FxM0OHM7FWYmMrzerLrU4RBRBcSEiIiqvA2PWoe6NHCBg7VS4miIqCJiQkREVVp2nhZbT3MhVyJ6NiZERFSlhZxPREpmLqqpzdGurpPU4RBRBcWEiIiqtILusv5+7jCRczA1ERWNCRERVVm3H2Ti2NV7AIABfuwuI6KnY0JERFXW5ojbEAJoU8cBng6WUodDRBVYieeuP3nyJEJDQ5GQkAAAcHV1hb+/P1q1alXqwRERvSid7n8LuQZxMDURPUexE6KkpCT069cPf//9Nzw9PeHi4gIASExMxOTJk/Hqq69iy5YtcHZ2LrNgiYiK6+9r93An5SFU5qYIaOgqdThEVMEVu8vs/fffh1arxYULF3Dz5k2cOHECJ06cwM2bN3HhwgXodDoEBweXZaxERMVWMJi6b7PqMDczkTgaIqroit1CtHfvXhw5cgTe3t6Ftnl7e2Px4sXo0KFDacZGRPRCHmTkYN+5RADAwBbsLiOi5yt2C5FSqYRGo3nq9rS0NCiVJZsBdvny5fD19YVKpYJKpYK/vz92795tUCc0NBSdOnWClZUVVCoV2rVrh4cPH+q3JycnY+jQoVCpVLC1tcWoUaOQnp5ucIyzZ8+ibdu2MDc3h4eHB+bPn1+iOImoctkWeQc5Wh0auqnQqLpa6nCIqBIodkIUFBSEESNGYOvWrQaJkUajwdatW/HWW29h8ODBJXpzd3d3zJ07FxEREQgPD0enTp3Qp08fnDt3DkB+MtS9e3d069YNJ0+eRFhYGMaNGwe5/H9hDx06FOfOnUNISAh27NiBI0eOYPTo0QbxdevWDTVq1EBERAQWLFiAWbNm4YcffihRrERUOQgh9N1lHExNRMUmiikrK0uMGTNGKBQKIZfLhbm5uTA3NxdyuVwoFAoxduxYkZWVVdzDPZWdnZ1YtWqVEEKIV155RXzyySdPrXv+/HkBQISFhenLdu/eLWQymbhz544QQohly5YJOzs7kZ2dra8zffp04e3tXeyYUlNTBQCRmppa0tMhonJ2JvaBqDF9h6j78S6RkpEjdThEJKGSfH+XqMts+fLluHv3LkJCQvDTTz/hp59+wl9//YW7d+9i2bJlJe4ye5xWq8X69euRkZEBf39/JCUl4cSJE3B2dkabNm3g4uKC9u3b49ixY/p9QkNDYWtrixYtWujLunTpArlcjhMnTujrtGvXDgqFQl8nICAAly5dwoMHD144XiKqmApah3o0coXa0kziaIiosijxPEQqlQqdOnUqtQCioqLg7++PrKwsWFtbY+vWrfDx8cE///wDAJg1axYWLlyIpk2b4pdffkHnzp0RHR2NunXrIiEhodBj/qamprC3t9fPk5SQkIBatWoZ1CmYMiAhIQF2dnaFYsrOzkZ2drb+9bPGThFRxfEwR4vtkXEAgCAOpiaiEihRQnTv3j389NNPhSZmbNOmDUaOHAknp5IvnOjt7Y3IyEikpqZi8+bNGDFiBA4fPgydTgcAeO+99/DWW28BAJo1a4b9+/fjp59+wpw5c0r8XsU1Z84czJ49u8yOT0RlY3d0PNKy8+Bhb4HWtR2kDoeIKpFid5mFhYWhXr16WLx4MdRqNdq1a4d27dpBrVZj8eLFqF+/PsLDw0scgEKhgJeXF/z8/DBnzhw0adIEixYtQrVq1QAAPj4+BvUbNGiAmJgYAPnJWFJSksH2vLw8JCcnw9XVVV8nMTHRoE7B64I6T5oxYwZSU1P1P7GxsSU+LyIqfwXdZQP9PCDnQq5EVALFbiEaP348BgwYgBUrVkAmM7zRCCEwZswYjB8/HqGhoS8VkE6nQ3Z2NmrWrAk3NzdcunTJYPvly5fRo0cPAIC/vz9SUlIQEREBPz8/AMCBAweg0+nwyiuv6Ot8/PHHyM3NhZlZ/niCkJAQeHt7F9ldBuSPl3qZ8VBEVP5u3svAiRvJkMuA/i3cpQ6HiCqZYrcQnTlzBpMnTy6UDAGATCbD5MmTERkZWaI3nzFjBo4cOYKbN28iKioKM2bMwKFDhzB06FDIZDJMnToVixcvxubNm3H16lV8+umnuHjxIkaNGgUgv7Woe/fuePfdd3Hy5En8/fffGDduHAYNGgQ3NzcAwJAhQ6BQKDBq1CicO3cOGzZswKJFizBlypQSxUpEFdvG8PzWoXb1nFBNbSFxNERU2RS7hcjV1RUnT55E/fr1i9x+8uRJ/WDl4kpKSsLw4cMRHx8PtVoNX19f7N27F127dgUATJo0CVlZWZg8eTKSk5PRpEkThISEoE6dOvpj/Pbbbxg3bhw6d+4MuVyOfv36YfHixfrtarUa+/btQ3BwMPz8/ODo6IjPPvvMYK4iIqrc8rQ6bI54tJArB1MT0QuQCSFEcSouXboUH3zwAd577z107tzZYHHX/fv348cff8TChQvx/vvvl2nAUtBoNFCr1UhNTYVKpZI6HCJ6wv4LiRi1JhwOVgqEzugMhWmxG7+JqAoryfd3sVuIgoOD4ejoiG+//RbLli2DVqsFAJiYmMDPzw+rV6/GwIEDXy5yIqIXUDCY+vVm1ZkMEdELKdFj90FBQQgKCkJubi7u3bsHAHB0dNQPViYiKm9307Jx4GL+06ZcqoOIXlSJJ2YEADMzM/1j8UREUvr91G3k6QSaedqirouN1OEQUSVV7LblJ+f7iYyMxIgRI/Dqq6+if//+OHToUGnHRkT0TEIIbHj0dBkHUxPRyyh2QlStWjV9UnT8+HG0atUKt27dwquvvgqNRoOuXbviyJEjZRYoEdGTIm49wPW7GbBUmKBXEzepwyGiSqzYXWaPP4w2a9YsDBs2DP/5z3/0ZZMmTcLs2bOxf//+0o2QiOgpCgZTBzauBmvlC40AICICUIIWosdFR0fj3XffNSh79913cfbs2VIJiojoedKz87AzKh4AB1MT0csr0T+p0tLSYG5uDnNz80JLW5ibmyMzM7NUgyMiepodZ+KQmaNFbScr+NUoehkeIqLiKlELUb169WBnZ4ebN28WWsj13Llz+uUyiIjKWsFg6oEtPIpcUoiIqCSK3UJ08OBBg9dPPnZ/48YNLodBROXiSmIaTsekwEQuwxvNq0sdDhFVAcVOiNq3b//M7RMnTnzpYIiIiqNgMHWn+s5wtjGXOBoiqgo4xz0RVSo5eTr8fvoOAM49RESlhwkREVUq+y8kIjkjB842SnTwdpI6HCKqIpgQEVGlUjCYup+fO0xNeAsjotLBuwkRVRrxqQ9x5PJdAPlPlxERlZYSzUOk0Whw4sQJ5OTkoFWrVnByYnM1EZWfzeG3oRNAq1r2qOVoJXU4RFSFFDshioyMRM+ePZGYmAghBGxsbLBx40YEBASUZXxERAAAnU5gYwQXciWislHsLrPp06ejVq1aOHbsGCIiItC5c2eMGzeuLGMjItL75/p9xCY/hI3SFD0bV3v+DkREJVDsFqKIiAjs27cPzZs3BwD89NNPsLe3h0ajgUqlKrMAiYiA/w2m7t3UDRYKE4mjIaKqptgtRMnJyXB3d9e/trW1hZWVFe7fv18mgRERFUjNzMXu6AQA7C4jorJRokHV58+fR0JCgv61EAIXLlxAWlqavszX17f0oiMiAvDHmTvIydOhvqsNfN3VUodDRFVQiRKizp07QwhhUNarVy/IZDIIISCTyaDVaks1QCKigqU6uJArEZWVYidEN27cKMs4iIiKFH0nFefiNFCYyPF6My7kSkRlo9gJUY0aNcoyDiKiIm18NJi6a0MX2FkpJI6GiKqqF56pesKECdi8eTOys7MBAA8fPkS/fv1KLTAioqxcLbZxIVciKgcvnBDdvHkT06ZNg4eHBxYtWoQOHTogPDy8NGMjIiO391wCNFl5qG5rgde8HKUOh4iqsBINqn7c9u3bAQCrVq3C6NGjYW1tjcuXL5daYEREBYOp+/u5Qy7nYGoiKjvFbiH697//jbVr1xqU3bt3DwsWLEBAQABq1aqFzZs3l3qARGScYu5n4vi1+5DJgAEt3J+/AxHRSyh2QvSf//wH9erV079OS0tDQEAAmjRpgu3bt+OLL77AypUryyRIIjI+mx6tW/aalyPc7SwljoaIqrpiJ0Tx8fH61e2zs7PRp08fNG7cGOvXr4eZmRkaNWqEq1evllmgRGQ8tDqBzRG3AeTPPUREVNaKnRDVrFkTP/zwA65evYo+ffqgfv36WL16NeTy/ENERUWhenXOEUJEL+/olbuIT82CraUZujV0kTocIjICxU6IPv74Y8ydOxcNGjRASkoKTp06hUuXLgEAwsLCMHnyZLzxxhtlFigRGY+CuYf6Nq0OpSkXciWislfshOjNN9/E9evXce3aNfz9999o0KABGjRoAEtLS7Ru3Rpubm6YOXNmWcZKREbgfno2Qs4nAgCCWrK7jIjKR4keu398tuqff/4ZU6dO1XeVvfbaa6UeHBEZn62n7yBXK+DrrkaDaiqpwyEiI/HCEzMCgI+PD4KCgl44GVq+fDl8fX2hUqmgUqng7++P3bt3F6onhECPHj0gk8mwbds2g20xMTEIDAyEpaUlnJ2dMXXqVOTl5RnUOXToEJo3bw6lUgkvLy+sXr36heIlorIlhNB3l3EwNRGVp2InRKGhodixY4dB2S+//IJatWrB2dkZo0eP1i/jUVzu7u6YO3cuIiIiEB4ejk6dOqFPnz44d+6cQb3vvvuuyBWutVotAgMDkZOTg+PHj2PNmjVYvXo1PvvsM32dGzduIDAwEB07dkRkZCQmTZqEd955B3v37i1RrERU9iJjU3A5MR3mZnL8X1M3qcMhImMiiql79+5i7ty5+tdnz54Vpqam4p133hFff/21cHV1FTNnzizu4Z7Kzs5OrFq1Sv/69OnTonr16iI+Pl4AEFu3btVv27Vrl5DL5SIhIUFftnz5cqFSqUR2drYQQohp06aJhg0bGrxHUFCQCAgIKHZMqampAoBITU19wbMiouL4cMsZUWP6DjF5/WmpQyGiKqAk39/FbiGKjIxE586d9a/Xr1+PV155BT/++COmTJmCxYsXY+PGjS+cmGm1Wqxfvx4ZGRnw9/cHAGRmZmLIkCFYunQpXF1dC+0TGhqKxo0bw8Xlf4/lBgQEQKPR6FuZQkND0aVLF4P9AgICEBoa+tRYsrOzodFoDH6IqGxl5uThzzPxAICBHExNROWs2AnRgwcPDBKPw4cPo0ePHvrXLVu2RGxsbIkDiIqKgrW1NZRKJcaMGYOtW7fCx8cHADB58mS0adMGffr0KXLfhIQEg5gA6F8nJCQ8s45Go8HDhw+LPO6cOXOgVqv1Px4evDkTlbWdZ+ORnp2Hmg6WeKWWvdThEJGRKXZC5OLighs3bgAAcnJycOrUKbRu3Vq/PS0tDWZmZiUOwNvbG5GRkThx4gTGjh2LESNG4Pz589i+fTsOHDiA7777rsTHfFkzZsxAamqq/udFEj0iKpmCwdQDWngUOWaQiKgsFfux+549e+LDDz/EvHnzsG3bNlhaWqJt27b67WfPnkWdOnVKHIBCoYCXlxcAwM/PD2FhYVi0aBEsLCxw7do12NraGtTv168f2rZti0OHDsHV1RUnT5402J6YmD9/SUEXm6urq77s8ToqlQoWFhZFxqRUKqFUKkt8LkT0Yq7dTUfYzQeQy/JXticiKm/FbiH64osvYGpqivbt2+PHH3/Ejz/+CIVCod/+008/oVu3bi8dkE6nQ3Z2Nj788EOcPXsWkZGR+h8A+Pbbb/Hzzz8DAPz9/REVFYWkpCT9/iEhIVCpVPpuN39/f+zfv9/gPUJCQvTjlIhIegWtQx29neGiMpc4GiIyRsVuIXJ0dMSRI0eQmpoKa2trmJgYTqe/adMmWFtbl+jNZ8yYgR49esDT0xNpaWlYu3YtDh06hL1798LV1bXIgdSenp6oVasWAKBbt27w8fHBsGHDMH/+fCQkJOCTTz5BcHCwvoVnzJgxWLJkCaZNm4a3334bBw4cwMaNG7Fz584SxUpEZSNXq8OWiDsAOJiaiKRTopmqAUCtVhdZbm9f8kGQSUlJGD58OOLj46FWq+Hr64u9e/eia9euxdrfxMQEO3bswNixY+Hv7w8rKyuMGDECn3/+ub5OrVq1sHPnTkyePBmLFi2Cu7s7Vq1ahYCAgBLHS0Sl7+DFJNxLz4ajtRKd6jtLHQ4RGSmZEEJIHURFp9FooFarkZqaCpWKSwkQlaZ31oThrwtJeK9dbczo2UDqcIioCinJ9/dLLd1BRPQykjRZOHjpLoD8p8uIiKTChIiIJLP51G1odQItatjBy7lkYxCJiEoTEyIikoQQApvCbwPgYGoikh4TIiKSxMkbybhxLwNWChMENq4mdThEZOSYEBGRJDY8mnuodxM3WClL/MArEVGpYkJEROVOk5WLXVFcyJWIKg4mRERU7v48E4esXB3qOlujmYet1OEQETEhIqLytzEsv7ssqCUXciWiioEJERGVq4sJGpy5nQozExleb1Zd6nCIiAAwISKicrbhUetQlwYucLBWShwNEVE+JkREVG6y87TYepoLuRJRxcOEiIjKTcj5RKRk5qKa2hzt6jpJHQ4RkR4TIiIqNwXdZf393GEi52BqIqo4mBARUbm4/SATx67eAwAM8GN3GRFVLEyIiKhcbI64DSGANnUc4OlgKXU4REQGmBARUZnT6f63kGsQB1MTUQXEhIiIytzf1+7hTspDqMxNEdDQVepwiIgKYUJERGWuYDB132bVYW5mInE0RESFMSEiojL1ICMH+84lAgAGtmB3GRFVTEyIiKhMbYu8gxytDg3dVGhUXS11OERERWJCRERlRgih7y7jYGoiqsiYEBFRmYm6k4qLCWlQmMrRpwkXciWiiosJERGVmYLWoR6NXKG2NJM4GiKip2NCRERl4mGOFtsj4wAAQRxMTUQVHBMiIioTu6PjkZadBw97C7Su7SB1OEREz8SEiIjKREF32UA/D8i5kCsRVXBMiIio1N28l4ETN5IhlwH9W7hLHQ4R0XMxISKiUrcxPL91qF09J1RTW0gcDRHR8zEhIqJSlafVYXPEo4VcOZiaiCoJJkREVKoOX76LpLRsOFgp0LmBi9ThEBEVCxMiIipVBYOpX29WHQpT3mKIqHLg3YqISs3dtGwcuJgEgEt1EFHlwoSIiEpFTp4O8/ZcRJ5OoJmnLeq62EgdEhFRsUmaEC1fvhy+vr5QqVRQqVTw9/fH7t27AQDJyckYP348vL29YWFhAU9PT0yYMAGpqakGx4iJiUFgYCAsLS3h7OyMqVOnIi8vz6DOoUOH0Lx5cyiVSnh5eWH16tXldYpERiHmfib6rziuH0w9um1tiSMiIioZUynf3N3dHXPnzkXdunUhhMCaNWvQp08fnD59GkIIxMXFYeHChfDx8cGtW7cwZswYxMXFYfPmzQAArVaLwMBAuLq64vjx44iPj8fw4cNhZmaGr776CgBw48YNBAYGYsyYMfjtt9+wf/9+vPPOO6hWrRoCAgKkPH2iKmFXVDymbz6LtOw82FqaYWH/Jujiw8HURFS5yIQQQuogHmdvb48FCxZg1KhRhbZt2rQJb775JjIyMmBqaordu3ejV69eiIuLg4tL/g14xYoVmD59Ou7evQuFQoHp06dj586diI6O1h9n0KBBSElJwZ49e4oVk0ajgVqtRmpqKlQqVemcKFEll5WrxZc7z+PXf2IAAC1q2GHx4GZws+W8Q0RUMZTk+7vCjCHSarVYv349MjIy4O/vX2SdghMyNc1v2AoNDUXjxo31yRAABAQEQKPR4Ny5c/o6Xbp0MThOQEAAQkNDnxpLdnY2NBqNwQ8R/c/1u+l4fdlxfTL0foc6WDe6NZMhIqq0JO0yA4CoqCj4+/sjKysL1tbW2Lp1K3x8fArVu3fvHr744guMHj1aX5aQkGCQDAHQv05ISHhmHY1Gg4cPH8LCovANfM6cOZg9e/ZLnxtRVfRH5B189HsUMnK0cLBS4Jugpmhfz0nqsIiIXorkLUTe3t6IjIzEiRMnMHbsWIwYMQLnz583qKPRaBAYGAgfHx/MmjWrzGOaMWMGUlNT9T+xsbFl/p5EFd3DHC2mbz6LiesjkZGjReva9tg1sS2TISKqEiRvIVIoFPDy8gIA+Pn5ISwsDIsWLcLKlSsBAGlpaejevTtsbGywdetWmJmZ6fd1dXXFyZMnDY6XmJio31bw34Kyx+uoVKoiW4cAQKlUQqlUls4JElUBVxLTELz2FC4npkMmA8Z3qouJnevChKvYE1EVIXkL0ZN0Oh2ys7MB5LcMdevWDQqFAtu3b4e5ublBXX9/f0RFRSEpKUlfFhISApVKpe928/f3x/79+w32CwkJeeo4JSL6HyEENoXH4v+W/I3LielwslHit1GvYErXekyGiKhKkbSFaMaMGejRowc8PT2RlpaGtWvX4tChQ9i7d68+GcrMzMSvv/5qMLjZyckJJiYm6NatG3x8fDBs2DDMnz8fCQkJ+OSTTxAcHKxv4RkzZgyWLFmCadOm4e2338aBAwewceNG7Ny5U8pTJ6rwMrLz8Om2aPx++g4A4DUvR3wb1BRONmw9JaKqR9KEKCkpCcOHD0d8fDzUajV8fX2xd+9edO3aFYcOHcKJEycAQN+lVuDGjRuoWbMmTExMsGPHDowdOxb+/v6wsrLCiBEj8Pnnn+vr1qpVCzt37sTkyZOxaNEiuLu7Y9WqVZyDiOgZLsRrELz2FK7fzYBcBkzpWg/vd/CCnK1CRFRFVbh5iCoizkNExkIIgbUnYzD7z/PIydPBVWWOxYOboVUte6lDIyIqsZJ8f0s+qJqIKoa0rFzM+D0KO87GAwA6eDvhm4FNYW+lkDgyIqKyx4SIiBB9JxXBa0/h1v1MmMplmNbdG++8VptdZERkNJgQERkxIQTWHL+Jr3ZdRI5Wh+q2Fvh+SDM097STOjQionLFhIjISKVm5mLaljPYey5/nq5uPi5Y0L8J1JZmz9mTiKjqYUJEZIROxzzA+HWncfvBQ5iZyPBRzwYY2aYmZDJ2kRGRcWJCRGREhBBYdfQG5u25iDydgKe9JZYMaQZfd1upQyMikhQTIiIj8SAjB//adAb7L+bP7B7YuBrm9GsMlTm7yIiImBARGYGwm8mYsO404lOzoDCV47NePhj6iie7yIiIHmFCRFSF6XQCyw9fwzchl6HVCdR2tMKSIc3h48YJRomIHseEiKiKupeejckbInH0yj0AQN+mbvjy9cawVvLPnojoSbwzElVBx6/dw8T1kbiblg1zMzk+/79GGNDCnV1kRERPwYSIqArR6gS+P3AFi/dfgU4AdZ2tsXRoc9RzsZE6NCKiCo0JEVEVkaTJwsT1kQi9fh8AMMDPHbP7NISlgn/mRETPwzslURVw5PJdTN4QifsZObBUmODfrzfC683cpQ6LiKjSYEJEVInlaXX49q/LWHboGoQA6rvaYOnQ5qjjZC11aERElQoTIqJKKj71ISasO42wmw8AAENf8cSnvXxgbmYicWRERJUPEyKiSujAxUR8sPEMHmTmwlppirn9GqOXr5vUYRERVVpMiIgqkVytDgv2XsIPR64DABpXV2PJkGao4WAlcWRERJUbEyKiSiI2ORPj151GZGwKAGBkm5qY0bM+lKbsIiMiellMiIgqgT3RCZi2+Qw0WXlQmZtiwYAmCGjoKnVYRERVBhMiogosO0+LObsuYvXxmwCAph62+H5wM3jYW0obGBFRFcOEiKiCunkvA+PWnUL0HQ0AYHS72pga4A0zE7nEkRERVT1MiIgqoB1n4/DhliikZ+fBztIMXw9sgk71XaQOi4ioymJCRFSBZOVq8fmO81h7IgYA0LKmHRYPboZqaguJIyMiqtqYEBFVENfupiP4t1O4mJAGmQwI7uCFSV3qwpRdZEREZY4JEVEFsPX0bXy8NRqZOVo4WivwbVBTtK3rJHVYRERGgwkRkYQyc/Iw849z2BRxGwDgX9sBiwY1hbPKXOLIiIiMCxMiIolcTkxD8G+ncCUpHXIZMLFzPYzr5AUTuUzq0IiIjA4TIqJyJoTApvDb+Gx7NLJydXC2UWLRoGbwr+MgdWhEREaLCRFROUrPzsMnW6OwLTIOANC2riO+DWoKR2ulxJERERk3JkRE5eR8nAbj1p7C9XsZMJHL8EG3ehjTrg7k7CIjIpIcEyKiMiaEwG8nYvD5jvPIydOhmtociwc3Q8ua9lKHRkREjzAhIipDmqxczNgShZ1R8QCAzvWdsXBAE9hZKSSOjIiIHifpjG/Lly+Hr68vVCoVVCoV/P39sXv3bv32rKwsBAcHw8HBAdbW1ujXrx8SExMNjhETE4PAwEBYWlrC2dkZU6dORV5enkGdQ4cOoXnz5lAqlfDy8sLq1avL4/TIyJ29nYJei49hZ1Q8TOUyfBLYAKtGtGAyRERUAUmaELm7u2Pu3LmIiIhAeHg4OnXqhD59+uDcuXMAgMmTJ+PPP//Epk2bcPjwYcTFxeGNN97Q76/VahEYGIicnBwcP34ca9aswerVq/HZZ5/p69y4cQOBgYHo2LEjIiMjMWnSJLzzzjvYu3dvuZ8vGQchBH46dgP9lh9HTHImqttaYNMYf7zTtjZkMo4XIiKqiGRCCCF1EI+zt7fHggUL0L9/fzg5OWHt2rXo378/AODixYto0KABQkND0bp1a+zevRu9evVCXFwcXFzyF75csWIFpk+fjrt370KhUGD69OnYuXMnoqOj9e8xaNAgpKSkYM+ePcWKSaPRQK1WIzU1FSqVqvRPmqqMlMwcTN18FiHn81syAxq6YH6/JlBbmkkcGRGR8SnJ93eFWSRJq9Vi/fr1yMjIgL+/PyIiIpCbm4suXbro69SvXx+enp4IDQ0FAISGhqJx48b6ZAgAAgICoNFo9K1MoaGhBscoqFNwjKJkZ2dDo9EY/BA9z6mYBwhcfAwh5xOhMJFj9v81xIo3/ZgMERFVApIPqo6KioK/vz+ysrJgbW2NrVu3wsfHB5GRkVAoFLC1tTWo7+LigoSEBABAQkKCQTJUsL1g27PqaDQaPHz4EBYWhVcRnzNnDmbPnl1ap0hVnE4n8OPR61iw9xLydAI1HCyxdEhzNKquljo0IiIqJskTIm9vb0RGRiI1NRWbN2/GiBEjcPjwYUljmjFjBqZMmaJ/rdFo4OHhIWFEVFElZ+Tgg42ROHjpLgCgl281zHmjMWzM2SpERFSZSJ4QKRQKeHl5AQD8/PwQFhaGRYsWISgoCDk5OUhJSTFoJUpMTISrqysAwNXVFSdPnjQ4XsFTaI/XefLJtMTERKhUqiJbhwBAqVRCqeTMwfRsJ28kY8K600jQZEFpKsfM3g0xuJUHB04TEVVCFWYMUQGdTofs7Gz4+fnBzMwM+/fv12+7dOkSYmJi4O/vDwDw9/dHVFQUkpKS9HVCQkKgUqng4+Ojr/P4MQrqFByDqKR0OoElB65g0A+hSNBkobaTFbYFv4ohr3gyGSIiqqQkbSGaMWMGevToAU9PT6SlpWHt2rU4dOgQ9u7dC7VajVGjRmHKlCmwt7eHSqXC+PHj4e/vj9atWwMAunXrBh8fHwwbNgzz589HQkICPvnkEwQHB+tbeMaMGYMlS5Zg2rRpePvtt3HgwAFs3LgRO3fulPLUqZK6m5aNKRsjcfTKPQDAG82q44u+jWCllLyxlYiIXoKkd/GkpCQMHz4c8fHxUKvV8PX1xd69e9G1a1cAwLfffgu5XI5+/fohOzsbAQEBWLZsmX5/ExMT7NixA2PHjoW/vz+srKwwYsQIfP755/o6tWrVws6dOzF58mQsWrQI7u7uWLVqFQICAsr9fKly+/vqPUzaEIm7admwMDPB530aYkALji0jIqoKKtw8RBUR5yEyblqdwKL9V/D9gSsQAqjnYo2lQ5qjrouN1KEREdEzlOT7m+38RM+QqMnChHWnceJGMgBgUEsPzOzdEBYKE4kjIyKi0sSEiOgpDl1KwpSNZ5CckQMrhQm+eqMx+jStLnVYRERUBpgQET0hV6vDNyGXsfzQNQBAg2oqLB3SDLWdrCWOjIiIygoTIqLHxKU8xPh1pxFx6wEAYFjrGvg4sAHMzdhFRkRUlTEhInrkr/OJ+NfmM0jJzIWN0hTz+vuiZ+NqUodFRETlgAkRGb2cPB3m77mIVcduAAB83dVYMrg5PB0sJY6MiIjKCxMiMmqxyZkYt+40zsSmAADefrUWPuxRHwrTCjeJOxERlSEmRGS09kTHY+rms0jLyoPawgwLBzRBVx8XqcMiIiIJMCEio5OVq8WcXRewJvQWAKC5py0WD24Gdzt2kRERGSsmRGRUbt7LQPDaUzgXpwEAvNe+Nv7VzRtmJuwiIyIyZkyIyGhsPxOHj36PQnp2HuytFPh6YBN09HaWOiwiIqoAmBBRlSaEQMStB1h9/CZ2nI0HALSqaY/Fg5vBVW0ucXRERFRRMCGiKulBRg5+P30H60/G4EpSOgBAJgPGdfTCxM51YcouMiIiegwTIqoyhBAIvX4f60/GYs+5BOTk6QAA5mZy9PJ1w3D/GvB1t5U2SCIiqpCYEFGldy89G5sjbmNDWCxu3MvQlzd0U2FQK0/0aeoGlbmZhBESEVFFx4SIKiWdTuDY1XtYHxaDfecSkacTAAArhQn+r2l1DGnlicbuaomjJCKiyoIJEVUqiZosbAyLxYbwWNx+8FBf3tTDFoNbeaCXrxuslPxYExFRyfCbgyo8rU7g0KUkrDsZi4OXkqB91BpkY26KN5pVx6BWnmhQTSVxlEREVJkxIaIK6/aDTGwMv41N4bGIT83Sl7esaYdBLT3Rs3E1WChMJIyQiIiqCiZEVKHkanXYfyER607G4siVuxD5jUGwszRDv+buGNTKA17ONtIGSUREVQ4TIqoQbt3PwPqwWGwKv4176dn68jZ1HDColScCGrpAacrWICIiKhtMiEgy2Xla7DuXiPVhMfj76n19uaO1Ev393DGopQdqOlpJGCERERkLJkRU7q4mpWP9yRj8fvoOkjNyAOTPIt2urhMGt/JA5wYuXGyViIjKFRMiKhdZuVrsiorH+pOxOHkzWV/uqjLHwBbuGNDCAx72lhJGSERExowJEZWpiwkarD8Zi99P3YYmKw8AIJcBneo7Y1BLT3TwduK6YkREJDkmRFTqMrLzsONsHNadjEVkbIq+vLqtBQa19MCAFh5caZ6IiCoUJkRUaqJup2JdWAy2R8YhPTu/NchULkNXHxcMauWJtl6OkMtlEkdJRERUGBMieilpWbn4IzIO68NiEH1Hoy+v6WCJoJae6O/nDicbpYQREhERPR8TIioxIQROxaRg/ckY7Dgbj4e5WgCAwkSO7o1cMaiVB1rXcmBrEBERVRpMiKjYUjJzsPX0Haw/GYtLiWn6ci9nawxq6YE3mrvD3kohYYREREQvhgkRPZMQAidvJGN9WCx2RsUjJ08HAFCaytHL1w2DW3nAr4YdZDK2BhERUeXFhIiKdD89G1tO3cb6sFhcv5uhL6/vaoMhr3iiT9PqUFuYSRghERFR6WFCRHo6ncDxa/exLiwG+84lIFebv7KqpcIE/9fEDYNaeaKJu5qtQUREVOVIOiPenDlz0LJlS9jY2MDZ2Rl9+/bFpUuXDOokJCRg2LBhcHV1hZWVFZo3b44tW7YY1ElOTsbQoUOhUqlga2uLUaNGIT093aDO2bNn0bZtW5ibm8PDwwPz588v8/OrLJI0WVh68Co6LDyEN/9zAjvPxiNXK+DrrsacNxrj5MddMLefL5p62DIZIiKiKknSFqLDhw8jODgYLVu2RF5eHj766CN069YN58+fh5VV/qKew4cPR0pKCrZv3w5HR0esXbsWAwcORHh4OJo1awYAGDp0KOLj4xESEoLc3Fy89dZbGD16NNauXQsA0Gg06NatG7p06YIVK1YgKioKb7/9NmxtbTF69GjJzl9KWp3Akct3se5kDPZfTIJWl98aZKM0Rd9m1TGolQcauqkljpKIiKh8yIQQQuogCty9exfOzs44fPgw2rVrBwCwtrbG8uXLMWzYMH09BwcHzJs3D++88w4uXLgAHx8fhIWFoUWLFgCAPXv2oGfPnrh9+zbc3NywfPlyfPzxx0hISIBCkf8U1Icffoht27bh4sWLz41Lo9FArVYjNTUVKpWqDM68/MSlPMTG8FhsDItFXGqWvtyvhh0GtfRAoG81WCrYk0pERJVfSb6/K9Q3X2pqKgDA3t5eX9amTRts2LABgYGBsLW1xcaNG5GVlYUOHToAAEJDQ2Fra6tPhgCgS5cukMvlOHHiBF5//XWEhoaiXbt2+mQIAAICAjBv3jw8ePAAdnZ2BnFkZ2cjOztb/1qj0aAyy9PqcOBiEtaHxeLQpSQ8agyC2sIM/Zq7Y1ArD9RzsZE2SCIiIglVmIRIp9Nh0qRJePXVV9GoUSN9+caNGxEUFAQHBweYmprC0tISW7duhZeXF4D8MUbOzs4GxzI1NYW9vT0SEhL0dWrVqmVQx8XFRb/tyYRozpw5mD17dqmfY3mLTc7E+rAYbAq/jaS0/yV4rWvbY3ArTwQ0dIW5mYmEERIREVUMFSYhCg4ORnR0NI4dO2ZQ/umnnyIlJQV//fUXHB0dsW3bNgwcOBBHjx5F48aNyySWGTNmYMqUKfrXGo0GHh4eZfJepS0nT4eQ84lYHxaDo1fu6csdrBTo7+eOoJYeqO1kLWGEREREFU+FSIjGjRuHHTt24MiRI3B3d9eXX7t2DUuWLEF0dDQaNmwIAGjSpAmOHj2KpUuXYsWKFXB1dUVSUpLB8fLy8pCcnAxXV1cAgKurKxITEw3qFLwuqPM4pVIJpbJyrb91/W461ofFYkvEbdzPyNGXt63riMGtPNGlgQsUppI+VEhERFRhSZoQCSEwfvx4bN26FYcOHSrUrZWZmQkAkMsNv8hNTEyg0+XPmOzv74+UlBRERETAz88PAHDgwAHodDq88sor+joff/wxcnNzYWaWP5lgSEgIvL29C3WXVSZZuVrsiU7AupMxOHEjWV/ubKPEwBYeCGrpAQ97SwkjJCIiqhwkfcrs/fffx9q1a/HHH3/A29tbX65Wq2FhYYHc3Fz4+PigWrVqWLhwIRwcHLBt2zZMnToVO3bsQM+ePQEAPXr0QGJiIlasWKF/7L5Fixb6x+5TU1Ph7e2Nbt26Yfr06YiOjsbbb7+Nb7/9tliP3Ve0p8wuJ6Zh3ckYbD19BymZuQAAuQzo4O2MQS090Km+M0xN2BpERETGrSTf35ImRE+b5O/nn3/GyJEjAQBXrlzBhx9+iGPHjiE9PR1eXl7417/+ZfAYfnJyMsaNG4c///wTcrkc/fr1w+LFi2Ft/b+xMmfPnkVwcDDCwsLg6OiI8ePHY/r06cWKsyIkRA9ztNhxNg7rTsbgVEyKvtxNbY6glp4Y0MIdbrYWksRGRERUEVWahKiykDIhOheXinUnY/DH6TikZecBAEzkMnRp4IxBrTzRrq4TTOScPZqIiOhJlXYeIsqXnp2H7ZFxWB8Wg7O3U/XlnvaWCGrpgQF+7nBWmUsYIRERUdXChKiCEELgzO1UrDsRgz/PxiEzRwsAMDORIaChKwa38oR/bQfI2RpERERU6pgQSSz1YS62nb6DdSdjcDEhTV9e28kKg1t64o3m1eFgXbmmACAiIqpsmBBJ6HTMAwz+8R9k5eZPIaAwlSOwcTUMaumBVrXsubI8ERFROWFCJCEfNxUszExQw94Kg1t54PVm7lBbmkkdFhERkdFhQiQhpakJdk1sC1eVOVuDiIiIJMSESGLV1Jw7iIiISGqczpiIiIiMHhMiIiIiMnpMiIiIiMjoMSEiIiIio8eEiIiIiIweEyIiIiIyekyIiIiIyOgxISIiIiKjx4SIiIiIjB4TIiIiIjJ6TIiIiIjI6DEhIiIiIqPHhIiIiIiMHle7LwYhBABAo9FIHAkREREVV8H3dsH3+LMwISqGtLQ0AICHh4fEkRAREVFJpaWlQa1WP7OOTBQnbTJyOp0OcXFxsLGxgUwmK9VjazQaeHh4IDY2FiqVqlSPTf/D61x+eK3LB69z+eB1Lh9ldZ2FEEhLS4Obmxvk8mePEmILUTHI5XK4u7uX6XuoVCr+sZUDXufyw2tdPnidywevc/koi+v8vJahAhxUTUREREaPCREREREZPSZEElMqlZg5cyaUSqXUoVRpvM7lh9e6fPA6lw9e5/JREa4zB1UTERGR0WMLERERERk9JkRERERk9JgQERERkdFjQkRERERGjwlRKZgzZw5atmwJGxsbODs7o2/fvrh06ZJBnaysLAQHB8PBwQHW1tbo168fEhMTDepMmDABfn5+UCqVaNq0aZHvtXHjRjRt2hSWlpaoUaMGFixYUFanVeGUxnU+c+YMBg8eDA8PD1hYWKBBgwZYtGhRofc6dOgQmjdvDqVSCS8vL6xevbqsT6/CKK/rHB8fjyFDhqBevXqQy+WYNGlSeZxehVFe1/n3339H165d4eTkBJVKBX9/f+zdu7dczrEiKK/rfOzYMbz66qtwcHCAhYUF6tevj2+//bZczrGiKM97dIG///4bpqamT/3OLBFBLy0gIED8/PPPIjo6WkRGRoqePXsKT09PkZ6erq8zZswY4eHhIfbv3y/Cw8NF69atRZs2bQyOM378eLFkyRIxbNgw0aRJk0Lvs2vXLmFqaiqWL18url27Jnbs2CGqVasmvv/++7I+xQqhNK7zf/7zHzFhwgRx6NAhce3aNfHf//5XWFhYGFzD69evC0tLSzFlyhRx/vx58f333wsTExOxZ8+ecj1fqZTXdb5x44aYMGGCWLNmjWjatKmYOHFieZ6m5MrrOk+cOFHMmzdPnDx5Uly+fFnMmDFDmJmZiVOnTpXr+UqlvK7zqVOnxNq1a0V0dLS4ceOG+O9//yssLS3FypUry/V8pVRe17rAgwcPRO3atUW3bt2K/M4sKSZEZSApKUkAEIcPHxZCCJGSkiLMzMzEpk2b9HUuXLggAIjQ0NBC+8+cObPIX+7gwYNF//79DcoWL14s3N3dhU6nK92TqARe9joXeP/990XHjh31r6dNmyYaNmxoUCcoKEgEBASU8hlUDmV1nR/Xvn17o0uInlQe17mAj4+PmD17dukEXsmU53V+/fXXxZtvvlk6gVdCZX2tg4KCxCeffPLU78ySYpdZGUhNTQUA2NvbAwAiIiKQm5uLLl266OvUr18fnp6eCA0NLfZxs7OzYW5ublBmYWGB27dv49atW6UQeeVSWtc5NTVVfwwACA0NNTgGAAQEBJTod1WVlNV1JkPldZ11Oh3S0tKM9ndRXtf59OnTOH78ONq3b19KkVc+ZXmtf/75Z1y/fh0zZ84stXi5uGsp0+l0mDRpEl599VU0atQIAJCQkACFQgFbW1uDui4uLkhISCj2sQMCAjB58mSMHDkSHTt2xNWrV/H1118DyB+PUbNmzdI6jQqvtK7z8ePHsWHDBuzcuVNflpCQABcXl0LH0Gg0ePjwISwsLEr3ZCqwsrzO9D/leZ0XLlyI9PR0DBw4sNTiryzK4zq7u7vj7t27yMvLw6xZs/DOO++U+nlUBmV5ra9cuYIPP/wQR48ehalp6aUxTIhKWXBwMKKjo3Hs2LFSP/a7776La9euoVevXsjNzYVKpcLEiRMxa9YsyOXG1dhXGtc5Ojoaffr0wcyZM9GtW7dSjK7q4HUuH+V1ndeuXYvZs2fjjz/+gLOz8wu/V2VVHtf56NGjSE9Pxz///IMPP/wQXl5eGDx48MuEXSmV1bXWarUYMmQIZs+ejXr16pVWuPleutON9IKDg4W7u7u4fv26Qfn+/fsFAPHgwQODck9PT/HNN98UOs7z+kPz8vLE7du3RXZ2tti1a5cAIJKSkkrjFCqF0rjO586dE87OzuKjjz4qdPy2bdsWGs/y008/CZVKVSrxVxZlfZ0fZ8xjiMrrOq9bt05YWFiIHTt2lFrslUl5fp4LfPHFF6JevXovFXdlVJbX+sGDBwKAMDEx0f/IZDJ92f79+184biZEpUCn04ng4GDh5uYmLl++XGh7wUCyzZs368suXrxY4kHVRRk2bJjw9/d/4dgrk9K6ztHR0cLZ2VlMnTq1yPeZNm2aaNSokUHZ4MGDjWZQdXld58cZY0JUntd57dq1wtzcXGzbtq10T6ISkOLzXGD27NmiRo0aLxV/ZVIe11qr1YqoqCiDn7Fjxwpvb28RFRVl8ERbSTEhKgVjx44VarVaHDp0SMTHx+t/MjMz9XXGjBkjPD09xYEDB0R4eLjw9/cvlMhcuXJFnD59Wrz33nuiXr164vTp0+L06dMiOztbCCHE3bt3xfLly8WFCxfE6dOnxYQJE4S5ubk4ceJEuZ6vVErjOkdFRQknJyfx5ptvGhzj8Ra2gsfup06dKi5cuCCWLl1qVI/dl9d1FkLoP+N+fn5iyJAh4vTp0+LcuXPldq5SKq/r/NtvvwlTU1OxdOlSgzopKSnler5SKa/rvGTJErF9+3Zx+fJlcfnyZbFq1SphY2MjPv7443I9XymV573jcaX1lBkTolIAoMifn3/+WV/n4cOH4v333xd2dnbC0tJSvP766yI+Pt7gOO3bty/yODdu3BBC5CdErVu3FlZWVsLS0lJ07txZ/PPPP+V4ptIqjes8c+bMIo/x5L/iDh48KJo2bSoUCoWoXbu2wXtUdeV5nYtTp6oqr+v8tPvKiBEjyu9kJVRe13nx4sWiYcOGwtLSUqhUKtGsWTOxbNkyodVqy/FspVWe947HlVZCJHt0EkRERERGy7geTSIiIiIqAhMiIiIiMnpMiIiIiMjoMSEiIiIio8eEiIiIiIweEyIiIiIyekyIiIiIyOgxISKiKm/kyJHo27ev1GEQUQXG1e6JqFKTyWTP3D5z5kwsWrQInIOWiJ6FCRERVWrx8fH6/9+wYQM+++wzXLp0SV9mbW0Na2trKUIjokqEXWZEVKm5urrqf9RqNWQymUGZtbV1oS6zDh06YPz48Zg0aRLs7Ozg4uKCH3/8ERkZGXjrrbdgY2MDLy8v7N692+C9oqOj0aNHD1hbW8PFxQXDhg3DvXv3yvmMiagsMCEiIqO0Zs0aODo64uTJkxg/fjzGjh2LAQMGoE2bNjh16hS6deuGYcOGITMzEwCQkpKCTp06oVmzZggPD8eePXuQmJiIgQMHSnwmRFQamBARkVFq0qQJPvnkE9StWxczZsyAubk5HB0d8e6776Ju3br47LPPcP/+fZw9exYAsGTJEjRr1gxfffUV6tevj2bNmuGnn37CwYMHcfnyZYnPhoheFscQEZFR8vX11f+/iYkJHBwc0LhxY32Zi4sLACApKQkAcObMGRw8eLDI8UjXrl1DvXr1yjhiIipLTIiIyCiZmZkZvJbJZAZlBU+v6XQ6AEB6ejp69+6NefPmFTpWtWrVyjBSIioPTIiIiIqhefPm2LJlC2rWrAlTU946iaoajiEiIiqG4OBgJCcnY/DgwQgLC8O1a9ewd+9evPXWW9BqtVKHR0QviQkREVExuLm54e+//4ZWq0W3bt3QuHFjTJo0Cba2tpDLeSslquxkgtO3EhERkZHjP2uIiIjI6DEhIiIiIqPHhIiIiIiMHhMiIiIiMnpMiIiIiMjoMSEiIiIio8eEiIiIiIweEyIiIiIyekyIiIiIyOgxISIiIiKjx4SIiIiIjB4TIiIiIjJ6/w8OR01UCZAHvwAAAABJRU5ErkJggg==",
=======
      "image/png": "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",
>>>>>>> upstream/main
      "text/plain": [
       "<Figure size 640x480 with 1 Axes>"
      ]
     },
     "metadata": {},
     "output_type": "display_data"
    }
   ],
   "source": [
    "plt.plot(\"date\",\"sp500_mean\",\n",
    "          data = monthlydata)\n",
    "plt.xlabel(\"Time\")\n",
    "plt.ylabel(\"S&P 500\")\n",
    "plt.title(\"Monthly average stock market performance\")"
   ]
  },
  {
   "attachments": {},
   "cell_type": "markdown",
   "metadata": {},
   "source": [
    "<font size = \"5\">\n",
    "\n",
    "Try it yourself!\n",
    "\n",
    "- Practice ```pd.to_datetime()```\n",
    "- Parse the column \"data_ex3\"\n",
    "- Take a close look at the formatting\n",
    "\n",
    "HINT: Refer to the table of wildcards <br>\n",
    " in the previous section\n"
   ]
  },
  {
   "cell_type": "code",
   "execution_count": null,
   "metadata": {},
   "outputs": [],
   "source": [
    "# Write your own code\n",
    "\n"
   ]
  },
  {
   "attachments": {},
   "cell_type": "markdown",
   "metadata": {},
   "source": [
    "<font size = \"5\">\n",
    "\n"
   ]
  },
  {
   "attachments": {},
   "cell_type": "markdown",
   "metadata": {},
   "source": [
    "<font size = \"5\">\n",
    "\n",
    "Try it yourself!\n",
    "\n",
    "- Compute an aggregate dataset which computes the standard <br>\n",
    "deviation of the S&P 500 at the weekly level.\n",
    "- Generate a line plot with your results\n"
   ]
  },
  {
   "cell_type": "code",
   "execution_count": null,
   "metadata": {},
   "outputs": [],
   "source": [
    "# Write your own code\n",
    "\n"
   ]
  },
  {
   "attachments": {},
   "cell_type": "markdown",
   "metadata": {},
   "source": [
    "# <span style=\"color:darkblue\"> IV. Additional Material </span>"
   ]
  },
  {
   "attachments": {},
   "cell_type": "markdown",
   "metadata": {},
   "source": [
    "<font size = \"5\">\n",
    "\n",
    "Full list of wild cards:\n",
    "\n",
    "- More fine-grained, e.g. microseconds, etc.\n",
    "- Other formats, e.g. time zone, \"AM/PM\", etc.\n",
    "\n",
    "https://www.w3schools.com/python/python_datetime.asp"
   ]
  }
 ],
 "metadata": {
  "kernelspec": {
   "display_name": "Python 3",
   "language": "python",
   "name": "python3"
  },
  "language_info": {
   "codemirror_mode": {
    "name": "ipython",
    "version": 3
   },
   "file_extension": ".py",
   "mimetype": "text/x-python",
   "name": "python",
   "nbconvert_exporter": "python",
   "pygments_lexer": "ipython3",
   "version": "3.12.4"
  },
  "orig_nbformat": 4
 },
 "nbformat": 4,
 "nbformat_minor": 2
}
