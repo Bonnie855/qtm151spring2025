{
 "cells": [
  {
   "cell_type": "markdown",
   "metadata": {},
   "source": [
    "isinstance(object, class); print(type(y) == int); sum()\n",
    "\n",
    "==, in\n",
    "\n",
    "'<', '<=', '==', '>=', '>'\n",
    "\n",
    "isinstance(object, class)\n",
    "\n",
    "print(type(y) == int)\n",
    "\n",
    "not, &, |\n",
    "\n",
    "if, elif, else\n",
    "\n",
    "sum()"
   ]
  },
  {
   "cell_type": "code",
   "execution_count": 40,
   "metadata": {},
   "outputs": [
    {
     "name": "stdout",
     "output_type": "stream",
     "text": [
      "False\n",
      "True\n",
      "False\n",
      "True\n",
      "True\n",
      "True\n",
      "False\n",
      "True\n",
      "True\n",
      "[ True  True False]\n",
      "True\n",
      "This student is a junior\n",
      "6\n"
     ]
    }
   ],
   "source": [
    "# == \n",
    "print(\"ab\"==\"ba\") #False\n",
    "# exact comparison\n",
    "# order matters\n",
    "\n",
    "# in\n",
    "print(\"economic\" in \"economic, finance, math\") # True\n",
    "# check whether keyword in sentence\n",
    "\n",
    "# * Common Pitfall: \"=\" v.s. \"==\"\n",
    "\n",
    "# '<', '<=', '==', '>=', '>'\n",
    "x=5\n",
    "print( x < 5 ) #F\n",
    "print( x <= 5 ) #T\n",
    "print( x == 5 ) #T\n",
    "print( x >= 5 ) #T\n",
    "print( x > 5 ) #F\n",
    "\n",
    "# isinstance(object, class)\n",
    "y = 10\n",
    "print( isinstance(y,int)  ) # T\n",
    "print(type(y) == int) # T\n",
    "\n",
    "# array comparison is done element-wise\n",
    "vec_a = np.array([1,2,3])\n",
    "vec_b = np.array([1,2,4])\n",
    "print(vec_a == vec_b) # [T, T, F]\n",
    "\n",
    "#not\n",
    "age = 22\n",
    "\n",
    "# Can this person legally vote in the US?\n",
    "age=22\n",
    "print(not (age < 18)) # T\n",
    "\n",
    "# and \"&\"\n",
    "( age >= 20 ) & (age <= 30)\n",
    "\n",
    "# or \"|\"\n",
    "student_status = \"freshman\"\n",
    "(student_status == \"freshman\") | (student_status == \"sophomore\")\n",
    "# T\n",
    "\n",
    "# if, then elif, then else\n",
    "years_in_program = 3\n",
    "if years_in_program == 1:\n",
    "    print(\"This student is a freshman\")\n",
    "elif years_in_program == 2:\n",
    "    print(\"This student is a sophomore\")\n",
    "elif years_in_program == 3:\n",
    "    print(\"This student is a junior\")\n",
    "else:\n",
    "    print(\"This student is a senior\")\n",
    "# This student is a junior\n",
    "\n",
    "# \"sum()\" function add up the individual elements\n",
    "c = [1,2,3]\n",
    "print(sum(c)) # 6"
   ]
  },
  {
   "attachments": {},
   "cell_type": "markdown",
   "metadata": {},
   "source": [
    "# <span style=\"color:darkblue\"> Lecture 4: Boleean variables and if/else statements </span>"
   ]
  },
  {
   "attachments": {},
   "cell_type": "markdown",
   "metadata": {},
   "source": [
    "<font size=\"5\"> \n",
    "\n",
    "In the previous class we:\n",
    "- Introduced numeric lists and random numbers\n",
    "- Talked about mathematical operations"
   ]
  },
  {
   "attachments": {},
   "cell_type": "markdown",
   "metadata": {},
   "source": [
    "<font size=\"5\"> \n",
    "\n",
    "In this class we will:\n",
    "\n",
    "- Introduce bolean types\n",
    "- Test different categories of expressions with text and numbers\n",
    "- Study if/else statements"
   ]
  },
  {
   "attachments": {},
   "cell_type": "markdown",
   "metadata": {},
   "source": [
    "## <span style=\"color:darkblue\"> I. Import Libraries </span>"
   ]
  },
  {
   "cell_type": "code",
   "execution_count": 2,
   "metadata": {},
   "outputs": [
    {
     "name": "stdout",
     "output_type": "stream",
     "text": [
      "Intel MKL WARNING: Support of Intel(R) Streaming SIMD Extensions 4.2 (Intel(R) SSE4.2) enabled only processors has been deprecated. Intel oneAPI Math Kernel Library 2025.0 will require Intel(R) Advanced Vector Extensions (Intel(R) AVX) instructions.\n",
      "Intel MKL WARNING: Support of Intel(R) Streaming SIMD Extensions 4.2 (Intel(R) SSE4.2) enabled only processors has been deprecated. Intel oneAPI Math Kernel Library 2025.0 will require Intel(R) Advanced Vector Extensions (Intel(R) AVX) instructions.\n"
     ]
    }
   ],
   "source": [
    "# the \"numPy\" library is used for mathematical operations\n",
    "# the \"matplotlib\" library is for generating graphs\n",
    "\n",
    "import numpy as np\n",
    "import matplotlib.pyplot as plt"
   ]
  },
  {
   "attachments": {},
   "cell_type": "markdown",
   "metadata": {},
   "source": [
    "##  <span style=\"color:darkblue\"> II. Testing Expressions with Text </span>"
   ]
  },
  {
   "attachments": {},
   "cell_type": "markdown",
   "metadata": {},
   "source": [
    "<font size = \"5\" >\n",
    "\n",
    "<font size=\"5\"> \n",
    "\n",
    "- Sometimes need to know whether some expression is ```True``` or ```False```\n",
    "- In Python this is called a **Boolean** type\n"
   ]
  },
  {
   "attachments": {},
   "cell_type": "markdown",
   "metadata": {},
   "source": [
    "<font size = \"5\">\n",
    "\n",
    "Test equality of strings (==)"
   ]
  },
  {
   "cell_type": "code",
   "execution_count": 3,
   "metadata": {},
   "outputs": [
    {
     "data": {
      "text/plain": [
       "False"
      ]
     },
     "execution_count": 3,
     "metadata": {},
     "output_type": "execute_result"
    }
   ],
   "source": [
    "# You can compare two strings by using a double \"equal sign\"\n",
    "# This can be useful if you're trying to evaluate whether data was entered correctly\n",
    "\n",
    "\"Is this the real life?\" == \"is this just fantasy?\""
   ]
  },
  {
   "cell_type": "code",
   "execution_count": 4,
   "metadata": {},
   "outputs": [
    {
     "data": {
      "text/plain": [
       "False"
      ]
     },
     "execution_count": 4,
     "metadata": {},
     "output_type": "execute_result"
    }
   ],
   "source": [
    "# The order of strings matters\n",
    "\n",
    "'ab' == 'ba'"
   ]
  },
  {
   "cell_type": "code",
   "execution_count": 3,
   "metadata": {},
   "outputs": [
    {
     "name": "stdout",
     "output_type": "stream",
     "text": [
      "True\n"
     ]
    }
   ],
   "source": [
    "# Equality of strings is most useful when you're comparing an unknown variable\n",
    "# to a benchmark. \n",
    "\n",
    "# Below, try switching the value of \"any_questions\"\n",
    "\n",
    "any_questions = \"no\"\n",
    "\n",
    "print( any_questions == \"no\" )\n"
   ]
  },
  {
   "attachments": {},
   "cell_type": "markdown",
   "metadata": {},
   "source": [
    "<font size = \"5\">\n",
    "\n",
    "Test for the presence of keywords in a sentence (in)"
   ]
  },
  {
   "cell_type": "code",
<<<<<<< HEAD
   "execution_count": 4,
=======
   "execution_count": 6,
>>>>>>> upstream/main
   "metadata": {},
   "outputs": [
    {
     "data": {
      "text/plain": [
       "True"
      ]
     },
<<<<<<< HEAD
     "execution_count": 4,
=======
     "execution_count": 6,
>>>>>>> upstream/main
     "metadata": {},
     "output_type": "execute_result"
    }
   ],
   "source": [
    "# The first way to use the \"in\" command is to check whether a word is contained \n",
    "# in a sentence. This can be useful if you're trying to search for patterns\n",
    "\n",
    "keyword = \"economic\"\n",
    "sentence = \"The Federal Reserve makes forecasts about many economic outcomes\"\n",
    "\n",
    "keyword in sentence\n",
    "\n",
    "# Try changing the keyword!"
   ]
  },
  {
   "attachments": {},
   "cell_type": "markdown",
   "metadata": {},
   "source": [
    "<font size = \"5\">\n",
    "\n",
    "Test whether a word is part of a list (in)"
   ]
  },
  {
   "cell_type": "code",
<<<<<<< HEAD
   "execution_count": 5,
=======
   "execution_count": 7,
>>>>>>> upstream/main
   "metadata": {},
   "outputs": [
    {
     "name": "stdout",
     "output_type": "stream",
     "text": [
      "False\n",
      "True\n"
     ]
    }
   ],
   "source": [
    "# There is a second way to use the \"in\" command\n",
    "# Use the condition \"in\" to test whether a word is part of a list\n",
    "# when the right-han size is a list \"word in list\" will search for an exact match\n",
    "\n",
    "current_month  = \"January\"\n",
    "\n",
    "list_summer_months = [\"June\",\"July\",\"August\"]\n",
    "\n",
    "print(current_month in list_summer_months)\n",
    "print('June' in list_summer_months)"
   ]
  },
  {
   "attachments": {},
   "cell_type": "markdown",
   "metadata": {},
   "source": [
    "<font size = \"5\">\n",
    "\n",
    "<span style=\"color:red\"> Common Pitfall: </span> Single vs double equality "
   ]
  },
  {
   "cell_type": "code",
   "execution_count": 8,
   "metadata": {},
   "outputs": [
    {
     "name": "stdout",
     "output_type": "stream",
     "text": [
      "True\n"
     ]
    }
   ],
   "source": [
    "# A single vs double equality sign makes a BIG difference\n",
    "# When you have a single equality (=) you are assignning the variable\n",
    "# When you have a double equality (==) you are comparing two values\n",
    "\n",
    "message_hello = \"hello\"\n",
    "\n",
    "print( message_hello == \"hello\" )"
   ]
  },
  {
   "attachments": {},
   "cell_type": "markdown",
   "metadata": {},
   "source": [
    "<font size = \"5\">\n",
    "\n",
    "Try it yourself!\n",
    "\n",
    "Write code to check whether the string \"red\" is contained in the list\n",
    "\n",
    "[\"red\",\"green\",\"yellow\",\"orange\"]"
   ]
  },
  {
   "cell_type": "code",
<<<<<<< HEAD
   "execution_count": 7,
=======
   "execution_count": 9,
>>>>>>> upstream/main
   "metadata": {},
   "outputs": [
    {
     "data": {
      "text/plain": [
       "True"
      ]
     },
<<<<<<< HEAD
     "execution_count": 7,
=======
     "execution_count": 9,
>>>>>>> upstream/main
     "metadata": {},
     "output_type": "execute_result"
    }
   ],
   "source": [
    "# Write down your solution!\n",
<<<<<<< HEAD
    "list = [\"red\", \"green\", \"yellow\", \"orange\"]\n",
    "\"red\" in list\n",
=======
    "\n",
    "\n",
    "\"red\" in [\"red\",\"green\",\"yellow\",\"orange\"]\n",
>>>>>>> upstream/main
    "\n"
   ]
  },
  {
   "attachments": {},
   "cell_type": "markdown",
   "metadata": {},
   "source": [
    "##  <span style=\"color:darkblue\"> III. Testing Expressions with Numbers </span>"
   ]
  },
  {
   "attachments": {},
   "cell_type": "markdown",
   "metadata": {},
   "source": [
    "<font size = \"5\">\n",
    "\n",
    "Tests with numbers\n",
    "\n",
    "- Strictly less than (<), less than or equal (<=)\n",
    "- Equal (==)\n",
    "- Strictly more than (>), greater than or equal to (>=)"
   ]
  },
  {
   "cell_type": "code",
<<<<<<< HEAD
   "execution_count": 8,
=======
   "execution_count": 10,
>>>>>>> upstream/main
   "metadata": {},
   "outputs": [
    {
     "name": "stdout",
     "output_type": "stream",
     "text": [
      "False\n",
      "True\n",
      "True\n",
      "True\n",
      "False\n"
     ]
    }
   ],
   "source": [
    "# We can check equality and inequality constraints\n",
    "# Try changing $x$ and see what happens!\n",
    "\n",
    "x = 5\n",
    "\n",
    "print( x < 5 )\n",
    "print( x <= 5 )\n",
    "print( x == 5 )\n",
    "print( x >= 5 )\n",
    "print( x > 5 )\n"
   ]
  },
  {
   "attachments": {},
   "cell_type": "markdown",
   "metadata": {},
   "source": [
    "<font size = \"5\">\n",
    "\n",
    "Validate a data type"
   ]
  },
  {
   "cell_type": "code",
<<<<<<< HEAD
   "execution_count": 10,
=======
   "execution_count": 11,
>>>>>>> upstream/main
   "metadata": {},
   "outputs": [
    {
     "name": "stdout",
     "output_type": "stream",
     "text": [
      "True\n",
      "False\n",
      "False\n"
     ]
    },
    {
     "data": {
      "text/plain": [
       "True"
      ]
     },
<<<<<<< HEAD
     "execution_count": 10,
=======
     "execution_count": 11,
>>>>>>> upstream/main
     "metadata": {},
     "output_type": "execute_result"
    }
   ],
   "source": [
    "# The isinstance command\n",
    "# The isinstance() function checks if a variable is an instance of a specific type or class.\n",
    "# Syntax: isinstance(object, class)\n",
    "\n",
    "y = 10\n",
    "\n",
    "print( isinstance(y,int)  )\n",
    "print( isinstance(y,float) )\n",
    "print( isinstance(y,str) )\n",
    "\n",
    "## Common pitall:\n",
    "## Doing type(y) == \"int\" will NOT produce the right answer, because \"int\" is a String, while int is a type\n",
    "type(y) == int"
   ]
  },
  {
   "attachments": {},
   "cell_type": "markdown",
   "metadata": {},
   "source": [
    "<font size = \"5\">\n",
    "\n",
    "<span style=\"color:red\"> Common Pitfall: </span> Equality of vectors is done element-by-element"
   ]
  },
  {
   "cell_type": "code",
   "execution_count": 12,
   "metadata": {},
   "outputs": [
    {
     "data": {
      "text/plain": [
       "array([ True,  True, False])"
      ]
     },
     "execution_count": 12,
     "metadata": {},
     "output_type": "execute_result"
    }
   ],
   "source": [
    "vec_a = np.array([1,2,3])\n",
    "vec_b = np.array([1,2,4])\n",
    "\n",
    "vec_a == vec_b"
   ]
  },
  {
   "attachments": {},
   "cell_type": "markdown",
   "metadata": {},
   "source": [
    "<font size = \"5\">\n",
    "\n",
    "Try it yourself!\n",
    "\n",
    "- Check whether $e^5$ < 50\n",
    "- Define $ x= -1$. Check whether $x^2 + 2x + 1 = 0$."
   ]
  },
  {
   "cell_type": "code",
<<<<<<< HEAD
   "execution_count": 17,
=======
   "execution_count": 26,
>>>>>>> upstream/main
   "metadata": {},
   "outputs": [
    {
     "name": "stdout",
     "output_type": "stream",
     "text": [
      "False\n",
      "True\n"
     ]
    }
   ],
   "source": [
    "# Write down your own solution\n",
    "a = np.exp(5)\n",
    "print(a<50)\n",
    "\n",
<<<<<<< HEAD
    "x=-1\n",
    "print((x**2+2*x+1)==0)\n",
    "\n"
=======
    "\n",
    "print( np.exp(5) < 50) \n",
    "\n",
    "x = -1\n",
    "print( (x**2 + 2*x + 1) == 0) \n"
>>>>>>> upstream/main
   ]
  },
  {
   "attachments": {},
   "cell_type": "markdown",
   "metadata": {},
   "source": [
    "##  <span style=\"color:darkblue\"> IV. Testing Multiple Expressions </span>"
   ]
  },
  {
   "attachments": {},
   "cell_type": "markdown",
   "metadata": {},
   "source": [
    "<font size = \"5\" >\n",
    "\n",
    "<span style=\"color:red\"> not </span> Condition A: prefix \"not\""
   ]
  },
  {
   "cell_type": "code",
<<<<<<< HEAD
   "execution_count": 18,
=======
   "execution_count": 14,
>>>>>>> upstream/main
   "metadata": {},
   "outputs": [
    {
     "data": {
      "text/plain": [
       "True"
      ]
     },
<<<<<<< HEAD
     "execution_count": 18,
=======
     "execution_count": 14,
>>>>>>> upstream/main
     "metadata": {},
     "output_type": "execute_result"
    }
   ],
   "source": [
    "age  = 22\n",
    "\n",
    "# Can this person legally vote in the US?\n",
    "not (age < 18)\n",
    "\n",
    "# Note: This expression evaluates whether a person\n",
    "# is not underage\n",
    "\n",
    "# The \"not\" word can be separated by a space and the parentheses are not necessary\n",
    "# but the parentheses can be helpful to organize your code logically\n"
   ]
  },
  {
   "cell_type": "code",
   "execution_count": 15,
   "metadata": {},
   "outputs": [
    {
     "data": {
      "text/plain": [
       "False"
      ]
     },
     "execution_count": 15,
     "metadata": {},
     "output_type": "execute_result"
    }
   ],
   "source": [
    "month = ['Jan', 'Feb']\n",
    "months = [['Jan'], ['Feb'], ['Mar']]\n",
    "month in months"
   ]
  },
  {
   "cell_type": "code",
   "execution_count": 16,
   "metadata": {},
   "outputs": [
    {
     "data": {
      "text/plain": [
       "True"
      ]
     },
     "execution_count": 16,
     "metadata": {},
     "output_type": "execute_result"
    }
   ],
   "source": [
    "not age < 18"
   ]
  },
  {
   "attachments": {},
   "cell_type": "markdown",
   "metadata": {},
   "source": [
    "<font size = \"5\" >\n",
    "\n",
    "Condition A <span style=\"color:red\"> and </span> Condition B need to be satisfied: &"
   ]
  },
  {
   "cell_type": "code",
   "execution_count": 17,
   "metadata": {},
   "outputs": [
    {
     "data": {
      "text/plain": [
       "False"
      ]
     },
     "execution_count": 17,
     "metadata": {},
     "output_type": "execute_result"
    }
   ],
   "source": [
    "# We use the \"&\" symbol to separate \"AND\" conditions\n",
    "age = 31\n",
    "\n",
    "# Is this age between 20 and 30 (including these ages)?\n",
    "( age >= 20 ) & (age <= 30)\n"
   ]
  },
  {
   "attachments": {},
   "cell_type": "markdown",
   "metadata": {},
   "source": [
    "<font size = \"5\" >\n",
    "\n",
    "<font size = \"5\" >\n",
    "\n",
    "Condition A <span style=\"color:red\"> or </span> Condition B need to be satisfied: |"
   ]
  },
  {
   "cell_type": "code",
   "execution_count": 18,
   "metadata": {},
   "outputs": [
    {
     "data": {
      "text/plain": [
       "True"
      ]
     },
     "execution_count": 18,
     "metadata": {},
     "output_type": "execute_result"
    }
   ],
   "source": [
    "# We use the \"|\" symbol to separate \"OR\" conditions.\n",
    "\n",
    "student_status = \"freshman\" \n",
    "\n",
    "# Is the student in the first two years of undergrad?\n",
    "(student_status == \"freshman\") | (student_status == \"sophomore\")\n"
   ]
  },
  {
   "attachments": {},
   "cell_type": "markdown",
   "metadata": {},
   "source": [
    "<font size = \"5\">\n",
    "\n",
    "Try it yourself! Write code that checks the following conditions:\n",
    "\n",
    "- Whether age is strictly less than 20, or greater than 30\n",
    "- Not in the age range 25-27\n",
    "\n"
   ]
  },
  {
   "cell_type": "code",
<<<<<<< HEAD
   "execution_count": 21,
=======
   "execution_count": 27,
>>>>>>> upstream/main
   "metadata": {},
   "outputs": [
    {
     "name": "stdout",
     "output_type": "stream",
     "text": [
<<<<<<< HEAD
      "True\n",
=======
      "False\n",
>>>>>>> upstream/main
      "True\n"
     ]
    }
   ],
   "source": [
    "# Write your own code\n",
<<<<<<< HEAD
    "age = 19\n",
    "print((age < 20) | (age> 30))\n",
    "print(not(age>25) & (age<27))"
=======
    "\n",
    "age = 15\n",
    "\n",
    "print( (age < 20) & (age >=30) )\n",
    "print( not((age >= 25)&(age <=27)) )\n",
    "\n",
    "\n"
>>>>>>> upstream/main
   ]
  },
  {
   "attachments": {},
   "cell_type": "markdown",
   "metadata": {},
   "source": [
    "##  <span style=\"color:darkblue\"> IV. Flow Control (if/elif/else) </span>\n",
    "\n",
    "<font size = \"5\">\n",
    "\n",
    "Why?\n",
    "\n",
    "- Adapt the code to different logical conditions\n",
    "- We'll use these ideas again for data cleaning!"
   ]
  },
  {
   "attachments": {},
   "cell_type": "markdown",
   "metadata": {},
   "source": [
    "<font size = \"5\">\n",
    "\n",
    "<table><tr>\n",
    "<td> <img src=\"figures/if.png\" alt=\"drawing\" width=\"300\"/>  </td>\n",
    "<td>  Running a part of the code <br>\n",
    "only if a condition is met: <br>\n",
    "\n",
    "``` python\n",
    "    if test_expression:\n",
    "        Body\n",
    "```\n",
    " </td>\n",
    "</tr></table>\n"
   ]
  },
  {
   "cell_type": "code",
<<<<<<< HEAD
   "execution_count": 22,
=======
   "execution_count": 20,
>>>>>>> upstream/main
   "metadata": {},
   "outputs": [
    {
     "name": "stdout",
     "output_type": "stream",
     "text": [
      "Need to give more explanations\n"
     ]
    }
   ],
   "source": [
    "#------------------------------------------------------------------------------#\n",
    "#--------------------------- EXPLANATION OF IF SYNTAX -------------------------#\n",
    "#\n",
    "# Test expression\n",
    "#---- We type \"if\" followed by a logical condition and the \":\" symbol.\n",
    "#---- The \":\" says: run the following command \n",
    "#\n",
    "# Body of expression\n",
    "#---- The \"body\" of the \"if\" statement needs to indented\n",
    "#---- You can indent text by pressing the \"tab\" button in your keyborad.\n",
    "#\n",
    "# If the condition is true, a message will appear.\n",
    "# If the condition is false, then nothing happens\n",
    "#------------------------------------------------------------------------------#\n",
    "\n",
    "\n",
    "# We start by defining a string\n",
    "any_questions = \"yes\"\n",
    "\n",
    "if any_questions == \"yes\":\n",
    "    print(\"Need to give more explanations\")\n"
   ]
  },
  {
   "attachments": {},
   "cell_type": "markdown",
   "metadata": {},
   "source": [
    "<font size = \"5\">\n",
    "\n",
    "<table><tr>\n",
    "<td> <img src=\"figures/ifelse.png\" alt=\"drawing\" width=\"300\"/>  </td>\n",
    "<td>  Running two different lines of code <br>\n",
    "depending on a condition <br>\n",
    "\n",
    "``` python\n",
    "    if test_expression:\n",
    "        Body\n",
    "    else:\n",
    "        Body\n",
    "```\n",
    "\n",
    " </td>\n",
    "</tr></table>"
   ]
  },
  {
   "cell_type": "code",
<<<<<<< HEAD
   "execution_count": 31,
=======
   "execution_count": 21,
>>>>>>> upstream/main
   "metadata": {},
   "outputs": [
    {
     "data": {
<<<<<<< HEAD
      "image/png": "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",
=======
      "image/png": "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",
>>>>>>> upstream/main
      "text/plain": [
       "<Figure size 640x480 with 1 Axes>"
      ]
     },
     "metadata": {},
     "output_type": "display_data"
    }
   ],
   "source": [
    "#------------------------------------------------------------------------------#\n",
    "#--------------------------- EXPLANATION OF IF/ELSE SYNTAX --------------------#\n",
    "#\n",
    "# If/else statements are useful to run different types of commands\n",
    "# depending on a user-specified input\n",
    "#\n",
    "# This code prints a red graph if \"is_red_graph\" is set to \"True\"\n",
    "# and outputs a purple graph otherwise.\n",
    "#\n",
    "# Notation: You can use the prefix \"is_\" to denote boleean variables\n",
    "#\n",
    "# VIEWING OUTPUT:\n",
    "# You can guarantee that the graph appears with plt.show()\n",
    "#------------------------------------------------------------------------------#\n",
    "\n",
    "\n",
    "is_graph_red = False\n",
    "how_many_classes = np.array([7,1,2,3,3,3,4,5,6])\n",
    "\n",
    "if is_graph_red:\n",
    "    plt.hist(x = how_many_classes, color=\"red\")\n",
    "    plt.title(\"Count of students in each category\")\n",
    "    plt.xlabel(\"How many classes are you taking?\")\n",
    "    plt.show() \n",
    "else:\n",
    "    plt.hist(x = how_many_classes, color=\"purple\")\n",
    "    plt.title(\"Count of students in each category\")\n",
    "    plt.xlabel(\"How many classes are you taking?\")\n",
    "    plt.show()"
   ]
  },
  {
   "attachments": {},
   "cell_type": "markdown",
   "metadata": {},
   "source": [
    "<font size = \"5\">\n",
    "What happens if ... ? Try the following:\n",
    "<br>\n",
    "\n",
    "- Rerun the above code but change the value of \"is_graph_red\".\n",
    "- What happens if you set a non-boolean value of \"is_graph_red\"?\n",
    "- Don't include \":\"\n",
    "- Don't indent the body of the \"if\"\n"
   ]
  },
  {
   "attachments": {},
   "cell_type": "markdown",
   "metadata": {},
   "source": [
    "<font size = \"5\">\n",
    "\n",
    "<table><tr>\n",
    "<td> <img src=\"figures/elif.png\" alt=\"drawing\" width=\"300\"/>  </td>\n",
    "<td>  Running multiple different lines of code <br>\n",
    "depending on a series of conditions <br>\n",
    "\n",
    "``` python\n",
    "    if test_expression:\n",
    "        Body\n",
    "    elif test_expression:\n",
    "        Body\n",
    "    else: \n",
    "        Body\n",
    "```\n",
    "\n",
    " </td>\n",
    "</tr></table>"
   ]
  },
  {
   "cell_type": "code",
   "execution_count": 22,
   "metadata": {},
   "outputs": [
    {
     "name": "stdout",
     "output_type": "stream",
     "text": [
      "This student is a freshman\n"
     ]
    }
   ],
   "source": [
    "# The elif (a shorthand for elif) is a good alternative to evaluate\n",
    "# mutually exclusive options\n",
    "\n",
    "years_in_program = 1\n",
    "\n",
    "if years_in_program == 1:\n",
    "    print(\"This student is a freshman\")\n",
    "elif years_in_program == 2:\n",
    "    print(\"This student is a sophomore\")\n",
    "elif years_in_program == 3:\n",
    "    print(\"This student is a junior\")\n",
    "else:\n",
    "    print(\"This student is a senior\")\n",
    "\n",
    "\n",
    "\n",
    "# Try changing the initial input"
   ]
  },
  {
   "attachments": {},
   "cell_type": "markdown",
   "metadata": {},
   "source": [
    "##  <span style=\"color:darkblue\"> V. Exercises </span>\n"
   ]
  },
  {
   "attachments": {},
   "cell_type": "markdown",
   "metadata": {},
   "source": [
    "<font size = \"5\">\n",
    "Try it yourself!\n",
    "<br>\n",
    "\n",
    "- Create a variable called \"points\" with a value between 0 and 100\n",
    "- Write a flow with \"if\", \"elif\" and \"else\" to assign the letter grade\n",
    "- In the body, store the output in a new variable called \"letter_grade\"\n",
    "- Print the letter grade at the end\n",
    "\n",
    "<img src=\"figures/grading_scale.png\" alt=\"drawing\" width=\"700\"/>\n",
    "\n",
    "Important: Check that it works by trying different values of \"points\"!\n",
    "\n"
   ]
  },
  {
   "cell_type": "code",
<<<<<<< HEAD
   "execution_count": 33,
   "metadata": {},
   "outputs": [
    {
     "name": "stdout",
     "output_type": "stream",
     "text": [
      "A\n"
     ]
=======
   "execution_count": 30,
   "metadata": {},
   "outputs": [
    {
     "data": {
      "text/plain": [
       "'A'"
      ]
     },
     "execution_count": 30,
     "metadata": {},
     "output_type": "execute_result"
>>>>>>> upstream/main
    }
   ],
   "source": [
    "# Write down your solution to this problem\n",
    "\n",
    "points = 100\n",
<<<<<<< HEAD
    "if points > 92:\n",
    "    letter_grade = 'A'\n",
    "elif (points > 74) & (points < 87):\n",
    "    letter_grade = 'B'\n",
    "elif (points > 60) & (points < 74):\n",
    "    letter_grade = 'C'\n",
    "elif (points > 55) & (points < 59):\n",
    "    letter_grade = 'B'\n",
    "else:\n",
    "    letter_grade = 'F'\n",
    "\n",
    "print(letter_grade)"
=======
    "\n",
    "if points >= 93:\n",
    "    letter_grade = \"A\"\n",
    "elif points >= 87:\n",
    "    letter_grade = \"A-\"\n",
    "elif points >= 83:\n",
    "    letter_grade = \"B+\"\n",
    "elif points >= 80:\n",
    "    letter_grade = \"B\"\n",
    "elif points >= 75:\n",
    "    letter_grade = \"B-\"\n",
    "elif points >= 70:\n",
    "    letter_grade = \"C+\"\n",
    "elif points >= 65:\n",
    "    letter_grade = \"C\"\n",
    "elif points >= 60:\n",
    "    letter_grade = \"C-\"\n",
    "elif points >= 55:\n",
    "    letter_grade = \"D\"\n",
    "else:\n",
    "    letter_grade = \"F\"\n",
    "\n",
    "letter_grade"
>>>>>>> upstream/main
   ]
  },
  {
   "attachments": {},
   "cell_type": "markdown",
   "metadata": {},
   "source": [
    "<font size = \"5\">\n",
    "Try it yourself!\n",
    "<br>\n",
    "\n",
    "- Create a numeric vector, $ c = \\begin{bmatrix} 1 \\\\ 2 \\\\ 3 \\end{bmatrix} $\n",
    "- Use the \"sum()\"' function to add up the individual elements.\n",
    "- If the sum of numbers is higher than $5$, write a message saying <br>\n",
    "\" The sum is greater than or equal to 5\"\n",
    "- Otherwise show a message \"It is strictly less than 5\"\n"
   ]
  },
  {
   "cell_type": "code",
<<<<<<< HEAD
   "execution_count": 36,
=======
   "execution_count": 31,
>>>>>>> upstream/main
   "metadata": {},
   "outputs": [
    {
     "name": "stdout",
     "output_type": "stream",
     "text": [
<<<<<<< HEAD
      " The sum is greater than or equal to 5\n"
=======
      "The sum is greater than or equal to 5\n"
>>>>>>> upstream/main
     ]
    }
   ],
   "source": [
    "# Write down your solution to this problem\n",
<<<<<<< HEAD
    "c=[1,2,3]\n",
    "if sum(c)>5:\n",
    "    print(\" The sum is greater than or equal to 5\")\n",
    "else:\n",
    "    print(\"It is strictly less than 5\")"
=======
    "\n",
    "c = np.array([1,2,3])\n",
    "np.sum(c)\n",
    "if np.sum(c) > 5:\n",
    "    print(\"The sum is greater than or equal to 5\")"
>>>>>>> upstream/main
   ]
  }
 ],
 "metadata": {
  "kernelspec": {
   "display_name": "Python 3",
   "language": "python",
   "name": "python3"
  },
  "language_info": {
   "codemirror_mode": {
    "name": "ipython",
    "version": 3
   },
   "file_extension": ".py",
   "mimetype": "text/x-python",
   "name": "python",
   "nbconvert_exporter": "python",
   "pygments_lexer": "ipython3",
<<<<<<< HEAD
   "version": "3.12.4"
=======
   "version": "3.9.18"
>>>>>>> upstream/main
  },
  "orig_nbformat": 4
 },
 "nbformat": 4,
 "nbformat_minor": 2
}
